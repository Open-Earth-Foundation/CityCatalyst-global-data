{
 "cells": [
  {
   "cell_type": "code",
   "execution_count": 1,
   "metadata": {},
   "outputs": [],
   "source": [
    "import pandas as pd\n",
    "import plotly.express as px\n",
    "import numpy as np\n",
    "from scipy.stats import pearsonr, spearmanr, shapiro\n",
    "import plotly.graph_objects as go\n",
    "import warnings\n",
    "\n",
    "import matplotlib.pyplot as plt\n",
    "import seaborn as sns\n",
    "from ipywidgets import interact, Dropdown\n",
    "from IPython.display import display"
   ]
  },
  {
   "cell_type": "markdown",
   "metadata": {},
   "source": [
    "## Pre-processing"
   ]
  },
  {
   "cell_type": "code",
   "execution_count": 2,
   "metadata": {},
   "outputs": [],
   "source": [
    "# Import data\n",
    "df_c40 = pd.read_excel('./C40_GPC_Database.xlsx', sheet_name='GHG Dashboard Data - Inventory')"
   ]
  },
  {
   "cell_type": "code",
   "execution_count": 3,
   "metadata": {},
   "outputs": [],
   "source": [
    "# select the interested columns\n",
    "df_c40 = df_c40[['City','Country','Region','Boundary','Year_calendar','Population','Area','GDP','I.1.1','I.1.2','I.1.3','I.2.1',\n",
    "                 'I.2.2','I.2.3','I.3.1','I.3.2','I.3.3','I.4.1','I.4.2','I.4.3','I.4.4','I.5.1','I.5.2','I.5.3','I.6.1',\n",
    "                 'I.6.2','I.6.3','I.7.1','I.8.1','II.1.1','II.1.2','II.1.3','II.2.1','II.2.2','II.2.3','II.3.1','II.3.2',\n",
    "                 'II.3.3','II.4.1','II.4.2','II.4.3','II.5.1','II.5.2','II.5.3','III.1.1','III.1.2','III.1.3','III.2.1',\n",
    "                 'III.2.2','III.2.3','III.3.1','III.3.2','III.3.3','III.4.1','III.4.2','III.4.3','IV.1','IV.2','V.1','V.2',\n",
    "                 'V.3','VI.1']]"
   ]
  },
  {
   "cell_type": "code",
   "execution_count": 4,
   "metadata": {},
   "outputs": [],
   "source": [
    "# re-format the data\n",
    "df_c40 = pd.melt(df_c40, \n",
    "                 id_vars=['City','Country','Region','Boundary','Year_calendar','Population','Area','GDP'], \n",
    "                 var_name='gpc_refno', \n",
    "                 value_name='emissions')"
   ]
  },
  {
   "cell_type": "code",
   "execution_count": 5,
   "metadata": {},
   "outputs": [],
   "source": [
    "# standarize the notation keys\n",
    "df_c40 = df_c40.replace({'IE (I.1.1)': 'IE', 'NO; IE': 'NO', 'NE; NE': 'NE', 'IE (II.1.1)': 'IE', 'NO ': 'NO'})"
   ]
  },
  {
   "cell_type": "code",
   "execution_count": 6,
   "metadata": {},
   "outputs": [],
   "source": [
    "def is_non_numeric(value):\n",
    "    try:\n",
    "        float(value)\n",
    "        return False  # Numeric values\n",
    "    except ValueError:\n",
    "        return True   # Non-numeric values"
   ]
  },
  {
   "cell_type": "code",
   "execution_count": 7,
   "metadata": {},
   "outputs": [],
   "source": [
    "df = df_c40.copy()\n",
    "# keeping only numeric values\n",
    "df['emissions'] = pd.to_numeric(df['emissions'], errors='coerce')"
   ]
  },
  {
   "cell_type": "code",
   "execution_count": 8,
   "metadata": {},
   "outputs": [],
   "source": [
    "# Filter for negative emissions\n",
    "negative_values_mask = df['emissions'] < 0\n",
    "\n",
    "negative_emissions_df = df[negative_values_mask]"
   ]
  },
  {
   "cell_type": "code",
   "execution_count": 9,
   "metadata": {},
   "outputs": [
    {
     "name": "stderr",
     "output_type": "stream",
     "text": [
      "/var/folders/v8/b0fnjf9d4q31sfz_8q4h4zxm0000gn/T/ipykernel_63745/3103458883.py:6: FutureWarning: Downcasting behavior in `replace` is deprecated and will be removed in a future version. To retain the old behavior, explicitly call `result.infer_objects(copy=False)`. To opt-in to the future behavior, set `pd.set_option('future.no_silent_downcasting', True)`\n",
      "  clean_df['GDP'] = clean_df['GDP'].replace({'$763,955,224,976': 763955224976})\n"
     ]
    }
   ],
   "source": [
    "# drop negative values and NAN values\n",
    "clean_df = df[~negative_values_mask]\n",
    "clean_df = clean_df.dropna(subset=['emissions'])\n",
    "\n",
    "# replace a non-numeric value in the GDP column\n",
    "clean_df['GDP'] = clean_df['GDP'].replace({'$763,955,224,976': 763955224976})"
   ]
  },
  {
   "cell_type": "code",
   "execution_count": 10,
   "metadata": {},
   "outputs": [],
   "source": [
    "# deleting values = 0\n",
    "clean_df = clean_df[clean_df['emissions'] != 0]\n",
    "clean_df = clean_df[clean_df['GDP'] != 0]\n"
   ]
  },
  {
   "cell_type": "code",
   "execution_count": 11,
   "metadata": {},
   "outputs": [],
   "source": [
    "clean_df['emissions'] *= 1000\n",
    "clean_df['units'] = 'kg'\n",
    "clean_df['gas'] = 'CO2e'"
   ]
  },
  {
   "cell_type": "code",
   "execution_count": 12,
   "metadata": {},
   "outputs": [],
   "source": [
    "# Calculate the log of emissions\n",
    "clean_df['log_emissions'] = np.log(clean_df['emissions']+1)"
   ]
  },
  {
   "cell_type": "code",
   "execution_count": 13,
   "metadata": {},
   "outputs": [],
   "source": [
    "clean_df_reformat = clean_df.melt(\n",
    "    id_vars=['City', 'Country', 'Region', 'Boundary', 'Year_calendar', 'gpc_refno', 'emissions', 'units', 'gas'],\n",
    "    value_vars=['Population', 'Area', 'GDP'],\n",
    "    var_name='Variable_name',\n",
    "    value_name='Variable_value'\n",
    ")"
   ]
  },
  {
   "cell_type": "code",
   "execution_count": 16,
   "metadata": {},
   "outputs": [],
   "source": [
    "#clean_df_reformat.to_csv('clean_c40.csv', index=False)"
   ]
  },
  {
   "cell_type": "markdown",
   "metadata": {},
   "source": [
    "## Normal Distribution analysis"
   ]
  },
  {
   "cell_type": "markdown",
   "metadata": {},
   "source": [
    "**Check Normality of \"Emissions\" by subsector and year**"
   ]
  },
  {
   "cell_type": "code",
   "execution_count": 17,
   "metadata": {},
   "outputs": [],
   "source": [
    "def shapiro_test(df, group_col, value_col):\n",
    "    \"\"\"\n",
    "    Perform the Shapiro-Wilk test for normality.\n",
    "    \"\"\"\n",
    "\n",
    "    # Suppress warnings for small sample sizes\n",
    "    warnings.filterwarnings(\"ignore\")\n",
    "\n",
    "    shapiro_results = []\n",
    "\n",
    "    grouped = df.groupby([f'{group_col}', 'Year_calendar'])\n",
    "\n",
    "    for subsector, group in grouped:\n",
    "        tmp = group[f'{value_col}'].values\n",
    "        n = len(tmp)\n",
    "        \n",
    "        # Shapiro-Wilk Test requires 25 < n < 5000\n",
    "        if n < 25:\n",
    "            shapiro_stat, shapiro_p = np.nan, np.nan\n",
    "            note = \"Insufficient data\"\n",
    "        else:\n",
    "            shapiro_stat, shapiro_p = shapiro(tmp)\n",
    "            note = \"\"\n",
    "        \n",
    "        # Append the results\n",
    "        shapiro_results.append({\n",
    "            f'{group_col}': subsector,\n",
    "            'Shapiro_Wilk_Statistic': shapiro_stat,\n",
    "            'p-value': shapiro_p,\n",
    "            'Sample_Size': n,\n",
    "            'Note': note\n",
    "        })\n",
    "\n",
    "    # Create a DataFrame from the results\n",
    "    df_shapiro = pd.DataFrame(shapiro_results)\n",
    "    return df_shapiro"
   ]
  },
  {
   "cell_type": "code",
   "execution_count": 18,
   "metadata": {},
   "outputs": [],
   "source": [
    "def check_normality(df, alpha=0.05):\n",
    "    df['Normality'] = df['p-value'].apply(\n",
    "        lambda p: 'Normal' if p >= alpha else 'Not Normal'\n",
    "    )\n",
    "    return df   "
   ]
  },
  {
   "cell_type": "code",
   "execution_count": 19,
   "metadata": {},
   "outputs": [],
   "source": [
    "tmp1 = check_normality(shapiro_test(clean_df, 'gpc_refno', 'emissions'), alpha=0.05)\n",
    "tmp2 = check_normality(shapiro_test(clean_df, 'gpc_refno', 'log_emissions'), alpha=0.05)"
   ]
  },
  {
   "cell_type": "code",
   "execution_count": 20,
   "metadata": {},
   "outputs": [],
   "source": [
    "# Assuming tmp1 and tmp2 are already generated DataFrames\n",
    "\n",
    "# Add a suffix to differentiate columns\n",
    "tmp1 = tmp1.add_suffix('_emissions')\n",
    "tmp2 = tmp2.add_suffix('_log_emissions')\n",
    "\n",
    "# Rename 'gpc_refno_emissions' and 'gpc_refno_log_emissions' back to 'gpc_refno' for merging\n",
    "tmp1 = tmp1.rename(columns={'gpc_refno_emissions': 'gpc_refno'})\n",
    "tmp2 = tmp2.rename(columns={'gpc_refno_log_emissions': 'gpc_refno'})\n",
    "\n",
    "# Merge the two DataFrames on 'gpc_refno'\n",
    "df_merged = pd.merge(tmp1, tmp2, on=['gpc_refno'], how='inner')"
   ]
  },
  {
   "cell_type": "code",
   "execution_count": 37,
   "metadata": {},
   "outputs": [],
   "source": [
    "#df_merged.to_csv('normality_test.csv', index=False)"
   ]
  },
  {
   "cell_type": "markdown",
   "metadata": {},
   "source": [
    "### Test: Stationary Energy"
   ]
  },
  {
   "cell_type": "code",
   "execution_count": null,
   "metadata": {},
   "outputs": [],
   "source": [
    "se_df = clean_df[clean_df['gpc_refno'].str.startswith('I.')]"
   ]
  },
  {
   "cell_type": "code",
   "execution_count": null,
   "metadata": {},
   "outputs": [],
   "source": [
    "# Analize the distribution of the emissions\n",
    "fig = px.histogram(se_df, \n",
    "                   x='emissions', \n",
    "                   nbins=200, \n",
    "                   labels={'emissions': 'Emissions'}, \n",
    "                   template=\"plotly_white\")\n",
    "\n",
    "# Customize the layout\n",
    "fig.update_layout(\n",
    "    xaxis_title=\"Emissions\",\n",
    "    yaxis_title=\"Frequency\",\n",
    "    bargap=0.1  # Adjust the gap between bars\n",
    ")\n",
    "\n",
    "# Show the figure\n",
    "fig.show()"
   ]
  },
  {
   "cell_type": "markdown",
   "metadata": {},
   "source": [
    "Since emissions are log-normally distributed, apply a log transformation to stabilize variance and normalize the data"
   ]
  },
  {
   "cell_type": "code",
   "execution_count": null,
   "metadata": {},
   "outputs": [],
   "source": [
    "fig = px.histogram(se_df, \n",
    "                   x='log_emissions', \n",
    "                   nbins=200, \n",
    "                   labels={'emissions': 'Emissions'}, \n",
    "                   template=\"plotly_white\")\n",
    "\n",
    "# Customize the layout\n",
    "fig.update_layout(\n",
    "    xaxis_title=\"Emissions\",\n",
    "    yaxis_title=\"Frequency\",\n",
    "    bargap=0.1  # Adjust the gap between bars\n",
    ")\n",
    "\n",
    "# Show the figure\n",
    "fig.show()"
   ]
  },
  {
   "cell_type": "markdown",
   "metadata": {},
   "source": [
    "**Correlation Coefficients and Distribution of Emissions**\n",
    "\n",
    "Use of correlation coefficients to quantify the relationships between `emissions` and `other variables` (such as Population, GDP, and Area)"
   ]
  },
  {
   "cell_type": "markdown",
   "metadata": {},
   "source": [
    "1. **Pearson Correlation Coefficient**: Measures the linear relationship between two continuous variables.\n",
    "- Log Transformation is needed to stabilize variance and approximate normality\n",
    "- Benefits: highly effective if the relationship is genuinely linear after transformation\n",
    "2. **Spearman Rank Correlation Coefficient**: non-parametric measure that assesses the monotonic relationship between two variables by converting them to ranks\n",
    "- No specific distribution required\n",
    "- The relationship between variables is monotonic (either consistently increasing or decreasing), but not necessarily linear\n",
    "- Less sensitive to outliers and non-linear relationships\n",
    "- Captures any monotonic relationship, whether linear or not"
   ]
  },
  {
   "cell_type": "code",
   "execution_count": null,
   "metadata": {},
   "outputs": [],
   "source": [
    "# Pearson Correlation on Log-Transformed Data\n",
    "pearson_corr = se_df[['Log_Emissions', 'Population', 'GDP', 'Area']].corr(method='pearson')\n",
    "spearman_corr = se_df[['emissions', 'Population', 'GDP', 'Area']].corr(method='spearman')"
   ]
  },
  {
   "cell_type": "markdown",
   "metadata": {},
   "source": [
    "## Correlations"
   ]
  },
  {
   "cell_type": "code",
   "execution_count": 14,
   "metadata": {},
   "outputs": [],
   "source": [
    "# main indicators to consider\n",
    "variables = ['Population', 'GDP', 'Area']"
   ]
  },
  {
   "cell_type": "code",
   "execution_count": 15,
   "metadata": {},
   "outputs": [],
   "source": [
    "# correlation calculation\n",
    "correlation_results = []\n",
    "\n",
    "grouped = clean_df.groupby('gpc_refno')\n",
    "\n",
    "for subsector, group in grouped:\n",
    "    # check if the group has enough data points\n",
    "    if len(group) < 10:\n",
    "        # skip subsectors with insufficient data\n",
    "        continue\n",
    "    \n",
    "    for var in variables:\n",
    "        # Pearson Correlation on Log-Transformed Emissions\n",
    "        pearson_corr, pearson_p = pearsonr(group['log_emissions'], group[var])\n",
    "        \n",
    "        # Spearman Correlation on Raw Emissions\n",
    "        spearman_corr, spearman_p = spearmanr(group['emissions'], group[var])\n",
    "        \n",
    "        correlation_results.append({\n",
    "            'gpc_refno': subsector,\n",
    "            'Variable': var,\n",
    "            'Pearson_Correlation': pearson_corr,\n",
    "            'Pearson_p-value': pearson_p,\n",
    "            'Spearman_Correlation': spearman_corr,\n",
    "            'Spearman_p-value': spearman_p\n",
    "        })\n",
    "\n",
    "corr_df = pd.DataFrame(correlation_results)"
   ]
  },
  {
   "cell_type": "code",
   "execution_count": 16,
   "metadata": {},
   "outputs": [],
   "source": [
    "corr_df = corr_df.melt(\n",
    "    id_vars=['gpc_refno', 'Variable'],\n",
    "    value_vars=['Pearson_Correlation', 'Spearman_Correlation'],\n",
    "    var_name='Correlation_Type',\n",
    "    value_name='Correlation_Value'\n",
    ")\n",
    "\n",
    "# Clean up the Correlation_Type column\n",
    "corr_df['Correlation_Type'] = corr_df['Correlation_Type'].str.replace('_Correlation', '')"
   ]
  },
  {
   "cell_type": "code",
   "execution_count": 17,
   "metadata": {},
   "outputs": [],
   "source": [
    "def categorize_correlation(r):\n",
    "    \"\"\"\n",
    "    Categorize the correlation coefficient based on absolute value.\n",
    "    \"\"\"\n",
    "    abs_r = abs(r)\n",
    "    if 0.00 <= abs_r < 0.10:\n",
    "        return \"Negligible or No Correlation\"\n",
    "    elif 0.10 <= abs_r < 0.30:\n",
    "        return \"Very Weak Correlation\"\n",
    "    elif 0.30 <= abs_r < 0.50:\n",
    "        return \"Weak Correlation\"\n",
    "    elif 0.50 <= abs_r < 0.70:\n",
    "        return \"Moderate Correlation\"\n",
    "    elif 0.70 <= abs_r < 0.90:\n",
    "        return \"Strong Correlation\"\n",
    "    elif 0.90 <= abs_r <= 1.00:\n",
    "        return \"Almost Perfect Correlation\"\n",
    "    else:\n",
    "        return \"Undefined\""
   ]
  },
  {
   "cell_type": "code",
   "execution_count": 18,
   "metadata": {},
   "outputs": [],
   "source": [
    "# Apply the function to Pearson and Spearman correlations\n",
    "corr_df['Correlation_Strength'] = corr_df['Correlation_Value'].apply(categorize_correlation)"
   ]
  },
  {
   "cell_type": "code",
   "execution_count": 28,
   "metadata": {},
   "outputs": [],
   "source": [
    "#corr_df.to_csv('correlation_results.csv', index=False)"
   ]
  },
  {
   "cell_type": "markdown",
   "metadata": {},
   "source": [
    "## Statistics"
   ]
  },
  {
   "cell_type": "markdown",
   "metadata": {},
   "source": [
    "**Emissions**"
   ]
  },
  {
   "cell_type": "code",
   "execution_count": 21,
   "metadata": {},
   "outputs": [],
   "source": [
    "df_c40_unique = clean_df_reformat.drop_duplicates(subset=['City', 'Country', 'Region', 'Boundary', 'Year_calendar', 'gpc_refno', 'emissions', 'units', 'gas'])"
   ]
  },
  {
   "cell_type": "code",
   "execution_count": 22,
   "metadata": {},
   "outputs": [],
   "source": [
    "# Calculate descriptive statistics for each Subsector based on Emissions\n",
    "descriptive_stats_emissions = df_c40_unique.groupby(['gpc_refno'])['emissions'].describe().reset_index()"
   ]
  },
  {
   "cell_type": "code",
   "execution_count": 24,
   "metadata": {},
   "outputs": [],
   "source": [
    "descriptive_stats_emissions['IQR'] = descriptive_stats_emissions['75%'] - descriptive_stats_emissions['25%']"
   ]
  },
  {
   "cell_type": "code",
   "execution_count": 26,
   "metadata": {},
   "outputs": [],
   "source": [
    "descriptive_stats_emissions['lower_bound'] = descriptive_stats_emissions['25%'] - 1.5 * descriptive_stats_emissions['IQR']\n",
    "descriptive_stats_emissions['upper_bound'] = descriptive_stats_emissions['75%'] + 1.5 * descriptive_stats_emissions['IQR']"
   ]
  },
  {
   "cell_type": "code",
   "execution_count": 30,
   "metadata": {},
   "outputs": [],
   "source": [
    "descriptive_stats_emissions_1 = descriptive_stats_emissions.melt(\n",
    "    id_vars=['gpc_refno', 'count'],\n",
    "    value_vars=['mean', 'std', 'min', '25%', '50%', '75%', 'max', 'IQR', 'lower_bound', 'upper_bound'],\n",
    "    var_name='statistic_name',\n",
    "    value_name='statistic_value'\n",
    ")"
   ]
  },
  {
   "cell_type": "code",
   "execution_count": 31,
   "metadata": {},
   "outputs": [],
   "source": [
    "descriptive_stats_emissions_1['Variable_name'] = 'emissions'"
   ]
  },
  {
   "cell_type": "code",
   "execution_count": 32,
   "metadata": {},
   "outputs": [
    {
     "data": {
      "text/html": [
       "<div>\n",
       "<style scoped>\n",
       "    .dataframe tbody tr th:only-of-type {\n",
       "        vertical-align: middle;\n",
       "    }\n",
       "\n",
       "    .dataframe tbody tr th {\n",
       "        vertical-align: top;\n",
       "    }\n",
       "\n",
       "    .dataframe thead th {\n",
       "        text-align: right;\n",
       "    }\n",
       "</style>\n",
       "<table border=\"1\" class=\"dataframe\">\n",
       "  <thead>\n",
       "    <tr style=\"text-align: right;\">\n",
       "      <th></th>\n",
       "      <th>gpc_refno</th>\n",
       "      <th>count</th>\n",
       "      <th>statistic_name</th>\n",
       "      <th>statistic_value</th>\n",
       "      <th>Variable_name</th>\n",
       "    </tr>\n",
       "  </thead>\n",
       "  <tbody>\n",
       "    <tr>\n",
       "      <th>0</th>\n",
       "      <td>I.1.1</td>\n",
       "      <td>313.0</td>\n",
       "      <td>mean</td>\n",
       "      <td>1.362332e+09</td>\n",
       "      <td>emissions</td>\n",
       "    </tr>\n",
       "    <tr>\n",
       "      <th>1</th>\n",
       "      <td>I.1.2</td>\n",
       "      <td>311.0</td>\n",
       "      <td>mean</td>\n",
       "      <td>1.612574e+09</td>\n",
       "      <td>emissions</td>\n",
       "    </tr>\n",
       "    <tr>\n",
       "      <th>2</th>\n",
       "      <td>I.1.3</td>\n",
       "      <td>161.0</td>\n",
       "      <td>mean</td>\n",
       "      <td>1.466990e+08</td>\n",
       "      <td>emissions</td>\n",
       "    </tr>\n",
       "    <tr>\n",
       "      <th>3</th>\n",
       "      <td>I.2.1</td>\n",
       "      <td>309.0</td>\n",
       "      <td>mean</td>\n",
       "      <td>8.161034e+08</td>\n",
       "      <td>emissions</td>\n",
       "    </tr>\n",
       "    <tr>\n",
       "      <th>4</th>\n",
       "      <td>I.2.2</td>\n",
       "      <td>313.0</td>\n",
       "      <td>mean</td>\n",
       "      <td>2.627769e+09</td>\n",
       "      <td>emissions</td>\n",
       "    </tr>\n",
       "  </tbody>\n",
       "</table>\n",
       "</div>"
      ],
      "text/plain": [
       "  gpc_refno  count statistic_name  statistic_value Variable_name\n",
       "0     I.1.1  313.0           mean     1.362332e+09     emissions\n",
       "1     I.1.2  311.0           mean     1.612574e+09     emissions\n",
       "2     I.1.3  161.0           mean     1.466990e+08     emissions\n",
       "3     I.2.1  309.0           mean     8.161034e+08     emissions\n",
       "4     I.2.2  313.0           mean     2.627769e+09     emissions"
      ]
     },
     "execution_count": 32,
     "metadata": {},
     "output_type": "execute_result"
    }
   ],
   "source": [
    "descriptive_stats_emissions_1.head()"
   ]
  },
  {
   "cell_type": "markdown",
   "metadata": {},
   "source": [
    "**Per variable**"
   ]
  },
  {
   "cell_type": "code",
   "execution_count": 33,
   "metadata": {},
   "outputs": [],
   "source": [
    "clean_df_reformat['per_Variable'] = clean_df_reformat['emissions'] / clean_df_reformat['Variable_value']"
   ]
  },
  {
   "cell_type": "code",
   "execution_count": 34,
   "metadata": {},
   "outputs": [],
   "source": [
    "# Calculate descriptive statistics for each Subsector based on the per_variable value\n",
    "descriptive_stats_by_variable = clean_df_reformat.groupby(['gpc_refno', 'Variable_name'])['per_Variable'].describe().reset_index()"
   ]
  },
  {
   "cell_type": "code",
   "execution_count": 35,
   "metadata": {},
   "outputs": [],
   "source": [
    "descriptive_stats_by_variable['IQR'] = descriptive_stats_by_variable['75%'] - descriptive_stats_by_variable['25%']"
   ]
  },
  {
   "cell_type": "code",
   "execution_count": 36,
   "metadata": {},
   "outputs": [],
   "source": [
    "descriptive_stats_by_variable['lower_bound'] = descriptive_stats_by_variable['25%'] - 1.5 * descriptive_stats_by_variable['IQR']\n",
    "descriptive_stats_by_variable['upper_bound'] = descriptive_stats_by_variable['75%'] + 1.5 * descriptive_stats_by_variable['IQR']"
   ]
  },
  {
   "cell_type": "code",
   "execution_count": 37,
   "metadata": {},
   "outputs": [],
   "source": [
    "descriptive_stats_by_variable_1 = descriptive_stats_by_variable.melt(\n",
    "    id_vars=['gpc_refno', 'Variable_name', 'count'],\n",
    "    value_vars=['mean', 'std', 'min', '25%', '50%', '75%', 'max', 'IQR', 'lower_bound', 'upper_bound'],\n",
    "    var_name='statistic_name',\n",
    "    value_name='statistic_value'\n",
    ")"
   ]
  },
  {
   "cell_type": "code",
   "execution_count": 38,
   "metadata": {},
   "outputs": [],
   "source": [
    "stats_per_variable_final = pd.merge(\n",
    "    descriptive_stats_by_variable_1,\n",
    "    corr_df,\n",
    "    left_on=['gpc_refno', 'Variable_name'],\n",
    "    right_on=['gpc_refno', 'Variable'],\n",
    "    how='inner'\n",
    ")"
   ]
  },
  {
   "cell_type": "code",
   "execution_count": 39,
   "metadata": {},
   "outputs": [],
   "source": [
    "stats_per_variable_final.drop(columns=['Variable'], inplace=True)"
   ]
  },
  {
   "cell_type": "code",
   "execution_count": 40,
   "metadata": {},
   "outputs": [],
   "source": [
    "df_final = pd.merge(\n",
    "    stats_per_variable_final, \n",
    "    descriptive_stats_emissions_1, \n",
    "    on=['gpc_refno', 'count', 'statistic_name', 'statistic_value','Variable_name'], \n",
    "    how='outer')"
   ]
  },
  {
   "cell_type": "code",
   "execution_count": 42,
   "metadata": {},
   "outputs": [],
   "source": [
    "df_final.to_csv('benchmark_file.csv', index=False)"
   ]
  },
  {
   "cell_type": "markdown",
   "metadata": {},
   "source": [
    "## Plots"
   ]
  },
  {
   "cell_type": "markdown",
   "metadata": {},
   "source": [
    "### Notation Keys"
   ]
  },
  {
   "cell_type": "code",
   "execution_count": 12,
   "metadata": {},
   "outputs": [
    {
     "data": {
      "application/vnd.plotly.v1+json": {
       "config": {
        "plotlyServerURL": "https://plot.ly"
       },
       "data": [
        {
         "alignmentgroup": "True",
         "hovertemplate": "Notation Key=%{x}<br>Count=%{y}<extra></extra>",
         "legendgroup": "",
         "marker": {
          "color": "#636efa",
          "pattern": {
           "shape": ""
          }
         },
         "name": "",
         "offsetgroup": "",
         "orientation": "v",
         "showlegend": false,
         "textposition": "auto",
         "type": "bar",
         "x": [
          "NO",
          "NE",
          "IE",
          "C"
         ],
         "xaxis": "x",
         "y": [
          6037,
          3160,
          1606,
          15
         ],
         "yaxis": "y"
        }
       ],
       "layout": {
        "barmode": "relative",
        "legend": {
         "tracegroupgap": 0
        },
        "margin": {
         "t": 60
        },
        "template": {
         "data": {
          "bar": [
           {
            "error_x": {
             "color": "#2a3f5f"
            },
            "error_y": {
             "color": "#2a3f5f"
            },
            "marker": {
             "line": {
              "color": "white",
              "width": 0.5
             },
             "pattern": {
              "fillmode": "overlay",
              "size": 10,
              "solidity": 0.2
             }
            },
            "type": "bar"
           }
          ],
          "barpolar": [
           {
            "marker": {
             "line": {
              "color": "white",
              "width": 0.5
             },
             "pattern": {
              "fillmode": "overlay",
              "size": 10,
              "solidity": 0.2
             }
            },
            "type": "barpolar"
           }
          ],
          "carpet": [
           {
            "aaxis": {
             "endlinecolor": "#2a3f5f",
             "gridcolor": "#C8D4E3",
             "linecolor": "#C8D4E3",
             "minorgridcolor": "#C8D4E3",
             "startlinecolor": "#2a3f5f"
            },
            "baxis": {
             "endlinecolor": "#2a3f5f",
             "gridcolor": "#C8D4E3",
             "linecolor": "#C8D4E3",
             "minorgridcolor": "#C8D4E3",
             "startlinecolor": "#2a3f5f"
            },
            "type": "carpet"
           }
          ],
          "choropleth": [
           {
            "colorbar": {
             "outlinewidth": 0,
             "ticks": ""
            },
            "type": "choropleth"
           }
          ],
          "contour": [
           {
            "colorbar": {
             "outlinewidth": 0,
             "ticks": ""
            },
            "colorscale": [
             [
              0,
              "#0d0887"
             ],
             [
              0.1111111111111111,
              "#46039f"
             ],
             [
              0.2222222222222222,
              "#7201a8"
             ],
             [
              0.3333333333333333,
              "#9c179e"
             ],
             [
              0.4444444444444444,
              "#bd3786"
             ],
             [
              0.5555555555555556,
              "#d8576b"
             ],
             [
              0.6666666666666666,
              "#ed7953"
             ],
             [
              0.7777777777777778,
              "#fb9f3a"
             ],
             [
              0.8888888888888888,
              "#fdca26"
             ],
             [
              1,
              "#f0f921"
             ]
            ],
            "type": "contour"
           }
          ],
          "contourcarpet": [
           {
            "colorbar": {
             "outlinewidth": 0,
             "ticks": ""
            },
            "type": "contourcarpet"
           }
          ],
          "heatmap": [
           {
            "colorbar": {
             "outlinewidth": 0,
             "ticks": ""
            },
            "colorscale": [
             [
              0,
              "#0d0887"
             ],
             [
              0.1111111111111111,
              "#46039f"
             ],
             [
              0.2222222222222222,
              "#7201a8"
             ],
             [
              0.3333333333333333,
              "#9c179e"
             ],
             [
              0.4444444444444444,
              "#bd3786"
             ],
             [
              0.5555555555555556,
              "#d8576b"
             ],
             [
              0.6666666666666666,
              "#ed7953"
             ],
             [
              0.7777777777777778,
              "#fb9f3a"
             ],
             [
              0.8888888888888888,
              "#fdca26"
             ],
             [
              1,
              "#f0f921"
             ]
            ],
            "type": "heatmap"
           }
          ],
          "heatmapgl": [
           {
            "colorbar": {
             "outlinewidth": 0,
             "ticks": ""
            },
            "colorscale": [
             [
              0,
              "#0d0887"
             ],
             [
              0.1111111111111111,
              "#46039f"
             ],
             [
              0.2222222222222222,
              "#7201a8"
             ],
             [
              0.3333333333333333,
              "#9c179e"
             ],
             [
              0.4444444444444444,
              "#bd3786"
             ],
             [
              0.5555555555555556,
              "#d8576b"
             ],
             [
              0.6666666666666666,
              "#ed7953"
             ],
             [
              0.7777777777777778,
              "#fb9f3a"
             ],
             [
              0.8888888888888888,
              "#fdca26"
             ],
             [
              1,
              "#f0f921"
             ]
            ],
            "type": "heatmapgl"
           }
          ],
          "histogram": [
           {
            "marker": {
             "pattern": {
              "fillmode": "overlay",
              "size": 10,
              "solidity": 0.2
             }
            },
            "type": "histogram"
           }
          ],
          "histogram2d": [
           {
            "colorbar": {
             "outlinewidth": 0,
             "ticks": ""
            },
            "colorscale": [
             [
              0,
              "#0d0887"
             ],
             [
              0.1111111111111111,
              "#46039f"
             ],
             [
              0.2222222222222222,
              "#7201a8"
             ],
             [
              0.3333333333333333,
              "#9c179e"
             ],
             [
              0.4444444444444444,
              "#bd3786"
             ],
             [
              0.5555555555555556,
              "#d8576b"
             ],
             [
              0.6666666666666666,
              "#ed7953"
             ],
             [
              0.7777777777777778,
              "#fb9f3a"
             ],
             [
              0.8888888888888888,
              "#fdca26"
             ],
             [
              1,
              "#f0f921"
             ]
            ],
            "type": "histogram2d"
           }
          ],
          "histogram2dcontour": [
           {
            "colorbar": {
             "outlinewidth": 0,
             "ticks": ""
            },
            "colorscale": [
             [
              0,
              "#0d0887"
             ],
             [
              0.1111111111111111,
              "#46039f"
             ],
             [
              0.2222222222222222,
              "#7201a8"
             ],
             [
              0.3333333333333333,
              "#9c179e"
             ],
             [
              0.4444444444444444,
              "#bd3786"
             ],
             [
              0.5555555555555556,
              "#d8576b"
             ],
             [
              0.6666666666666666,
              "#ed7953"
             ],
             [
              0.7777777777777778,
              "#fb9f3a"
             ],
             [
              0.8888888888888888,
              "#fdca26"
             ],
             [
              1,
              "#f0f921"
             ]
            ],
            "type": "histogram2dcontour"
           }
          ],
          "mesh3d": [
           {
            "colorbar": {
             "outlinewidth": 0,
             "ticks": ""
            },
            "type": "mesh3d"
           }
          ],
          "parcoords": [
           {
            "line": {
             "colorbar": {
              "outlinewidth": 0,
              "ticks": ""
             }
            },
            "type": "parcoords"
           }
          ],
          "pie": [
           {
            "automargin": true,
            "type": "pie"
           }
          ],
          "scatter": [
           {
            "fillpattern": {
             "fillmode": "overlay",
             "size": 10,
             "solidity": 0.2
            },
            "type": "scatter"
           }
          ],
          "scatter3d": [
           {
            "line": {
             "colorbar": {
              "outlinewidth": 0,
              "ticks": ""
             }
            },
            "marker": {
             "colorbar": {
              "outlinewidth": 0,
              "ticks": ""
             }
            },
            "type": "scatter3d"
           }
          ],
          "scattercarpet": [
           {
            "marker": {
             "colorbar": {
              "outlinewidth": 0,
              "ticks": ""
             }
            },
            "type": "scattercarpet"
           }
          ],
          "scattergeo": [
           {
            "marker": {
             "colorbar": {
              "outlinewidth": 0,
              "ticks": ""
             }
            },
            "type": "scattergeo"
           }
          ],
          "scattergl": [
           {
            "marker": {
             "colorbar": {
              "outlinewidth": 0,
              "ticks": ""
             }
            },
            "type": "scattergl"
           }
          ],
          "scattermapbox": [
           {
            "marker": {
             "colorbar": {
              "outlinewidth": 0,
              "ticks": ""
             }
            },
            "type": "scattermapbox"
           }
          ],
          "scatterpolar": [
           {
            "marker": {
             "colorbar": {
              "outlinewidth": 0,
              "ticks": ""
             }
            },
            "type": "scatterpolar"
           }
          ],
          "scatterpolargl": [
           {
            "marker": {
             "colorbar": {
              "outlinewidth": 0,
              "ticks": ""
             }
            },
            "type": "scatterpolargl"
           }
          ],
          "scatterternary": [
           {
            "marker": {
             "colorbar": {
              "outlinewidth": 0,
              "ticks": ""
             }
            },
            "type": "scatterternary"
           }
          ],
          "surface": [
           {
            "colorbar": {
             "outlinewidth": 0,
             "ticks": ""
            },
            "colorscale": [
             [
              0,
              "#0d0887"
             ],
             [
              0.1111111111111111,
              "#46039f"
             ],
             [
              0.2222222222222222,
              "#7201a8"
             ],
             [
              0.3333333333333333,
              "#9c179e"
             ],
             [
              0.4444444444444444,
              "#bd3786"
             ],
             [
              0.5555555555555556,
              "#d8576b"
             ],
             [
              0.6666666666666666,
              "#ed7953"
             ],
             [
              0.7777777777777778,
              "#fb9f3a"
             ],
             [
              0.8888888888888888,
              "#fdca26"
             ],
             [
              1,
              "#f0f921"
             ]
            ],
            "type": "surface"
           }
          ],
          "table": [
           {
            "cells": {
             "fill": {
              "color": "#EBF0F8"
             },
             "line": {
              "color": "white"
             }
            },
            "header": {
             "fill": {
              "color": "#C8D4E3"
             },
             "line": {
              "color": "white"
             }
            },
            "type": "table"
           }
          ]
         },
         "layout": {
          "annotationdefaults": {
           "arrowcolor": "#2a3f5f",
           "arrowhead": 0,
           "arrowwidth": 1
          },
          "autotypenumbers": "strict",
          "coloraxis": {
           "colorbar": {
            "outlinewidth": 0,
            "ticks": ""
           }
          },
          "colorscale": {
           "diverging": [
            [
             0,
             "#8e0152"
            ],
            [
             0.1,
             "#c51b7d"
            ],
            [
             0.2,
             "#de77ae"
            ],
            [
             0.3,
             "#f1b6da"
            ],
            [
             0.4,
             "#fde0ef"
            ],
            [
             0.5,
             "#f7f7f7"
            ],
            [
             0.6,
             "#e6f5d0"
            ],
            [
             0.7,
             "#b8e186"
            ],
            [
             0.8,
             "#7fbc41"
            ],
            [
             0.9,
             "#4d9221"
            ],
            [
             1,
             "#276419"
            ]
           ],
           "sequential": [
            [
             0,
             "#0d0887"
            ],
            [
             0.1111111111111111,
             "#46039f"
            ],
            [
             0.2222222222222222,
             "#7201a8"
            ],
            [
             0.3333333333333333,
             "#9c179e"
            ],
            [
             0.4444444444444444,
             "#bd3786"
            ],
            [
             0.5555555555555556,
             "#d8576b"
            ],
            [
             0.6666666666666666,
             "#ed7953"
            ],
            [
             0.7777777777777778,
             "#fb9f3a"
            ],
            [
             0.8888888888888888,
             "#fdca26"
            ],
            [
             1,
             "#f0f921"
            ]
           ],
           "sequentialminus": [
            [
             0,
             "#0d0887"
            ],
            [
             0.1111111111111111,
             "#46039f"
            ],
            [
             0.2222222222222222,
             "#7201a8"
            ],
            [
             0.3333333333333333,
             "#9c179e"
            ],
            [
             0.4444444444444444,
             "#bd3786"
            ],
            [
             0.5555555555555556,
             "#d8576b"
            ],
            [
             0.6666666666666666,
             "#ed7953"
            ],
            [
             0.7777777777777778,
             "#fb9f3a"
            ],
            [
             0.8888888888888888,
             "#fdca26"
            ],
            [
             1,
             "#f0f921"
            ]
           ]
          },
          "colorway": [
           "#636efa",
           "#EF553B",
           "#00cc96",
           "#ab63fa",
           "#FFA15A",
           "#19d3f3",
           "#FF6692",
           "#B6E880",
           "#FF97FF",
           "#FECB52"
          ],
          "font": {
           "color": "#2a3f5f"
          },
          "geo": {
           "bgcolor": "white",
           "lakecolor": "white",
           "landcolor": "white",
           "showlakes": true,
           "showland": true,
           "subunitcolor": "#C8D4E3"
          },
          "hoverlabel": {
           "align": "left"
          },
          "hovermode": "closest",
          "mapbox": {
           "style": "light"
          },
          "paper_bgcolor": "white",
          "plot_bgcolor": "white",
          "polar": {
           "angularaxis": {
            "gridcolor": "#EBF0F8",
            "linecolor": "#EBF0F8",
            "ticks": ""
           },
           "bgcolor": "white",
           "radialaxis": {
            "gridcolor": "#EBF0F8",
            "linecolor": "#EBF0F8",
            "ticks": ""
           }
          },
          "scene": {
           "xaxis": {
            "backgroundcolor": "white",
            "gridcolor": "#DFE8F3",
            "gridwidth": 2,
            "linecolor": "#EBF0F8",
            "showbackground": true,
            "ticks": "",
            "zerolinecolor": "#EBF0F8"
           },
           "yaxis": {
            "backgroundcolor": "white",
            "gridcolor": "#DFE8F3",
            "gridwidth": 2,
            "linecolor": "#EBF0F8",
            "showbackground": true,
            "ticks": "",
            "zerolinecolor": "#EBF0F8"
           },
           "zaxis": {
            "backgroundcolor": "white",
            "gridcolor": "#DFE8F3",
            "gridwidth": 2,
            "linecolor": "#EBF0F8",
            "showbackground": true,
            "ticks": "",
            "zerolinecolor": "#EBF0F8"
           }
          },
          "shapedefaults": {
           "line": {
            "color": "#2a3f5f"
           }
          },
          "ternary": {
           "aaxis": {
            "gridcolor": "#DFE8F3",
            "linecolor": "#A2B1C6",
            "ticks": ""
           },
           "baxis": {
            "gridcolor": "#DFE8F3",
            "linecolor": "#A2B1C6",
            "ticks": ""
           },
           "bgcolor": "white",
           "caxis": {
            "gridcolor": "#DFE8F3",
            "linecolor": "#A2B1C6",
            "ticks": ""
           }
          },
          "title": {
           "x": 0.05
          },
          "xaxis": {
           "automargin": true,
           "gridcolor": "#EBF0F8",
           "linecolor": "#EBF0F8",
           "ticks": "",
           "title": {
            "standoff": 15
           },
           "zerolinecolor": "#EBF0F8",
           "zerolinewidth": 2
          },
          "yaxis": {
           "automargin": true,
           "gridcolor": "#EBF0F8",
           "linecolor": "#EBF0F8",
           "ticks": "",
           "title": {
            "standoff": 15
           },
           "zerolinecolor": "#EBF0F8",
           "zerolinewidth": 2
          }
         }
        },
        "xaxis": {
         "anchor": "y",
         "domain": [
          0,
          1
         ],
         "title": {
          "text": "Notation Key"
         }
        },
        "yaxis": {
         "anchor": "x",
         "domain": [
          0,
          1
         ],
         "title": {
          "text": "Count"
         }
        }
       }
      }
     },
     "metadata": {},
     "output_type": "display_data"
    }
   ],
   "source": [
    "# Filter for non-numeric emissions and calculate value counts\n",
    "non_numeric_counts = df_c40[df_c40['emissions'].apply(is_non_numeric)]['emissions'].value_counts()\n",
    "\n",
    "non_numeric_counts_df = non_numeric_counts.reset_index()\n",
    "non_numeric_counts_df.columns = ['Notation Key', 'Count'] \n",
    "\n",
    "fig = px.bar(non_numeric_counts_df, \n",
    "             x='Notation Key', \n",
    "             y='Count', \n",
    "             labels={'Notation Key': 'Notation Key', 'Count': 'Count'},\n",
    "             template=\"plotly_white\")\n",
    "\n",
    "fig.show()"
   ]
  },
  {
   "cell_type": "markdown",
   "metadata": {},
   "source": [
    "### Correlations"
   ]
  },
  {
   "cell_type": "code",
   "execution_count": 26,
   "metadata": {},
   "outputs": [
    {
     "data": {
      "application/vnd.jupyter.widget-view+json": {
       "model_id": "b72f0b2b779c4852b9d63500507bc783",
       "version_major": 2,
       "version_minor": 0
      },
      "text/plain": [
       "interactive(children=(Dropdown(description='Subsector:', options=('I.1.1', 'I.1.2', 'I.1.3', 'I.2.1', 'I.2.2',…"
      ]
     },
     "metadata": {},
     "output_type": "display_data"
    },
    {
     "data": {
      "text/plain": [
       "<function __main__.plot_subsector_variable(subsector, variable)>"
      ]
     },
     "execution_count": 26,
     "metadata": {},
     "output_type": "execute_result"
    }
   ],
   "source": [
    "grouped = clean_df.groupby('gpc_refno')\n",
    "\n",
    "unique_subsectors = sorted(clean_df['gpc_refno'].unique())\n",
    "\n",
    "# Create the subsector dropdown widget\n",
    "subsector_dropdown = Dropdown(\n",
    "    options=unique_subsectors,\n",
    "    value=unique_subsectors[0],\n",
    "    description='Subsector:',\n",
    "    disabled=False,\n",
    ")\n",
    "\n",
    "# Create the variable dropdown widget\n",
    "variable_dropdown = Dropdown(\n",
    "    options=variables,\n",
    "    value=variables[0],\n",
    "    description='Variable:',\n",
    "    disabled=False,\n",
    ")\n",
    "\n",
    "def plot_subsector_variable(subsector, variable):\n",
    "    # Retrieve the data for the selected subsector\n",
    "    group = grouped.get_group(subsector)\n",
    "    \n",
    "    plt.figure(figsize=(10, 6))\n",
    "    \n",
    "    # Scatter plot of the selected variable vs Log_Emissions\n",
    "    sns.scatterplot(data=group, x=variable, y='Log_Emissions', alpha=0.5)\n",
    "    \n",
    "    # Regression line\n",
    "    sns.regplot(data=group, x=variable, y='Log_Emissions', scatter=False, color='red')\n",
    "    \n",
    "    plt.title(f'Log_Emissions vs {variable} for Subsector {subsector}')\n",
    "    plt.xlabel(variable)\n",
    "    plt.ylabel('Log(Emissions)')\n",
    "    plt.show()\n",
    "\n",
    "# Use interact to link both dropdowns to the plotting function\n",
    "interact(plot_subsector_variable, subsector=subsector_dropdown, variable=variable_dropdown)"
   ]
  },
  {
   "cell_type": "markdown",
   "metadata": {},
   "source": [
    "**Purpose of Correlation Analysis**\n",
    "\n",
    "To determine how emissions in each subsector relate to key variables (Population, GDP, Area), which informs how to normalize emissions for benchmarking."
   ]
  },
  {
   "cell_type": "markdown",
   "metadata": {},
   "source": [
    "**In the Context of Benchmarking Objectives**\n",
    "- Tailored Benchmarks: By aligning benchmarks with variables that strongly influence emissions, you ensure that comparisons are meaningful and account for key determinants\n",
    "- Avoiding Misleading Comparisons: Using weakly correlated variables could result in benchmarks that `don't accurately reflect` the underlying dynamics, leading to ineffective assessments"
   ]
  },
  {
   "cell_type": "markdown",
   "metadata": {},
   "source": [
    "**High Correlation**: \n",
    "- When a subsector shows a high correlation with a specific variable (e.g., Population), it indicates a strong relationship between that variable and emissions in that subsector.\n",
    "- *Implication for Benchmarking*: A high correlation suggests that the variable can be a reliable factor to normalize emissions, facilitating meaningful comparisons across different cities or regions.\n",
    "\n",
    "**Low Correlation**:\n",
    "- When a subsector exhibits low correlation with the variables considered (e.g., GDP, Area), it implies that these factors do not strongly influence emissions in that subsector.\n",
    "- *Implication for Benchmarking*: \n",
    "    - Low correlation indicates that normalizing emissions based on these variables may not yield accurate or meaningful benchmarks. It also suggests that other unexamined factors may be driving emissions in these subsectors.\n",
    "    - Recognizing that certain subsectors do not correlate strongly with the primary variables (Population, GDP, Area) highlights the need for alternative factors or more nuanced models for accurate benchmarking.\n",
    "    - If the variable doesn't influence emissions using it for benchmarking won't give you meaningful insights."
   ]
  },
  {
   "cell_type": "code",
   "execution_count": 27,
   "metadata": {},
   "outputs": [
    {
     "data": {
      "application/vnd.plotly.v1+json": {
       "config": {
        "plotlyServerURL": "https://plot.ly"
       },
       "data": [
        {
         "marker": {
          "symbol": "circle"
         },
         "mode": "markers",
         "name": "Population (Pearson)",
         "type": "scatter",
         "visible": true,
         "x": [
          "I.1.1",
          "I.1.2",
          "I.1.3",
          "I.2.1",
          "I.2.2",
          "I.2.3",
          "I.3.1",
          "I.3.2",
          "I.3.3",
          "I.4.1",
          "I.4.2",
          "I.4.3",
          "I.4.4",
          "I.5.1",
          "I.5.2",
          "I.5.3",
          "I.6.1",
          "I.6.2",
          "I.6.3",
          "I.8.1",
          "II.1.1",
          "II.1.2",
          "II.1.3",
          "II.2.1",
          "II.2.2",
          "II.2.3",
          "II.3.1",
          "II.3.3",
          "II.4.1",
          "II.4.3",
          "II.5.1",
          "III.1.1",
          "III.1.2",
          "III.1.3",
          "III.2.1",
          "III.2.2",
          "III.2.3",
          "III.3.1",
          "III.3.2",
          "III.4.1",
          "III.4.2",
          "III.4.3",
          "IV.1",
          "IV.2",
          "V.1",
          "V.2",
          "V.3",
          "VI.1"
         ],
         "y": [
          0.5246234157472245,
          0.5310566862291783,
          0.45899977274135617,
          0.22016155367735127,
          0.34549289561902885,
          0.3452774918207584,
          0.4026367343964164,
          0.5191081550108436,
          0.4200653595171919,
          0.1211557180585849,
          0.09674060825766653,
          -0.30583641074903256,
          0.31950474802273865,
          -0.1523050071839454,
          -0.006946666912777472,
          0.06411420221046268,
          0.025058164121657296,
          0.37975885854556085,
          0.3514110816922614,
          -0.013447820032027463,
          0.627134001431211,
          0.12566928407309705,
          0.22135499808853937,
          0.15412449076456608,
          0.4169716650391922,
          0.306951134070686,
          0.16533214579429484,
          0.30677028724769584,
          0.2629823305859022,
          0.379311363545241,
          0.08106595724762589,
          0.4450896244162758,
          0.34040612733936004,
          -0.15256381872659502,
          0.11203090702267378,
          0.10999269450677066,
          0.6546912932800091,
          0.22762172378827908,
          0.0006801285905031302,
          0.6600697670125615,
          0.5068765687929221,
          -0.03341663519931794,
          0.09030423581035006,
          0.3990179479454342,
          0.16837885615171222,
          -0.034686785709161894,
          0.28382450576703544,
          -0.4625758540838965
         ]
        },
        {
         "marker": {
          "symbol": "circle"
         },
         "mode": "markers",
         "name": "Population (Spearman)",
         "type": "scatter",
         "visible": false,
         "x": [
          "I.1.1",
          "I.1.2",
          "I.1.3",
          "I.2.1",
          "I.2.2",
          "I.2.3",
          "I.3.1",
          "I.3.2",
          "I.3.3",
          "I.4.1",
          "I.4.2",
          "I.4.3",
          "I.4.4",
          "I.5.1",
          "I.5.2",
          "I.5.3",
          "I.6.1",
          "I.6.2",
          "I.6.3",
          "I.8.1",
          "II.1.1",
          "II.1.2",
          "II.1.3",
          "II.2.1",
          "II.2.2",
          "II.2.3",
          "II.3.1",
          "II.3.3",
          "II.4.1",
          "II.4.3",
          "II.5.1",
          "III.1.1",
          "III.1.2",
          "III.1.3",
          "III.2.1",
          "III.2.2",
          "III.2.3",
          "III.3.1",
          "III.3.2",
          "III.4.1",
          "III.4.2",
          "III.4.3",
          "IV.1",
          "IV.2",
          "V.1",
          "V.2",
          "V.3",
          "VI.1"
         ],
         "y": [
          0.6005282618856969,
          0.6447170427574448,
          0.6849354903071843,
          0.22376327613280547,
          0.28370421853445005,
          0.43534108361731394,
          0.5627346629539509,
          0.6172342788064898,
          0.6578517781208797,
          0.24281665506235658,
          0.010060711205022032,
          -0.22767110220996253,
          0.4628724086426968,
          -0.08255752147834174,
          0.03420445151185257,
          0.1207892796209192,
          -0.10606434341832734,
          0.4480097805114202,
          0.6220384042754755,
          0.14680480937629228,
          0.8062057665311514,
          0.04216693779196252,
          0.049338314208942295,
          0.1825199080212012,
          0.35595232750988054,
          0.12180843448093308,
          0.21786659834414457,
          0.3373946444041185,
          0.29138440197819776,
          0.5900457492461681,
          0.33573599760203315,
          0.5871428901119521,
          0.5101582244924688,
          -0.2721663021101631,
          0.11141080011487128,
          0.03948878417286303,
          0.8181818181818182,
          0.23982055030330196,
          0.027543191929418342,
          0.7753377783637511,
          0.748448630882202,
          -0.07873413943105173,
          0.027116733466933867,
          0.44115435621834137,
          0.16137372615477302,
          -0.15292511277308848,
          0.3109047401048911,
          -0.2582415889222528
         ]
        },
        {
         "marker": {
          "symbol": "circle"
         },
         "mode": "markers",
         "name": "GDP (Pearson)",
         "type": "scatter",
         "visible": true,
         "x": [
          "I.1.1",
          "I.1.2",
          "I.1.3",
          "I.2.1",
          "I.2.2",
          "I.2.3",
          "I.3.1",
          "I.3.2",
          "I.3.3",
          "I.4.1",
          "I.4.2",
          "I.4.3",
          "I.4.4",
          "I.5.1",
          "I.5.2",
          "I.5.3",
          "I.6.1",
          "I.6.2",
          "I.6.3",
          "I.8.1",
          "II.1.1",
          "II.1.2",
          "II.1.3",
          "II.2.1",
          "II.2.2",
          "II.2.3",
          "II.3.1",
          "II.3.3",
          "II.4.1",
          "II.4.3",
          "II.5.1",
          "III.1.1",
          "III.1.2",
          "III.1.3",
          "III.2.1",
          "III.2.2",
          "III.2.3",
          "III.3.1",
          "III.3.2",
          "III.4.1",
          "III.4.2",
          "III.4.3",
          "IV.1",
          "IV.2",
          "V.1",
          "V.2",
          "V.3",
          "VI.1"
         ],
         "y": [
          0.36585304683662234,
          0.318120925159906,
          0.24390277059400695,
          0.34114344805081875,
          0.32414493284311907,
          0.2905820565947289,
          0.284759421310035,
          0.25480944126785565,
          0.18060431307378041,
          0.06442126840614909,
          0.417409574529932,
          -0.4024540593601653,
          0.11336730905745446,
          0.08626648737553577,
          -0.034639149209399575,
          -0.11682870573237701,
          0.19081911687907768,
          0.36559722803970107,
          0.4011533930918602,
          -0.18223470350777474,
          0.29196221027269637,
          0.38289302862198277,
          0.28138582473345564,
          0.22815054201922397,
          0.37306575289160204,
          0.2758565454039743,
          0.3422358859814363,
          0.15846835935446232,
          0.23480213105601563,
          0.17861801044603295,
          0.28490664773104774,
          -0.04246197951090713,
          0.19720473257252197,
          0.23729846938610916,
          -0.06334849480855484,
          -0.020567187821918888,
          0.7379305782547672,
          0.28958408343800585,
          0.4013482868649532,
          0.07040693876273446,
          0.10339917004722002,
          -0.1798778099450106,
          -0.22334020209384634,
          0.23390402207106814,
          0.008051948587828707,
          0.2122027620044548,
          0.31154482272746253,
          -0.0413473331816266
         ]
        },
        {
         "marker": {
          "symbol": "circle"
         },
         "mode": "markers",
         "name": "GDP (Spearman)",
         "type": "scatter",
         "visible": false,
         "x": [
          "I.1.1",
          "I.1.2",
          "I.1.3",
          "I.2.1",
          "I.2.2",
          "I.2.3",
          "I.3.1",
          "I.3.2",
          "I.3.3",
          "I.4.1",
          "I.4.2",
          "I.4.3",
          "I.4.4",
          "I.5.1",
          "I.5.2",
          "I.5.3",
          "I.6.1",
          "I.6.2",
          "I.6.3",
          "I.8.1",
          "II.1.1",
          "II.1.2",
          "II.1.3",
          "II.2.1",
          "II.2.2",
          "II.2.3",
          "II.3.1",
          "II.3.3",
          "II.4.1",
          "II.4.3",
          "II.5.1",
          "III.1.1",
          "III.1.2",
          "III.1.3",
          "III.2.1",
          "III.2.2",
          "III.2.3",
          "III.3.1",
          "III.3.2",
          "III.4.1",
          "III.4.2",
          "III.4.3",
          "IV.1",
          "IV.2",
          "V.1",
          "V.2",
          "V.3",
          "VI.1"
         ],
         "y": [
          0.3743828244446091,
          0.27728322092192753,
          0.0877769537594841,
          0.41487065349870944,
          0.37655034991895037,
          0.1787859308030873,
          0.3871182449907423,
          0.24254894092675117,
          0.013613467022681939,
          0.07669382683965244,
          0.26585718460167423,
          -0.28021058733533855,
          0.0362248297543534,
          -0.17438846593563984,
          -0.027861557817262784,
          0.013753705484239789,
          0.17639804091433445,
          0.4778057925167842,
          0.6844678934591084,
          0.06989940038694628,
          0.3321988375987172,
          0.4344202049762081,
          0.20611057338434557,
          0.3447534994655668,
          0.35526544235711804,
          0.24398293091545245,
          0.18287552003916166,
          0.059939535004420015,
          0.16977925621550574,
          0.3999603062614007,
          0.2890254214140509,
          -0.15894961928200863,
          0.17441407859279398,
          -0.16623376623376623,
          -0.17360007691286497,
          -0.07734053806201852,
          0.8545454545454546,
          0.36158819922353286,
          0.5098907697099364,
          0.02124307261084463,
          0.03337049335067737,
          0.16798118991366906,
          -0.2563310312719186,
          0.34006649191934885,
          -0.06390510137938074,
          0.2627887429115691,
          0.5227904704288182,
          0.29659110822640816
         ]
        },
        {
         "marker": {
          "symbol": "circle"
         },
         "mode": "markers",
         "name": "Area (Pearson)",
         "type": "scatter",
         "visible": true,
         "x": [
          "I.1.1",
          "I.1.2",
          "I.1.3",
          "I.2.1",
          "I.2.2",
          "I.2.3",
          "I.3.1",
          "I.3.2",
          "I.3.3",
          "I.4.1",
          "I.4.2",
          "I.4.3",
          "I.4.4",
          "I.5.1",
          "I.5.2",
          "I.5.3",
          "I.6.1",
          "I.6.2",
          "I.6.3",
          "I.8.1",
          "II.1.1",
          "II.1.2",
          "II.1.3",
          "II.2.1",
          "II.2.2",
          "II.2.3",
          "II.3.1",
          "II.3.3",
          "II.4.1",
          "II.4.3",
          "II.5.1",
          "III.1.1",
          "III.1.2",
          "III.1.3",
          "III.2.1",
          "III.2.2",
          "III.2.3",
          "III.3.1",
          "III.3.2",
          "III.4.1",
          "III.4.2",
          "III.4.3",
          "IV.1",
          "IV.2",
          "V.1",
          "V.2",
          "V.3",
          "VI.1"
         ],
         "y": [
          0.09684802992702346,
          0.32003622442637036,
          0.1592523581782501,
          -0.09519040991981192,
          0.0987034988365263,
          -0.14444639745581717,
          0.32058546376850855,
          0.4613888390720185,
          0.40721746188880653,
          0.04074456745525148,
          -0.04103928820810605,
          -0.3203242524792504,
          -0.008309982778039654,
          0.32863144707608993,
          0.6960461305612703,
          0.8250283549802472,
          -0.09764836825329323,
          0.5781373097089587,
          0.594864194155809,
          -0.015964282704043764,
          0.48996593605983574,
          -0.04288044559614473,
          -0.43826055620001153,
          0.09713215595347169,
          0.01940014003835916,
          -0.2806620707638351,
          0.11291783003970296,
          0.44029044104510673,
          0.00493379771397185,
          0.16200377645795058,
          0.2402551765450513,
          0.3757888433461714,
          0.007110222909769204,
          0.22123778053737445,
          -0.01664568248708171,
          0.10229868001520737,
          0.45153899367707134,
          0.03235883341907284,
          -0.007260624706808773,
          0.24403186579927527,
          0.33132152549515187,
          -0.15413867939711604,
          0.5747805275665121,
          0.29523206928047957,
          0.7007556794273585,
          0.09972434638303519,
          0.6098587513871759,
          -0.8779154858134057
         ]
        },
        {
         "marker": {
          "symbol": "circle"
         },
         "mode": "markers",
         "name": "Area (Spearman)",
         "type": "scatter",
         "visible": false,
         "x": [
          "I.1.1",
          "I.1.2",
          "I.1.3",
          "I.2.1",
          "I.2.2",
          "I.2.3",
          "I.3.1",
          "I.3.2",
          "I.3.3",
          "I.4.1",
          "I.4.2",
          "I.4.3",
          "I.4.4",
          "I.5.1",
          "I.5.2",
          "I.5.3",
          "I.6.1",
          "I.6.2",
          "I.6.3",
          "I.8.1",
          "II.1.1",
          "II.1.2",
          "II.1.3",
          "II.2.1",
          "II.2.2",
          "II.2.3",
          "II.3.1",
          "II.3.3",
          "II.4.1",
          "II.4.3",
          "II.5.1",
          "III.1.1",
          "III.1.2",
          "III.1.3",
          "III.2.1",
          "III.2.2",
          "III.2.3",
          "III.3.1",
          "III.3.2",
          "III.4.1",
          "III.4.2",
          "III.4.3",
          "IV.1",
          "IV.2",
          "V.1",
          "V.2",
          "V.3",
          "VI.1"
         ],
         "y": [
          0.31977858905205714,
          0.5318961688060274,
          0.33891745092771974,
          0.09860448150823983,
          0.16578879552940173,
          0.005106281994305966,
          0.5450194840623865,
          0.641752720329596,
          0.5282592151069382,
          0.0542033503846246,
          -0.11852734415356533,
          0.12565388414768006,
          0.23637616317601173,
          0.3988016041011329,
          0.6084555018745584,
          0.8410914574734905,
          -0.44238856972608925,
          0.7876466983246638,
          0.7080160346370746,
          0.07508083495081033,
          0.8409756027296829,
          -0.19763318502066013,
          -0.3054166237991178,
          0.2642371934101869,
          0.16355831014458677,
          -0.21139296960859635,
          0.19841258275980517,
          0.6100719622828517,
          0.09913320133744502,
          0.40398505313937894,
          0.42767941255254355,
          0.49345501396734415,
          0.12721198545340212,
          0.777911175905468,
          0.07147931553351959,
          0.10059189051593329,
          -0.31065294709760827,
          0.015043061842567337,
          -0.010335816388736626,
          0.4465203748069332,
          0.5946179744762746,
          -0.13995223538381693,
          0.6216449039989577,
          0.4412410852796255,
          0.6827812062275714,
          -0.14014647122479326,
          0.6384683219574172,
          -0.6458359143717052
         ]
        }
       ],
       "layout": {
        "legend": {
         "title": {
          "text": "Variable"
         }
        },
        "template": {
         "data": {
          "bar": [
           {
            "error_x": {
             "color": "#2a3f5f"
            },
            "error_y": {
             "color": "#2a3f5f"
            },
            "marker": {
             "line": {
              "color": "white",
              "width": 0.5
             },
             "pattern": {
              "fillmode": "overlay",
              "size": 10,
              "solidity": 0.2
             }
            },
            "type": "bar"
           }
          ],
          "barpolar": [
           {
            "marker": {
             "line": {
              "color": "white",
              "width": 0.5
             },
             "pattern": {
              "fillmode": "overlay",
              "size": 10,
              "solidity": 0.2
             }
            },
            "type": "barpolar"
           }
          ],
          "carpet": [
           {
            "aaxis": {
             "endlinecolor": "#2a3f5f",
             "gridcolor": "#C8D4E3",
             "linecolor": "#C8D4E3",
             "minorgridcolor": "#C8D4E3",
             "startlinecolor": "#2a3f5f"
            },
            "baxis": {
             "endlinecolor": "#2a3f5f",
             "gridcolor": "#C8D4E3",
             "linecolor": "#C8D4E3",
             "minorgridcolor": "#C8D4E3",
             "startlinecolor": "#2a3f5f"
            },
            "type": "carpet"
           }
          ],
          "choropleth": [
           {
            "colorbar": {
             "outlinewidth": 0,
             "ticks": ""
            },
            "type": "choropleth"
           }
          ],
          "contour": [
           {
            "colorbar": {
             "outlinewidth": 0,
             "ticks": ""
            },
            "colorscale": [
             [
              0,
              "#0d0887"
             ],
             [
              0.1111111111111111,
              "#46039f"
             ],
             [
              0.2222222222222222,
              "#7201a8"
             ],
             [
              0.3333333333333333,
              "#9c179e"
             ],
             [
              0.4444444444444444,
              "#bd3786"
             ],
             [
              0.5555555555555556,
              "#d8576b"
             ],
             [
              0.6666666666666666,
              "#ed7953"
             ],
             [
              0.7777777777777778,
              "#fb9f3a"
             ],
             [
              0.8888888888888888,
              "#fdca26"
             ],
             [
              1,
              "#f0f921"
             ]
            ],
            "type": "contour"
           }
          ],
          "contourcarpet": [
           {
            "colorbar": {
             "outlinewidth": 0,
             "ticks": ""
            },
            "type": "contourcarpet"
           }
          ],
          "heatmap": [
           {
            "colorbar": {
             "outlinewidth": 0,
             "ticks": ""
            },
            "colorscale": [
             [
              0,
              "#0d0887"
             ],
             [
              0.1111111111111111,
              "#46039f"
             ],
             [
              0.2222222222222222,
              "#7201a8"
             ],
             [
              0.3333333333333333,
              "#9c179e"
             ],
             [
              0.4444444444444444,
              "#bd3786"
             ],
             [
              0.5555555555555556,
              "#d8576b"
             ],
             [
              0.6666666666666666,
              "#ed7953"
             ],
             [
              0.7777777777777778,
              "#fb9f3a"
             ],
             [
              0.8888888888888888,
              "#fdca26"
             ],
             [
              1,
              "#f0f921"
             ]
            ],
            "type": "heatmap"
           }
          ],
          "heatmapgl": [
           {
            "colorbar": {
             "outlinewidth": 0,
             "ticks": ""
            },
            "colorscale": [
             [
              0,
              "#0d0887"
             ],
             [
              0.1111111111111111,
              "#46039f"
             ],
             [
              0.2222222222222222,
              "#7201a8"
             ],
             [
              0.3333333333333333,
              "#9c179e"
             ],
             [
              0.4444444444444444,
              "#bd3786"
             ],
             [
              0.5555555555555556,
              "#d8576b"
             ],
             [
              0.6666666666666666,
              "#ed7953"
             ],
             [
              0.7777777777777778,
              "#fb9f3a"
             ],
             [
              0.8888888888888888,
              "#fdca26"
             ],
             [
              1,
              "#f0f921"
             ]
            ],
            "type": "heatmapgl"
           }
          ],
          "histogram": [
           {
            "marker": {
             "pattern": {
              "fillmode": "overlay",
              "size": 10,
              "solidity": 0.2
             }
            },
            "type": "histogram"
           }
          ],
          "histogram2d": [
           {
            "colorbar": {
             "outlinewidth": 0,
             "ticks": ""
            },
            "colorscale": [
             [
              0,
              "#0d0887"
             ],
             [
              0.1111111111111111,
              "#46039f"
             ],
             [
              0.2222222222222222,
              "#7201a8"
             ],
             [
              0.3333333333333333,
              "#9c179e"
             ],
             [
              0.4444444444444444,
              "#bd3786"
             ],
             [
              0.5555555555555556,
              "#d8576b"
             ],
             [
              0.6666666666666666,
              "#ed7953"
             ],
             [
              0.7777777777777778,
              "#fb9f3a"
             ],
             [
              0.8888888888888888,
              "#fdca26"
             ],
             [
              1,
              "#f0f921"
             ]
            ],
            "type": "histogram2d"
           }
          ],
          "histogram2dcontour": [
           {
            "colorbar": {
             "outlinewidth": 0,
             "ticks": ""
            },
            "colorscale": [
             [
              0,
              "#0d0887"
             ],
             [
              0.1111111111111111,
              "#46039f"
             ],
             [
              0.2222222222222222,
              "#7201a8"
             ],
             [
              0.3333333333333333,
              "#9c179e"
             ],
             [
              0.4444444444444444,
              "#bd3786"
             ],
             [
              0.5555555555555556,
              "#d8576b"
             ],
             [
              0.6666666666666666,
              "#ed7953"
             ],
             [
              0.7777777777777778,
              "#fb9f3a"
             ],
             [
              0.8888888888888888,
              "#fdca26"
             ],
             [
              1,
              "#f0f921"
             ]
            ],
            "type": "histogram2dcontour"
           }
          ],
          "mesh3d": [
           {
            "colorbar": {
             "outlinewidth": 0,
             "ticks": ""
            },
            "type": "mesh3d"
           }
          ],
          "parcoords": [
           {
            "line": {
             "colorbar": {
              "outlinewidth": 0,
              "ticks": ""
             }
            },
            "type": "parcoords"
           }
          ],
          "pie": [
           {
            "automargin": true,
            "type": "pie"
           }
          ],
          "scatter": [
           {
            "fillpattern": {
             "fillmode": "overlay",
             "size": 10,
             "solidity": 0.2
            },
            "type": "scatter"
           }
          ],
          "scatter3d": [
           {
            "line": {
             "colorbar": {
              "outlinewidth": 0,
              "ticks": ""
             }
            },
            "marker": {
             "colorbar": {
              "outlinewidth": 0,
              "ticks": ""
             }
            },
            "type": "scatter3d"
           }
          ],
          "scattercarpet": [
           {
            "marker": {
             "colorbar": {
              "outlinewidth": 0,
              "ticks": ""
             }
            },
            "type": "scattercarpet"
           }
          ],
          "scattergeo": [
           {
            "marker": {
             "colorbar": {
              "outlinewidth": 0,
              "ticks": ""
             }
            },
            "type": "scattergeo"
           }
          ],
          "scattergl": [
           {
            "marker": {
             "colorbar": {
              "outlinewidth": 0,
              "ticks": ""
             }
            },
            "type": "scattergl"
           }
          ],
          "scattermapbox": [
           {
            "marker": {
             "colorbar": {
              "outlinewidth": 0,
              "ticks": ""
             }
            },
            "type": "scattermapbox"
           }
          ],
          "scatterpolar": [
           {
            "marker": {
             "colorbar": {
              "outlinewidth": 0,
              "ticks": ""
             }
            },
            "type": "scatterpolar"
           }
          ],
          "scatterpolargl": [
           {
            "marker": {
             "colorbar": {
              "outlinewidth": 0,
              "ticks": ""
             }
            },
            "type": "scatterpolargl"
           }
          ],
          "scatterternary": [
           {
            "marker": {
             "colorbar": {
              "outlinewidth": 0,
              "ticks": ""
             }
            },
            "type": "scatterternary"
           }
          ],
          "surface": [
           {
            "colorbar": {
             "outlinewidth": 0,
             "ticks": ""
            },
            "colorscale": [
             [
              0,
              "#0d0887"
             ],
             [
              0.1111111111111111,
              "#46039f"
             ],
             [
              0.2222222222222222,
              "#7201a8"
             ],
             [
              0.3333333333333333,
              "#9c179e"
             ],
             [
              0.4444444444444444,
              "#bd3786"
             ],
             [
              0.5555555555555556,
              "#d8576b"
             ],
             [
              0.6666666666666666,
              "#ed7953"
             ],
             [
              0.7777777777777778,
              "#fb9f3a"
             ],
             [
              0.8888888888888888,
              "#fdca26"
             ],
             [
              1,
              "#f0f921"
             ]
            ],
            "type": "surface"
           }
          ],
          "table": [
           {
            "cells": {
             "fill": {
              "color": "#EBF0F8"
             },
             "line": {
              "color": "white"
             }
            },
            "header": {
             "fill": {
              "color": "#C8D4E3"
             },
             "line": {
              "color": "white"
             }
            },
            "type": "table"
           }
          ]
         },
         "layout": {
          "annotationdefaults": {
           "arrowcolor": "#2a3f5f",
           "arrowhead": 0,
           "arrowwidth": 1
          },
          "autotypenumbers": "strict",
          "coloraxis": {
           "colorbar": {
            "outlinewidth": 0,
            "ticks": ""
           }
          },
          "colorscale": {
           "diverging": [
            [
             0,
             "#8e0152"
            ],
            [
             0.1,
             "#c51b7d"
            ],
            [
             0.2,
             "#de77ae"
            ],
            [
             0.3,
             "#f1b6da"
            ],
            [
             0.4,
             "#fde0ef"
            ],
            [
             0.5,
             "#f7f7f7"
            ],
            [
             0.6,
             "#e6f5d0"
            ],
            [
             0.7,
             "#b8e186"
            ],
            [
             0.8,
             "#7fbc41"
            ],
            [
             0.9,
             "#4d9221"
            ],
            [
             1,
             "#276419"
            ]
           ],
           "sequential": [
            [
             0,
             "#0d0887"
            ],
            [
             0.1111111111111111,
             "#46039f"
            ],
            [
             0.2222222222222222,
             "#7201a8"
            ],
            [
             0.3333333333333333,
             "#9c179e"
            ],
            [
             0.4444444444444444,
             "#bd3786"
            ],
            [
             0.5555555555555556,
             "#d8576b"
            ],
            [
             0.6666666666666666,
             "#ed7953"
            ],
            [
             0.7777777777777778,
             "#fb9f3a"
            ],
            [
             0.8888888888888888,
             "#fdca26"
            ],
            [
             1,
             "#f0f921"
            ]
           ],
           "sequentialminus": [
            [
             0,
             "#0d0887"
            ],
            [
             0.1111111111111111,
             "#46039f"
            ],
            [
             0.2222222222222222,
             "#7201a8"
            ],
            [
             0.3333333333333333,
             "#9c179e"
            ],
            [
             0.4444444444444444,
             "#bd3786"
            ],
            [
             0.5555555555555556,
             "#d8576b"
            ],
            [
             0.6666666666666666,
             "#ed7953"
            ],
            [
             0.7777777777777778,
             "#fb9f3a"
            ],
            [
             0.8888888888888888,
             "#fdca26"
            ],
            [
             1,
             "#f0f921"
            ]
           ]
          },
          "colorway": [
           "#636efa",
           "#EF553B",
           "#00cc96",
           "#ab63fa",
           "#FFA15A",
           "#19d3f3",
           "#FF6692",
           "#B6E880",
           "#FF97FF",
           "#FECB52"
          ],
          "font": {
           "color": "#2a3f5f"
          },
          "geo": {
           "bgcolor": "white",
           "lakecolor": "white",
           "landcolor": "white",
           "showlakes": true,
           "showland": true,
           "subunitcolor": "#C8D4E3"
          },
          "hoverlabel": {
           "align": "left"
          },
          "hovermode": "closest",
          "mapbox": {
           "style": "light"
          },
          "paper_bgcolor": "white",
          "plot_bgcolor": "white",
          "polar": {
           "angularaxis": {
            "gridcolor": "#EBF0F8",
            "linecolor": "#EBF0F8",
            "ticks": ""
           },
           "bgcolor": "white",
           "radialaxis": {
            "gridcolor": "#EBF0F8",
            "linecolor": "#EBF0F8",
            "ticks": ""
           }
          },
          "scene": {
           "xaxis": {
            "backgroundcolor": "white",
            "gridcolor": "#DFE8F3",
            "gridwidth": 2,
            "linecolor": "#EBF0F8",
            "showbackground": true,
            "ticks": "",
            "zerolinecolor": "#EBF0F8"
           },
           "yaxis": {
            "backgroundcolor": "white",
            "gridcolor": "#DFE8F3",
            "gridwidth": 2,
            "linecolor": "#EBF0F8",
            "showbackground": true,
            "ticks": "",
            "zerolinecolor": "#EBF0F8"
           },
           "zaxis": {
            "backgroundcolor": "white",
            "gridcolor": "#DFE8F3",
            "gridwidth": 2,
            "linecolor": "#EBF0F8",
            "showbackground": true,
            "ticks": "",
            "zerolinecolor": "#EBF0F8"
           }
          },
          "shapedefaults": {
           "line": {
            "color": "#2a3f5f"
           }
          },
          "ternary": {
           "aaxis": {
            "gridcolor": "#DFE8F3",
            "linecolor": "#A2B1C6",
            "ticks": ""
           },
           "baxis": {
            "gridcolor": "#DFE8F3",
            "linecolor": "#A2B1C6",
            "ticks": ""
           },
           "bgcolor": "white",
           "caxis": {
            "gridcolor": "#DFE8F3",
            "linecolor": "#A2B1C6",
            "ticks": ""
           }
          },
          "title": {
           "x": 0.05
          },
          "xaxis": {
           "automargin": true,
           "gridcolor": "#EBF0F8",
           "linecolor": "#EBF0F8",
           "ticks": "",
           "title": {
            "standoff": 15
           },
           "zerolinecolor": "#EBF0F8",
           "zerolinewidth": 2
          },
          "yaxis": {
           "automargin": true,
           "gridcolor": "#EBF0F8",
           "linecolor": "#EBF0F8",
           "ticks": "",
           "title": {
            "standoff": 15
           },
           "zerolinecolor": "#EBF0F8",
           "zerolinewidth": 2
          }
         }
        },
        "title": {
         "text": "Correlation Plot by Subsector and Variable"
        },
        "updatemenus": [
         {
          "buttons": [
           {
            "args": [
             {
              "visible": [
               true,
               false,
               true,
               false,
               true,
               false
              ]
             }
            ],
            "label": "Pearson Correlation",
            "method": "restyle"
           },
           {
            "args": [
             {
              "visible": [
               false,
               true,
               false,
               true,
               false,
               true
              ]
             }
            ],
            "label": "Spearman Correlation",
            "method": "restyle"
           }
          ],
          "direction": "down",
          "showactive": true,
          "x": 0.17,
          "xanchor": "left",
          "y": 1.15,
          "yanchor": "top"
         }
        ],
        "xaxis": {
         "title": {
          "text": "Subsector (GPC Reference)"
         }
        },
        "yaxis": {
         "title": {
          "text": "Correlation Value"
         }
        }
       }
      }
     },
     "metadata": {},
     "output_type": "display_data"
    }
   ],
   "source": [
    "fig = go.Figure()\n",
    "\n",
    "for var in corr_df['Variable'].unique():\n",
    "    # Filter data by variable\n",
    "    df_var = corr_df[corr_df['Variable'] == var]\n",
    "    \n",
    "    # Add trace for Pearson Correlation \n",
    "    fig.add_trace(go.Scatter(\n",
    "        x=df_var['Subsector'],\n",
    "        y=df_var['Pearson_Correlation'],\n",
    "        mode='markers',\n",
    "        name=f'{var} (Pearson)',\n",
    "        marker=dict(symbol='circle'),\n",
    "        visible=True  \n",
    "    ))\n",
    "    \n",
    "    # Add trace for Spearman Correlation\n",
    "    fig.add_trace(go.Scatter(\n",
    "        x=df_var['Subsector'],\n",
    "        y=df_var['Spearman_Correlation'],\n",
    "        mode='markers',\n",
    "        name=f'{var} (Spearman)',\n",
    "        marker=dict(symbol='circle'),\n",
    "        visible=False  \n",
    "    ))\n",
    "\n",
    "fig.update_layout(\n",
    "    updatemenus=[\n",
    "        dict(\n",
    "            buttons=list([\n",
    "                dict(\n",
    "                    args=[{'visible': [True if 'Pearson' in trace.name else False for trace in fig.data]}],\n",
    "                    label=\"Pearson Correlation\",\n",
    "                    method=\"restyle\"\n",
    "                ),\n",
    "                dict(\n",
    "                    args=[{'visible': [True if 'Spearman' in trace.name else False for trace in fig.data]}],\n",
    "                    label=\"Spearman Correlation\",\n",
    "                    method=\"restyle\"\n",
    "                )\n",
    "            ]),\n",
    "            direction=\"down\",\n",
    "            showactive=True,\n",
    "            x=0.17,\n",
    "            y=1.15,\n",
    "            xanchor=\"left\",\n",
    "            yanchor=\"top\"\n",
    "        )\n",
    "    ]\n",
    ")\n",
    "\n",
    "fig.update_layout(\n",
    "    title=\"Correlation Plot by Subsector and Variable\",\n",
    "    xaxis_title=\"Subsector (GPC Reference)\",\n",
    "    yaxis_title=\"Correlation Value\",\n",
    "    legend_title=\"Variable\",\n",
    "    template=\"plotly_white\"\n",
    ")\n",
    "\n",
    "fig.show()"
   ]
  },
  {
   "cell_type": "code",
   "execution_count": 28,
   "metadata": {},
   "outputs": [
    {
     "data": {
      "application/vnd.plotly.v1+json": {
       "config": {
        "plotlyServerURL": "https://plot.ly"
       },
       "data": [
        {
         "alignmentgroup": "True",
         "customdata": [
          [
           "Area"
          ],
          [
           "Area"
          ],
          [
           "Area"
          ],
          [
           "GDP"
          ],
          [
           "Area"
          ],
          [
           "Population"
          ],
          [
           "Area"
          ],
          [
           "Area"
          ],
          [
           "GDP"
          ],
          [
           "Population"
          ],
          [
           "GDP"
          ],
          [
           "Population"
          ],
          [
           "Population"
          ],
          [
           "Area"
          ],
          [
           "Population"
          ],
          [
           "Area"
          ],
          [
           "Area"
          ],
          [
           "Area"
          ],
          [
           "Area"
          ],
          [
           "Area"
          ],
          [
           "Population"
          ],
          [
           "GDP"
          ],
          [
           "Area"
          ],
          [
           "GDP"
          ],
          [
           "Area"
          ],
          [
           "GDP"
          ],
          [
           "Area"
          ],
          [
           "Population"
          ],
          [
           "Area"
          ],
          [
           "GDP"
          ],
          [
           "Population"
          ],
          [
           "Population"
          ],
          [
           "GDP"
          ],
          [
           "Population"
          ],
          [
           "Area"
          ],
          [
           "GDP"
          ]
         ],
         "hovertemplate": "Correlation Strength=%{y}<br>Correlation Type=Pearson<br>Subsector=%{x}<br>Variable=%{customdata[0]}<extra></extra>",
         "legendgroup": "Negligible or No Correlation",
         "marker": {
          "color": [
           "#ff6600",
           "#ff9900",
           "#d3d3d3",
           "#ff6600",
           "#ff9900",
           "#ff9900",
           "#ff9900",
           "#ffcc00",
           "#ffcc00",
           "#ffcc00",
           "#ff9900",
           "#d3d3d3",
           "#ff9900",
           "#ff9900",
           "#d3d3d3",
           "#ff9900",
           "#ffcc00",
           "#ffcc00",
           "#ff9900",
           "#ffcc00",
           "#ff9900",
           "#ff6600",
           "#ffcc00",
           "#ff9900",
           "#ff9900",
           "#ffcc00",
           "#ff9900",
           "#ffcc00",
           "#d3d3d3",
           "#d3d3d3",
           "#d3d3d3",
           "#ff9900",
           "#d3d3d3",
           "#ff9900",
           "#ff9900",
           "#ff9900",
           "#ff9900",
           "#ffcc00",
           "#d3d3d3",
           "#ffcc00",
           "#d3d3d3",
           "#ff9900",
           "#d3d3d3",
           "#d3d3d3",
           "#ff6600",
           "#d3d3d3",
           "#ffcc00",
           "#cc0000",
           "#d3d3d3",
           "#ffcc00",
           "#d3d3d3",
           "#ff9900",
           "#ff9900",
           "#ff6600",
           "#ff9900",
           "#ff9900",
           "#ff6600",
           "#d3d3d3",
           "#ffcc00",
           "#d3d3d3",
           "#ff6600",
           "#ffcc00",
           "#ff9900",
           "#ffcc00",
           "#ff9900",
           "#d3d3d3",
           "#ffcc00",
           "#ffcc00",
           "#ff9900",
           "#ffcc00",
           "#ffcc00",
           "#d3d3d3",
           "#ff9900",
           "#ff9900",
           "#d3d3d3",
           "#ff9900",
           "#ffcc00",
           "#ffcc00",
           "#ffcc00",
           "#ff9900",
           "#ffcc00",
           "#ff9900",
           "#ffcc00",
           "#ff9900",
           "#ffcc00",
           "#ffcc00",
           "#d3d3d3",
           "#ff9900",
           "#ffcc00",
           "#ffcc00",
           "#d3d3d3",
           "#ffcc00",
           "#ffcc00",
           "#ff9900",
           "#d3d3d3",
           "#ff9900",
           "#ff9900",
           "#ffcc00",
           "#d3d3d3",
           "#ffcc00",
           "#ffcc00",
           "#ffcc00",
           "#ffcc00",
           "#d3d3d3",
           "#d3d3d3",
           "#ffcc00",
           "#d3d3d3",
           "#ffcc00",
           "#ff6600",
           "#cc0000",
           "#ff9900",
           "#ffcc00",
           "#ffcc00",
           "#d3d3d3",
           "#d3d3d3",
           "#ff9900",
           "#d3d3d3",
           "#ff6600",
           "#d3d3d3",
           "#ffcc00",
           "#ff6600",
           "#ffcc00",
           "#ff9900",
           "#d3d3d3",
           "#ffcc00",
           "#ffcc00",
           "#d3d3d3",
           "#ffcc00",
           "#ff6600",
           "#ff9900",
           "#ffcc00",
           "#ffcc00",
           "#ffcc00",
           "#d3d3d3",
           "#cc0000",
           "#d3d3d3",
           "#ffcc00",
           "#d3d3d3",
           "#ffcc00",
           "#ff9900",
           "#ff6600",
           "#ff9900",
           "#d3d3d3",
           "#cc0000",
           "#ff6600",
           "#ff9900",
           "#ff9900",
           "#ff6600",
           "#ffcc00",
           "#ff6600",
           "#ff6600",
           "#d3d3d3",
           "#ff9900",
           "#ffcc00",
           "#ff9900",
           "#d3d3d3",
           "#ffcc00",
           "#ff9900",
           "#ffcc00",
           "#ff9900",
           "#ffcc00",
           "#d3d3d3",
           "#ff6600",
           "#ff9900",
           "#ff6600",
           "#ff6600",
           "#ffcc00",
           "#ff6600",
           "#ff6600",
           "#d3d3d3",
           "#ff6600",
           "#ffcc00",
           "#d3d3d3",
           "#d3d3d3",
           "#d3d3d3",
           "#ffcc00",
           "#ffcc00",
           "#ffcc00",
           "#ffcc00",
           "#ffcc00",
           "#ff9900",
           "#d3d3d3",
           "#ffcc00",
           "#d3d3d3",
           "#ffcc00",
           "#ff9900",
           "#d3d3d3",
           "#d3d3d3",
           "#ff6600",
           "#ffcc00",
           "#d3d3d3",
           "#cc0000",
           "#ffcc00",
           "#ffcc00",
           "#ff9900",
           "#ff9900",
           "#ff9900",
           "#cc0000",
           "#ff6600",
           "#ff6600",
           "#cc0000",
           "#ffcc00",
           "#d3d3d3",
           "#d3d3d3",
           "#cc0000",
           "#ff9900",
           "#cc0000",
           "#d3d3d3",
           "#ff9900",
           "#ffcc00",
           "#d3d3d3",
           "#ffcc00",
           "#ff9900",
           "#ffcc00",
           "#ff9900",
           "#ffcc00",
           "#ff9900",
           "#ff9900",
           "#ffcc00",
           "#ffcc00",
           "#ffcc00",
           "#ffcc00",
           "#ffcc00",
           "#ffcc00",
           "#ffcc00",
           "#ff9900",
           "#d3d3d3",
           "#ff6600",
           "#ffcc00",
           "#ffcc00",
           "#d3d3d3",
           "#ff6600",
           "#ff9900",
           "#ff9900",
           "#ff9900",
           "#ffcc00",
           "#ff9900",
           "#ff6600",
           "#ffcc00",
           "#ff9900",
           "#ff6600",
           "#ffcc00",
           "#ffcc00",
           "#ffcc00",
           "#ffcc00",
           "#cc0000",
           "#ffcc00",
           "#ffcc00",
           "#d3d3d3",
           "#d3d3d3",
           "#d3d3d3",
           "#ffcc00",
           "#cc0000",
           "#cc0000",
           "#ff9900",
           "#ffcc00",
           "#ff9900",
           "#d3d3d3",
           "#d3d3d3",
           "#ff6600",
           "#d3d3d3",
           "#cc0000",
           "#d3d3d3",
           "#ff9900",
           "#cc0000",
           "#d3d3d3",
           "#ff6600",
           "#d3d3d3",
           "#ffcc00",
           "#ffcc00",
           "#d3d3d3",
           "#ffcc00",
           "#ff6600",
           "#ff9900",
           "#ff9900",
           "#ff9900",
           "#ffcc00",
           "#d3d3d3",
           "#ff6600",
           "#ffcc00",
           "#ffcc00",
           "#ffcc00",
           "#ff9900",
           "#ff6600",
           "#ff6600",
           "#ffcc00",
           "#ffcc00",
           "#ff6600"
          ],
          "pattern": {
           "shape": ""
          }
         },
         "name": "Negligible or No Correlation",
         "offsetgroup": "Negligible or No Correlation",
         "orientation": "v",
         "showlegend": true,
         "textposition": "auto",
         "type": "bar",
         "x": [
          "I.1.1",
          "I.2.1",
          "I.2.2",
          "I.4.1",
          "I.4.1",
          "I.4.2",
          "I.4.2",
          "I.4.4",
          "I.5.1",
          "I.5.2",
          "I.5.2",
          "I.5.3",
          "I.6.1",
          "I.6.1",
          "I.8.1",
          "I.8.1",
          "II.1.2",
          "II.2.1",
          "II.2.2",
          "II.4.1",
          "II.5.1",
          "III.1.1",
          "III.1.2",
          "III.2.1",
          "III.2.1",
          "III.2.2",
          "III.3.1",
          "III.3.2",
          "III.3.2",
          "III.4.1",
          "III.4.3",
          "IV.1",
          "V.1",
          "V.2",
          "V.2",
          "VI.1"
         ],
         "xaxis": "x2",
         "y": [
          "Negligible or No Correlation",
          "Negligible or No Correlation",
          "Negligible or No Correlation",
          "Negligible or No Correlation",
          "Negligible or No Correlation",
          "Negligible or No Correlation",
          "Negligible or No Correlation",
          "Negligible or No Correlation",
          "Negligible or No Correlation",
          "Negligible or No Correlation",
          "Negligible or No Correlation",
          "Negligible or No Correlation",
          "Negligible or No Correlation",
          "Negligible or No Correlation",
          "Negligible or No Correlation",
          "Negligible or No Correlation",
          "Negligible or No Correlation",
          "Negligible or No Correlation",
          "Negligible or No Correlation",
          "Negligible or No Correlation",
          "Negligible or No Correlation",
          "Negligible or No Correlation",
          "Negligible or No Correlation",
          "Negligible or No Correlation",
          "Negligible or No Correlation",
          "Negligible or No Correlation",
          "Negligible or No Correlation",
          "Negligible or No Correlation",
          "Negligible or No Correlation",
          "Negligible or No Correlation",
          "Negligible or No Correlation",
          "Negligible or No Correlation",
          "Negligible or No Correlation",
          "Negligible or No Correlation",
          "Negligible or No Correlation",
          "Negligible or No Correlation"
         ],
         "yaxis": "y2"
        },
        {
         "alignmentgroup": "True",
         "customdata": [
          [
           "GDP"
          ],
          [
           "Area"
          ],
          [
           "Area"
          ],
          [
           "GDP"
          ],
          [
           "GDP"
          ],
          [
           "Area"
          ],
          [
           "Population"
          ],
          [
           "GDP"
          ],
          [
           "Population"
          ],
          [
           "Population"
          ],
          [
           "GDP"
          ],
          [
           "GDP"
          ],
          [
           "GDP"
          ],
          [
           "Area"
          ],
          [
           "Population"
          ],
          [
           "Population"
          ],
          [
           "GDP"
          ],
          [
           "Area"
          ],
          [
           "Area"
          ],
          [
           "Population"
          ],
          [
           "GDP"
          ],
          [
           "Area"
          ],
          [
           "Population"
          ],
          [
           "Area"
          ],
          [
           "GDP"
          ],
          [
           "GDP"
          ],
          [
           "Population"
          ],
          [
           "Population"
          ],
          [
           "GDP"
          ]
         ],
         "hovertemplate": "Correlation Strength=%{y}<br>Correlation Type=Spearman<br>Subsector=%{x}<br>Variable=%{customdata[0]}<extra></extra>",
         "legendgroup": "Negligible or No Correlation",
         "marker": {
          "color": [
           "#ff6600",
           "#ff9900",
           "#d3d3d3",
           "#ff6600",
           "#ff9900",
           "#ff9900",
           "#ff9900",
           "#ffcc00",
           "#ffcc00",
           "#ffcc00",
           "#ff9900",
           "#d3d3d3",
           "#ff9900",
           "#ff9900",
           "#d3d3d3",
           "#ff9900",
           "#ffcc00",
           "#ffcc00",
           "#ff9900",
           "#ffcc00",
           "#ff9900",
           "#ff6600",
           "#ffcc00",
           "#ff9900",
           "#ff9900",
           "#ffcc00",
           "#ff9900",
           "#ffcc00",
           "#d3d3d3",
           "#d3d3d3",
           "#d3d3d3",
           "#ff9900",
           "#d3d3d3",
           "#ff9900",
           "#ff9900",
           "#ff9900",
           "#ff9900",
           "#ffcc00",
           "#d3d3d3",
           "#ffcc00",
           "#d3d3d3",
           "#ff9900",
           "#d3d3d3",
           "#d3d3d3",
           "#ff6600",
           "#d3d3d3",
           "#ffcc00",
           "#cc0000",
           "#d3d3d3",
           "#ffcc00",
           "#d3d3d3",
           "#ff9900",
           "#ff9900",
           "#ff6600",
           "#ff9900",
           "#ff9900",
           "#ff6600",
           "#d3d3d3",
           "#ffcc00",
           "#d3d3d3",
           "#ff6600",
           "#ffcc00",
           "#ff9900",
           "#ffcc00",
           "#ff9900",
           "#d3d3d3",
           "#ffcc00",
           "#ffcc00",
           "#ff9900",
           "#ffcc00",
           "#ffcc00",
           "#d3d3d3",
           "#ff9900",
           "#ff9900",
           "#d3d3d3",
           "#ff9900",
           "#ffcc00",
           "#ffcc00",
           "#ffcc00",
           "#ff9900",
           "#ffcc00",
           "#ff9900",
           "#ffcc00",
           "#ff9900",
           "#ffcc00",
           "#ffcc00",
           "#d3d3d3",
           "#ff9900",
           "#ffcc00",
           "#ffcc00",
           "#d3d3d3",
           "#ffcc00",
           "#ffcc00",
           "#ff9900",
           "#d3d3d3",
           "#ff9900",
           "#ff9900",
           "#ffcc00",
           "#d3d3d3",
           "#ffcc00",
           "#ffcc00",
           "#ffcc00",
           "#ffcc00",
           "#d3d3d3",
           "#d3d3d3",
           "#ffcc00",
           "#d3d3d3",
           "#ffcc00",
           "#ff6600",
           "#cc0000",
           "#ff9900",
           "#ffcc00",
           "#ffcc00",
           "#d3d3d3",
           "#d3d3d3",
           "#ff9900",
           "#d3d3d3",
           "#ff6600",
           "#d3d3d3",
           "#ffcc00",
           "#ff6600",
           "#ffcc00",
           "#ff9900",
           "#d3d3d3",
           "#ffcc00",
           "#ffcc00",
           "#d3d3d3",
           "#ffcc00",
           "#ff6600",
           "#ff9900",
           "#ffcc00",
           "#ffcc00",
           "#ffcc00",
           "#d3d3d3",
           "#cc0000",
           "#d3d3d3",
           "#ffcc00",
           "#d3d3d3",
           "#ffcc00",
           "#ff9900",
           "#ff6600",
           "#ff9900",
           "#d3d3d3",
           "#cc0000",
           "#ff6600",
           "#ff9900",
           "#ff9900",
           "#ff6600",
           "#ffcc00",
           "#ff6600",
           "#ff6600",
           "#d3d3d3",
           "#ff9900",
           "#ffcc00",
           "#ff9900",
           "#d3d3d3",
           "#ffcc00",
           "#ff9900",
           "#ffcc00",
           "#ff9900",
           "#ffcc00",
           "#d3d3d3",
           "#ff6600",
           "#ff9900",
           "#ff6600",
           "#ff6600",
           "#ffcc00",
           "#ff6600",
           "#ff6600",
           "#d3d3d3",
           "#ff6600",
           "#ffcc00",
           "#d3d3d3",
           "#d3d3d3",
           "#d3d3d3",
           "#ffcc00",
           "#ffcc00",
           "#ffcc00",
           "#ffcc00",
           "#ffcc00",
           "#ff9900",
           "#d3d3d3",
           "#ffcc00",
           "#d3d3d3",
           "#ffcc00",
           "#ff9900",
           "#d3d3d3",
           "#d3d3d3",
           "#ff6600",
           "#ffcc00",
           "#d3d3d3",
           "#cc0000",
           "#ffcc00",
           "#ffcc00",
           "#ff9900",
           "#ff9900",
           "#ff9900",
           "#cc0000",
           "#ff6600",
           "#ff6600",
           "#cc0000",
           "#ffcc00",
           "#d3d3d3",
           "#d3d3d3",
           "#cc0000",
           "#ff9900",
           "#cc0000",
           "#d3d3d3",
           "#ff9900",
           "#ffcc00",
           "#d3d3d3",
           "#ffcc00",
           "#ff9900",
           "#ffcc00",
           "#ff9900",
           "#ffcc00",
           "#ff9900",
           "#ff9900",
           "#ffcc00",
           "#ffcc00",
           "#ffcc00",
           "#ffcc00",
           "#ffcc00",
           "#ffcc00",
           "#ffcc00",
           "#ff9900",
           "#d3d3d3",
           "#ff6600",
           "#ffcc00",
           "#ffcc00",
           "#d3d3d3",
           "#ff6600",
           "#ff9900",
           "#ff9900",
           "#ff9900",
           "#ffcc00",
           "#ff9900",
           "#ff6600",
           "#ffcc00",
           "#ff9900",
           "#ff6600",
           "#ffcc00",
           "#ffcc00",
           "#ffcc00",
           "#ffcc00",
           "#cc0000",
           "#ffcc00",
           "#ffcc00",
           "#d3d3d3",
           "#d3d3d3",
           "#d3d3d3",
           "#ffcc00",
           "#cc0000",
           "#cc0000",
           "#ff9900",
           "#ffcc00",
           "#ff9900",
           "#d3d3d3",
           "#d3d3d3",
           "#ff6600",
           "#d3d3d3",
           "#cc0000",
           "#d3d3d3",
           "#ff9900",
           "#cc0000",
           "#d3d3d3",
           "#ff6600",
           "#d3d3d3",
           "#ffcc00",
           "#ffcc00",
           "#d3d3d3",
           "#ffcc00",
           "#ff6600",
           "#ff9900",
           "#ff9900",
           "#ff9900",
           "#ffcc00",
           "#d3d3d3",
           "#ff6600",
           "#ffcc00",
           "#ffcc00",
           "#ffcc00",
           "#ff9900",
           "#ff6600",
           "#ff6600",
           "#ffcc00",
           "#ffcc00",
           "#ff6600"
          ],
          "pattern": {
           "shape": ""
          }
         },
         "name": "Negligible or No Correlation",
         "offsetgroup": "Negligible or No Correlation",
         "orientation": "v",
         "showlegend": false,
         "textposition": "auto",
         "type": "bar",
         "x": [
          "I.1.3",
          "I.2.1",
          "I.2.3",
          "I.3.3",
          "I.4.1",
          "I.4.1",
          "I.4.2",
          "I.4.4",
          "I.5.1",
          "I.5.2",
          "I.5.2",
          "I.5.3",
          "I.8.1",
          "I.8.1",
          "II.1.2",
          "II.1.3",
          "II.3.3",
          "II.4.1",
          "III.2.1",
          "III.2.2",
          "III.2.2",
          "III.3.1",
          "III.3.2",
          "III.3.2",
          "III.4.1",
          "III.4.2",
          "III.4.3",
          "IV.1",
          "V.1"
         ],
         "xaxis": "x",
         "y": [
          "Negligible or No Correlation",
          "Negligible or No Correlation",
          "Negligible or No Correlation",
          "Negligible or No Correlation",
          "Negligible or No Correlation",
          "Negligible or No Correlation",
          "Negligible or No Correlation",
          "Negligible or No Correlation",
          "Negligible or No Correlation",
          "Negligible or No Correlation",
          "Negligible or No Correlation",
          "Negligible or No Correlation",
          "Negligible or No Correlation",
          "Negligible or No Correlation",
          "Negligible or No Correlation",
          "Negligible or No Correlation",
          "Negligible or No Correlation",
          "Negligible or No Correlation",
          "Negligible or No Correlation",
          "Negligible or No Correlation",
          "Negligible or No Correlation",
          "Negligible or No Correlation",
          "Negligible or No Correlation",
          "Negligible or No Correlation",
          "Negligible or No Correlation",
          "Negligible or No Correlation",
          "Negligible or No Correlation",
          "Negligible or No Correlation",
          "Negligible or No Correlation"
         ],
         "yaxis": "y"
        },
        {
         "alignmentgroup": "True",
         "customdata": [
          [
           "GDP"
          ],
          [
           "Area"
          ],
          [
           "Population"
          ],
          [
           "GDP"
          ],
          [
           "Area"
          ],
          [
           "GDP"
          ],
          [
           "GDP"
          ],
          [
           "GDP"
          ],
          [
           "Population"
          ],
          [
           "GDP"
          ],
          [
           "Population"
          ],
          [
           "GDP"
          ],
          [
           "GDP"
          ],
          [
           "GDP"
          ],
          [
           "GDP"
          ],
          [
           "Population"
          ],
          [
           "Population"
          ],
          [
           "GDP"
          ],
          [
           "Population"
          ],
          [
           "GDP"
          ],
          [
           "GDP"
          ],
          [
           "Area"
          ],
          [
           "Population"
          ],
          [
           "Area"
          ],
          [
           "GDP"
          ],
          [
           "Population"
          ],
          [
           "GDP"
          ],
          [
           "GDP"
          ],
          [
           "Area"
          ],
          [
           "GDP"
          ],
          [
           "Area"
          ],
          [
           "GDP"
          ],
          [
           "Population"
          ],
          [
           "GDP"
          ],
          [
           "Area"
          ],
          [
           "Population"
          ],
          [
           "Population"
          ],
          [
           "Area"
          ],
          [
           "Population"
          ],
          [
           "GDP"
          ],
          [
           "Area"
          ],
          [
           "GDP"
          ],
          [
           "GDP"
          ],
          [
           "Area"
          ],
          [
           "GDP"
          ],
          [
           "GDP"
          ],
          [
           "Area"
          ],
          [
           "Population"
          ],
          [
           "GDP"
          ],
          [
           "Population"
          ]
         ],
         "hovertemplate": "Correlation Strength=%{y}<br>Correlation Type=Pearson<br>Subsector=%{x}<br>Variable=%{customdata[0]}<extra></extra>",
         "legendgroup": "Weak Correlation",
         "marker": {
          "color": [
           "#ff6600",
           "#ff9900",
           "#d3d3d3",
           "#ff6600",
           "#ff9900",
           "#ff9900",
           "#ff9900",
           "#ffcc00",
           "#ffcc00",
           "#ffcc00",
           "#ff9900",
           "#d3d3d3",
           "#ff9900",
           "#ff9900",
           "#d3d3d3",
           "#ff9900",
           "#ffcc00",
           "#ffcc00",
           "#ff9900",
           "#ffcc00",
           "#ff9900",
           "#ff6600",
           "#ffcc00",
           "#ff9900",
           "#ff9900",
           "#ffcc00",
           "#ff9900",
           "#ffcc00",
           "#d3d3d3",
           "#d3d3d3",
           "#d3d3d3",
           "#ff9900",
           "#d3d3d3",
           "#ff9900",
           "#ff9900",
           "#ff9900",
           "#ff9900",
           "#ffcc00",
           "#d3d3d3",
           "#ffcc00",
           "#d3d3d3",
           "#ff9900",
           "#d3d3d3",
           "#d3d3d3",
           "#ff6600",
           "#d3d3d3",
           "#ffcc00",
           "#cc0000",
           "#d3d3d3",
           "#ffcc00",
           "#d3d3d3",
           "#ff9900",
           "#ff9900",
           "#ff6600",
           "#ff9900",
           "#ff9900",
           "#ff6600",
           "#d3d3d3",
           "#ffcc00",
           "#d3d3d3",
           "#ff6600",
           "#ffcc00",
           "#ff9900",
           "#ffcc00",
           "#ff9900",
           "#d3d3d3",
           "#ffcc00",
           "#ffcc00",
           "#ff9900",
           "#ffcc00",
           "#ffcc00",
           "#d3d3d3",
           "#ff9900",
           "#ff9900",
           "#d3d3d3",
           "#ff9900",
           "#ffcc00",
           "#ffcc00",
           "#ffcc00",
           "#ff9900",
           "#ffcc00",
           "#ff9900",
           "#ffcc00",
           "#ff9900",
           "#ffcc00",
           "#ffcc00",
           "#d3d3d3",
           "#ff9900",
           "#ffcc00",
           "#ffcc00",
           "#d3d3d3",
           "#ffcc00",
           "#ffcc00",
           "#ff9900",
           "#d3d3d3",
           "#ff9900",
           "#ff9900",
           "#ffcc00",
           "#d3d3d3",
           "#ffcc00",
           "#ffcc00",
           "#ffcc00",
           "#ffcc00",
           "#d3d3d3",
           "#d3d3d3",
           "#ffcc00",
           "#d3d3d3",
           "#ffcc00",
           "#ff6600",
           "#cc0000",
           "#ff9900",
           "#ffcc00",
           "#ffcc00",
           "#d3d3d3",
           "#d3d3d3",
           "#ff9900",
           "#d3d3d3",
           "#ff6600",
           "#d3d3d3",
           "#ffcc00",
           "#ff6600",
           "#ffcc00",
           "#ff9900",
           "#d3d3d3",
           "#ffcc00",
           "#ffcc00",
           "#d3d3d3",
           "#ffcc00",
           "#ff6600",
           "#ff9900",
           "#ffcc00",
           "#ffcc00",
           "#ffcc00",
           "#d3d3d3",
           "#cc0000",
           "#d3d3d3",
           "#ffcc00",
           "#d3d3d3",
           "#ffcc00",
           "#ff9900",
           "#ff6600",
           "#ff9900",
           "#d3d3d3",
           "#cc0000",
           "#ff6600",
           "#ff9900",
           "#ff9900",
           "#ff6600",
           "#ffcc00",
           "#ff6600",
           "#ff6600",
           "#d3d3d3",
           "#ff9900",
           "#ffcc00",
           "#ff9900",
           "#d3d3d3",
           "#ffcc00",
           "#ff9900",
           "#ffcc00",
           "#ff9900",
           "#ffcc00",
           "#d3d3d3",
           "#ff6600",
           "#ff9900",
           "#ff6600",
           "#ff6600",
           "#ffcc00",
           "#ff6600",
           "#ff6600",
           "#d3d3d3",
           "#ff6600",
           "#ffcc00",
           "#d3d3d3",
           "#d3d3d3",
           "#d3d3d3",
           "#ffcc00",
           "#ffcc00",
           "#ffcc00",
           "#ffcc00",
           "#ffcc00",
           "#ff9900",
           "#d3d3d3",
           "#ffcc00",
           "#d3d3d3",
           "#ffcc00",
           "#ff9900",
           "#d3d3d3",
           "#d3d3d3",
           "#ff6600",
           "#ffcc00",
           "#d3d3d3",
           "#cc0000",
           "#ffcc00",
           "#ffcc00",
           "#ff9900",
           "#ff9900",
           "#ff9900",
           "#cc0000",
           "#ff6600",
           "#ff6600",
           "#cc0000",
           "#ffcc00",
           "#d3d3d3",
           "#d3d3d3",
           "#cc0000",
           "#ff9900",
           "#cc0000",
           "#d3d3d3",
           "#ff9900",
           "#ffcc00",
           "#d3d3d3",
           "#ffcc00",
           "#ff9900",
           "#ffcc00",
           "#ff9900",
           "#ffcc00",
           "#ff9900",
           "#ff9900",
           "#ffcc00",
           "#ffcc00",
           "#ffcc00",
           "#ffcc00",
           "#ffcc00",
           "#ffcc00",
           "#ffcc00",
           "#ff9900",
           "#d3d3d3",
           "#ff6600",
           "#ffcc00",
           "#ffcc00",
           "#d3d3d3",
           "#ff6600",
           "#ff9900",
           "#ff9900",
           "#ff9900",
           "#ffcc00",
           "#ff9900",
           "#ff6600",
           "#ffcc00",
           "#ff9900",
           "#ff6600",
           "#ffcc00",
           "#ffcc00",
           "#ffcc00",
           "#ffcc00",
           "#cc0000",
           "#ffcc00",
           "#ffcc00",
           "#d3d3d3",
           "#d3d3d3",
           "#d3d3d3",
           "#ffcc00",
           "#cc0000",
           "#cc0000",
           "#ff9900",
           "#ffcc00",
           "#ff9900",
           "#d3d3d3",
           "#d3d3d3",
           "#ff6600",
           "#d3d3d3",
           "#cc0000",
           "#d3d3d3",
           "#ff9900",
           "#cc0000",
           "#d3d3d3",
           "#ff6600",
           "#d3d3d3",
           "#ffcc00",
           "#ffcc00",
           "#d3d3d3",
           "#ffcc00",
           "#ff6600",
           "#ff9900",
           "#ff9900",
           "#ff9900",
           "#ffcc00",
           "#d3d3d3",
           "#ff6600",
           "#ffcc00",
           "#ffcc00",
           "#ffcc00",
           "#ff9900",
           "#ff6600",
           "#ff6600",
           "#ffcc00",
           "#ffcc00",
           "#ff6600"
          ],
          "pattern": {
           "shape": ""
          }
         },
         "name": "Weak Correlation",
         "offsetgroup": "Weak Correlation",
         "orientation": "v",
         "showlegend": true,
         "textposition": "auto",
         "type": "bar",
         "x": [
          "I.1.3",
          "I.1.3",
          "I.2.1",
          "I.2.3",
          "I.2.3",
          "I.3.1",
          "I.3.2",
          "I.3.3",
          "I.4.1",
          "I.4.4",
          "I.5.1",
          "I.5.3",
          "I.6.1",
          "I.8.1",
          "II.1.1",
          "II.1.2",
          "II.1.3",
          "II.1.3",
          "II.2.1",
          "II.2.1",
          "II.2.3",
          "II.2.3",
          "II.3.1",
          "II.3.1",
          "II.3.3",
          "II.4.1",
          "II.4.1",
          "II.4.3",
          "II.4.3",
          "II.5.1",
          "II.5.1",
          "III.1.2",
          "III.1.3",
          "III.1.3",
          "III.1.3",
          "III.2.1",
          "III.2.2",
          "III.2.2",
          "III.3.1",
          "III.3.1",
          "III.4.1",
          "III.4.2",
          "III.4.3",
          "III.4.3",
          "IV.1",
          "IV.2",
          "IV.2",
          "V.1",
          "V.2",
          "V.3"
         ],
         "xaxis": "x2",
         "y": [
          "Weak Correlation",
          "Weak Correlation",
          "Weak Correlation",
          "Weak Correlation",
          "Weak Correlation",
          "Weak Correlation",
          "Weak Correlation",
          "Weak Correlation",
          "Weak Correlation",
          "Weak Correlation",
          "Weak Correlation",
          "Weak Correlation",
          "Weak Correlation",
          "Weak Correlation",
          "Weak Correlation",
          "Weak Correlation",
          "Weak Correlation",
          "Weak Correlation",
          "Weak Correlation",
          "Weak Correlation",
          "Weak Correlation",
          "Weak Correlation",
          "Weak Correlation",
          "Weak Correlation",
          "Weak Correlation",
          "Weak Correlation",
          "Weak Correlation",
          "Weak Correlation",
          "Weak Correlation",
          "Weak Correlation",
          "Weak Correlation",
          "Weak Correlation",
          "Weak Correlation",
          "Weak Correlation",
          "Weak Correlation",
          "Weak Correlation",
          "Weak Correlation",
          "Weak Correlation",
          "Weak Correlation",
          "Weak Correlation",
          "Weak Correlation",
          "Weak Correlation",
          "Weak Correlation",
          "Weak Correlation",
          "Weak Correlation",
          "Weak Correlation",
          "Weak Correlation",
          "Weak Correlation",
          "Weak Correlation",
          "Weak Correlation"
         ],
         "yaxis": "y2"
        },
        {
         "alignmentgroup": "True",
         "customdata": [
          [
           "GDP"
          ],
          [
           "Population"
          ],
          [
           "Population"
          ],
          [
           "Area"
          ],
          [
           "GDP"
          ],
          [
           "GDP"
          ],
          [
           "Population"
          ],
          [
           "GDP"
          ],
          [
           "Area"
          ],
          [
           "Population"
          ],
          [
           "GDP"
          ],
          [
           "Area"
          ],
          [
           "Area"
          ],
          [
           "GDP"
          ],
          [
           "Population"
          ],
          [
           "Population"
          ],
          [
           "GDP"
          ],
          [
           "Population"
          ],
          [
           "Area"
          ],
          [
           "GDP"
          ],
          [
           "Population"
          ],
          [
           "Area"
          ],
          [
           "Area"
          ],
          [
           "Population"
          ],
          [
           "GDP"
          ],
          [
           "Area"
          ],
          [
           "Population"
          ],
          [
           "GDP"
          ],
          [
           "Area"
          ],
          [
           "Population"
          ],
          [
           "GDP"
          ],
          [
           "GDP"
          ],
          [
           "GDP"
          ],
          [
           "GDP"
          ],
          [
           "Area"
          ],
          [
           "Population"
          ],
          [
           "GDP"
          ],
          [
           "Population"
          ],
          [
           "GDP"
          ],
          [
           "Area"
          ],
          [
           "Population"
          ],
          [
           "GDP"
          ],
          [
           "Area"
          ],
          [
           "GDP"
          ],
          [
           "Population"
          ],
          [
           "Population"
          ],
          [
           "GDP"
          ],
          [
           "Area"
          ],
          [
           "Population"
          ],
          [
           "GDP"
          ]
         ],
         "hovertemplate": "Correlation Strength=%{y}<br>Correlation Type=Spearman<br>Subsector=%{x}<br>Variable=%{customdata[0]}<extra></extra>",
         "legendgroup": "Weak Correlation",
         "marker": {
          "color": [
           "#ff6600",
           "#ff9900",
           "#d3d3d3",
           "#ff6600",
           "#ff9900",
           "#ff9900",
           "#ff9900",
           "#ffcc00",
           "#ffcc00",
           "#ffcc00",
           "#ff9900",
           "#d3d3d3",
           "#ff9900",
           "#ff9900",
           "#d3d3d3",
           "#ff9900",
           "#ffcc00",
           "#ffcc00",
           "#ff9900",
           "#ffcc00",
           "#ff9900",
           "#ff6600",
           "#ffcc00",
           "#ff9900",
           "#ff9900",
           "#ffcc00",
           "#ff9900",
           "#ffcc00",
           "#d3d3d3",
           "#d3d3d3",
           "#d3d3d3",
           "#ff9900",
           "#d3d3d3",
           "#ff9900",
           "#ff9900",
           "#ff9900",
           "#ff9900",
           "#ffcc00",
           "#d3d3d3",
           "#ffcc00",
           "#d3d3d3",
           "#ff9900",
           "#d3d3d3",
           "#d3d3d3",
           "#ff6600",
           "#d3d3d3",
           "#ffcc00",
           "#cc0000",
           "#d3d3d3",
           "#ffcc00",
           "#d3d3d3",
           "#ff9900",
           "#ff9900",
           "#ff6600",
           "#ff9900",
           "#ff9900",
           "#ff6600",
           "#d3d3d3",
           "#ffcc00",
           "#d3d3d3",
           "#ff6600",
           "#ffcc00",
           "#ff9900",
           "#ffcc00",
           "#ff9900",
           "#d3d3d3",
           "#ffcc00",
           "#ffcc00",
           "#ff9900",
           "#ffcc00",
           "#ffcc00",
           "#d3d3d3",
           "#ff9900",
           "#ff9900",
           "#d3d3d3",
           "#ff9900",
           "#ffcc00",
           "#ffcc00",
           "#ffcc00",
           "#ff9900",
           "#ffcc00",
           "#ff9900",
           "#ffcc00",
           "#ff9900",
           "#ffcc00",
           "#ffcc00",
           "#d3d3d3",
           "#ff9900",
           "#ffcc00",
           "#ffcc00",
           "#d3d3d3",
           "#ffcc00",
           "#ffcc00",
           "#ff9900",
           "#d3d3d3",
           "#ff9900",
           "#ff9900",
           "#ffcc00",
           "#d3d3d3",
           "#ffcc00",
           "#ffcc00",
           "#ffcc00",
           "#ffcc00",
           "#d3d3d3",
           "#d3d3d3",
           "#ffcc00",
           "#d3d3d3",
           "#ffcc00",
           "#ff6600",
           "#cc0000",
           "#ff9900",
           "#ffcc00",
           "#ffcc00",
           "#d3d3d3",
           "#d3d3d3",
           "#ff9900",
           "#d3d3d3",
           "#ff6600",
           "#d3d3d3",
           "#ffcc00",
           "#ff6600",
           "#ffcc00",
           "#ff9900",
           "#d3d3d3",
           "#ffcc00",
           "#ffcc00",
           "#d3d3d3",
           "#ffcc00",
           "#ff6600",
           "#ff9900",
           "#ffcc00",
           "#ffcc00",
           "#ffcc00",
           "#d3d3d3",
           "#cc0000",
           "#d3d3d3",
           "#ffcc00",
           "#d3d3d3",
           "#ffcc00",
           "#ff9900",
           "#ff6600",
           "#ff9900",
           "#d3d3d3",
           "#cc0000",
           "#ff6600",
           "#ff9900",
           "#ff9900",
           "#ff6600",
           "#ffcc00",
           "#ff6600",
           "#ff6600",
           "#d3d3d3",
           "#ff9900",
           "#ffcc00",
           "#ff9900",
           "#d3d3d3",
           "#ffcc00",
           "#ff9900",
           "#ffcc00",
           "#ff9900",
           "#ffcc00",
           "#d3d3d3",
           "#ff6600",
           "#ff9900",
           "#ff6600",
           "#ff6600",
           "#ffcc00",
           "#ff6600",
           "#ff6600",
           "#d3d3d3",
           "#ff6600",
           "#ffcc00",
           "#d3d3d3",
           "#d3d3d3",
           "#d3d3d3",
           "#ffcc00",
           "#ffcc00",
           "#ffcc00",
           "#ffcc00",
           "#ffcc00",
           "#ff9900",
           "#d3d3d3",
           "#ffcc00",
           "#d3d3d3",
           "#ffcc00",
           "#ff9900",
           "#d3d3d3",
           "#d3d3d3",
           "#ff6600",
           "#ffcc00",
           "#d3d3d3",
           "#cc0000",
           "#ffcc00",
           "#ffcc00",
           "#ff9900",
           "#ff9900",
           "#ff9900",
           "#cc0000",
           "#ff6600",
           "#ff6600",
           "#cc0000",
           "#ffcc00",
           "#d3d3d3",
           "#d3d3d3",
           "#cc0000",
           "#ff9900",
           "#cc0000",
           "#d3d3d3",
           "#ff9900",
           "#ffcc00",
           "#d3d3d3",
           "#ffcc00",
           "#ff9900",
           "#ffcc00",
           "#ff9900",
           "#ffcc00",
           "#ff9900",
           "#ff9900",
           "#ffcc00",
           "#ffcc00",
           "#ffcc00",
           "#ffcc00",
           "#ffcc00",
           "#ffcc00",
           "#ffcc00",
           "#ff9900",
           "#d3d3d3",
           "#ff6600",
           "#ffcc00",
           "#ffcc00",
           "#d3d3d3",
           "#ff6600",
           "#ff9900",
           "#ff9900",
           "#ff9900",
           "#ffcc00",
           "#ff9900",
           "#ff6600",
           "#ffcc00",
           "#ff9900",
           "#ff6600",
           "#ffcc00",
           "#ffcc00",
           "#ffcc00",
           "#ffcc00",
           "#cc0000",
           "#ffcc00",
           "#ffcc00",
           "#d3d3d3",
           "#d3d3d3",
           "#d3d3d3",
           "#ffcc00",
           "#cc0000",
           "#cc0000",
           "#ff9900",
           "#ffcc00",
           "#ff9900",
           "#d3d3d3",
           "#d3d3d3",
           "#ff6600",
           "#d3d3d3",
           "#cc0000",
           "#d3d3d3",
           "#ff9900",
           "#cc0000",
           "#d3d3d3",
           "#ff6600",
           "#d3d3d3",
           "#ffcc00",
           "#ffcc00",
           "#d3d3d3",
           "#ffcc00",
           "#ff6600",
           "#ff9900",
           "#ff9900",
           "#ff9900",
           "#ffcc00",
           "#d3d3d3",
           "#ff6600",
           "#ffcc00",
           "#ffcc00",
           "#ffcc00",
           "#ff9900",
           "#ff6600",
           "#ff6600",
           "#ffcc00",
           "#ffcc00",
           "#ff6600"
          ],
          "pattern": {
           "shape": ""
          }
         },
         "name": "Weak Correlation",
         "offsetgroup": "Weak Correlation",
         "orientation": "v",
         "showlegend": false,
         "textposition": "auto",
         "type": "bar",
         "x": [
          "I.1.2",
          "I.2.1",
          "I.2.2",
          "I.2.2",
          "I.2.3",
          "I.3.2",
          "I.4.1",
          "I.4.2",
          "I.4.2",
          "I.4.3",
          "I.4.3",
          "I.4.3",
          "I.4.4",
          "I.5.1",
          "I.5.3",
          "I.6.1",
          "I.6.1",
          "I.8.1",
          "II.1.2",
          "II.1.3",
          "II.2.1",
          "II.2.1",
          "II.2.2",
          "II.2.3",
          "II.2.3",
          "II.2.3",
          "II.3.1",
          "II.3.1",
          "II.3.1",
          "II.4.1",
          "II.4.1",
          "II.5.1",
          "III.1.1",
          "III.1.2",
          "III.1.2",
          "III.1.3",
          "III.1.3",
          "III.2.1",
          "III.2.1",
          "III.2.2",
          "III.3.1",
          "III.4.3",
          "III.4.3",
          "IV.1",
          "V.1",
          "V.2",
          "V.2",
          "V.2",
          "VI.1",
          "VI.1"
         ],
         "xaxis": "x",
         "y": [
          "Weak Correlation",
          "Weak Correlation",
          "Weak Correlation",
          "Weak Correlation",
          "Weak Correlation",
          "Weak Correlation",
          "Weak Correlation",
          "Weak Correlation",
          "Weak Correlation",
          "Weak Correlation",
          "Weak Correlation",
          "Weak Correlation",
          "Weak Correlation",
          "Weak Correlation",
          "Weak Correlation",
          "Weak Correlation",
          "Weak Correlation",
          "Weak Correlation",
          "Weak Correlation",
          "Weak Correlation",
          "Weak Correlation",
          "Weak Correlation",
          "Weak Correlation",
          "Weak Correlation",
          "Weak Correlation",
          "Weak Correlation",
          "Weak Correlation",
          "Weak Correlation",
          "Weak Correlation",
          "Weak Correlation",
          "Weak Correlation",
          "Weak Correlation",
          "Weak Correlation",
          "Weak Correlation",
          "Weak Correlation",
          "Weak Correlation",
          "Weak Correlation",
          "Weak Correlation",
          "Weak Correlation",
          "Weak Correlation",
          "Weak Correlation",
          "Weak Correlation",
          "Weak Correlation",
          "Weak Correlation",
          "Weak Correlation",
          "Weak Correlation",
          "Weak Correlation",
          "Weak Correlation",
          "Weak Correlation",
          "Weak Correlation"
         ],
         "yaxis": "y"
        },
        {
         "alignmentgroup": "True",
         "customdata": [
          [
           "GDP"
          ],
          [
           "GDP"
          ],
          [
           "Area"
          ],
          [
           "Population"
          ],
          [
           "GDP"
          ],
          [
           "Population"
          ],
          [
           "GDP"
          ],
          [
           "Population"
          ],
          [
           "Population"
          ],
          [
           "Area"
          ],
          [
           "Area"
          ],
          [
           "Population"
          ],
          [
           "Area"
          ],
          [
           "GDP"
          ],
          [
           "Population"
          ],
          [
           "GDP"
          ],
          [
           "Area"
          ],
          [
           "Population"
          ],
          [
           "Area"
          ],
          [
           "Population"
          ],
          [
           "GDP"
          ],
          [
           "Population"
          ],
          [
           "GDP"
          ],
          [
           "Area"
          ],
          [
           "GDP"
          ],
          [
           "Area"
          ],
          [
           "Population"
          ],
          [
           "GDP"
          ],
          [
           "Population"
          ],
          [
           "GDP"
          ],
          [
           "Population"
          ],
          [
           "Area"
          ],
          [
           "Population"
          ],
          [
           "Population"
          ],
          [
           "Area"
          ],
          [
           "Population"
          ],
          [
           "Area"
          ],
          [
           "GDP"
          ],
          [
           "Area"
          ],
          [
           "Population"
          ],
          [
           "GDP"
          ],
          [
           "Population"
          ]
         ],
         "hovertemplate": "Correlation Strength=%{y}<br>Correlation Type=Pearson<br>Subsector=%{x}<br>Variable=%{customdata[0]}<extra></extra>",
         "legendgroup": "Moderate Correlation",
         "marker": {
          "color": [
           "#ff6600",
           "#ff9900",
           "#d3d3d3",
           "#ff6600",
           "#ff9900",
           "#ff9900",
           "#ff9900",
           "#ffcc00",
           "#ffcc00",
           "#ffcc00",
           "#ff9900",
           "#d3d3d3",
           "#ff9900",
           "#ff9900",
           "#d3d3d3",
           "#ff9900",
           "#ffcc00",
           "#ffcc00",
           "#ff9900",
           "#ffcc00",
           "#ff9900",
           "#ff6600",
           "#ffcc00",
           "#ff9900",
           "#ff9900",
           "#ffcc00",
           "#ff9900",
           "#ffcc00",
           "#d3d3d3",
           "#d3d3d3",
           "#d3d3d3",
           "#ff9900",
           "#d3d3d3",
           "#ff9900",
           "#ff9900",
           "#ff9900",
           "#ff9900",
           "#ffcc00",
           "#d3d3d3",
           "#ffcc00",
           "#d3d3d3",
           "#ff9900",
           "#d3d3d3",
           "#d3d3d3",
           "#ff6600",
           "#d3d3d3",
           "#ffcc00",
           "#cc0000",
           "#d3d3d3",
           "#ffcc00",
           "#d3d3d3",
           "#ff9900",
           "#ff9900",
           "#ff6600",
           "#ff9900",
           "#ff9900",
           "#ff6600",
           "#d3d3d3",
           "#ffcc00",
           "#d3d3d3",
           "#ff6600",
           "#ffcc00",
           "#ff9900",
           "#ffcc00",
           "#ff9900",
           "#d3d3d3",
           "#ffcc00",
           "#ffcc00",
           "#ff9900",
           "#ffcc00",
           "#ffcc00",
           "#d3d3d3",
           "#ff9900",
           "#ff9900",
           "#d3d3d3",
           "#ff9900",
           "#ffcc00",
           "#ffcc00",
           "#ffcc00",
           "#ff9900",
           "#ffcc00",
           "#ff9900",
           "#ffcc00",
           "#ff9900",
           "#ffcc00",
           "#ffcc00",
           "#d3d3d3",
           "#ff9900",
           "#ffcc00",
           "#ffcc00",
           "#d3d3d3",
           "#ffcc00",
           "#ffcc00",
           "#ff9900",
           "#d3d3d3",
           "#ff9900",
           "#ff9900",
           "#ffcc00",
           "#d3d3d3",
           "#ffcc00",
           "#ffcc00",
           "#ffcc00",
           "#ffcc00",
           "#d3d3d3",
           "#d3d3d3",
           "#ffcc00",
           "#d3d3d3",
           "#ffcc00",
           "#ff6600",
           "#cc0000",
           "#ff9900",
           "#ffcc00",
           "#ffcc00",
           "#d3d3d3",
           "#d3d3d3",
           "#ff9900",
           "#d3d3d3",
           "#ff6600",
           "#d3d3d3",
           "#ffcc00",
           "#ff6600",
           "#ffcc00",
           "#ff9900",
           "#d3d3d3",
           "#ffcc00",
           "#ffcc00",
           "#d3d3d3",
           "#ffcc00",
           "#ff6600",
           "#ff9900",
           "#ffcc00",
           "#ffcc00",
           "#ffcc00",
           "#d3d3d3",
           "#cc0000",
           "#d3d3d3",
           "#ffcc00",
           "#d3d3d3",
           "#ffcc00",
           "#ff9900",
           "#ff6600",
           "#ff9900",
           "#d3d3d3",
           "#cc0000",
           "#ff6600",
           "#ff9900",
           "#ff9900",
           "#ff6600",
           "#ffcc00",
           "#ff6600",
           "#ff6600",
           "#d3d3d3",
           "#ff9900",
           "#ffcc00",
           "#ff9900",
           "#d3d3d3",
           "#ffcc00",
           "#ff9900",
           "#ffcc00",
           "#ff9900",
           "#ffcc00",
           "#d3d3d3",
           "#ff6600",
           "#ff9900",
           "#ff6600",
           "#ff6600",
           "#ffcc00",
           "#ff6600",
           "#ff6600",
           "#d3d3d3",
           "#ff6600",
           "#ffcc00",
           "#d3d3d3",
           "#d3d3d3",
           "#d3d3d3",
           "#ffcc00",
           "#ffcc00",
           "#ffcc00",
           "#ffcc00",
           "#ffcc00",
           "#ff9900",
           "#d3d3d3",
           "#ffcc00",
           "#d3d3d3",
           "#ffcc00",
           "#ff9900",
           "#d3d3d3",
           "#d3d3d3",
           "#ff6600",
           "#ffcc00",
           "#d3d3d3",
           "#cc0000",
           "#ffcc00",
           "#ffcc00",
           "#ff9900",
           "#ff9900",
           "#ff9900",
           "#cc0000",
           "#ff6600",
           "#ff6600",
           "#cc0000",
           "#ffcc00",
           "#d3d3d3",
           "#d3d3d3",
           "#cc0000",
           "#ff9900",
           "#cc0000",
           "#d3d3d3",
           "#ff9900",
           "#ffcc00",
           "#d3d3d3",
           "#ffcc00",
           "#ff9900",
           "#ffcc00",
           "#ff9900",
           "#ffcc00",
           "#ff9900",
           "#ff9900",
           "#ffcc00",
           "#ffcc00",
           "#ffcc00",
           "#ffcc00",
           "#ffcc00",
           "#ffcc00",
           "#ffcc00",
           "#ff9900",
           "#d3d3d3",
           "#ff6600",
           "#ffcc00",
           "#ffcc00",
           "#d3d3d3",
           "#ff6600",
           "#ff9900",
           "#ff9900",
           "#ff9900",
           "#ffcc00",
           "#ff9900",
           "#ff6600",
           "#ffcc00",
           "#ff9900",
           "#ff6600",
           "#ffcc00",
           "#ffcc00",
           "#ffcc00",
           "#ffcc00",
           "#cc0000",
           "#ffcc00",
           "#ffcc00",
           "#d3d3d3",
           "#d3d3d3",
           "#d3d3d3",
           "#ffcc00",
           "#cc0000",
           "#cc0000",
           "#ff9900",
           "#ffcc00",
           "#ff9900",
           "#d3d3d3",
           "#d3d3d3",
           "#ff6600",
           "#d3d3d3",
           "#cc0000",
           "#d3d3d3",
           "#ff9900",
           "#cc0000",
           "#d3d3d3",
           "#ff6600",
           "#d3d3d3",
           "#ffcc00",
           "#ffcc00",
           "#d3d3d3",
           "#ffcc00",
           "#ff6600",
           "#ff9900",
           "#ff9900",
           "#ff9900",
           "#ffcc00",
           "#d3d3d3",
           "#ff6600",
           "#ffcc00",
           "#ffcc00",
           "#ffcc00",
           "#ff9900",
           "#ff6600",
           "#ff6600",
           "#ffcc00",
           "#ffcc00",
           "#ff6600"
          ],
          "pattern": {
           "shape": ""
          }
         },
         "name": "Moderate Correlation",
         "offsetgroup": "Moderate Correlation",
         "orientation": "v",
         "showlegend": true,
         "textposition": "auto",
         "type": "bar",
         "x": [
          "I.1.1",
          "I.1.2",
          "I.1.2",
          "I.1.3",
          "I.2.1",
          "I.2.2",
          "I.2.2",
          "I.2.3",
          "I.3.1",
          "I.3.1",
          "I.3.2",
          "I.3.3",
          "I.3.3",
          "I.4.2",
          "I.4.3",
          "I.4.3",
          "I.4.3",
          "I.4.4",
          "I.5.1",
          "I.6.2",
          "I.6.2",
          "I.6.3",
          "I.6.3",
          "II.1.1",
          "II.1.2",
          "II.1.3",
          "II.2.2",
          "II.2.2",
          "II.2.3",
          "II.3.1",
          "II.3.3",
          "II.3.3",
          "II.4.3",
          "III.1.1",
          "III.1.1",
          "III.1.2",
          "III.2.3",
          "III.3.2",
          "III.4.2",
          "IV.2",
          "V.3",
          "VI.1"
         ],
         "xaxis": "x2",
         "y": [
          "Moderate Correlation",
          "Moderate Correlation",
          "Moderate Correlation",
          "Moderate Correlation",
          "Moderate Correlation",
          "Moderate Correlation",
          "Moderate Correlation",
          "Moderate Correlation",
          "Moderate Correlation",
          "Moderate Correlation",
          "Moderate Correlation",
          "Moderate Correlation",
          "Moderate Correlation",
          "Moderate Correlation",
          "Moderate Correlation",
          "Moderate Correlation",
          "Moderate Correlation",
          "Moderate Correlation",
          "Moderate Correlation",
          "Moderate Correlation",
          "Moderate Correlation",
          "Moderate Correlation",
          "Moderate Correlation",
          "Moderate Correlation",
          "Moderate Correlation",
          "Moderate Correlation",
          "Moderate Correlation",
          "Moderate Correlation",
          "Moderate Correlation",
          "Moderate Correlation",
          "Moderate Correlation",
          "Moderate Correlation",
          "Moderate Correlation",
          "Moderate Correlation",
          "Moderate Correlation",
          "Moderate Correlation",
          "Moderate Correlation",
          "Moderate Correlation",
          "Moderate Correlation",
          "Moderate Correlation",
          "Moderate Correlation",
          "Moderate Correlation"
         ],
         "yaxis": "y2"
        },
        {
         "alignmentgroup": "True",
         "customdata": [
          [
           "GDP"
          ],
          [
           "Area"
          ],
          [
           "Area"
          ],
          [
           "GDP"
          ],
          [
           "GDP"
          ],
          [
           "Population"
          ],
          [
           "GDP"
          ],
          [
           "Population"
          ],
          [
           "Area"
          ],
          [
           "Area"
          ],
          [
           "Population"
          ],
          [
           "GDP"
          ],
          [
           "GDP"
          ],
          [
           "GDP"
          ],
          [
           "Area"
          ],
          [
           "GDP"
          ],
          [
           "Population"
          ],
          [
           "GDP"
          ],
          [
           "Population"
          ],
          [
           "GDP"
          ],
          [
           "Area"
          ],
          [
           "Population"
          ],
          [
           "Area"
          ],
          [
           "Area"
          ],
          [
           "Area"
          ],
          [
           "GDP"
          ],
          [
           "Area"
          ],
          [
           "Population"
          ],
          [
           "GDP"
          ],
          [
           "Area"
          ],
          [
           "Population"
          ]
         ],
         "hovertemplate": "Correlation Strength=%{y}<br>Correlation Type=Spearman<br>Subsector=%{x}<br>Variable=%{customdata[0]}<extra></extra>",
         "legendgroup": "Moderate Correlation",
         "marker": {
          "color": [
           "#ff6600",
           "#ff9900",
           "#d3d3d3",
           "#ff6600",
           "#ff9900",
           "#ff9900",
           "#ff9900",
           "#ffcc00",
           "#ffcc00",
           "#ffcc00",
           "#ff9900",
           "#d3d3d3",
           "#ff9900",
           "#ff9900",
           "#d3d3d3",
           "#ff9900",
           "#ffcc00",
           "#ffcc00",
           "#ff9900",
           "#ffcc00",
           "#ff9900",
           "#ff6600",
           "#ffcc00",
           "#ff9900",
           "#ff9900",
           "#ffcc00",
           "#ff9900",
           "#ffcc00",
           "#d3d3d3",
           "#d3d3d3",
           "#d3d3d3",
           "#ff9900",
           "#d3d3d3",
           "#ff9900",
           "#ff9900",
           "#ff9900",
           "#ff9900",
           "#ffcc00",
           "#d3d3d3",
           "#ffcc00",
           "#d3d3d3",
           "#ff9900",
           "#d3d3d3",
           "#d3d3d3",
           "#ff6600",
           "#d3d3d3",
           "#ffcc00",
           "#cc0000",
           "#d3d3d3",
           "#ffcc00",
           "#d3d3d3",
           "#ff9900",
           "#ff9900",
           "#ff6600",
           "#ff9900",
           "#ff9900",
           "#ff6600",
           "#d3d3d3",
           "#ffcc00",
           "#d3d3d3",
           "#ff6600",
           "#ffcc00",
           "#ff9900",
           "#ffcc00",
           "#ff9900",
           "#d3d3d3",
           "#ffcc00",
           "#ffcc00",
           "#ff9900",
           "#ffcc00",
           "#ffcc00",
           "#d3d3d3",
           "#ff9900",
           "#ff9900",
           "#d3d3d3",
           "#ff9900",
           "#ffcc00",
           "#ffcc00",
           "#ffcc00",
           "#ff9900",
           "#ffcc00",
           "#ff9900",
           "#ffcc00",
           "#ff9900",
           "#ffcc00",
           "#ffcc00",
           "#d3d3d3",
           "#ff9900",
           "#ffcc00",
           "#ffcc00",
           "#d3d3d3",
           "#ffcc00",
           "#ffcc00",
           "#ff9900",
           "#d3d3d3",
           "#ff9900",
           "#ff9900",
           "#ffcc00",
           "#d3d3d3",
           "#ffcc00",
           "#ffcc00",
           "#ffcc00",
           "#ffcc00",
           "#d3d3d3",
           "#d3d3d3",
           "#ffcc00",
           "#d3d3d3",
           "#ffcc00",
           "#ff6600",
           "#cc0000",
           "#ff9900",
           "#ffcc00",
           "#ffcc00",
           "#d3d3d3",
           "#d3d3d3",
           "#ff9900",
           "#d3d3d3",
           "#ff6600",
           "#d3d3d3",
           "#ffcc00",
           "#ff6600",
           "#ffcc00",
           "#ff9900",
           "#d3d3d3",
           "#ffcc00",
           "#ffcc00",
           "#d3d3d3",
           "#ffcc00",
           "#ff6600",
           "#ff9900",
           "#ffcc00",
           "#ffcc00",
           "#ffcc00",
           "#d3d3d3",
           "#cc0000",
           "#d3d3d3",
           "#ffcc00",
           "#d3d3d3",
           "#ffcc00",
           "#ff9900",
           "#ff6600",
           "#ff9900",
           "#d3d3d3",
           "#cc0000",
           "#ff6600",
           "#ff9900",
           "#ff9900",
           "#ff6600",
           "#ffcc00",
           "#ff6600",
           "#ff6600",
           "#d3d3d3",
           "#ff9900",
           "#ffcc00",
           "#ff9900",
           "#d3d3d3",
           "#ffcc00",
           "#ff9900",
           "#ffcc00",
           "#ff9900",
           "#ffcc00",
           "#d3d3d3",
           "#ff6600",
           "#ff9900",
           "#ff6600",
           "#ff6600",
           "#ffcc00",
           "#ff6600",
           "#ff6600",
           "#d3d3d3",
           "#ff6600",
           "#ffcc00",
           "#d3d3d3",
           "#d3d3d3",
           "#d3d3d3",
           "#ffcc00",
           "#ffcc00",
           "#ffcc00",
           "#ffcc00",
           "#ffcc00",
           "#ff9900",
           "#d3d3d3",
           "#ffcc00",
           "#d3d3d3",
           "#ffcc00",
           "#ff9900",
           "#d3d3d3",
           "#d3d3d3",
           "#ff6600",
           "#ffcc00",
           "#d3d3d3",
           "#cc0000",
           "#ffcc00",
           "#ffcc00",
           "#ff9900",
           "#ff9900",
           "#ff9900",
           "#cc0000",
           "#ff6600",
           "#ff6600",
           "#cc0000",
           "#ffcc00",
           "#d3d3d3",
           "#d3d3d3",
           "#cc0000",
           "#ff9900",
           "#cc0000",
           "#d3d3d3",
           "#ff9900",
           "#ffcc00",
           "#d3d3d3",
           "#ffcc00",
           "#ff9900",
           "#ffcc00",
           "#ff9900",
           "#ffcc00",
           "#ff9900",
           "#ff9900",
           "#ffcc00",
           "#ffcc00",
           "#ffcc00",
           "#ffcc00",
           "#ffcc00",
           "#ffcc00",
           "#ffcc00",
           "#ff9900",
           "#d3d3d3",
           "#ff6600",
           "#ffcc00",
           "#ffcc00",
           "#d3d3d3",
           "#ff6600",
           "#ff9900",
           "#ff9900",
           "#ff9900",
           "#ffcc00",
           "#ff9900",
           "#ff6600",
           "#ffcc00",
           "#ff9900",
           "#ff6600",
           "#ffcc00",
           "#ffcc00",
           "#ffcc00",
           "#ffcc00",
           "#cc0000",
           "#ffcc00",
           "#ffcc00",
           "#d3d3d3",
           "#d3d3d3",
           "#d3d3d3",
           "#ffcc00",
           "#cc0000",
           "#cc0000",
           "#ff9900",
           "#ffcc00",
           "#ff9900",
           "#d3d3d3",
           "#d3d3d3",
           "#ff6600",
           "#d3d3d3",
           "#cc0000",
           "#d3d3d3",
           "#ff9900",
           "#cc0000",
           "#d3d3d3",
           "#ff6600",
           "#d3d3d3",
           "#ffcc00",
           "#ffcc00",
           "#d3d3d3",
           "#ffcc00",
           "#ff6600",
           "#ff9900",
           "#ff9900",
           "#ff9900",
           "#ffcc00",
           "#d3d3d3",
           "#ff6600",
           "#ffcc00",
           "#ffcc00",
           "#ffcc00",
           "#ff9900",
           "#ff6600",
           "#ff6600",
           "#ffcc00",
           "#ffcc00",
           "#ff6600"
          ],
          "pattern": {
           "shape": ""
          }
         },
         "name": "Moderate Correlation",
         "offsetgroup": "Moderate Correlation",
         "orientation": "v",
         "showlegend": false,
         "textposition": "auto",
         "type": "bar",
         "x": [
          "I.1.1",
          "I.1.1",
          "I.1.3",
          "I.2.1",
          "I.2.2",
          "I.2.3",
          "I.3.1",
          "I.4.4",
          "I.5.1",
          "I.6.1",
          "I.6.2",
          "I.6.2",
          "II.1.1",
          "II.1.2",
          "II.1.3",
          "II.2.1",
          "II.2.2",
          "II.2.2",
          "II.3.3",
          "II.4.3",
          "II.4.3",
          "II.5.1",
          "II.5.1",
          "III.1.1",
          "III.2.3",
          "III.3.1",
          "III.4.1",
          "IV.2",
          "IV.2",
          "IV.2",
          "V.3"
         ],
         "xaxis": "x",
         "y": [
          "Moderate Correlation",
          "Moderate Correlation",
          "Moderate Correlation",
          "Moderate Correlation",
          "Moderate Correlation",
          "Moderate Correlation",
          "Moderate Correlation",
          "Moderate Correlation",
          "Moderate Correlation",
          "Moderate Correlation",
          "Moderate Correlation",
          "Moderate Correlation",
          "Moderate Correlation",
          "Moderate Correlation",
          "Moderate Correlation",
          "Moderate Correlation",
          "Moderate Correlation",
          "Moderate Correlation",
          "Moderate Correlation",
          "Moderate Correlation",
          "Moderate Correlation",
          "Moderate Correlation",
          "Moderate Correlation",
          "Moderate Correlation",
          "Moderate Correlation",
          "Moderate Correlation",
          "Moderate Correlation",
          "Moderate Correlation",
          "Moderate Correlation",
          "Moderate Correlation",
          "Moderate Correlation"
         ],
         "yaxis": "y"
        },
        {
         "alignmentgroup": "True",
         "customdata": [
          [
           "Population"
          ],
          [
           "Population"
          ],
          [
           "Population"
          ],
          [
           "Area"
          ],
          [
           "Area"
          ],
          [
           "Area"
          ],
          [
           "Population"
          ],
          [
           "Population"
          ],
          [
           "Population"
          ],
          [
           "Population"
          ],
          [
           "Area"
          ],
          [
           "Area"
          ]
         ],
         "hovertemplate": "Correlation Strength=%{y}<br>Correlation Type=Pearson<br>Subsector=%{x}<br>Variable=%{customdata[0]}<extra></extra>",
         "legendgroup": "Strong Correlation",
         "marker": {
          "color": [
           "#ff6600",
           "#ff9900",
           "#d3d3d3",
           "#ff6600",
           "#ff9900",
           "#ff9900",
           "#ff9900",
           "#ffcc00",
           "#ffcc00",
           "#ffcc00",
           "#ff9900",
           "#d3d3d3",
           "#ff9900",
           "#ff9900",
           "#d3d3d3",
           "#ff9900",
           "#ffcc00",
           "#ffcc00",
           "#ff9900",
           "#ffcc00",
           "#ff9900",
           "#ff6600",
           "#ffcc00",
           "#ff9900",
           "#ff9900",
           "#ffcc00",
           "#ff9900",
           "#ffcc00",
           "#d3d3d3",
           "#d3d3d3",
           "#d3d3d3",
           "#ff9900",
           "#d3d3d3",
           "#ff9900",
           "#ff9900",
           "#ff9900",
           "#ff9900",
           "#ffcc00",
           "#d3d3d3",
           "#ffcc00",
           "#d3d3d3",
           "#ff9900",
           "#d3d3d3",
           "#d3d3d3",
           "#ff6600",
           "#d3d3d3",
           "#ffcc00",
           "#cc0000",
           "#d3d3d3",
           "#ffcc00",
           "#d3d3d3",
           "#ff9900",
           "#ff9900",
           "#ff6600",
           "#ff9900",
           "#ff9900",
           "#ff6600",
           "#d3d3d3",
           "#ffcc00",
           "#d3d3d3",
           "#ff6600",
           "#ffcc00",
           "#ff9900",
           "#ffcc00",
           "#ff9900",
           "#d3d3d3",
           "#ffcc00",
           "#ffcc00",
           "#ff9900",
           "#ffcc00",
           "#ffcc00",
           "#d3d3d3",
           "#ff9900",
           "#ff9900",
           "#d3d3d3",
           "#ff9900",
           "#ffcc00",
           "#ffcc00",
           "#ffcc00",
           "#ff9900",
           "#ffcc00",
           "#ff9900",
           "#ffcc00",
           "#ff9900",
           "#ffcc00",
           "#ffcc00",
           "#d3d3d3",
           "#ff9900",
           "#ffcc00",
           "#ffcc00",
           "#d3d3d3",
           "#ffcc00",
           "#ffcc00",
           "#ff9900",
           "#d3d3d3",
           "#ff9900",
           "#ff9900",
           "#ffcc00",
           "#d3d3d3",
           "#ffcc00",
           "#ffcc00",
           "#ffcc00",
           "#ffcc00",
           "#d3d3d3",
           "#d3d3d3",
           "#ffcc00",
           "#d3d3d3",
           "#ffcc00",
           "#ff6600",
           "#cc0000",
           "#ff9900",
           "#ffcc00",
           "#ffcc00",
           "#d3d3d3",
           "#d3d3d3",
           "#ff9900",
           "#d3d3d3",
           "#ff6600",
           "#d3d3d3",
           "#ffcc00",
           "#ff6600",
           "#ffcc00",
           "#ff9900",
           "#d3d3d3",
           "#ffcc00",
           "#ffcc00",
           "#d3d3d3",
           "#ffcc00",
           "#ff6600",
           "#ff9900",
           "#ffcc00",
           "#ffcc00",
           "#ffcc00",
           "#d3d3d3",
           "#cc0000",
           "#d3d3d3",
           "#ffcc00",
           "#d3d3d3",
           "#ffcc00",
           "#ff9900",
           "#ff6600",
           "#ff9900",
           "#d3d3d3",
           "#cc0000",
           "#ff6600",
           "#ff9900",
           "#ff9900",
           "#ff6600",
           "#ffcc00",
           "#ff6600",
           "#ff6600",
           "#d3d3d3",
           "#ff9900",
           "#ffcc00",
           "#ff9900",
           "#d3d3d3",
           "#ffcc00",
           "#ff9900",
           "#ffcc00",
           "#ff9900",
           "#ffcc00",
           "#d3d3d3",
           "#ff6600",
           "#ff9900",
           "#ff6600",
           "#ff6600",
           "#ffcc00",
           "#ff6600",
           "#ff6600",
           "#d3d3d3",
           "#ff6600",
           "#ffcc00",
           "#d3d3d3",
           "#d3d3d3",
           "#d3d3d3",
           "#ffcc00",
           "#ffcc00",
           "#ffcc00",
           "#ffcc00",
           "#ffcc00",
           "#ff9900",
           "#d3d3d3",
           "#ffcc00",
           "#d3d3d3",
           "#ffcc00",
           "#ff9900",
           "#d3d3d3",
           "#d3d3d3",
           "#ff6600",
           "#ffcc00",
           "#d3d3d3",
           "#cc0000",
           "#ffcc00",
           "#ffcc00",
           "#ff9900",
           "#ff9900",
           "#ff9900",
           "#cc0000",
           "#ff6600",
           "#ff6600",
           "#cc0000",
           "#ffcc00",
           "#d3d3d3",
           "#d3d3d3",
           "#cc0000",
           "#ff9900",
           "#cc0000",
           "#d3d3d3",
           "#ff9900",
           "#ffcc00",
           "#d3d3d3",
           "#ffcc00",
           "#ff9900",
           "#ffcc00",
           "#ff9900",
           "#ffcc00",
           "#ff9900",
           "#ff9900",
           "#ffcc00",
           "#ffcc00",
           "#ffcc00",
           "#ffcc00",
           "#ffcc00",
           "#ffcc00",
           "#ffcc00",
           "#ff9900",
           "#d3d3d3",
           "#ff6600",
           "#ffcc00",
           "#ffcc00",
           "#d3d3d3",
           "#ff6600",
           "#ff9900",
           "#ff9900",
           "#ff9900",
           "#ffcc00",
           "#ff9900",
           "#ff6600",
           "#ffcc00",
           "#ff9900",
           "#ff6600",
           "#ffcc00",
           "#ffcc00",
           "#ffcc00",
           "#ffcc00",
           "#cc0000",
           "#ffcc00",
           "#ffcc00",
           "#d3d3d3",
           "#d3d3d3",
           "#d3d3d3",
           "#ffcc00",
           "#cc0000",
           "#cc0000",
           "#ff9900",
           "#ffcc00",
           "#ff9900",
           "#d3d3d3",
           "#d3d3d3",
           "#ff6600",
           "#d3d3d3",
           "#cc0000",
           "#d3d3d3",
           "#ff9900",
           "#cc0000",
           "#d3d3d3",
           "#ff6600",
           "#d3d3d3",
           "#ffcc00",
           "#ffcc00",
           "#d3d3d3",
           "#ffcc00",
           "#ff6600",
           "#ff9900",
           "#ff9900",
           "#ff9900",
           "#ffcc00",
           "#d3d3d3",
           "#ff6600",
           "#ffcc00",
           "#ffcc00",
           "#ffcc00",
           "#ff9900",
           "#ff6600",
           "#ff6600",
           "#ffcc00",
           "#ffcc00",
           "#ff6600"
          ],
          "pattern": {
           "shape": ""
          }
         },
         "name": "Strong Correlation",
         "offsetgroup": "Strong Correlation",
         "orientation": "v",
         "showlegend": true,
         "textposition": "auto",
         "type": "bar",
         "x": [
          "I.1.1",
          "I.1.2",
          "I.3.2",
          "I.5.2",
          "I.6.2",
          "I.6.3",
          "II.1.1",
          "III.2.3",
          "III.4.1",
          "III.4.2",
          "IV.1",
          "V.3"
         ],
         "xaxis": "x2",
         "y": [
          "Strong Correlation",
          "Strong Correlation",
          "Strong Correlation",
          "Strong Correlation",
          "Strong Correlation",
          "Strong Correlation",
          "Strong Correlation",
          "Strong Correlation",
          "Strong Correlation",
          "Strong Correlation",
          "Strong Correlation",
          "Strong Correlation"
         ],
         "yaxis": "y2"
        },
        {
         "alignmentgroup": "True",
         "customdata": [
          [
           "Population"
          ],
          [
           "Population"
          ],
          [
           "Area"
          ],
          [
           "Population"
          ],
          [
           "Population"
          ],
          [
           "Area"
          ],
          [
           "Population"
          ],
          [
           "Area"
          ],
          [
           "Population"
          ],
          [
           "Area"
          ],
          [
           "Area"
          ],
          [
           "Population"
          ],
          [
           "GDP"
          ],
          [
           "Area"
          ],
          [
           "Population"
          ],
          [
           "Population"
          ],
          [
           "Population"
          ],
          [
           "GDP"
          ],
          [
           "Area"
          ],
          [
           "Area"
          ],
          [
           "Area"
          ],
          [
           "GDP"
          ],
          [
           "Area"
          ],
          [
           "Area"
          ]
         ],
         "hovertemplate": "Correlation Strength=%{y}<br>Correlation Type=Spearman<br>Subsector=%{x}<br>Variable=%{customdata[0]}<extra></extra>",
         "legendgroup": "Strong Correlation",
         "marker": {
          "color": [
           "#ff6600",
           "#ff9900",
           "#d3d3d3",
           "#ff6600",
           "#ff9900",
           "#ff9900",
           "#ff9900",
           "#ffcc00",
           "#ffcc00",
           "#ffcc00",
           "#ff9900",
           "#d3d3d3",
           "#ff9900",
           "#ff9900",
           "#d3d3d3",
           "#ff9900",
           "#ffcc00",
           "#ffcc00",
           "#ff9900",
           "#ffcc00",
           "#ff9900",
           "#ff6600",
           "#ffcc00",
           "#ff9900",
           "#ff9900",
           "#ffcc00",
           "#ff9900",
           "#ffcc00",
           "#d3d3d3",
           "#d3d3d3",
           "#d3d3d3",
           "#ff9900",
           "#d3d3d3",
           "#ff9900",
           "#ff9900",
           "#ff9900",
           "#ff9900",
           "#ffcc00",
           "#d3d3d3",
           "#ffcc00",
           "#d3d3d3",
           "#ff9900",
           "#d3d3d3",
           "#d3d3d3",
           "#ff6600",
           "#d3d3d3",
           "#ffcc00",
           "#cc0000",
           "#d3d3d3",
           "#ffcc00",
           "#d3d3d3",
           "#ff9900",
           "#ff9900",
           "#ff6600",
           "#ff9900",
           "#ff9900",
           "#ff6600",
           "#d3d3d3",
           "#ffcc00",
           "#d3d3d3",
           "#ff6600",
           "#ffcc00",
           "#ff9900",
           "#ffcc00",
           "#ff9900",
           "#d3d3d3",
           "#ffcc00",
           "#ffcc00",
           "#ff9900",
           "#ffcc00",
           "#ffcc00",
           "#d3d3d3",
           "#ff9900",
           "#ff9900",
           "#d3d3d3",
           "#ff9900",
           "#ffcc00",
           "#ffcc00",
           "#ffcc00",
           "#ff9900",
           "#ffcc00",
           "#ff9900",
           "#ffcc00",
           "#ff9900",
           "#ffcc00",
           "#ffcc00",
           "#d3d3d3",
           "#ff9900",
           "#ffcc00",
           "#ffcc00",
           "#d3d3d3",
           "#ffcc00",
           "#ffcc00",
           "#ff9900",
           "#d3d3d3",
           "#ff9900",
           "#ff9900",
           "#ffcc00",
           "#d3d3d3",
           "#ffcc00",
           "#ffcc00",
           "#ffcc00",
           "#ffcc00",
           "#d3d3d3",
           "#d3d3d3",
           "#ffcc00",
           "#d3d3d3",
           "#ffcc00",
           "#ff6600",
           "#cc0000",
           "#ff9900",
           "#ffcc00",
           "#ffcc00",
           "#d3d3d3",
           "#d3d3d3",
           "#ff9900",
           "#d3d3d3",
           "#ff6600",
           "#d3d3d3",
           "#ffcc00",
           "#ff6600",
           "#ffcc00",
           "#ff9900",
           "#d3d3d3",
           "#ffcc00",
           "#ffcc00",
           "#d3d3d3",
           "#ffcc00",
           "#ff6600",
           "#ff9900",
           "#ffcc00",
           "#ffcc00",
           "#ffcc00",
           "#d3d3d3",
           "#cc0000",
           "#d3d3d3",
           "#ffcc00",
           "#d3d3d3",
           "#ffcc00",
           "#ff9900",
           "#ff6600",
           "#ff9900",
           "#d3d3d3",
           "#cc0000",
           "#ff6600",
           "#ff9900",
           "#ff9900",
           "#ff6600",
           "#ffcc00",
           "#ff6600",
           "#ff6600",
           "#d3d3d3",
           "#ff9900",
           "#ffcc00",
           "#ff9900",
           "#d3d3d3",
           "#ffcc00",
           "#ff9900",
           "#ffcc00",
           "#ff9900",
           "#ffcc00",
           "#d3d3d3",
           "#ff6600",
           "#ff9900",
           "#ff6600",
           "#ff6600",
           "#ffcc00",
           "#ff6600",
           "#ff6600",
           "#d3d3d3",
           "#ff6600",
           "#ffcc00",
           "#d3d3d3",
           "#d3d3d3",
           "#d3d3d3",
           "#ffcc00",
           "#ffcc00",
           "#ffcc00",
           "#ffcc00",
           "#ffcc00",
           "#ff9900",
           "#d3d3d3",
           "#ffcc00",
           "#d3d3d3",
           "#ffcc00",
           "#ff9900",
           "#d3d3d3",
           "#d3d3d3",
           "#ff6600",
           "#ffcc00",
           "#d3d3d3",
           "#cc0000",
           "#ffcc00",
           "#ffcc00",
           "#ff9900",
           "#ff9900",
           "#ff9900",
           "#cc0000",
           "#ff6600",
           "#ff6600",
           "#cc0000",
           "#ffcc00",
           "#d3d3d3",
           "#d3d3d3",
           "#cc0000",
           "#ff9900",
           "#cc0000",
           "#d3d3d3",
           "#ff9900",
           "#ffcc00",
           "#d3d3d3",
           "#ffcc00",
           "#ff9900",
           "#ffcc00",
           "#ff9900",
           "#ffcc00",
           "#ff9900",
           "#ff9900",
           "#ffcc00",
           "#ffcc00",
           "#ffcc00",
           "#ffcc00",
           "#ffcc00",
           "#ffcc00",
           "#ffcc00",
           "#ff9900",
           "#d3d3d3",
           "#ff6600",
           "#ffcc00",
           "#ffcc00",
           "#d3d3d3",
           "#ff6600",
           "#ff9900",
           "#ff9900",
           "#ff9900",
           "#ffcc00",
           "#ff9900",
           "#ff6600",
           "#ffcc00",
           "#ff9900",
           "#ff6600",
           "#ffcc00",
           "#ffcc00",
           "#ffcc00",
           "#ffcc00",
           "#cc0000",
           "#ffcc00",
           "#ffcc00",
           "#d3d3d3",
           "#d3d3d3",
           "#d3d3d3",
           "#ffcc00",
           "#cc0000",
           "#cc0000",
           "#ff9900",
           "#ffcc00",
           "#ff9900",
           "#d3d3d3",
           "#d3d3d3",
           "#ff6600",
           "#d3d3d3",
           "#cc0000",
           "#d3d3d3",
           "#ff9900",
           "#cc0000",
           "#d3d3d3",
           "#ff6600",
           "#d3d3d3",
           "#ffcc00",
           "#ffcc00",
           "#d3d3d3",
           "#ffcc00",
           "#ff6600",
           "#ff9900",
           "#ff9900",
           "#ff9900",
           "#ffcc00",
           "#d3d3d3",
           "#ff6600",
           "#ffcc00",
           "#ffcc00",
           "#ffcc00",
           "#ff9900",
           "#ff6600",
           "#ff6600",
           "#ffcc00",
           "#ffcc00",
           "#ff6600"
          ],
          "pattern": {
           "shape": ""
          }
         },
         "name": "Strong Correlation",
         "offsetgroup": "Strong Correlation",
         "orientation": "v",
         "showlegend": false,
         "textposition": "auto",
         "type": "bar",
         "x": [
          "I.1.1",
          "I.1.2",
          "I.1.2",
          "I.1.3",
          "I.3.1",
          "I.3.1",
          "I.3.2",
          "I.3.2",
          "I.3.3",
          "I.3.3",
          "I.5.2",
          "I.6.3",
          "I.6.3",
          "II.3.3",
          "II.4.3",
          "III.1.1",
          "III.1.2",
          "III.3.2",
          "III.4.2",
          "IV.1",
          "V.1",
          "V.3",
          "V.3",
          "VI.1"
         ],
         "xaxis": "x",
         "y": [
          "Strong Correlation",
          "Strong Correlation",
          "Strong Correlation",
          "Strong Correlation",
          "Strong Correlation",
          "Strong Correlation",
          "Strong Correlation",
          "Strong Correlation",
          "Strong Correlation",
          "Strong Correlation",
          "Strong Correlation",
          "Strong Correlation",
          "Strong Correlation",
          "Strong Correlation",
          "Strong Correlation",
          "Strong Correlation",
          "Strong Correlation",
          "Strong Correlation",
          "Strong Correlation",
          "Strong Correlation",
          "Strong Correlation",
          "Strong Correlation",
          "Strong Correlation",
          "Strong Correlation"
         ],
         "yaxis": "y"
        },
        {
         "alignmentgroup": "True",
         "customdata": [
          [
           "Area"
          ],
          [
           "GDP"
          ],
          [
           "Area"
          ],
          [
           "Area"
          ]
         ],
         "hovertemplate": "Correlation Strength=%{y}<br>Correlation Type=Pearson<br>Subsector=%{x}<br>Variable=%{customdata[0]}<extra></extra>",
         "legendgroup": "Very Strong Correlation",
         "marker": {
          "color": [
           "#ff6600",
           "#ff9900",
           "#d3d3d3",
           "#ff6600",
           "#ff9900",
           "#ff9900",
           "#ff9900",
           "#ffcc00",
           "#ffcc00",
           "#ffcc00",
           "#ff9900",
           "#d3d3d3",
           "#ff9900",
           "#ff9900",
           "#d3d3d3",
           "#ff9900",
           "#ffcc00",
           "#ffcc00",
           "#ff9900",
           "#ffcc00",
           "#ff9900",
           "#ff6600",
           "#ffcc00",
           "#ff9900",
           "#ff9900",
           "#ffcc00",
           "#ff9900",
           "#ffcc00",
           "#d3d3d3",
           "#d3d3d3",
           "#d3d3d3",
           "#ff9900",
           "#d3d3d3",
           "#ff9900",
           "#ff9900",
           "#ff9900",
           "#ff9900",
           "#ffcc00",
           "#d3d3d3",
           "#ffcc00",
           "#d3d3d3",
           "#ff9900",
           "#d3d3d3",
           "#d3d3d3",
           "#ff6600",
           "#d3d3d3",
           "#ffcc00",
           "#cc0000",
           "#d3d3d3",
           "#ffcc00",
           "#d3d3d3",
           "#ff9900",
           "#ff9900",
           "#ff6600",
           "#ff9900",
           "#ff9900",
           "#ff6600",
           "#d3d3d3",
           "#ffcc00",
           "#d3d3d3",
           "#ff6600",
           "#ffcc00",
           "#ff9900",
           "#ffcc00",
           "#ff9900",
           "#d3d3d3",
           "#ffcc00",
           "#ffcc00",
           "#ff9900",
           "#ffcc00",
           "#ffcc00",
           "#d3d3d3",
           "#ff9900",
           "#ff9900",
           "#d3d3d3",
           "#ff9900",
           "#ffcc00",
           "#ffcc00",
           "#ffcc00",
           "#ff9900",
           "#ffcc00",
           "#ff9900",
           "#ffcc00",
           "#ff9900",
           "#ffcc00",
           "#ffcc00",
           "#d3d3d3",
           "#ff9900",
           "#ffcc00",
           "#ffcc00",
           "#d3d3d3",
           "#ffcc00",
           "#ffcc00",
           "#ff9900",
           "#d3d3d3",
           "#ff9900",
           "#ff9900",
           "#ffcc00",
           "#d3d3d3",
           "#ffcc00",
           "#ffcc00",
           "#ffcc00",
           "#ffcc00",
           "#d3d3d3",
           "#d3d3d3",
           "#ffcc00",
           "#d3d3d3",
           "#ffcc00",
           "#ff6600",
           "#cc0000",
           "#ff9900",
           "#ffcc00",
           "#ffcc00",
           "#d3d3d3",
           "#d3d3d3",
           "#ff9900",
           "#d3d3d3",
           "#ff6600",
           "#d3d3d3",
           "#ffcc00",
           "#ff6600",
           "#ffcc00",
           "#ff9900",
           "#d3d3d3",
           "#ffcc00",
           "#ffcc00",
           "#d3d3d3",
           "#ffcc00",
           "#ff6600",
           "#ff9900",
           "#ffcc00",
           "#ffcc00",
           "#ffcc00",
           "#d3d3d3",
           "#cc0000",
           "#d3d3d3",
           "#ffcc00",
           "#d3d3d3",
           "#ffcc00",
           "#ff9900",
           "#ff6600",
           "#ff9900",
           "#d3d3d3",
           "#cc0000",
           "#ff6600",
           "#ff9900",
           "#ff9900",
           "#ff6600",
           "#ffcc00",
           "#ff6600",
           "#ff6600",
           "#d3d3d3",
           "#ff9900",
           "#ffcc00",
           "#ff9900",
           "#d3d3d3",
           "#ffcc00",
           "#ff9900",
           "#ffcc00",
           "#ff9900",
           "#ffcc00",
           "#d3d3d3",
           "#ff6600",
           "#ff9900",
           "#ff6600",
           "#ff6600",
           "#ffcc00",
           "#ff6600",
           "#ff6600",
           "#d3d3d3",
           "#ff6600",
           "#ffcc00",
           "#d3d3d3",
           "#d3d3d3",
           "#d3d3d3",
           "#ffcc00",
           "#ffcc00",
           "#ffcc00",
           "#ffcc00",
           "#ffcc00",
           "#ff9900",
           "#d3d3d3",
           "#ffcc00",
           "#d3d3d3",
           "#ffcc00",
           "#ff9900",
           "#d3d3d3",
           "#d3d3d3",
           "#ff6600",
           "#ffcc00",
           "#d3d3d3",
           "#cc0000",
           "#ffcc00",
           "#ffcc00",
           "#ff9900",
           "#ff9900",
           "#ff9900",
           "#cc0000",
           "#ff6600",
           "#ff6600",
           "#cc0000",
           "#ffcc00",
           "#d3d3d3",
           "#d3d3d3",
           "#cc0000",
           "#ff9900",
           "#cc0000",
           "#d3d3d3",
           "#ff9900",
           "#ffcc00",
           "#d3d3d3",
           "#ffcc00",
           "#ff9900",
           "#ffcc00",
           "#ff9900",
           "#ffcc00",
           "#ff9900",
           "#ff9900",
           "#ffcc00",
           "#ffcc00",
           "#ffcc00",
           "#ffcc00",
           "#ffcc00",
           "#ffcc00",
           "#ffcc00",
           "#ff9900",
           "#d3d3d3",
           "#ff6600",
           "#ffcc00",
           "#ffcc00",
           "#d3d3d3",
           "#ff6600",
           "#ff9900",
           "#ff9900",
           "#ff9900",
           "#ffcc00",
           "#ff9900",
           "#ff6600",
           "#ffcc00",
           "#ff9900",
           "#ff6600",
           "#ffcc00",
           "#ffcc00",
           "#ffcc00",
           "#ffcc00",
           "#cc0000",
           "#ffcc00",
           "#ffcc00",
           "#d3d3d3",
           "#d3d3d3",
           "#d3d3d3",
           "#ffcc00",
           "#cc0000",
           "#cc0000",
           "#ff9900",
           "#ffcc00",
           "#ff9900",
           "#d3d3d3",
           "#d3d3d3",
           "#ff6600",
           "#d3d3d3",
           "#cc0000",
           "#d3d3d3",
           "#ff9900",
           "#cc0000",
           "#d3d3d3",
           "#ff6600",
           "#d3d3d3",
           "#ffcc00",
           "#ffcc00",
           "#d3d3d3",
           "#ffcc00",
           "#ff6600",
           "#ff9900",
           "#ff9900",
           "#ff9900",
           "#ffcc00",
           "#d3d3d3",
           "#ff6600",
           "#ffcc00",
           "#ffcc00",
           "#ffcc00",
           "#ff9900",
           "#ff6600",
           "#ff6600",
           "#ffcc00",
           "#ffcc00",
           "#ff6600"
          ],
          "pattern": {
           "shape": ""
          }
         },
         "name": "Very Strong Correlation",
         "offsetgroup": "Very Strong Correlation",
         "orientation": "v",
         "showlegend": true,
         "textposition": "auto",
         "type": "bar",
         "x": [
          "I.5.3",
          "III.2.3",
          "V.1",
          "VI.1"
         ],
         "xaxis": "x2",
         "y": [
          "Very Strong Correlation",
          "Very Strong Correlation",
          "Very Strong Correlation",
          "Very Strong Correlation"
         ],
         "yaxis": "y2"
        },
        {
         "alignmentgroup": "True",
         "customdata": [
          [
           "Area"
          ],
          [
           "Area"
          ],
          [
           "Area"
          ],
          [
           "Population"
          ],
          [
           "Area"
          ],
          [
           "Area"
          ],
          [
           "Population"
          ],
          [
           "GDP"
          ],
          [
           "Population"
          ],
          [
           "Population"
          ]
         ],
         "hovertemplate": "Correlation Strength=%{y}<br>Correlation Type=Spearman<br>Subsector=%{x}<br>Variable=%{customdata[0]}<extra></extra>",
         "legendgroup": "Very Strong Correlation",
         "marker": {
          "color": [
           "#ff6600",
           "#ff9900",
           "#d3d3d3",
           "#ff6600",
           "#ff9900",
           "#ff9900",
           "#ff9900",
           "#ffcc00",
           "#ffcc00",
           "#ffcc00",
           "#ff9900",
           "#d3d3d3",
           "#ff9900",
           "#ff9900",
           "#d3d3d3",
           "#ff9900",
           "#ffcc00",
           "#ffcc00",
           "#ff9900",
           "#ffcc00",
           "#ff9900",
           "#ff6600",
           "#ffcc00",
           "#ff9900",
           "#ff9900",
           "#ffcc00",
           "#ff9900",
           "#ffcc00",
           "#d3d3d3",
           "#d3d3d3",
           "#d3d3d3",
           "#ff9900",
           "#d3d3d3",
           "#ff9900",
           "#ff9900",
           "#ff9900",
           "#ff9900",
           "#ffcc00",
           "#d3d3d3",
           "#ffcc00",
           "#d3d3d3",
           "#ff9900",
           "#d3d3d3",
           "#d3d3d3",
           "#ff6600",
           "#d3d3d3",
           "#ffcc00",
           "#cc0000",
           "#d3d3d3",
           "#ffcc00",
           "#d3d3d3",
           "#ff9900",
           "#ff9900",
           "#ff6600",
           "#ff9900",
           "#ff9900",
           "#ff6600",
           "#d3d3d3",
           "#ffcc00",
           "#d3d3d3",
           "#ff6600",
           "#ffcc00",
           "#ff9900",
           "#ffcc00",
           "#ff9900",
           "#d3d3d3",
           "#ffcc00",
           "#ffcc00",
           "#ff9900",
           "#ffcc00",
           "#ffcc00",
           "#d3d3d3",
           "#ff9900",
           "#ff9900",
           "#d3d3d3",
           "#ff9900",
           "#ffcc00",
           "#ffcc00",
           "#ffcc00",
           "#ff9900",
           "#ffcc00",
           "#ff9900",
           "#ffcc00",
           "#ff9900",
           "#ffcc00",
           "#ffcc00",
           "#d3d3d3",
           "#ff9900",
           "#ffcc00",
           "#ffcc00",
           "#d3d3d3",
           "#ffcc00",
           "#ffcc00",
           "#ff9900",
           "#d3d3d3",
           "#ff9900",
           "#ff9900",
           "#ffcc00",
           "#d3d3d3",
           "#ffcc00",
           "#ffcc00",
           "#ffcc00",
           "#ffcc00",
           "#d3d3d3",
           "#d3d3d3",
           "#ffcc00",
           "#d3d3d3",
           "#ffcc00",
           "#ff6600",
           "#cc0000",
           "#ff9900",
           "#ffcc00",
           "#ffcc00",
           "#d3d3d3",
           "#d3d3d3",
           "#ff9900",
           "#d3d3d3",
           "#ff6600",
           "#d3d3d3",
           "#ffcc00",
           "#ff6600",
           "#ffcc00",
           "#ff9900",
           "#d3d3d3",
           "#ffcc00",
           "#ffcc00",
           "#d3d3d3",
           "#ffcc00",
           "#ff6600",
           "#ff9900",
           "#ffcc00",
           "#ffcc00",
           "#ffcc00",
           "#d3d3d3",
           "#cc0000",
           "#d3d3d3",
           "#ffcc00",
           "#d3d3d3",
           "#ffcc00",
           "#ff9900",
           "#ff6600",
           "#ff9900",
           "#d3d3d3",
           "#cc0000",
           "#ff6600",
           "#ff9900",
           "#ff9900",
           "#ff6600",
           "#ffcc00",
           "#ff6600",
           "#ff6600",
           "#d3d3d3",
           "#ff9900",
           "#ffcc00",
           "#ff9900",
           "#d3d3d3",
           "#ffcc00",
           "#ff9900",
           "#ffcc00",
           "#ff9900",
           "#ffcc00",
           "#d3d3d3",
           "#ff6600",
           "#ff9900",
           "#ff6600",
           "#ff6600",
           "#ffcc00",
           "#ff6600",
           "#ff6600",
           "#d3d3d3",
           "#ff6600",
           "#ffcc00",
           "#d3d3d3",
           "#d3d3d3",
           "#d3d3d3",
           "#ffcc00",
           "#ffcc00",
           "#ffcc00",
           "#ffcc00",
           "#ffcc00",
           "#ff9900",
           "#d3d3d3",
           "#ffcc00",
           "#d3d3d3",
           "#ffcc00",
           "#ff9900",
           "#d3d3d3",
           "#d3d3d3",
           "#ff6600",
           "#ffcc00",
           "#d3d3d3",
           "#cc0000",
           "#ffcc00",
           "#ffcc00",
           "#ff9900",
           "#ff9900",
           "#ff9900",
           "#cc0000",
           "#ff6600",
           "#ff6600",
           "#cc0000",
           "#ffcc00",
           "#d3d3d3",
           "#d3d3d3",
           "#cc0000",
           "#ff9900",
           "#cc0000",
           "#d3d3d3",
           "#ff9900",
           "#ffcc00",
           "#d3d3d3",
           "#ffcc00",
           "#ff9900",
           "#ffcc00",
           "#ff9900",
           "#ffcc00",
           "#ff9900",
           "#ff9900",
           "#ffcc00",
           "#ffcc00",
           "#ffcc00",
           "#ffcc00",
           "#ffcc00",
           "#ffcc00",
           "#ffcc00",
           "#ff9900",
           "#d3d3d3",
           "#ff6600",
           "#ffcc00",
           "#ffcc00",
           "#d3d3d3",
           "#ff6600",
           "#ff9900",
           "#ff9900",
           "#ff9900",
           "#ffcc00",
           "#ff9900",
           "#ff6600",
           "#ffcc00",
           "#ff9900",
           "#ff6600",
           "#ffcc00",
           "#ffcc00",
           "#ffcc00",
           "#ffcc00",
           "#cc0000",
           "#ffcc00",
           "#ffcc00",
           "#d3d3d3",
           "#d3d3d3",
           "#d3d3d3",
           "#ffcc00",
           "#cc0000",
           "#cc0000",
           "#ff9900",
           "#ffcc00",
           "#ff9900",
           "#d3d3d3",
           "#d3d3d3",
           "#ff6600",
           "#d3d3d3",
           "#cc0000",
           "#d3d3d3",
           "#ff9900",
           "#cc0000",
           "#d3d3d3",
           "#ff6600",
           "#d3d3d3",
           "#ffcc00",
           "#ffcc00",
           "#d3d3d3",
           "#ffcc00",
           "#ff6600",
           "#ff9900",
           "#ff9900",
           "#ff9900",
           "#ffcc00",
           "#d3d3d3",
           "#ff6600",
           "#ffcc00",
           "#ffcc00",
           "#ffcc00",
           "#ff9900",
           "#ff6600",
           "#ff6600",
           "#ffcc00",
           "#ffcc00",
           "#ff6600"
          ],
          "pattern": {
           "shape": ""
          }
         },
         "name": "Very Strong Correlation",
         "offsetgroup": "Very Strong Correlation",
         "orientation": "v",
         "showlegend": false,
         "textposition": "auto",
         "type": "bar",
         "x": [
          "I.5.3",
          "I.6.2",
          "I.6.3",
          "II.1.1",
          "II.1.1",
          "III.1.3",
          "III.2.3",
          "III.2.3",
          "III.4.1",
          "III.4.2"
         ],
         "xaxis": "x",
         "y": [
          "Very Strong Correlation",
          "Very Strong Correlation",
          "Very Strong Correlation",
          "Very Strong Correlation",
          "Very Strong Correlation",
          "Very Strong Correlation",
          "Very Strong Correlation",
          "Very Strong Correlation",
          "Very Strong Correlation",
          "Very Strong Correlation"
         ],
         "yaxis": "y"
        }
       ],
       "layout": {
        "annotations": [
         {
          "font": {},
          "showarrow": false,
          "text": "Correlation Type=Spearman",
          "textangle": 90,
          "x": 0.98,
          "xanchor": "left",
          "xref": "paper",
          "y": 0.2425,
          "yanchor": "middle",
          "yref": "paper"
         },
         {
          "font": {},
          "showarrow": false,
          "text": "Correlation Type=Pearson",
          "textangle": 90,
          "x": 0.98,
          "xanchor": "left",
          "xref": "paper",
          "y": 0.7575000000000001,
          "yanchor": "middle",
          "yref": "paper"
         }
        ],
        "bargap": 0.2,
        "bargroupgap": 0.1,
        "barmode": "relative",
        "height": 800,
        "legend": {
         "title": {
          "text": "Correlation Strength"
         },
         "tracegroupgap": 0
        },
        "showlegend": false,
        "template": {
         "data": {
          "bar": [
           {
            "error_x": {
             "color": "#2a3f5f"
            },
            "error_y": {
             "color": "#2a3f5f"
            },
            "marker": {
             "line": {
              "color": "#E5ECF6",
              "width": 0.5
             },
             "pattern": {
              "fillmode": "overlay",
              "size": 10,
              "solidity": 0.2
             }
            },
            "type": "bar"
           }
          ],
          "barpolar": [
           {
            "marker": {
             "line": {
              "color": "#E5ECF6",
              "width": 0.5
             },
             "pattern": {
              "fillmode": "overlay",
              "size": 10,
              "solidity": 0.2
             }
            },
            "type": "barpolar"
           }
          ],
          "carpet": [
           {
            "aaxis": {
             "endlinecolor": "#2a3f5f",
             "gridcolor": "white",
             "linecolor": "white",
             "minorgridcolor": "white",
             "startlinecolor": "#2a3f5f"
            },
            "baxis": {
             "endlinecolor": "#2a3f5f",
             "gridcolor": "white",
             "linecolor": "white",
             "minorgridcolor": "white",
             "startlinecolor": "#2a3f5f"
            },
            "type": "carpet"
           }
          ],
          "choropleth": [
           {
            "colorbar": {
             "outlinewidth": 0,
             "ticks": ""
            },
            "type": "choropleth"
           }
          ],
          "contour": [
           {
            "colorbar": {
             "outlinewidth": 0,
             "ticks": ""
            },
            "colorscale": [
             [
              0,
              "#0d0887"
             ],
             [
              0.1111111111111111,
              "#46039f"
             ],
             [
              0.2222222222222222,
              "#7201a8"
             ],
             [
              0.3333333333333333,
              "#9c179e"
             ],
             [
              0.4444444444444444,
              "#bd3786"
             ],
             [
              0.5555555555555556,
              "#d8576b"
             ],
             [
              0.6666666666666666,
              "#ed7953"
             ],
             [
              0.7777777777777778,
              "#fb9f3a"
             ],
             [
              0.8888888888888888,
              "#fdca26"
             ],
             [
              1,
              "#f0f921"
             ]
            ],
            "type": "contour"
           }
          ],
          "contourcarpet": [
           {
            "colorbar": {
             "outlinewidth": 0,
             "ticks": ""
            },
            "type": "contourcarpet"
           }
          ],
          "heatmap": [
           {
            "colorbar": {
             "outlinewidth": 0,
             "ticks": ""
            },
            "colorscale": [
             [
              0,
              "#0d0887"
             ],
             [
              0.1111111111111111,
              "#46039f"
             ],
             [
              0.2222222222222222,
              "#7201a8"
             ],
             [
              0.3333333333333333,
              "#9c179e"
             ],
             [
              0.4444444444444444,
              "#bd3786"
             ],
             [
              0.5555555555555556,
              "#d8576b"
             ],
             [
              0.6666666666666666,
              "#ed7953"
             ],
             [
              0.7777777777777778,
              "#fb9f3a"
             ],
             [
              0.8888888888888888,
              "#fdca26"
             ],
             [
              1,
              "#f0f921"
             ]
            ],
            "type": "heatmap"
           }
          ],
          "heatmapgl": [
           {
            "colorbar": {
             "outlinewidth": 0,
             "ticks": ""
            },
            "colorscale": [
             [
              0,
              "#0d0887"
             ],
             [
              0.1111111111111111,
              "#46039f"
             ],
             [
              0.2222222222222222,
              "#7201a8"
             ],
             [
              0.3333333333333333,
              "#9c179e"
             ],
             [
              0.4444444444444444,
              "#bd3786"
             ],
             [
              0.5555555555555556,
              "#d8576b"
             ],
             [
              0.6666666666666666,
              "#ed7953"
             ],
             [
              0.7777777777777778,
              "#fb9f3a"
             ],
             [
              0.8888888888888888,
              "#fdca26"
             ],
             [
              1,
              "#f0f921"
             ]
            ],
            "type": "heatmapgl"
           }
          ],
          "histogram": [
           {
            "marker": {
             "pattern": {
              "fillmode": "overlay",
              "size": 10,
              "solidity": 0.2
             }
            },
            "type": "histogram"
           }
          ],
          "histogram2d": [
           {
            "colorbar": {
             "outlinewidth": 0,
             "ticks": ""
            },
            "colorscale": [
             [
              0,
              "#0d0887"
             ],
             [
              0.1111111111111111,
              "#46039f"
             ],
             [
              0.2222222222222222,
              "#7201a8"
             ],
             [
              0.3333333333333333,
              "#9c179e"
             ],
             [
              0.4444444444444444,
              "#bd3786"
             ],
             [
              0.5555555555555556,
              "#d8576b"
             ],
             [
              0.6666666666666666,
              "#ed7953"
             ],
             [
              0.7777777777777778,
              "#fb9f3a"
             ],
             [
              0.8888888888888888,
              "#fdca26"
             ],
             [
              1,
              "#f0f921"
             ]
            ],
            "type": "histogram2d"
           }
          ],
          "histogram2dcontour": [
           {
            "colorbar": {
             "outlinewidth": 0,
             "ticks": ""
            },
            "colorscale": [
             [
              0,
              "#0d0887"
             ],
             [
              0.1111111111111111,
              "#46039f"
             ],
             [
              0.2222222222222222,
              "#7201a8"
             ],
             [
              0.3333333333333333,
              "#9c179e"
             ],
             [
              0.4444444444444444,
              "#bd3786"
             ],
             [
              0.5555555555555556,
              "#d8576b"
             ],
             [
              0.6666666666666666,
              "#ed7953"
             ],
             [
              0.7777777777777778,
              "#fb9f3a"
             ],
             [
              0.8888888888888888,
              "#fdca26"
             ],
             [
              1,
              "#f0f921"
             ]
            ],
            "type": "histogram2dcontour"
           }
          ],
          "mesh3d": [
           {
            "colorbar": {
             "outlinewidth": 0,
             "ticks": ""
            },
            "type": "mesh3d"
           }
          ],
          "parcoords": [
           {
            "line": {
             "colorbar": {
              "outlinewidth": 0,
              "ticks": ""
             }
            },
            "type": "parcoords"
           }
          ],
          "pie": [
           {
            "automargin": true,
            "type": "pie"
           }
          ],
          "scatter": [
           {
            "fillpattern": {
             "fillmode": "overlay",
             "size": 10,
             "solidity": 0.2
            },
            "type": "scatter"
           }
          ],
          "scatter3d": [
           {
            "line": {
             "colorbar": {
              "outlinewidth": 0,
              "ticks": ""
             }
            },
            "marker": {
             "colorbar": {
              "outlinewidth": 0,
              "ticks": ""
             }
            },
            "type": "scatter3d"
           }
          ],
          "scattercarpet": [
           {
            "marker": {
             "colorbar": {
              "outlinewidth": 0,
              "ticks": ""
             }
            },
            "type": "scattercarpet"
           }
          ],
          "scattergeo": [
           {
            "marker": {
             "colorbar": {
              "outlinewidth": 0,
              "ticks": ""
             }
            },
            "type": "scattergeo"
           }
          ],
          "scattergl": [
           {
            "marker": {
             "colorbar": {
              "outlinewidth": 0,
              "ticks": ""
             }
            },
            "type": "scattergl"
           }
          ],
          "scattermapbox": [
           {
            "marker": {
             "colorbar": {
              "outlinewidth": 0,
              "ticks": ""
             }
            },
            "type": "scattermapbox"
           }
          ],
          "scatterpolar": [
           {
            "marker": {
             "colorbar": {
              "outlinewidth": 0,
              "ticks": ""
             }
            },
            "type": "scatterpolar"
           }
          ],
          "scatterpolargl": [
           {
            "marker": {
             "colorbar": {
              "outlinewidth": 0,
              "ticks": ""
             }
            },
            "type": "scatterpolargl"
           }
          ],
          "scatterternary": [
           {
            "marker": {
             "colorbar": {
              "outlinewidth": 0,
              "ticks": ""
             }
            },
            "type": "scatterternary"
           }
          ],
          "surface": [
           {
            "colorbar": {
             "outlinewidth": 0,
             "ticks": ""
            },
            "colorscale": [
             [
              0,
              "#0d0887"
             ],
             [
              0.1111111111111111,
              "#46039f"
             ],
             [
              0.2222222222222222,
              "#7201a8"
             ],
             [
              0.3333333333333333,
              "#9c179e"
             ],
             [
              0.4444444444444444,
              "#bd3786"
             ],
             [
              0.5555555555555556,
              "#d8576b"
             ],
             [
              0.6666666666666666,
              "#ed7953"
             ],
             [
              0.7777777777777778,
              "#fb9f3a"
             ],
             [
              0.8888888888888888,
              "#fdca26"
             ],
             [
              1,
              "#f0f921"
             ]
            ],
            "type": "surface"
           }
          ],
          "table": [
           {
            "cells": {
             "fill": {
              "color": "#EBF0F8"
             },
             "line": {
              "color": "white"
             }
            },
            "header": {
             "fill": {
              "color": "#C8D4E3"
             },
             "line": {
              "color": "white"
             }
            },
            "type": "table"
           }
          ]
         },
         "layout": {
          "annotationdefaults": {
           "arrowcolor": "#2a3f5f",
           "arrowhead": 0,
           "arrowwidth": 1
          },
          "autotypenumbers": "strict",
          "coloraxis": {
           "colorbar": {
            "outlinewidth": 0,
            "ticks": ""
           }
          },
          "colorscale": {
           "diverging": [
            [
             0,
             "#8e0152"
            ],
            [
             0.1,
             "#c51b7d"
            ],
            [
             0.2,
             "#de77ae"
            ],
            [
             0.3,
             "#f1b6da"
            ],
            [
             0.4,
             "#fde0ef"
            ],
            [
             0.5,
             "#f7f7f7"
            ],
            [
             0.6,
             "#e6f5d0"
            ],
            [
             0.7,
             "#b8e186"
            ],
            [
             0.8,
             "#7fbc41"
            ],
            [
             0.9,
             "#4d9221"
            ],
            [
             1,
             "#276419"
            ]
           ],
           "sequential": [
            [
             0,
             "#0d0887"
            ],
            [
             0.1111111111111111,
             "#46039f"
            ],
            [
             0.2222222222222222,
             "#7201a8"
            ],
            [
             0.3333333333333333,
             "#9c179e"
            ],
            [
             0.4444444444444444,
             "#bd3786"
            ],
            [
             0.5555555555555556,
             "#d8576b"
            ],
            [
             0.6666666666666666,
             "#ed7953"
            ],
            [
             0.7777777777777778,
             "#fb9f3a"
            ],
            [
             0.8888888888888888,
             "#fdca26"
            ],
            [
             1,
             "#f0f921"
            ]
           ],
           "sequentialminus": [
            [
             0,
             "#0d0887"
            ],
            [
             0.1111111111111111,
             "#46039f"
            ],
            [
             0.2222222222222222,
             "#7201a8"
            ],
            [
             0.3333333333333333,
             "#9c179e"
            ],
            [
             0.4444444444444444,
             "#bd3786"
            ],
            [
             0.5555555555555556,
             "#d8576b"
            ],
            [
             0.6666666666666666,
             "#ed7953"
            ],
            [
             0.7777777777777778,
             "#fb9f3a"
            ],
            [
             0.8888888888888888,
             "#fdca26"
            ],
            [
             1,
             "#f0f921"
            ]
           ]
          },
          "colorway": [
           "#636efa",
           "#EF553B",
           "#00cc96",
           "#ab63fa",
           "#FFA15A",
           "#19d3f3",
           "#FF6692",
           "#B6E880",
           "#FF97FF",
           "#FECB52"
          ],
          "font": {
           "color": "#2a3f5f"
          },
          "geo": {
           "bgcolor": "white",
           "lakecolor": "white",
           "landcolor": "#E5ECF6",
           "showlakes": true,
           "showland": true,
           "subunitcolor": "white"
          },
          "hoverlabel": {
           "align": "left"
          },
          "hovermode": "closest",
          "mapbox": {
           "style": "light"
          },
          "paper_bgcolor": "white",
          "plot_bgcolor": "#E5ECF6",
          "polar": {
           "angularaxis": {
            "gridcolor": "white",
            "linecolor": "white",
            "ticks": ""
           },
           "bgcolor": "#E5ECF6",
           "radialaxis": {
            "gridcolor": "white",
            "linecolor": "white",
            "ticks": ""
           }
          },
          "scene": {
           "xaxis": {
            "backgroundcolor": "#E5ECF6",
            "gridcolor": "white",
            "gridwidth": 2,
            "linecolor": "white",
            "showbackground": true,
            "ticks": "",
            "zerolinecolor": "white"
           },
           "yaxis": {
            "backgroundcolor": "#E5ECF6",
            "gridcolor": "white",
            "gridwidth": 2,
            "linecolor": "white",
            "showbackground": true,
            "ticks": "",
            "zerolinecolor": "white"
           },
           "zaxis": {
            "backgroundcolor": "#E5ECF6",
            "gridcolor": "white",
            "gridwidth": 2,
            "linecolor": "white",
            "showbackground": true,
            "ticks": "",
            "zerolinecolor": "white"
           }
          },
          "shapedefaults": {
           "line": {
            "color": "#2a3f5f"
           }
          },
          "ternary": {
           "aaxis": {
            "gridcolor": "white",
            "linecolor": "white",
            "ticks": ""
           },
           "baxis": {
            "gridcolor": "white",
            "linecolor": "white",
            "ticks": ""
           },
           "bgcolor": "#E5ECF6",
           "caxis": {
            "gridcolor": "white",
            "linecolor": "white",
            "ticks": ""
           }
          },
          "title": {
           "x": 0.05
          },
          "xaxis": {
           "automargin": true,
           "gridcolor": "white",
           "linecolor": "white",
           "ticks": "",
           "title": {
            "standoff": 15
           },
           "zerolinecolor": "white",
           "zerolinewidth": 2
          },
          "yaxis": {
           "automargin": true,
           "gridcolor": "white",
           "linecolor": "white",
           "ticks": "",
           "title": {
            "standoff": 15
           },
           "zerolinecolor": "white",
           "zerolinewidth": 2
          }
         }
        },
        "title": {
         "text": "Correlation Strengths by Subsector and Variable"
        },
        "xaxis": {
         "anchor": "y",
         "domain": [
          0,
          0.98
         ],
         "title": {
          "text": "Subsector"
         }
        },
        "xaxis2": {
         "anchor": "y2",
         "domain": [
          0,
          0.98
         ],
         "matches": "x",
         "showticklabels": false
        },
        "yaxis": {
         "anchor": "x",
         "categoryarray": [
          "Almost Perfect Correlation",
          "Very Strong Correlation",
          "Strong Correlation",
          "Moderate Correlation",
          "Weak Correlation",
          "Negligible or No Correlation"
         ],
         "categoryorder": "array",
         "domain": [
          0,
          0.485
         ],
         "title": {
          "text": "Correlation Strength"
         }
        },
        "yaxis2": {
         "anchor": "x2",
         "categoryarray": [
          "Almost Perfect Correlation",
          "Very Strong Correlation",
          "Strong Correlation",
          "Moderate Correlation",
          "Weak Correlation",
          "Negligible or No Correlation"
         ],
         "categoryorder": "array",
         "domain": [
          0.515,
          1
         ],
         "matches": "y",
         "title": {
          "text": "Correlation Strength"
         }
        }
       }
      }
     },
     "metadata": {},
     "output_type": "display_data"
    }
   ],
   "source": [
    "color_map = {\n",
    "    \"Negligible or No Correlation\": \"#d3d3d3\",    # Light Grey\n",
    "    \"Weak Correlation\": \"#ffcc00\",                # Yellow\n",
    "    \"Moderate Correlation\": \"#ff9900\",            # Orange\n",
    "    \"Strong Correlation\": \"#ff6600\",              # Dark Orange\n",
    "    \"Very Strong Correlation\": \"#cc0000\",         # Red\n",
    "    \"Almost Perfect Correlation\": \"#660000\"       # Dark Red\n",
    "}\n",
    "\n",
    "# Assign colors\n",
    "df_long['Color'] = df_long['Correlation_Strength'].map(color_map)\n",
    "\n",
    "fig = px.bar(\n",
    "    df_long,\n",
    "    x='Subsector',\n",
    "    y='Correlation_Strength',\n",
    "    color='Correlation_Strength',\n",
    "    facet_row='Correlation_Type',\n",
    "    category_orders={'Correlation_Strength': [\n",
    "        \"Negligible or No Correlation\",\n",
    "        \"Weak Correlation\",\n",
    "        \"Moderate Correlation\",\n",
    "        \"Strong Correlation\",\n",
    "        \"Very Strong Correlation\",\n",
    "        \"Almost Perfect Correlation\"\n",
    "    ]},\n",
    "    labels={\n",
    "        'Correlation_Strength': 'Correlation Strength',\n",
    "        'Subsector': 'Subsector',\n",
    "        'Correlation_Type': 'Correlation Type'\n",
    "    },\n",
    "    title='Correlation Strengths by Subsector and Variable',\n",
    "    hover_data=['Variable']\n",
    ")\n",
    "\n",
    "fig.update_traces(marker=dict(color=df_long['Color']))\n",
    "\n",
    "fig.update_layout(\n",
    "    showlegend=False,\n",
    "    height=800,\n",
    "    bargap=0.2,\n",
    "    bargroupgap=0.1\n",
    ")\n",
    "\n",
    "fig.show()"
   ]
  }
 ],
 "metadata": {
  "kernelspec": {
   "display_name": "Python 3",
   "language": "python",
   "name": "python3"
  },
  "language_info": {
   "codemirror_mode": {
    "name": "ipython",
    "version": 3
   },
   "file_extension": ".py",
   "mimetype": "text/x-python",
   "name": "python",
   "nbconvert_exporter": "python",
   "pygments_lexer": "ipython3",
   "version": "3.11.9"
  }
 },
 "nbformat": 4,
 "nbformat_minor": 2
}
