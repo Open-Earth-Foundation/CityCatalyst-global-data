{
 "cells": [
  {
   "cell_type": "code",
   "execution_count": 45,
   "metadata": {},
   "outputs": [],
   "source": [
    "import pandas as pd\n",
    "import plotly.express as px\n",
    "import numpy as np\n",
    "from scipy.stats import pearsonr, spearmanr\n",
    "import plotly.graph_objects as go\n",
    "\n",
    "import seaborn as sns\n",
    "from ipywidgets import interact, Dropdown\n",
    "from IPython.display import display"
   ]
  },
  {
   "cell_type": "markdown",
   "metadata": {},
   "source": [
    "### Pre-processing"
   ]
  },
  {
   "cell_type": "code",
   "execution_count": 2,
   "metadata": {},
   "outputs": [],
   "source": [
    "# Import data\n",
    "df_c40 = pd.read_excel('./C40_GPC_Database.xlsx', sheet_name='GHG Dashboard Data - Inventory')"
   ]
  },
  {
   "cell_type": "code",
   "execution_count": 3,
   "metadata": {},
   "outputs": [],
   "source": [
    "# select the interested columns\n",
    "df_c40 = df_c40[['City','Country','Region','Boundary','Year_calendar','Population','Area','GDP','I.1.1','I.1.2','I.1.3','I.2.1',\n",
    "                 'I.2.2','I.2.3','I.3.1','I.3.2','I.3.3','I.4.1','I.4.2','I.4.3','I.4.4','I.5.1','I.5.2','I.5.3','I.6.1',\n",
    "                 'I.6.2','I.6.3','I.7.1','I.8.1','II.1.1','II.1.2','II.1.3','II.2.1','II.2.2','II.2.3','II.3.1','II.3.2',\n",
    "                 'II.3.3','II.4.1','II.4.2','II.4.3','II.5.1','II.5.2','II.5.3','III.1.1','III.1.2','III.1.3','III.2.1',\n",
    "                 'III.2.2','III.2.3','III.3.1','III.3.2','III.3.3','III.4.1','III.4.2','III.4.3','IV.1','IV.2','V.1','V.2',\n",
    "                 'V.3','VI.1']]"
   ]
  },
  {
   "cell_type": "code",
   "execution_count": 4,
   "metadata": {},
   "outputs": [],
   "source": [
    "# re-format the data\n",
    "df_c40 = pd.melt(df_c40, id_vars=['City','Country','Region','Boundary','Year_calendar','Population','Area','GDP'], var_name='gpc_refno', value_name='emissions')"
   ]
  },
  {
   "cell_type": "code",
   "execution_count": 5,
   "metadata": {},
   "outputs": [],
   "source": [
    "# standarize the notation keys\n",
    "df_c40 = df_c40.replace({'IE (I.1.1)': 'IE', 'NO; IE': 'NO', 'NE; NE': 'NE', 'IE (II.1.1)': 'IE', 'NO ': 'NO'})"
   ]
  },
  {
   "cell_type": "code",
   "execution_count": 6,
   "metadata": {},
   "outputs": [],
   "source": [
    "def is_non_numeric(value):\n",
    "    try:\n",
    "        float(value)\n",
    "        return False  # Numeric values\n",
    "    except ValueError:\n",
    "        return True   # Non-numeric values"
   ]
  },
  {
   "cell_type": "code",
   "execution_count": 7,
   "metadata": {},
   "outputs": [],
   "source": [
    "df = df_c40.copy()\n",
    "# keeping only numeric values\n",
    "df['emissions'] = pd.to_numeric(df['emissions'], errors='coerce')"
   ]
  },
  {
   "cell_type": "code",
   "execution_count": 8,
   "metadata": {},
   "outputs": [
    {
     "data": {
      "text/plain": [
       "array(['V.2', 'V.3', 'VI.1'], dtype=object)"
      ]
     },
     "execution_count": 8,
     "metadata": {},
     "output_type": "execute_result"
    }
   ],
   "source": [
    "# Filter for negative emissions\n",
    "negative_values_mask = df['emissions'] < 0\n",
    "\n",
    "negative_emissions_df = df[negative_values_mask]\n",
    "\n",
    "negative_emissions_df['gpc_refno'].unique()"
   ]
  },
  {
   "cell_type": "code",
   "execution_count": 9,
   "metadata": {},
   "outputs": [
    {
     "data": {
      "text/html": [
       "<div>\n",
       "<style scoped>\n",
       "    .dataframe tbody tr th:only-of-type {\n",
       "        vertical-align: middle;\n",
       "    }\n",
       "\n",
       "    .dataframe tbody tr th {\n",
       "        vertical-align: top;\n",
       "    }\n",
       "\n",
       "    .dataframe thead th {\n",
       "        text-align: right;\n",
       "    }\n",
       "</style>\n",
       "<table border=\"1\" class=\"dataframe\">\n",
       "  <thead>\n",
       "    <tr style=\"text-align: right;\">\n",
       "      <th></th>\n",
       "      <th>City</th>\n",
       "      <th>Country</th>\n",
       "      <th>Region</th>\n",
       "      <th>Boundary</th>\n",
       "      <th>Year_calendar</th>\n",
       "      <th>Population</th>\n",
       "      <th>Area</th>\n",
       "      <th>GDP</th>\n",
       "      <th>gpc_refno</th>\n",
       "      <th>emissions</th>\n",
       "    </tr>\n",
       "  </thead>\n",
       "  <tbody>\n",
       "    <tr>\n",
       "      <th>17580</th>\n",
       "      <td>Los Angeles</td>\n",
       "      <td>USA</td>\n",
       "      <td>North America</td>\n",
       "      <td>Administrative boundary of a local government</td>\n",
       "      <td>2020</td>\n",
       "      <td>3898474.0</td>\n",
       "      <td>1214.0</td>\n",
       "      <td>710893266000</td>\n",
       "      <td>VI.1</td>\n",
       "      <td>-80311.522782</td>\n",
       "    </tr>\n",
       "    <tr>\n",
       "      <th>17581</th>\n",
       "      <td>Los Angeles</td>\n",
       "      <td>USA</td>\n",
       "      <td>North America</td>\n",
       "      <td>Administrative boundary of a local government</td>\n",
       "      <td>2019</td>\n",
       "      <td>3979576.0</td>\n",
       "      <td>1214.0</td>\n",
       "      <td>659328437000</td>\n",
       "      <td>VI.1</td>\n",
       "      <td>-117026.349625</td>\n",
       "    </tr>\n",
       "    <tr>\n",
       "      <th>17582</th>\n",
       "      <td>Los Angeles</td>\n",
       "      <td>USA</td>\n",
       "      <td>North America</td>\n",
       "      <td>Administrative boundary of a local government</td>\n",
       "      <td>2018</td>\n",
       "      <td>3990456.0</td>\n",
       "      <td>1214.0</td>\n",
       "      <td>703781312000</td>\n",
       "      <td>VI.1</td>\n",
       "      <td>-34941.157948</td>\n",
       "    </tr>\n",
       "  </tbody>\n",
       "</table>\n",
       "</div>"
      ],
      "text/plain": [
       "              City Country         Region  \\\n",
       "17580  Los Angeles     USA  North America   \n",
       "17581  Los Angeles     USA  North America   \n",
       "17582  Los Angeles     USA  North America   \n",
       "\n",
       "                                             Boundary  Year_calendar  \\\n",
       "17580  Administrative boundary of a local government            2020   \n",
       "17581  Administrative boundary of a local government            2019   \n",
       "17582  Administrative boundary of a local government            2018   \n",
       "\n",
       "       Population    Area           GDP gpc_refno      emissions  \n",
       "17580   3898474.0  1214.0  710893266000      VI.1  -80311.522782  \n",
       "17581   3979576.0  1214.0  659328437000      VI.1 -117026.349625  \n",
       "17582   3990456.0  1214.0  703781312000      VI.1  -34941.157948  "
      ]
     },
     "execution_count": 9,
     "metadata": {},
     "output_type": "execute_result"
    }
   ],
   "source": [
    "negative_emissions_df[negative_emissions_df['gpc_refno'] == 'VI.1']"
   ]
  },
  {
   "cell_type": "code",
   "execution_count": 10,
   "metadata": {},
   "outputs": [
    {
     "name": "stderr",
     "output_type": "stream",
     "text": [
      "/var/folders/v8/b0fnjf9d4q31sfz_8q4h4zxm0000gn/T/ipykernel_89184/3103458883.py:6: FutureWarning: Downcasting behavior in `replace` is deprecated and will be removed in a future version. To retain the old behavior, explicitly call `result.infer_objects(copy=False)`. To opt-in to the future behavior, set `pd.set_option('future.no_silent_downcasting', True)`\n",
      "  clean_df['GDP'] = clean_df['GDP'].replace({'$763,955,224,976': 763955224976})\n"
     ]
    }
   ],
   "source": [
    "# drop negative values and NAN values\n",
    "clean_df = df[~negative_values_mask]\n",
    "clean_df = clean_df.dropna(subset=['emissions'])\n",
    "\n",
    "# replace a non-numeric value in the GDP column\n",
    "clean_df['GDP'] = clean_df['GDP'].replace({'$763,955,224,976': 763955224976})"
   ]
  },
  {
   "cell_type": "code",
   "execution_count": 11,
   "metadata": {},
   "outputs": [],
   "source": [
    "# deleting values = 0 in the emissions column\n",
    "clean_df = clean_df[clean_df['emissions'] != 0]"
   ]
  },
  {
   "cell_type": "markdown",
   "metadata": {},
   "source": [
    "### Notation Keys"
   ]
  },
  {
   "cell_type": "code",
   "execution_count": 12,
   "metadata": {},
   "outputs": [
    {
     "data": {
      "text/plain": [
       "17766"
      ]
     },
     "execution_count": 12,
     "metadata": {},
     "output_type": "execute_result"
    }
   ],
   "source": [
    "len(df_c40)"
   ]
  },
  {
   "cell_type": "code",
   "execution_count": 13,
   "metadata": {},
   "outputs": [
    {
     "data": {
      "application/vnd.plotly.v1+json": {
       "config": {
        "plotlyServerURL": "https://plot.ly"
       },
       "data": [
        {
         "alignmentgroup": "True",
         "hovertemplate": "Notation Key=%{x}<br>Count=%{y}<extra></extra>",
         "legendgroup": "",
         "marker": {
          "color": "#636efa",
          "pattern": {
           "shape": ""
          }
         },
         "name": "",
         "offsetgroup": "",
         "orientation": "v",
         "showlegend": false,
         "textposition": "auto",
         "type": "bar",
         "x": [
          "NO",
          "NE",
          "IE",
          "C"
         ],
         "xaxis": "x",
         "y": [
          6037,
          3160,
          1606,
          15
         ],
         "yaxis": "y"
        }
       ],
       "layout": {
        "barmode": "relative",
        "legend": {
         "tracegroupgap": 0
        },
        "margin": {
         "t": 60
        },
        "template": {
         "data": {
          "bar": [
           {
            "error_x": {
             "color": "#2a3f5f"
            },
            "error_y": {
             "color": "#2a3f5f"
            },
            "marker": {
             "line": {
              "color": "white",
              "width": 0.5
             },
             "pattern": {
              "fillmode": "overlay",
              "size": 10,
              "solidity": 0.2
             }
            },
            "type": "bar"
           }
          ],
          "barpolar": [
           {
            "marker": {
             "line": {
              "color": "white",
              "width": 0.5
             },
             "pattern": {
              "fillmode": "overlay",
              "size": 10,
              "solidity": 0.2
             }
            },
            "type": "barpolar"
           }
          ],
          "carpet": [
           {
            "aaxis": {
             "endlinecolor": "#2a3f5f",
             "gridcolor": "#C8D4E3",
             "linecolor": "#C8D4E3",
             "minorgridcolor": "#C8D4E3",
             "startlinecolor": "#2a3f5f"
            },
            "baxis": {
             "endlinecolor": "#2a3f5f",
             "gridcolor": "#C8D4E3",
             "linecolor": "#C8D4E3",
             "minorgridcolor": "#C8D4E3",
             "startlinecolor": "#2a3f5f"
            },
            "type": "carpet"
           }
          ],
          "choropleth": [
           {
            "colorbar": {
             "outlinewidth": 0,
             "ticks": ""
            },
            "type": "choropleth"
           }
          ],
          "contour": [
           {
            "colorbar": {
             "outlinewidth": 0,
             "ticks": ""
            },
            "colorscale": [
             [
              0,
              "#0d0887"
             ],
             [
              0.1111111111111111,
              "#46039f"
             ],
             [
              0.2222222222222222,
              "#7201a8"
             ],
             [
              0.3333333333333333,
              "#9c179e"
             ],
             [
              0.4444444444444444,
              "#bd3786"
             ],
             [
              0.5555555555555556,
              "#d8576b"
             ],
             [
              0.6666666666666666,
              "#ed7953"
             ],
             [
              0.7777777777777778,
              "#fb9f3a"
             ],
             [
              0.8888888888888888,
              "#fdca26"
             ],
             [
              1,
              "#f0f921"
             ]
            ],
            "type": "contour"
           }
          ],
          "contourcarpet": [
           {
            "colorbar": {
             "outlinewidth": 0,
             "ticks": ""
            },
            "type": "contourcarpet"
           }
          ],
          "heatmap": [
           {
            "colorbar": {
             "outlinewidth": 0,
             "ticks": ""
            },
            "colorscale": [
             [
              0,
              "#0d0887"
             ],
             [
              0.1111111111111111,
              "#46039f"
             ],
             [
              0.2222222222222222,
              "#7201a8"
             ],
             [
              0.3333333333333333,
              "#9c179e"
             ],
             [
              0.4444444444444444,
              "#bd3786"
             ],
             [
              0.5555555555555556,
              "#d8576b"
             ],
             [
              0.6666666666666666,
              "#ed7953"
             ],
             [
              0.7777777777777778,
              "#fb9f3a"
             ],
             [
              0.8888888888888888,
              "#fdca26"
             ],
             [
              1,
              "#f0f921"
             ]
            ],
            "type": "heatmap"
           }
          ],
          "heatmapgl": [
           {
            "colorbar": {
             "outlinewidth": 0,
             "ticks": ""
            },
            "colorscale": [
             [
              0,
              "#0d0887"
             ],
             [
              0.1111111111111111,
              "#46039f"
             ],
             [
              0.2222222222222222,
              "#7201a8"
             ],
             [
              0.3333333333333333,
              "#9c179e"
             ],
             [
              0.4444444444444444,
              "#bd3786"
             ],
             [
              0.5555555555555556,
              "#d8576b"
             ],
             [
              0.6666666666666666,
              "#ed7953"
             ],
             [
              0.7777777777777778,
              "#fb9f3a"
             ],
             [
              0.8888888888888888,
              "#fdca26"
             ],
             [
              1,
              "#f0f921"
             ]
            ],
            "type": "heatmapgl"
           }
          ],
          "histogram": [
           {
            "marker": {
             "pattern": {
              "fillmode": "overlay",
              "size": 10,
              "solidity": 0.2
             }
            },
            "type": "histogram"
           }
          ],
          "histogram2d": [
           {
            "colorbar": {
             "outlinewidth": 0,
             "ticks": ""
            },
            "colorscale": [
             [
              0,
              "#0d0887"
             ],
             [
              0.1111111111111111,
              "#46039f"
             ],
             [
              0.2222222222222222,
              "#7201a8"
             ],
             [
              0.3333333333333333,
              "#9c179e"
             ],
             [
              0.4444444444444444,
              "#bd3786"
             ],
             [
              0.5555555555555556,
              "#d8576b"
             ],
             [
              0.6666666666666666,
              "#ed7953"
             ],
             [
              0.7777777777777778,
              "#fb9f3a"
             ],
             [
              0.8888888888888888,
              "#fdca26"
             ],
             [
              1,
              "#f0f921"
             ]
            ],
            "type": "histogram2d"
           }
          ],
          "histogram2dcontour": [
           {
            "colorbar": {
             "outlinewidth": 0,
             "ticks": ""
            },
            "colorscale": [
             [
              0,
              "#0d0887"
             ],
             [
              0.1111111111111111,
              "#46039f"
             ],
             [
              0.2222222222222222,
              "#7201a8"
             ],
             [
              0.3333333333333333,
              "#9c179e"
             ],
             [
              0.4444444444444444,
              "#bd3786"
             ],
             [
              0.5555555555555556,
              "#d8576b"
             ],
             [
              0.6666666666666666,
              "#ed7953"
             ],
             [
              0.7777777777777778,
              "#fb9f3a"
             ],
             [
              0.8888888888888888,
              "#fdca26"
             ],
             [
              1,
              "#f0f921"
             ]
            ],
            "type": "histogram2dcontour"
           }
          ],
          "mesh3d": [
           {
            "colorbar": {
             "outlinewidth": 0,
             "ticks": ""
            },
            "type": "mesh3d"
           }
          ],
          "parcoords": [
           {
            "line": {
             "colorbar": {
              "outlinewidth": 0,
              "ticks": ""
             }
            },
            "type": "parcoords"
           }
          ],
          "pie": [
           {
            "automargin": true,
            "type": "pie"
           }
          ],
          "scatter": [
           {
            "fillpattern": {
             "fillmode": "overlay",
             "size": 10,
             "solidity": 0.2
            },
            "type": "scatter"
           }
          ],
          "scatter3d": [
           {
            "line": {
             "colorbar": {
              "outlinewidth": 0,
              "ticks": ""
             }
            },
            "marker": {
             "colorbar": {
              "outlinewidth": 0,
              "ticks": ""
             }
            },
            "type": "scatter3d"
           }
          ],
          "scattercarpet": [
           {
            "marker": {
             "colorbar": {
              "outlinewidth": 0,
              "ticks": ""
             }
            },
            "type": "scattercarpet"
           }
          ],
          "scattergeo": [
           {
            "marker": {
             "colorbar": {
              "outlinewidth": 0,
              "ticks": ""
             }
            },
            "type": "scattergeo"
           }
          ],
          "scattergl": [
           {
            "marker": {
             "colorbar": {
              "outlinewidth": 0,
              "ticks": ""
             }
            },
            "type": "scattergl"
           }
          ],
          "scattermapbox": [
           {
            "marker": {
             "colorbar": {
              "outlinewidth": 0,
              "ticks": ""
             }
            },
            "type": "scattermapbox"
           }
          ],
          "scatterpolar": [
           {
            "marker": {
             "colorbar": {
              "outlinewidth": 0,
              "ticks": ""
             }
            },
            "type": "scatterpolar"
           }
          ],
          "scatterpolargl": [
           {
            "marker": {
             "colorbar": {
              "outlinewidth": 0,
              "ticks": ""
             }
            },
            "type": "scatterpolargl"
           }
          ],
          "scatterternary": [
           {
            "marker": {
             "colorbar": {
              "outlinewidth": 0,
              "ticks": ""
             }
            },
            "type": "scatterternary"
           }
          ],
          "surface": [
           {
            "colorbar": {
             "outlinewidth": 0,
             "ticks": ""
            },
            "colorscale": [
             [
              0,
              "#0d0887"
             ],
             [
              0.1111111111111111,
              "#46039f"
             ],
             [
              0.2222222222222222,
              "#7201a8"
             ],
             [
              0.3333333333333333,
              "#9c179e"
             ],
             [
              0.4444444444444444,
              "#bd3786"
             ],
             [
              0.5555555555555556,
              "#d8576b"
             ],
             [
              0.6666666666666666,
              "#ed7953"
             ],
             [
              0.7777777777777778,
              "#fb9f3a"
             ],
             [
              0.8888888888888888,
              "#fdca26"
             ],
             [
              1,
              "#f0f921"
             ]
            ],
            "type": "surface"
           }
          ],
          "table": [
           {
            "cells": {
             "fill": {
              "color": "#EBF0F8"
             },
             "line": {
              "color": "white"
             }
            },
            "header": {
             "fill": {
              "color": "#C8D4E3"
             },
             "line": {
              "color": "white"
             }
            },
            "type": "table"
           }
          ]
         },
         "layout": {
          "annotationdefaults": {
           "arrowcolor": "#2a3f5f",
           "arrowhead": 0,
           "arrowwidth": 1
          },
          "autotypenumbers": "strict",
          "coloraxis": {
           "colorbar": {
            "outlinewidth": 0,
            "ticks": ""
           }
          },
          "colorscale": {
           "diverging": [
            [
             0,
             "#8e0152"
            ],
            [
             0.1,
             "#c51b7d"
            ],
            [
             0.2,
             "#de77ae"
            ],
            [
             0.3,
             "#f1b6da"
            ],
            [
             0.4,
             "#fde0ef"
            ],
            [
             0.5,
             "#f7f7f7"
            ],
            [
             0.6,
             "#e6f5d0"
            ],
            [
             0.7,
             "#b8e186"
            ],
            [
             0.8,
             "#7fbc41"
            ],
            [
             0.9,
             "#4d9221"
            ],
            [
             1,
             "#276419"
            ]
           ],
           "sequential": [
            [
             0,
             "#0d0887"
            ],
            [
             0.1111111111111111,
             "#46039f"
            ],
            [
             0.2222222222222222,
             "#7201a8"
            ],
            [
             0.3333333333333333,
             "#9c179e"
            ],
            [
             0.4444444444444444,
             "#bd3786"
            ],
            [
             0.5555555555555556,
             "#d8576b"
            ],
            [
             0.6666666666666666,
             "#ed7953"
            ],
            [
             0.7777777777777778,
             "#fb9f3a"
            ],
            [
             0.8888888888888888,
             "#fdca26"
            ],
            [
             1,
             "#f0f921"
            ]
           ],
           "sequentialminus": [
            [
             0,
             "#0d0887"
            ],
            [
             0.1111111111111111,
             "#46039f"
            ],
            [
             0.2222222222222222,
             "#7201a8"
            ],
            [
             0.3333333333333333,
             "#9c179e"
            ],
            [
             0.4444444444444444,
             "#bd3786"
            ],
            [
             0.5555555555555556,
             "#d8576b"
            ],
            [
             0.6666666666666666,
             "#ed7953"
            ],
            [
             0.7777777777777778,
             "#fb9f3a"
            ],
            [
             0.8888888888888888,
             "#fdca26"
            ],
            [
             1,
             "#f0f921"
            ]
           ]
          },
          "colorway": [
           "#636efa",
           "#EF553B",
           "#00cc96",
           "#ab63fa",
           "#FFA15A",
           "#19d3f3",
           "#FF6692",
           "#B6E880",
           "#FF97FF",
           "#FECB52"
          ],
          "font": {
           "color": "#2a3f5f"
          },
          "geo": {
           "bgcolor": "white",
           "lakecolor": "white",
           "landcolor": "white",
           "showlakes": true,
           "showland": true,
           "subunitcolor": "#C8D4E3"
          },
          "hoverlabel": {
           "align": "left"
          },
          "hovermode": "closest",
          "mapbox": {
           "style": "light"
          },
          "paper_bgcolor": "white",
          "plot_bgcolor": "white",
          "polar": {
           "angularaxis": {
            "gridcolor": "#EBF0F8",
            "linecolor": "#EBF0F8",
            "ticks": ""
           },
           "bgcolor": "white",
           "radialaxis": {
            "gridcolor": "#EBF0F8",
            "linecolor": "#EBF0F8",
            "ticks": ""
           }
          },
          "scene": {
           "xaxis": {
            "backgroundcolor": "white",
            "gridcolor": "#DFE8F3",
            "gridwidth": 2,
            "linecolor": "#EBF0F8",
            "showbackground": true,
            "ticks": "",
            "zerolinecolor": "#EBF0F8"
           },
           "yaxis": {
            "backgroundcolor": "white",
            "gridcolor": "#DFE8F3",
            "gridwidth": 2,
            "linecolor": "#EBF0F8",
            "showbackground": true,
            "ticks": "",
            "zerolinecolor": "#EBF0F8"
           },
           "zaxis": {
            "backgroundcolor": "white",
            "gridcolor": "#DFE8F3",
            "gridwidth": 2,
            "linecolor": "#EBF0F8",
            "showbackground": true,
            "ticks": "",
            "zerolinecolor": "#EBF0F8"
           }
          },
          "shapedefaults": {
           "line": {
            "color": "#2a3f5f"
           }
          },
          "ternary": {
           "aaxis": {
            "gridcolor": "#DFE8F3",
            "linecolor": "#A2B1C6",
            "ticks": ""
           },
           "baxis": {
            "gridcolor": "#DFE8F3",
            "linecolor": "#A2B1C6",
            "ticks": ""
           },
           "bgcolor": "white",
           "caxis": {
            "gridcolor": "#DFE8F3",
            "linecolor": "#A2B1C6",
            "ticks": ""
           }
          },
          "title": {
           "x": 0.05
          },
          "xaxis": {
           "automargin": true,
           "gridcolor": "#EBF0F8",
           "linecolor": "#EBF0F8",
           "ticks": "",
           "title": {
            "standoff": 15
           },
           "zerolinecolor": "#EBF0F8",
           "zerolinewidth": 2
          },
          "yaxis": {
           "automargin": true,
           "gridcolor": "#EBF0F8",
           "linecolor": "#EBF0F8",
           "ticks": "",
           "title": {
            "standoff": 15
           },
           "zerolinecolor": "#EBF0F8",
           "zerolinewidth": 2
          }
         }
        },
        "xaxis": {
         "anchor": "y",
         "domain": [
          0,
          1
         ],
         "title": {
          "text": "Notation Key"
         }
        },
        "yaxis": {
         "anchor": "x",
         "domain": [
          0,
          1
         ],
         "title": {
          "text": "Count"
         }
        }
       }
      }
     },
     "metadata": {},
     "output_type": "display_data"
    }
   ],
   "source": [
    "# Filter for non-numeric emissions and calculate value counts\n",
    "non_numeric_counts = df_c40[df_c40['emissions'].apply(is_non_numeric)]['emissions'].value_counts()\n",
    "\n",
    "non_numeric_counts_df = non_numeric_counts.reset_index()\n",
    "non_numeric_counts_df.columns = ['Notation Key', 'Count'] \n",
    "\n",
    "fig = px.bar(non_numeric_counts_df, \n",
    "             x='Notation Key', \n",
    "             y='Count', \n",
    "             labels={'Notation Key': 'Notation Key', 'Count': 'Count'},\n",
    "             template=\"plotly_white\")\n",
    "\n",
    "fig.show()"
   ]
  },
  {
   "cell_type": "markdown",
   "metadata": {},
   "source": [
    "### Test: Stationary Energy"
   ]
  },
  {
   "cell_type": "code",
   "execution_count": 27,
   "metadata": {},
   "outputs": [],
   "source": [
    "se_df = clean_df[clean_df['gpc_refno'].str.startswith('I.')]"
   ]
  },
  {
   "cell_type": "code",
   "execution_count": 28,
   "metadata": {},
   "outputs": [
    {
     "data": {
      "application/vnd.plotly.v1+json": {
       "config": {
        "plotlyServerURL": "https://plot.ly"
       },
       "data": [
        {
         "alignmentgroup": "True",
         "bingroup": "x",
         "hovertemplate": "Emissions=%{x}<br>count=%{y}<extra></extra>",
         "legendgroup": "",
         "marker": {
          "color": "#636efa",
          "pattern": {
           "shape": ""
          }
         },
         "name": "",
         "nbinsx": 200,
         "offsetgroup": "",
         "orientation": "v",
         "showlegend": false,
         "type": "histogram",
         "x": [
          3241273.14364046,
          215458.52570978,
          6805955.972149024,
          387527.46749851987,
          469713.34512592846,
          541164.0319662847,
          585633.8322097377,
          680592.5657452,
          691675.0614043678,
          182538.12277362662,
          162662.71717325898,
          149772.85218379257,
          149524,
          153876.32973126636,
          177355.97791627466,
          167265.55004372244,
          196603.34703770152,
          193600.2663756548,
          196602.59714271108,
          187601.84290391832,
          193589.7581280054,
          186584.02773590395,
          189583.42088260103,
          185579.11119574952,
          175565.4634254517,
          176569.2305443386,
          224452.93437510415,
          514921.1717483634,
          303848.174065684,
          318549.66456121637,
          382514.7816803721,
          358559,
          384426.13650605414,
          369672.3905152378,
          290732.7712040221,
          461490.9790491016,
          501882.14642565773,
          545253.5342592001,
          481889.0120721661,
          469010.69858880003,
          511993.38204,
          503094.8298168001,
          546202.1082705839,
          974237.273013236,
          2134037.416054,
          996960.9573175388,
          985471.990654618,
          894768.203533969,
          907463.233384754,
          944206.3158387239,
          935861.878861534,
          946852.3970949211,
          1005734.928915842,
          1078136.092565655,
          708889.70373015,
          770260.1982558,
          823975.712391,
          763023.4069613,
          793074.7123475999,
          874464.4531789499,
          861824,
          835785.2789264,
          749790.24168955,
          856023.8442134,
          926279.75110785,
          959391.8965944999,
          956098.2037207,
          943927.08255865,
          936582.9086313499,
          990208.84665735,
          1852856.889230871,
          1821302.578761373,
          1886179.7434728604,
          1864140.4660644694,
          2257682.346818207,
          2192272.199239844,
          2135022.8971578567,
          2414187.0154212825,
          2415129.169596508,
          2489836.0600501588,
          2381776.283341989,
          2393185.409686565,
          2336157.5625433465,
          2564524.329231478,
          2218269.3803696022,
          2371628.0431923317,
          2368182.0833967864,
          2427944.858646309,
          2350464.13494028,
          2397892.8056065463,
          2554290.39193746,
          104393.86821241907,
          103706.99971283958,
          114280.7379195459,
          168863,
          153682,
          633415.9863856948,
          656116.2516180105,
          4153128.196059223,
          5597996.815335655,
          5381834.359050674,
          4004081.9790913453,
          20260.645,
          14415.960000000003,
          14601.887142857144,
          18042.11857142857,
          126702.05340309633,
          189052.24243000106,
          53693.30563365887,
          1943478.3129197,
          1021909.347560756,
          491387,
          838623.463101458,
          424998.0234154051,
          146014.31903118113,
          368739.7676792097,
          682809.3508728484,
          472208.5378670821,
          115180.29237562699,
          118897.4,
          444456.00439946563,
          704399.7790921,
          815970.474997345,
          1120913.0279350502,
          9487230.092261596,
          9208336.446705693,
          8422880.993228467,
          8630497.631625373,
          173596.90372570648,
          186339.74964115422,
          3042952.2719911053,
          155013.68030500002,
          4240871.377097274,
          881978.7550424054,
          574369.1409963078,
          584101.5311988565,
          117883.71805048699,
          113006.63285034162,
          119115.38279988401,
          7802707.532523121,
          7389324.475379011,
          7139582.473550866,
          8332650.543848125,
          2619590.8556365254,
          2618365.46578315,
          2373512.6612634957,
          2385563.340735489,
          2374484.1751591903,
          2286483.5048283255,
          2265753.6161286915,
          2691920.589290272,
          1628125.6323583,
          1453994.7278840176,
          1560792.4767880195,
          1475963.1078198648,
          1519932.0443972778,
          1690972.4176907854,
          247218.7677183814,
          229388.1149751648,
          234570.12746107587,
          226536.92501772582,
          217531.0050816592,
          233292.5040483923,
          36659.906571444684,
          37912.6822,
          37520.33670754412,
          35733.19383023383,
          35636.844224727574,
          43262.17268765054,
          1456548.6526433297,
          1661105.3761007695,
          1825590.5764739271,
          1974692.4294502581,
          19936.5,
          1312029.792454451,
          1323947.9166308413,
          1443633.1923615762,
          1557293.8209339902,
          1812476.8983693235,
          1090843.8009723965,
          1256556.2478940517,
          1196514,
          1268242.6544410216,
          1256215.271838045,
          1213684,
          1241748.4813261065,
          1563444.6659754717,
          415794.8982881461,
          215396.48253777996,
          163819.72680159996,
          252525.7302429,
          12473016.674175525,
          11582416.130255116,
          11181683.530926969,
          29120.133884421375,
          1422209.5962794945,
          1299423.0734002371,
          1437105.1,
          1512901.7666666664,
          1771613.4545990422,
          2081584.3165490679,
          321479.8589190821,
          283007.459287645,
          313329.9204534589,
          312298.13657041907,
          679273.43,
          619775.44,
          703549.66,
          559060.79,
          520187.49,
          602021.98,
          628480.94,
          168472.34063294684,
          168472.34063294684,
          622264.0161799309,
          499197.05335893744,
          632453.4007950816,
          631384.6717946448,
          606677.9991572115,
          615670.6343101653,
          621184.6190226731,
          623618.5464028909,
          2119727.1231884793,
          2292919.043286548,
          421218,
          221959.93733634535,
          219271,
          212391,
          215271,
          219117,
          686234.0635699364,
          673700.2052480001,
          659841.7499739,
          658800.6508296501,
          621344.93046325,
          767434.603626,
          1870969.0820057217,
          1079044.5848756954,
          1082675.9530101297,
          1139783.625265241,
          1133766.5190414237,
          1062112.386485985,
          1014097.2598421265,
          1061101.9837841282,
          1069601.3346900032,
          1050045.1893317862,
          995134.5438896223,
          499000,
          463354.4651998492,
          482260.59788324754,
          511658.22604250006,
          557802.0214692383,
          501167.43451999105,
          572288.708509188,
          6213264,
          6038645,
          6579354,
          19731.707399999996,
          24534.3965,
          28632,
          75526.06259999999,
          41000.2102,
          81221.145,
          77504.2172754954,
          79474.6482516992,
          78262.862568595,
          75363.4221826854,
          68201.2144731846,
          62918.9113592326,
          59966.3508630007,
          56798.2862229378,
          54552.5667644087,
          54553.3755873912,
          54526.9683450785,
          52354.1175189063,
          50024.3544879494,
          49496.0297416471,
          34347.8565077823,
          5368076.165780483,
          5553610.5580120385,
          5010573.360607043,
          5068028.995706723,
          5426448.394232482,
          4974167.921352442,
          5155674.484942208,
          4684201.958600304,
          3913209.8908068324,
          3768443.6652492,
          4237919.128674728,
          4677722.63954744,
          4207619.021108445,
          54780,
          107706.78741610142,
          207142.5932612234,
          487976.4953076,
          483726.55056959996,
          474314,
          512416.5577284,
          459813.5979996,
          429583.6567344,
          466982.6893956,
          507535.56073359994,
          498659.0742444,
          532817.9895158195,
          478220.4061739357,
          540254.8589100963,
          520054.2346714584,
          522630.43003398064,
          296493.94796256954,
          269994.1918694225,
          386883.61919,
          940122.8654304085,
          770239.3008868388,
          585023.61,
          654338.08,
          764684.43,
          624946.41,
          600660.82,
          627187.99,
          640669.15,
          599643.93,
          524413.57,
          545845.74,
          563515.13,
          1354512.6893099998,
          1385754.597064442,
          1412427.3573491038,
          1464659.4401343216,
          1333250.5792096895,
          469601.05767552764,
          94035.37825855274,
          230.10279174272205,
          1974364.755132195,
          1507135.4243909032,
          1463612.496396453,
          1505082.8707359247,
          344341.26437217765,
          295728.61183861183,
          493262.8707862042,
          709768.0165583867,
          692056.397627094,
          941686,
          685281.5020848854,
          943488.104898451,
          934395.8222291442,
          439856.1139400529,
          344143.54345670895,
          389685.3038011745,
          340280.4189991932,
          421305.3326895573,
          440759.6548797094,
          520790.06356354215,
          644448.471555711,
          549476.9092138897,
          596881.7693252662,
          337297.30727869493,
          1684364.380916687,
          2065931.224442167,
          2219267.6807488673,
          2532885.022034631,
          5004991,
          5756960.833290481,
          5744592.279774643,
          6748000.17332639,
          184007.58454707102,
          234607.06866791518,
          213419.0904781759,
          214579.498358624,
          195653.41016860804,
          194372.05536,
          164521.80756648004,
          196127.6299577717,
          3665920.0000000005,
          3346374.7866040003,
          491919.1498,
          415103.1071,
          788058.6399,
          767501.0766700001,
          725009.8812000001,
          755002.964,
          560018.337,
          812029.6096,
          693493.3633,
          407923.7936924069,
          376913.3748750239,
          411681.11718974833,
          398636.0368587836,
          422963.32785062055,
          457207.4806741907,
          447182.8079543966,
          453026.1339092568,
          446672.8696099227,
          490969.8289344651,
          513539.38196509477,
          485105.38269393164,
          529358.032347087,
          541883.2044434826,
          487719.83197792986,
          583351.8491917822,
          1259732.3402002621,
          1130408.9364084876,
          1382503.4175210996,
          1432844.2906053625,
          1663004.054507207,
          1618640.358035631,
          1643488.4327770045,
          1459471.0431770831,
          1526640.908459478,
          1467963.6065626475,
          1305334.5381233075,
          1255243.1819264635,
          1367105.2824989299,
          1254994.2707896829,
          1003074.0010740481,
          902468.8014183622,
          821021.6474984986,
          658684.116808392,
          559974.8914976136,
          613543.5652107974,
          799037.9324327789,
          3609284.1228696653,
          3640463.4720360693,
          4050121.957355,
          4082754,
          4652332,
          3854173.4918773794,
          3932549.456999463,
          2479359.8691997635,
          2557333.9077971,
          3413887.548663143,
          4781158.2544732755,
          372522.57045600004,
          442563.1652152233,
          389268.26683362474,
          423356.77251277125,
          159114.69485016927,
          121435.8571,
          110306.49252051473,
          10566170.684842648,
          4745936.65934954,
          2930927.77567154,
          3616476.5673375214,
          55900.67296084879,
          952751.4773735119,
          6387916.2963864,
          121864.21101519503,
          125562.8,
          7500842.46918,
          3631691.807047504,
          4049204.2510988964,
          4301936.267598271,
          5719360.278198792,
          5671367.1439100765,
          5711916.249270737,
          6652673.105639783,
          4324161.734435636,
          4217735.712856904,
          3218994.5983342226,
          2603060.6728999997,
          1693365.2158215381,
          961679.9246324196,
          1227806.8822952078,
          1106292.1045949808,
          132662.26867679998,
          171075.0030654,
          222351.76852349998,
          2657933.330035139,
          2926718.0327255283,
          4562807.92308124,
          5836566.418833081,
          2420104.280370104,
          2404805.8275991343,
          2726243.6835057917,
          2822873.82350171,
          3041357.5015548686,
          4236308.758400717,
          4274433.824999728,
          4296194.372710984,
          1153421.1430419728,
          1239143.959275832,
          1091474.497676515,
          1373530.335509476,
          1170524.9523154572,
          1115983.25001044,
          303368.66307510005,
          229800.73585712005,
          183332.81120336003,
          155210.48558807,
          290903.68938246,
          277469.48200992506,
          262375.98991234833,
          276302.93766,
          256111.60161790616,
          246103.70522316833,
          264951.24844356003,
          288605.99992000003,
          1315703.5651679647,
          1353481.3047701265,
          1744238.9743629459,
          2024295.6656560001,
          643287,
          479842.6469087279,
          488313.45126102003,
          535287.8290739204,
          546247.8876595629,
          552176.0007994582,
          21509.23051755,
          18596.500542437756,
          19860,
          22293.784700000007,
          24168.185999999994,
          21986,
          33522.5,
          7148506.9,
          81323.9063326471,
          400228.2173500862,
          535910.2674916084,
          502007.6555673365,
          4948626.631340792,
          4022670.811717062,
          4869245.1797,
          201885,
          588535.5315443065,
          628300.7866959999,
          736265.621,
          780120.0000000005,
          713195,
          1192714.9997219704,
          3135522.596558735,
          3472606.852982868,
          3627624.440452177,
          3780959.585691,
          647473.6,
          604201.86,
          659897.27,
          630589.28,
          917532.37,
          991710.41,
          738904.2,
          1280770.8332502001,
          969393.3043200001,
          105692.955303342,
          397912.2242780557,
          562841.8673243399,
          482001.31169860007,
          746317.851390277,
          833953.2273031329,
          552700.945824,
          373297.3868316,
          893316.071518,
          1118489.8643423226,
          324888,
          128627.11657199998,
          158966,
          146473,
          222022,
          244415,
          19396.039385314343,
          98073.93150801779,
          102235.11110803956,
          173124.02169630947,
          236796.83811436687,
          283079.6033520357,
          2238207.1565786395,
          569717.1968,
          341831.2892,
          790394.2038,
          1142787.552,
          1537974.593,
          1328163.5664,
          892388.4299,
          1025833.7736000001,
          823261.396,
          842380.4249999999,
          35335,
          34137.77450767312,
          21918.90953788106,
          30803.287288829095,
          48715.676740171715,
          61725.664841380836,
          133110.691037367,
          6914074,
          6572392,
          6933453,
          276658.43,
          358690.42699999997,
          391160,
          447930.6389999999,
          477289.39199999993,
          613044.8109500001,
          333905.766747839,
          339920.354226999,
          348833.1060228,
          342490.612808399,
          345461.011782599,
          328408.038131999,
          349688.2399648,
          365413.537155599,
          388580.519079,
          385693.4038657,
          391807.760367349,
          385199.30118175,
          387052.177616899,
          380334.80343975,
          1561116.4752733703,
          15566206.020335777,
          11986262.676278032,
          11685211.92900953,
          11254397.955119058,
          11313407.0974016,
          11068734.484250855,
          10540621.650840513,
          143228.3128524082,
          76030.94086741959,
          181224.60570076032,
          194056.604594357,
          200402.44105401656,
          383820.6691613562,
          3120757.4271072596,
          3063083.1171467574,
          2968881.3216133644,
          19832.495137066668,
          18673.517973333335,
          18672,
          19355.018442666667,
          18552.821287466668,
          17140.619254,
          17699.568710000003,
          25346.256768,
          45613.20402125,
          46437.66375000001,
          44898.334824095,
          46307.159462262505,
          51050.65745209062,
          40651.82431888,
          92807.853165527,
          95049.65773106868,
          152484.7869730518,
          4192415.8726783134,
          3862571.0021407995,
          734319.04,
          727313.06,
          843958.83,
          648697.22,
          747182.95,
          852085.12,
          692733.25,
          715901.89,
          703795.65,
          842219.43,
          953792.68,
          2921867.65,
          3040096.158204605,
          2982841.4401198113,
          2985640.483464736,
          2952512.8210608885,
          308000.90180062247,
          219891.05841863275,
          203734.85949838624,
          218688.54111792982,
          52986.1555551072,
          78014.05893623212,
          74340.49896990933,
          96557,
          73612.74164145504,
          87646.43597417303,
          86801.79769341777,
          31789.393182975324,
          25674.47974930305,
          29014.592117559958,
          25273.22306086527,
          30241.35101075165,
          31448.2566211433,
          38175.30855130126,
          48510.39037322616,
          40846.07168571893,
          45502.732478964965,
          44698.03074204581,
          282222.32964939764,
          229962.67821534502,
          259308.7350825464,
          241598.2299491362,
          282179.11537121254,
          262098.70733510744,
          249052.09995290733,
          215428.67897266315,
          219246.82796862334,
          212514.0331726066,
          192367.00981775392,
          186093.2766491325,
          198437.07653927972,
          189086.2749587395,
          151631.33887694447,
          137918.14643857043,
          129506.01739737894,
          108532.59361696427,
          92327.3437011593,
          90104.81033863765,
          113347.5997693522,
          407754.675509497,
          407992.30430996814,
          40704.743290000006,
          164960,
          228377,
          52746.27900765323,
          48114.14793281936,
          48721.384733215884,
          751698.0066550021,
          359257.96472670295,
          280620.74447919,
          142912.7216060268,
          312035.046717888,
          406878.8891292386,
          396864.8091540245,
          264393.57797229604,
          14252.376124800001,
          14268.2605758,
          17874.898310499997,
          235212.01559534812,
          251697.248675246,
          426611.3790865866,
          499045.55736139003,
          295252.72220515274,
          293386.31096709444,
          328512.3638624479,
          347213.4802907103,
          383211.04519591347,
          546483.8298336924,
          609106.8200624612,
          487618.0613026967,
          109156.68389553596,
          138264.84432671848,
          155220.425073799,
          172110.311429741,
          146672.70818199284,
          139838.35649208806,
          25543.641430923424,
          17395.915704383988,
          13218.295687762256,
          10864.733991164901,
          22050.49965519047,
          1942.2863740694754,
          29450.366214651345,
          27088.5233,
          23935.663702608053,
          22787.380113256328,
          33450.41123361173,
          36785.925578988645,
          192281.79744105536,
          216626.44340432304,
          272638.0721146524,
          402917.143332,
          29491.464191277897,
          30588.92900259021,
          34401.62550795014,
          35453.79203948002,
          36972.20698537326,
          11119,
          248105.19440031153,
          334522.2554188,
          342399.766,
          327450.1354947279,
          409216.2266658539,
          64097.43412625974,
          125283.70217144235,
          138752.3225650164,
          136307.66738504232,
          141213.2502550452,
          72050.25346954631,
          66909.50295418242,
          108146.37383149812,
          122165.24623133497,
          74347.79341407528,
          53462.6411166388,
          18998.225113200002,
          22684,
          20741,
          33148,
          35587,
          4891.537010871753,
          9943.729202588182,
          10809.037361170458,
          13020.448295274344,
          25950.258951160482,
          26539.097051081186,
          1665,
          1608.586233345854,
          1251.1851110418365,
          17393.29,
          18405.268,
          20332,
          22138.559999999998,
          19750.944,
          31087.049449999995,
          482914.3064569469,
          446960.53621001286,
          485335.2560745682,
          473677.7803615612,
          578.8744263533564,
          524.1974799426013,
          786.6958961795273,
          568.619726679225,
          1718.675517828375,
          584.2397723413468,
          85308.07174721877,
          288218.60285358055,
          393459.80845878145,
          38918.91,
          35492.88,
          41185.19,
          29126.51,
          33354.63,
          42348.58,
          34428.84,
          65648,
          64538.06,
          49017,
          61719.92,
          1486026.1635862074,
          21044.623956219486,
          408947.1511074045,
          242134.96702549973,
          318573.01359216747,
          358344.47730970447,
          363632.93313087476,
          475161.7667384249,
          409640.527691344,
          87071.64519629242,
          99375.4055466881,
          104953.18531993264,
          49237,
          59384.119997836155,
          64629.90409898413,
          15448.88438591643,
          411311.55496988515,
          364278.8382302964,
          382288.9021962015,
          358270.4558239468,
          360288.9682124686,
          344278.2439140395,
          328271.55435101653,
          328267.8361501798,
          317247.39714406186,
          325253.67023804295,
          325290.38154828514,
          217680.5525896129,
          159336.586775914,
          165927.05701229002,
          165006.23034316476,
          24250,
          19588.07641331394,
          15069.87191679972,
          8523.4931793683,
          260132.91974102295,
          314662.52962791396,
          320606.2950228,
          289890.5670233425,
          300345.2831304001,
          303524.76708,
          289964.8608804,
          224263.9940758725,
          264846.2742858408,
          2021835.789786,
          460361.1950390614,
          418485.1472889804,
          399836.799489114,
          369991.98791856697,
          443150.327668544,
          436123.05720814003,
          423801.46325975703,
          370295.120493099,
          370794.787170122,
          1078166.4537492925,
          1484275.5231759269,
          1492958.0946796215,
          1329223.831492811,
          1378557.2802854835,
          1581398.995617033,
          1472540,
          1372472.1291001134,
          1245736.6532902014,
          1446311.9411705981,
          1570583.8443055644,
          1375839.668448096,
          1392367.8810520943,
          1413346.2374801375,
          1361243.1176499685,
          1500661.2305058073,
          413039.8694751585,
          601618.1271597662,
          484930.4251013465,
          608043.8310484509,
          731508.1583422826,
          728348.879080729,
          784372.4423100698,
          796037.779491678,
          783907.1532874512,
          719796.6551032148,
          760222.0421077384,
          699503.0070150971,
          825503.9850085778,
          890284.0442587452,
          739650.8991984192,
          747982.4766933847,
          827781.0347600209,
          793896.2841117274,
          718131.2194946428,
          773779.5716212379,
          844842.3019409473,
          13510.92661440147,
          30594.51906583848,
          97768.99336013444,
          105879,
          69968,
          227446.40852526316,
          157048.69722105266,
          4695860.539331068,
          2886544.854462632,
          2668657.331443467,
          5882590.041165838,
          2656,
          7327,
          7598,
          9077.599999999999,
          17918.847021214176,
          125467.07659857828,
          27789.53846950762,
          404561.20420841617,
          182653.45668956524,
          73586.76669675905,
          5197.12794381821,
          14811.082611392472,
          221495.6856467576,
          329204.32143346296,
          61013.28034701607,
          128948.8,
          852353.7611895046,
          381356.09870705,
          449325.297425255,
          548930.56890365,
          2637306.065887664,
          2361975.7750275834,
          2515910.9212411554,
          1495840.2844963989,
          145755.8224288285,
          251609.23309115728,
          117953.60414389502,
          87398.15671500002,
          1880966.73011265,
          138322.93299611,
          71742.43106265963,
          1448.8024401492662,
          86959.18276720821,
          105878.47895608033,
          113260.3118307623,
          4254546.755544355,
          1530822.9970367895,
          4240806.368964472,
          5371230.740684334,
          1461015.1754797944,
          1638581.6637844478,
          1568240.14625954,
          1449883.1829628195,
          1422784.9550785443,
          1388843.8495084082,
          1378128.2344603871,
          1451993.5687419951,
          693150.92097804,
          618390.0126737441,
          663200.9424849245,
          622476.4344974902,
          640254.0548107423,
          712706.4906210088,
          50555.5615591199,
          78499.70601950487,
          73633.00010284861,
          65082.61161200702,
          64147.55245966721,
          66836.39914214211,
          138824.9069555944,
          170602.38066999998,
          165522.75307739468,
          147148.4168668258,
          131662.22984191988,
          112602.27730931039,
          626519.7122923317,
          588400.1694502698,
          577481.2124993044,
          341201.14,
          142853.03717502544,
          519738.48535911494,
          530834.8171536605,
          583003.7698474199,
          632240.162091789,
          750029.8766488216,
          1956196.9641771514,
          1692218.0153895183,
          1693309,
          1655131,
          1752053.9926287797,
          1740318,
          1662628.756880929,
          278370.3124087926,
          124569.53821912326,
          219108.43262188,
          310252.3214024,
          286587.68331045,
          6726920.564391036,
          6585680.7823882755,
          6666816.672247659,
          10198.22699586119,
          1101057.8344596135,
          1120121.5762702022,
          1248509.26,
          1340493.3999999994,
          1521354.1104000085,
          1286318.1013427712,
          349167.04222964036,
          443139.38831908896,
          366965.68786976073,
          338887.3431172492,
          673599.57,
          635209.01,
          629631.05,
          518768.91,
          493778.03,
          474933.74,
          474254.19,
          1029152.1302997576,
          1022829.5050764965,
          8142.6286336948,
          239314.24052484546,
          240781.15936119505,
          249882.15224524637,
          247099.72961019678,
          262763.0150375486,
          273856.5539489653,
          227595.29580020634,
          462952,
          67518.86828083471,
          72217,
          78757,
          83644,
          87135,
          545145.3508075707,
          670015.6555855676,
          606426.4769955975,
          617870.733129799,
          599150.8954688968,
          684387.223428881,
          770038.2910954086,
          489816.0446147551,
          491439.5986272648,
          514644.69027235656,
          560539.0993925371,
          557107.865763159,
          409905.2170379339,
          343853.11718143284,
          346152.53537131246,
          345868.6724210825,
          328048.1581494345,
          733000,
          664981.5500531653,
          667098.9515696795,
          646606.9431406402,
          647172.5003202921,
          591600.7445322871,
          529524.2623756138,
          4270635,
          4777375,
          4353103,
          14724.8406,
          18354.644500000002,
          21460,
          56860.8974,
          31178.083300000006,
          61503.056500000006,
          96589.1749673073,
          103914.751290997,
          103226.338279492,
          108368.979675188,
          111975.405610734,
          108674.570657005,
          108997.937005057,
          110229.696630764,
          109530.7379831,
          109528.910433999,
          109267.940682412,
          109018.032067438,
          108460.554271972,
          107595.933713246,
          33376.58035974737,
          3624978.0048381323,
          3522362.7737521846,
          3433956.9055275293,
          3944281.0142701115,
          3485229.967589502,
          3887819.1835013498,
          3366382.24382759,
          2442015.730751576,
          2501094.509700864,
          2380663.671160208,
          2624691.736801792,
          2787068.256288848,
          2538630.171705625,
          895.02644980539,
          1391.9252191244695,
          348.14747896839805,
          871945.4742804,
          900460.1771412,
          883902,
          941821.9669560001,
          856410.2717196,
          486454.1017476,
          522081.42295680003,
          550011.0341775999,
          535852.1858324,
          567097.5176823133,
          526863.4039537903,
          554880.1381980224,
          552330.6258031887,
          536770.9527233011,
          179796.51129435166,
          226659.3059863347,
          214734.38678000003,
          300039.21237140696,
          166051.176719488,
          849626.39,
          957000.51,
          1009151.19,
          920231.47,
          791266.16,
          1020210.83,
          996851.58,
          1011537.44,
          902122.66,
          1045291.63,
          1386565.53,
          882795.46328,
          897413.8985711096,
          907769.7488182276,
          882026.4887703332,
          873691.7803858304,
          514381.07064279995,
          49137.80988170274,
          132.40403383520547,
          1571571.1852648326,
          1199662.1187183005,
          1116913.0408047568,
          1038791.1200230841,
          1177577.0135703264,
          918739.7179658785,
          572694.9795060247,
          938634.5611900147,
          973114.4979695437,
          1010722,
          953689.8384021516,
          1357512.2143821295,
          1509101.0205240806,
          126818.3154188333,
          103372.4611011212,
          116860.51895369458,
          102385.75683071594,
          128897.79516236666,
          132227.8964639128,
          156237.01906906266,
          220055.57565316965,
          137369.22730347243,
          145904.4325017318,
          91990.17471237136,
          2015421.4340889808,
          2428878.5473974096,
          2400421.5873765424,
          2752338.6508646877,
          9322974,
          9908917.59030723,
          11202170.411138149,
          9860302.9163583,
          287449.81071798055,
          447394.34060987283,
          406886.7886659345,
          416435.07710906444,
          386726.8563726974,
          387058.2306479999,
          335107.96965828,
          375312.7368573788,
          4261104.5344,
          4220389.046372,
          440671.31940000004,
          372436.5062,
          694359.4097999999,
          784753.1587900001,
          777407.4181,
          796251.712,
          526233.729,
          696311.7084,
          601142.2654,
          1515325.0605630982,
          1665655.104730289,
          1734283.9564657144,
          1814542.0073248183,
          1918244.2833258412,
          2090178.5941833274,
          1959332.3570275838,
          1920851.019574417,
          2018255.3703631125,
          2280738.335262775,
          2394023.835527165,
          2390712.1591969673,
          2643085.6982265543,
          2704314.6774845286,
          2412447.606142573,
          2817642.415123436,
          1289379.388899008,
          1477533.0496538798,
          1809509.9999925224,
          1949392.405393729,
          2069370.2724501016,
          2170720.2306173304,
          2074398.5881004035,
          2082856.7569236355,
          2213885.301350403,
          2116217.280862928,
          1917447.579607448,
          1855138.1774164182,
          1954237.2755988366,
          1742064.6781059548,
          1498819.789756583,
          1348336.5530326043,
          1243586.1121235467,
          925705.4303027728,
          784663.1417424232,
          892036.1570201295,
          1182643.7484585731,
          4984798.000490055,
          5169131.200554504,
          5615715.769765,
          5453294,
          5652332,
          3559741.099016847,
          3533807.03711301,
          6004003.124077347,
          5767078.127411716,
          5877325.542629949,
          6409021.876019781,
          457487.944848,
          497212.6799809017,
          429713.69753480825,
          577454.5522021113,
          167166.33699184415,
          156383.3589,
          155751.60508426762,
          4253290.9745196225,
          1678537.5077361402,
          22500437,
          21737670.875812225,
          1874277.75525955,
          5433587.526204854,
          42513.258185852384,
          474660,
          1310362.7123172001,
          330392.7243815477,
          254208.3,
          3670867.697172,
          7271706.694000769,
          8834816.871298883,
          9276576.420566786,
          7175661.074234408,
          6722410.65254092,
          8375993.741968995,
          7939815.571449463,
          1744786.1265477974,
          1814128.6462773932,
          784261.1857855736,
          4635178.24881,
          989250.3387562624,
          613442.0901635567,
          1226096.631589315,
          1104379.8115396309,
          317742.9085554,
          479293.4333686,
          589816.8288953999,
          4719182.386320954,
          2334424.83482992,
          8675718.924754234,
          11130687.466505319,
          3239808.0539155286,
          3898905.206668225,
          4334563.18739303,
          4529473.015151221,
          4896819.676142491,
          6879919.840010676,
          7070201.231807221,
          6488765.495379877,
          1855995.898390222,
          1851679.7324002536,
          1591917.6558794547,
          2049728.0585761827,
          1769274.0884298873,
          1686344.257237469,
          236147.94328300003,
          183059.61966240001,
          149505.58666160004,
          132524.2981733,
          257015.65143660002,
          233431.22695900002,
          2095112.2275019279,
          2714112.4838400004,
          2876671.625312877,
          2987647.807373585,
          2680347.1747797206,
          2804047.1376248677,
          1767120.6642267564,
          1714716.205655428,
          1679589.8765241164,
          2077054.7976772,
          1019935,
          1064029.8788771427,
          1263763.3449819614,
          1449064.172994662,
          1506292.06120955,
          1560806.51247108,
          19765.56666332904,
          24265.707330007685,
          17834,
          21394,
          16320.51,
          14557,
          22784.999999999996,
          5906131.717031639,
          180362.9717422339,
          483685.19190329313,
          557947.3754789077,
          522258.50440479454,
          7968472.663224619,
          6291360.040587341,
          6818475.40979999,
          206074,
          821649.0900789851,
          909050.10210691,
          923564.311,
          1050890.0000000007,
          921950,
          2987116.5090471786,
          3482573.9358367696,
          4297024.167725451,
          4082218.8051469685,
          4514710.533372335,
          1153875.23,
          1050753.94,
          1085702.13,
          1060517.76,
          1510531.75,
          1534919.73,
          1110586.65,
          1921165.4141088002,
          1438136.69888,
          96090.18710198399,
          445191.2799652423,
          817488.3043692745,
          742089.7250613564,
          1153125.5489515378,
          1253007.5525204372,
          858439.7283586658,
          562378.122215681,
          1471540.8715537898,
          1856532.8867145001,
          870682,
          128267.48059996801,
          159110,
          154668,
          234086,
          248237,
          177525.98170209985,
          284307.6690796415,
          350448.487067695,
          485843.82327886304,
          736871.0704868637,
          791168.201608239,
          2589207.8448268874,
          581678.20160512,
          346928.825034,
          810633.5001407199,
          1243469.6262240002,
          1923595.6275641,
          1706507.9017929598,
          1042922.3294393399,
          1170781.5828911401,
          920079.8226168425,
          955146.6743300001,
          132940,
          146368.18460611146,
          116755.51213052892,
          135277.3782502562,
          171754.76772378653,
          191885.06984166865,
          228917.52306933101,
          14961517,
          14454726,
          14418634,
          197928.57,
          258963.67299999998,
          282210,
          322892.676,
          320159.98299999995,
          414504.66404999996,
          2196892.16397963,
          2422697.8105492,
          2598505.93295999,
          2669777.66465759,
          2766482.27097419,
          2830533.71734409,
          2982940.40052448,
          3104953.49480969,
          3238649.3954502,
          3257594.62941326,
          3299828.3005687,
          3385780.77043363,
          3350783.97518802,
          3321563.97909881,
          2327583.5593690355,
          22718807.795074403,
          23494182.724440005,
          23076456.35852278,
          21615819.67280134,
          21331948.775959864,
          21346128.057278708,
          19781909.735217392,
          493152.97156002413,
          276278.04592347704,
          608547.1981176643,
          681910.3436315814,
          704979.0346960926,
          1299660.1704094454,
          1705417.6844046335,
          1142494.7015117547,
          1149219.2871631451,
          37986.544621333334,
          39982.09448,
          36865,
          36066.52477333334,
          35076.40267626667,
          32584.207834999997,
          32645.02995999985,
          44429.33583679989,
          78651.75832814991,
          79188.82335239994,
          71842.17264204993,
          71115.2145695,
          77623.41240460542,
          70114.68275801999,
          234748.36593809098,
          241349.4597066866,
          335583.91833998024,
          2348140.1641319897,
          1346634.8946389998,
          2102190.19,
          2455849.62,
          2730604.6,
          3193439.94,
          3238731.65,
          3202486.76,
          3208307.16,
          3428046.48,
          3450280.28,
          4185169.17,
          4836428.23,
          2522579.8615992,
          2710611.8747291192,
          2809557.722097889,
          3057656.774104715,
          3266810.32749551,
          245165.1049013138,
          175030.70312100006,
          155474.29528002214,
          150936.34973935413,
          61518.72980297277,
          103169.89532908659,
          104531.67918388233,
          103635,
          102445.0878460783,
          126107.69204642734,
          140189.71228912225,
          9165.445617066758,
          7711.99753602297,
          8701.02171935593,
          7604.369590964706,
          9252.300328439955,
          9434.476986342988,
          11452.592565390378,
          16564.52354207723,
          10211.517921429733,
          11122.89016152477,
          31292.68829987487,
          288139.8447362367,
          294817.8857692919,
          332450.9507906289,
          319363.879801352,
          343799.44479601923,
          346501.6859218818,
          309033.9319640767,
          302719.1224089931,
          311136.31074748165,
          301060.58843856154,
          278258.31753413763,
          272124.86745118647,
          283367.2981396043,
          261132.53341233672,
          225807.40432324237,
          206483.1875281458,
          196446.5626239136,
          151621.5092054668,
          128855.55367281217,
          129947.47152142768,
          168135.45021551283,
          563183.3741788106,
          579305.8023936097,
          56439.354470000006,
          220335,
          228377,
          37196.3795327681,
          34569.929405919065,
          43996.4995568751,
          303162.5467446083,
          133574.02279455127,
          178933.71950955,
          71199,
          152708.09620235517,
          164174.39599551176,
          170699.13052898605,
          154456.6016417092,
          34136.2430244,
          39974.7682422,
          47415.4800222,
          417620.8592237119,
          200760.13527639996,
          811158.4965771751,
          951710.2576977363,
          555704.7078205125,
          542293.1498543182,
          662226.8826638685,
          641086.3235335109,
          854259.1692359577,
          1234425.494456187,
          1347391.376424203,
          1200969.8922580723,
          175646.47467592015,
          206612.1599728273,
          226389.2887594779,
          256841.3127744796,
          221699.00910946296,
          211307.48101259817,
          19883.656824428603,
          13857.613208443683,
          10779.35279830136,
          9276.700872131001,
          19481.78637889428,
          1634.0185887130003,
          235165.65818899192,
          266089.45920000004,
          268847.8154498016,
          276634.0562382949,
          321076.45873903856,
          334025.1609324825,
          258253.56608300665,
          274442.5591766694,
          262532.9169966919,
          413419.04779120005,
          77801.55065746594,
          93329.81282577229,
          107633.17882063745,
          112124.91396455905,
          116843.32029169034,
          12539,
          237917.8251974681,
          307209.0068344,
          328528.619,
          294228.6652072802,
          385356.40666634945,
          160529.97045459022,
          139150.5697475297,
          171692.94096098887,
          153389.01041684978,
          168617.76327653634,
          103563.348357727,
          102161.38437432704,
          165840.92964406993,
          182316.57811524253,
          114814.44636232068,
          79944.48522151445,
          18945.106884599998,
          22705,
          21901,
          34949,
          36143,
          16234.216577083247,
          19666.7294727945,
          27627.74726666514,
          29963.16499303445,
          66653.79321602857,
          64480.793143729476,
          3060,
          3016.517347650073,
          2317.427181153303,
          12202.11,
          12965.532,
          14711,
          15182.139,
          13703.928,
          21816.03495,
          895151.923545093,
          813152.4331899451,
          901646.4327880394,
          854315.3429517372,
          2032.9863822489817,
          1943.9933362789213,
          2694.370716705758,
          2039.0439038155855,
          6164.345567135471,
          2017.1258545260732,
          46618.7768765553,
          107502.217224868,
          136907.12818039392,
          125248,
          125246.72,
          133253.5,
          143385.45,
          140781.96,
          151899.98,
          151475.34,
          314352,
          316390.7,
          243576.85,
          312965.27,
          1360516.2919316327,
          43929.96458155321,
          180823.03782840545,
          266990.1198993531,
          265085.92179011565,
          255742.91037949367,
          233909.2393269785,
          366712.03658622,
          352062.49151850544,
          7552.529958855301,
          7432.235546917304,
          4129.4202012,
          4549,
          4548.7231606126825,
          5909.714237096258,
          4548.7231606126825,
          1471767.6288256536,
          1349775.021074628,
          1442776.8240433703,
          1453771.5727024055,
          1384754.3958752684,
          1388757.8867537386,
          1230751.4019854085,
          1113762.2352732313,
          1070819.9798927726,
          1183808.597410812,
          882137.9723774472,
          157302.82651848398,
          147599.106849034,
          157894.80294564602,
          183398.5549232891,
          4113521,
          3263346.4058354446,
          3785107.270451887,
          3934608.0263850773,
          217862.53824643305,
          229828.36256099286,
          226577.010996,
          200193.21599833804,
          232651.243836,
          253126.8936,
          247044.53469600002,
          442464.18480000005,
          594720.123570435,
          273382.5590775,
          1370369.096052206,
          1460555.8294917287,
          1574015.9095473157,
          1710240.7180821216,
          1693081.382238962,
          1602979.1632891407,
          1574371.2181703818,
          1559607.307792767,
          1491521.142155931,
          617753.2550334503,
          670928.1679986577,
          977674.136559595,
          1288080.1492230627,
          742126.4517911744,
          530369.2108729426,
          662528.7611266945,
          849862.2450690524,
          1573436.9850875195,
          1891693.5785452565,
          1250773.022250176,
          378968.0315451034,
          459816.9180676754,
          545023.7142399575,
          518786.7115430988,
          407914.37667098857,
          468293.2446083954,
          453400.9280754453,
          404287.64228698175,
          464261.61210896185,
          592143.9275226082,
          923677.1815961184,
          379456.99758546683,
          798514.7673242623,
          724175,
          663784,
          323543.66494917206,
          276712.22982586914,
          1144286.0822448512,
          1142720.2696816863,
          1311331.4927281938,
          141.35284836366353,
          8221.8,
          8424.000000000002,
          9622,
          10672,
          118057.90656486995,
          933326.6461979083,
          391404.93417137256,
          449287.9445343048,
          985591.0906573869,
          7558680,
          7712405.072600152,
          2428287.2598071224,
          131598.69896376017,
          4494.399683245298,
          1968191.1757489587,
          11052.721547999998,
          11295.693116567472,
          7658,
          2388573.9437212823,
          1059857.5216082502,
          1183160.15575637,
          1165759.48686095,
          1237900.228526444,
          1116852.6479370915,
          1278511.92424559,
          3337449.173238536,
          230503.32651314168,
          256539.11525114955,
          916586.856290879,
          1438746.13793,
          4588416.359152531,
          3632726.387721197,
          1854829.090976059,
          1550846.968678298,
          70868.27280451007,
          81733.87887344613,
          78115.20384879601,
          231772.98549759586,
          2291185.8156912085,
          2348663.5841217847,
          2871022.0291684726,
          6698052.592518495,
          6206324.184963379,
          6280875.487288831,
          6639039.3791080145,
          3966209.05364019,
          455216.11108319025,
          404554.87756389345,
          413516.9368689006,
          339568.22507728665,
          328089.84324736474,
          323384.91365221376,
          253500.6832008684,
          166274.03546389507,
          161898.8644870248,
          196855.84346860216,
          218861.74066848386,
          183531.15710804964,
          106459.40755079406,
          134999.17001,
          133080.76841263924,
          127669.23013348896,
          149987.37972475518,
          120654.11276590444,
          3230691.2206271393,
          1287463.7405012688,
          988612.4969438484,
          1259693.4803487947,
          4127.8,
          138426.08882624368,
          113026.82755394111,
          116152.66175354201,
          114838.51188899222,
          148470.3846635585,
          1394333.1452185747,
          1512097.09,
          1273808,
          1122226.844888979,
          1091920.68261272,
          1234341.69,
          991554.0393583499,
          68887.75577058653,
          390278.07992043626,
          155670.08035583998,
          66884.40485034998,
          76478.01945455,
          1574821.8984741361,
          1657170.188884099,
          1546293.302539127,
          250273.56908999998,
          579838.5977968001,
          72459.145960023,
          8302.956095988922,
          73622.04954963467,
          86522.35157836006,
          607953.61,
          613717.36,
          693471.61,
          724535.2,
          694045.78,
          693426.67,
          686734.75,
          679434.9174993038,
          915399.5760055961,
          378027.68505097146,
          458354.79219736456,
          4176987.548542028,
          4350597.9261918515,
          4602769.655041011,
          4774273.5583461,
          4879448.3563457085,
          4419678.825064143,
          336276.54592403985,
          31059.15933439154,
          3559603,
          44367.444195734075,
          57724,
          72243,
          59966,
          69456,
          1731393.1045583123,
          906208.6987185299,
          874396.7506680967,
          952287.0265931678,
          871622.097021858,
          808525.5381253082,
          725950.145613653,
          673627.884816973,
          653131.5797094041,
          613612.4718785203,
          553692.6936467814,
          705384.6437318423,
          711174.1293369081,
          649024.2441378152,
          616131.6395284319,
          848411.6668156331,
          808317.1027421238,
          668187.404289369,
          395033,
          553141,
          349353,
          13786.631,
          13860.859,
          13919,
          13739.05,
          14918.470000000001,
          13902.848499999998,
          2096029.4094164956,
          2130912.1140524563,
          2303450.0548702497,
          1796017.2706982717,
          1865605.9235809636,
          1800246.0261405688,
          1634598.0545634557,
          985934.63356472,
          953251.928190408,
          937500.4162792801,
          979835.3186009361,
          1046023.130880392,
          1021372.86724439,
          319008.5428668283,
          210855.02489278588,
          384538.4536699231,
          328177.43079240003,
          344905.79996880004,
          361848.2781136,
          382359.721522,
          396448.3763603476,
          378488.941361241,
          402430.9215623212,
          415111.0150113696,
          408946.5737815535,
          126264.95777227859,
          59876.78175102652,
          381157.51799,
          76009.93380075644,
          142705.753403776,
          698959.6889399022,
          794732.3151582708,
          773533.0936018621,
          758084.7076621025,
          833981.4872480619,
          651580.0522837931,
          198027.64968514626,
          174.36263954578834,
          431128.6246752122,
          329102.9284370691,
          316670.3750804448,
          285389.05944726337,
          197414.7997409,
          149751.79173100003,
          22133.47747175031,
          35484.182042042645,
          39875.15250884471,
          44372,
          45846.06546614532,
          112154.24946426012,
          98119.08044076907,
          473257.72682714957,
          384434.0685404215,
          435612.4431007258,
          381779.76903060457,
          477813.53162958607,
          490381.8562381975,
          580293.4089707177,
          670210.036708877,
          545366.6619002899,
          563595.1554080648,
          328254.51282038155,
          1416719.9248564383,
          1121212.2937692108,
          1234977.019321637,
          1413299.4731129322,
          5450642,
          5759398.2393607,
          4249233.353600038,
          3802153.0631322796,
          46763.2650573319,
          63295.22493374841,
          60225.078854028245,
          62049.64483438034,
          56795.76969853486,
          57716.600112,
          51228.44456652001,
          63294.1357577541,
          496998.4,
          872553.5973260001,
          267831.0661,
          231586.54859999998,
          452013.14759999997,
          483750.96861000004,
          486725.7588,
          536214.906,
          378402.366,
          453089.7118,
          372403.2566,
          192366.83406950822,
          208523.32638824597,
          253621.05403901875,
          275993.30960617476,
          427764.77817180194,
          321221.93903360236,
          324587.56862002594,
          370875.53542184184,
          336117.6029029938,
          344135.3845621684,
          316685.0029544493,
          300317.2433754723,
          336805.6561539362,
          316120.189368992,
          289508.2969073766,
          250710.23964274322,
          212950.0587544502,
          142168.9554543461,
          114138.76424215797,
          118805.22012484565,
          188162.92905988012,
          1521661.4254257253,
          1582765.139056352,
          1404946.72222,
          1361862,
          1433450,
          1219937.9388676998,
          992355.222937149,
          570454.2304145988,
          3224646.6313504786,
          4244528.027719777,
          5577225.039167209,
          63885.378288,
          89873.32767266443,
          75119.8012386497,
          91105.08002911691,
          84778.5235311741,
          90956.9368,
          513876.5935552176,
          2154823.3181865513,
          2179783.094047618,
          4563775.7414118005,
          1672538.3102144194,
          3559.2495225364787,
          2965905.3861293984,
          3489136.3074084003,
          66576.08588638125,
          62522.5,
          7414072.596132002,
          5583407.81845901,
          5034998.405269563,
          5279978.293431184,
          3508343.831401117,
          4442122.9535964485,
          4502496.800172281,
          1759618.3609899,
          501700.09864,
          1011128.0257043055,
          1401301.0389671018,
          1801378.1007401177,
          1012076.9175544772,
          14696.927568399999,
          22551.5774992,
          25879.9745136,
          127989.8336722,
          329284.475114268,
          376097.8948687092,
          453938.60129530326,
          563572.3160660699,
          601946.5959737342,
          861701.9564629748,
          957264.2334928261,
          995820.0022558433,
          182027.63191057357,
          191894.73618578285,
          171218.38146718417,
          221137.5436972079,
          190096.3130278588,
          181414.07972758432,
          108758.57721400002,
          64805.388526560004,
          51294.71398064,
          40122.07137543,
          77191.14403392,
          87276.82956700001,
          247420.72655157742,
          220974.80940000003,
          187020.97527613994,
          144242.04766772845,
          451745.0294560001,
          397489.47705600003,
          2441017.2175218835,
          2591605.786864931,
          2957902.691890577,
          4107954.6661934,
          19635,
          117304.56024185152,
          133028.244221632,
          128692.05429138706,
          147373.34687816794,
          151509.55573137538,
          6002.4566913183235,
          6928,
          6125,
          6917.223499999999,
          3438.0256,
          3487.728,
          5604.549999999999,
          2005501.6070461117,
          118603.57848608131,
          73487.7198494058,
          106669.33471468747,
          115693.34844663885,
          2894286.7229397646,
          2346033.971966595,
          2455046.65117,
          9561,
          372494.04,
          313636.79,
          364720.88,
          448454.02,
          697171.08,
          701513.89,
          506100.62,
          353904.9768096,
          283514.41664,
          34804.010346612995,
          176763.1349860856,
          171007.10738550004,
          157920.2805906999,
          244057.0902704,
          307285.8418805,
          228835.66227839998,
          158179.3297546,
          126770.04159842092,
          106517.31046880002,
          1311887,
          8747.172833903996,
          11716,
          16559,
          26279,
          32285,
          2787647.3038046286,
          205365.14560000002,
          115727.1628,
          253910.1039,
          360881.088,
          493870.8065,
          401553.24799999996,
          236378.7701,
          259169.4549,
          196295.878,
          189846.375,
          12000,
          10934.111422998727,
          7767.630374687577,
          9708.582080363449,
          15390.4754449805,
          21565.84670927338,
          61573.51836426622,
          795360,
          884176,
          956696,
          23671.4,
          28320.4,
          30684,
          35102.8,
          37769.5,
          36599.89,
          127793.388094125,
          2782413.2805550564,
          2540294.703127663,
          2395433.589921216,
          2287340.077269978,
          2272821.5698037185,
          2155289.5890879943,
          2152155.0020833174,
          69478.45666555538,
          40547.75774553573,
          89238.579013465,
          98256.08010212939,
          104505.05571322536,
          195250.34633558922,
          5178325.886331921,
          4495442.610418949,
          4347906.312038668,
          2683.3957554133335,
          2735.7206613333333,
          2680,
          2782.3397013333333,
          2697.9526731733336,
          2398.4733149000003,
          2364.4690299999997,
          3449.738292,
          6393.67985175,
          6229.321575000002,
          12354.899999999998,
          11811.338247000002,
          12933.49877571441,
          6639.897865420001,
          172315.93213015696,
          279491.3799044235,
          780725.9481982288,
          1553098.710297432,
          1858682.7882237998,
          1076026.77744,
          1053465.0152885285,
          1173948.875936811,
          1317479.734066642,
          1366017.9485852744,
          67256.0654493331,
          48016.117258968385,
          44080.516211197915,
          41467.03033768736,
          2377.5717771426134,
          3900.2392395123957,
          4100.816625950226,
          4348,
          4715.203849093856,
          10418.700769903946,
          8988.864639969963,
          34203.403063393096,
          28680.313477753312,
          32434.16478531121,
          28355.452515353136,
          34297.516804385225,
          34988.80690779256,
          42537.063372831995,
          50449.573469104354,
          40540.53117327499,
          42965.15809481649,
          91475.51539148539,
          42904.57028787427,
          41253.577328770945,
          46410.57460873308,
          45045.79970084375,
          69585.91566922756,
          51167.273784258694,
          48074.63552185145,
          53484.64628708569,
          46928.090630104845,
          48608.43848637465,
          45659.02513317622,
          43776.321332393665,
          48797.91710683762,
          47166.79176941496,
          43468.36535667531,
          38471.16034767476,
          33682.4364792698,
          23160.492073878333,
          18878.481288342555,
          17272.960678489413,
          26779.946108322343,
          171941.64433790251,
          177395.25710250053,
          14120.067560000001,
          55025,
          57917,
          5899.087469997147,
          5145.93261407426,
          6213.244178956635,
          148908.02895623405,
          173461.95443924732,
          436957.25183729996,
          444885.8079194097,
          308425.41999909125,
          417978.36522659747,
          423659.1989085597,
          157872.4742933419,
          1578.9428424,
          1880.8813584,
          2080.4957648,
          11007.1037365,
          39678.77925126929,
          45319.79633167946,
          54699.60145608405,
          69319.3948761266,
          75845.2710926905,
          111159.55238372373,
          136410.15327272774,
          113025.57025603819,
          17226.606948016044,
          21411.79451122831,
          24349.25415880932,
          27709.654843856802,
          23820.031338976267,
          22732.103509073902,
          9157.472201418801,
          4905.767911460593,
          3698.348878004144,
          2808.5449962801003,
          5851.088717771137,
          23701.2542352036,
          27771.714204768898,
          21664.197,
          17478.595820199997,
          13355.7451544193,
          63786.34589525744,
          55304.34541218678,
          356739.30708681454,
          414789.87728608586,
          409669.52282684494,
          679119.1503821869,
          6681.0614190545075,
          8027.802658509349,
          9276.108784862327,
          9261.926758472604,
          9916.420682704264,
          21890.88294158315,
          21921.864576410106,
          35365.48036663276,
          45014.09588416773,
          30782.336584358345,
          22654.015369669807,
          1291.957427544,
          1672,
          2345,
          3923,
          4701,
          443.3953913669441,
          1590.5,
          1590.5,
          1728,
          1742.4,
          1727.9,
          1926.31,
          98151.04861738271,
          89792.77585234818,
          94503.84979665642,
          96712.55298001636,
          61.61686907582188,
          61.34305256510639,
          85.00340915722083,
          63.1752406102953,
          196.66277411809588,
          65.21515782275964,
          141553.13463474164,
          422995.4391803483,
          576219.1881088093,
          99562.42367999999,
          3122860.50523467,
          381735.62667806,
          452977.75946549844,
          724.5,
          869.78,
          705.83,
          634.0190000000001,
          284252.75811,
          293336.726,
          654.4096065794149,
          661.5466483758096,
          563.3725406295489,
          30.227528482504564,
          3987.2026326600003,
          2400827,
          2197607.2014016192,
          1469120,
          36018.49517069529,
          1159656.325697218,
          4201502.844825279,
          4229906.827510694,
          4494093.539186138,
          968068.8813203287,
          900281.2189943544,
          897096.7092386776,
          949874.5677167702,
          784828.9711720708,
          85096.28032499172,
          61366.324534969885,
          52714.03681521574,
          51533.09457253672,
          52326.16603976754,
          37818.168982663905,
          20900.703355414324,
          4597.482413442843,
          39712.98737897133,
          24036.7252112,
          1269.068609636228,
          25545.70746740295,
          20899.901440627757,
          20242.69666182565,
          21781.894597110462,
          921592.4074600001,
          960571.97,
          1088576,
          1087548.145638,
          1116190.3582946,
          1093105.75,
          1117995.0756192112,
          59962.69397617999,
          757814.54,
          2622.115606801689,
          18370.47331287284,
          17591.050483044517,
          21437.978147008227,
          22885.015060282272,
          19078.61293649873,
          36975.93508548013,
          9768896,
          21424.980300000003,
          29526,
          28845,
          27031,
          13963,
          130.6,
          42.1,
          91.6,
          88,
          93.3,
          70.5,
          109615.69913984234,
          667565,
          716438,
          1511258,
          2772.8264760000006,
          734257.4893814999,
          655089.3120575,
          599491.6696110001,
          1108851.5603605595,
          382000,
          17335.553616214554,
          123570.07,
          117409,
          4076635.552063397,
          3933535.8753517466,
          4236603.214886996,
          916.4681460751893,
          9018.082077913254,
          7452.517868011439,
          5919.897505378944,
          7069.729556804172,
          6743.520288,
          5546.947320720001,
          6928.025509078271,
          20401.220528,
          19354.802378901888,
          292.6623940164224,
          306.73950948482786,
          112.48294666877092,
          2659.8435543618452,
          67.4195362470031,
          108.22725000000001,
          73.94667,
          14.89068,
          37.357350000000004,
          189.08256,
          605.88605,
          61677.141256999996,
          26794.130064200002,
          75995,
          522.1634434704,
          670,
          611,
          901,
          999,
          17240.38404014191,
          1985.8432,
          1313.5912,
          2371.7612999999997,
          3274.08,
          4217.844,
          3718.1916,
          2460.5589,
          2749.9455000000003,
          2156.138,
          2167.875,
          317883.8601215472,
          277332.93234189134,
          42.234179180095396,
          43.1946239906741,
          463558.66550712194,
          101549.94154200002,
          108446.65285304867,
          22.417939381657956,
          23.496246426537823,
          8.616193714827853,
          203.74401626411736,
          5.164336476520437,
          22684.78635580151,
          77.12354060088,
          96,
          87,
          134,
          145,
          3.973994713957892,
          4222361.282876778,
          185614.98909972474,
          320391.2036,
          86070.3951,
          32.38984215883725,
          32.389842158837254,
          32.389842158837254,
          32.389842158837254,
          519861.79556657997,
          540910.6708989696,
          759353.7101153306,
          705303.9477840033,
          955065.9700089624,
          944393.8221354028,
          1620960.1099999999,
          1094780.214,
          1108371.5,
          1166881.6242869275,
          500605.83781793877,
          544449.0771757315,
          1123305.6737944803,
          1121893.9733260802,
          927993.2926104,
          735098.35699872,
          841403.9519064002,
          843275.286372414,
          625524.7920827586,
          730720.5434379312,
          1793.8557013500001,
          6049346.013609501,
          32445.536095172578,
          31036.71222441193,
          88774.49509880882,
          50097.66739283488,
          133942.67658543205,
          72520.59526014977,
          205411.70021655934,
          184998.88686706795,
          105752.41826659084,
          95326.7483037858,
          6148369.5213082805,
          5793884.352671841,
          6994765.331560757,
          8591770.83546532,
          8988466.55474164,
          9816461.659019168,
          9114852.07006854,
          9548421.008706385,
          10045292.302921792,
          10063663.272366788,
          8725186.758531721,
          8480063.637224197,
          10160462.357847834,
          9661187.325298944,
          8127188.363383185,
          7201767.141713874,
          6820550.363354569,
          3315921.579054281,
          2603242.204147163,
          4446948.776853552,
          7473861.266519089,
          900967.1289494537,
          305633.7498554537,
          561098.4481154999,
          2147736,
          729084,
          785.8650000000001,
          1132.32,
          4324656.67497345,
          1561444.5899999999,
          1521713,
          1194409.962,
          1755238.487,
          170417.06992002053,
          9720261.976582753,
          19511683,
          18880416.195523124,
          1845420.6739610215,
          33988.668932678185,
          62297.5,
          28525.84,
          1064885.6099999999,
          970677.5490401889,
          419307.76401499996,
          3132388.1817755774,
          2429560.7846672167,
          2469404.855181587,
          9354796.904,
          6472195.302909311,
          367677.13946069253,
          437546.2904419296,
          785337.4893172341,
          878429.0850942396,
          2888223,
          2558703.7892530733,
          1110256.210856871,
          1444600.593097705,
          1329146.372678594,
          1421005.4237596467,
          1681513.9242565904,
          1281730.8222047978,
          1324686.8834378244,
          1074067.8032722184,
          240875.80062019857,
          161088.36870750276,
          141551.5268088335,
          135764.19821948785,
          140005.8866946666,
          190899.55310656875,
          315677.97821373795,
          50287.75168655716,
          224577.6473087468,
          153782.88083935535,
          320880.82780631975,
          289871.0007091401,
          271597.1214846134,
          269032.6865937183,
          274483.96047890926,
          163.47,
          5391.923,
          7267365.738254184,
          194595.68592000005,
          1163922.536,
          11501119.360133234,
          5417345.936330003,
          8843925.57291963,
          295720,
          136685.80226850903,
          166541.502000003,
          163999.851,
          163579.88297318117,
          165997.6459999898,
          1447114.83,
          1659111.2249999999,
          1391552.284,
          1200633.309798658,
          986288.6076510067,
          1.3268165040000002,
          0.0787882778208,
          7332.775265678116,
          299205.41056317574,
          5774783.2109067645,
          5211720.614770749,
          5624713.398481915,
          5318967.386210744,
          4539298.226794929,
          4044425.8621876966,
          47304,
          55710.14258676503,
          11929476,
          61067.714899328865,
          60303.189798657724,
          59023.41127516779,
          58668.41127516779,
          56997.37237583893,
          64223.61342281879,
          688370.735875753,
          432594.4445009997,
          123614.93249067548,
          677155.7054319017,
          1176019.9440054188,
          1410130.8606703107,
          1444858.9062782389,
          409287.8082494062,
          569530.7946951734,
          503720.9869566743,
          67000,
          69728.45410620258,
          62260.20634769149,
          76099.33995165458,
          91157.08026653323,
          81408.32194842942,
          77333.84153271254,
          709758,
          755898,
          1345533,
          274725.62,
          594428.1000000001,
          849839,
          844754.3999999999,
          894532.74,
          1006657.2699999998,
          224516.30059676484,
          6956035.03868806,
          7081441.287338377,
          7112471.107349361,
          5329983.4211254865,
          5693948.648089544,
          5595103.112364366,
          5495133.455001343,
          440480.72,
          188850.46,
          388971.639932,
          391216.160102,
          372223.839932,
          341535.71,
          2332.8123455000004,
          5934.6900000000005,
          5053.664,
          4617,
          3036.5280000000002,
          2509.914,
          2112.0400000000004,
          1995.5383199998405,
          1489.5351071998807,
          1117.2853295999105,
          1001.6440199999198,
          538.5427847999568,
          2919059.8431744003,
          5707174.54052,
          6584443.11668,
          5549930.999978854,
          5590871.53554671,
          19507573.0938087,
          18877787.39740462,
          19318005.796217326,
          2061.0919953524467,
          5752.645464503701,
          5686.665825964389,
          191978.3941804373,
          180979.13485092812,
          200978.42380804275,
          133984.41357298626,
          184971.11805901123,
          161972.37379557596,
          230974.25740042306,
          235975.51313698775,
          173973.6295321407,
          162976.14100527015,
          130566.8804101773,
          188206.40393847483,
          211760.2992621786,
          371.77168,
          49,
          23,
          350.0102515080067,
          5232.9465048015,
          20173.627923986485,
          32602.968650551586,
          1.24950801019566,
          751704.8496074728,
          11921.638624400312,
          6516.59067750276,
          2989.421268632029,
          15589.666730654431,
          23517.264429055736,
          22470.42195308432,
          17712.640231377565,
          24369.095257180612,
          24443.181675979813,
          27971.650063522313,
          32086.818741702155,
          7061.567502421044,
          5044.683034622262,
          5503.1676,
          224.25988875498163,
          45523.007149551784,
          46476.72820417709,
          51757.885079507905,
          68954.26454379038,
          1086.997679658,
          122.71067848270002,
          0.6157117648203262,
          62.871085130759994,
          65576,
          113.48999999999998,
          113.11,
          112.73,
          15759,
          109,
          36.496517042937256,
          455.9239110985608,
          1217.164274642059,
          384.7757615089961,
          72.6076686459181,
          4.37839107189791,
          0.1557308868200838,
          81.22865847103766,
          82.26000056234311,
          1245,
          1152,
          664246,
          97906.88160300262,
          103897.46244357766,
          129357.62616463621,
          127654.08458575686,
          117998.49340632053,
          104808.4433799084,
          120177.0621547706,
          182824.91837952624,
          130177.18247985374,
          3534.46698,
          3717.6810699999996,
          3074.75803,
          4125.782426,
          47058.624919999995,
          47337.84112762832,
          51595.45294862801,
          52774.445892210526,
          7210.862590167377,
          4695.774472,
          3649.9817373906403,
          2.548154901035197,
          13.849181174472527,
          6.293751285767221,
          19,
          1.7951839180232558,
          13.188773716763007,
          11.817124814257426,
          123849.32475685392,
          100952.37003855317,
          114124.65396146761,
          99988.76586812391,
          125880.12102813063,
          129132.26009184794,
          152579.296214603,
          172690.53177751126,
          137202.162265706,
          142488.6096672431,
          82350.1787001496,
          46.82470000000001,
          30.8253,
          72.1476,
          71.4808,
          333.7445,
          419.976,
          719.5485,
          1046.0516,
          256.3613,
          50530.70955077782,
          51731.71464980596,
          201187.64481,
          198066,
          209157,
          58.870488,
          51.33104349537262,
          41.37583826119258,
          64.12977999039202,
          143.63501550352,
          105.39299999999999,
          23389.066924933948,
          397746.16389270854,
          2372.833015024319,
          12573.346022143562,
          62859.453252,
          4643.734909219001,
          4886.301126721,
          4676.08300486366,
          83131.34286153558,
          80750.61176673097,
          1202.5468106,
          2247.0014456,
          3151.3823783999997,
          11930.989340669199,
          1792.2415132864505,
          1881.1938178199023,
          1573.5969444552018,
          1599.0966898404993,
          1381.5788808526115,
          1311.193231467006,
          297.3643201921897,
          305.8899286870986,
          435.18266388608936,
          944.204327,
          77.4,
          1437.4470807000002,
          1277.6364465000001,
          2206.4865320000004,
          2356.612748,
          702.924384,
          164.5059149,
          6389.955927,
          7248.960917200001,
          6620,
          505.4881690368,
          529,
          349,
          441,
          534,
          431.8208,
          288.7588,
          652.5428999999999,
          340.512,
          426.283,
          290.474,
          191.09629999999999,
          213.67350000000002,
          164.946,
          185.92499999999998,
          7319,
          6966,
          6385,
          1534.9034801800003,
          5039.733099689014,
          3968.639982488174,
          3478.645155457943,
          3234.8207492747297,
          3164.287371030576,
          2032.025874585313,
          1909.8331009290064,
          352025.35139020684,
          289000.20694927865,
          287798.28689963615,
          1665.4150858980001,
          1608.2414483665011,
          2156.0610363222013,
          433.54374,
          474.084,
          419.47422780684445,
          437.0313692305095,
          0.27372206578118946,
          1.5222309418826536,
          0.6760729509628134,
          2,
          0.0005728605185557187,
          1.225186629426072,
          1.097765693127739,
          8950.869967168874,
          7531.4490987247755,
          8497.3188697389,
          7426.340871443794,
          9035.691290650393,
          9213.602943184458,
          11184.471669210672,
          12999.154284692711,
          10199.098927302122,
          10862.488050719843,
          11223.535008813526,
          5708.310272398011,
          5795.509562244307,
          2021.98638,
          8003,
          8451,
          2.6859502780731654,
          2.1255960000000003,
          3.3150000000000004,
          1639.6206618345163,
          1886.001903321534,
          2614.9532552831997,
          7822.183931271947,
          7598.170750762185,
          129.1938516,
          187.4078712,
          253.3401912,
          1026.063036289,
          169.61293063720694,
          209.90536928514805,
          223.78386955730633,
          200.37491868909476,
          173.1188349473884,
          164.2991563987908,
          43.45792433426472,
          48.958080980617844,
          68.02242367216692,
          188.1874368,
          184.00981257105488,
          177.35640446745947,
          319.73443607079525,
          345.21861323366016,
          94.55543234042136,
          23.56009176627464,
          74.66060256432002,
          75,
          49,
          66,
          78,
          138.79876058218525,
          125.0118440980237,
          89.09893445027896,
          85.82436765007462,
          9622.857474402323,
          27193.26661592707,
          38141.322124914186,
          4200.7248326260005,
          42124.58442436735,
          116265.88942041874,
          18293.340375424174,
          18707.947882334844,
          16471.512218703774,
          2266807.892276274,
          131475.15246152988,
          110440.86104305914,
          103743.88469973575,
          55864.02550224843,
          44568.68256342022,
          49379.37165943643,
          3743.3847183777198,
          6090.364850820399,
          4426.501130642762,
          4157.586584397301,
          3076.3479672800004,
          5648.96001324,
          123.09747567460157,
          73.63629547112254,
          77.86747193224404,
          59.95672613303469,
          182.03463901071396,
          11720.099592407001,
          320.0867535741407,
          2393.262411715896,
          2162.7653284981443,
          238.91012349688796,
          719,
          213,
          670,
          140021.81999999998,
          142729,
          145248,
          150681,
          19259.654250229996,
          169081,
          48913.521056965576,
          73340.13546683863,
          621.4985817238621,
          71.15383655570713,
          12.662609257489551,
          49.93864219280336,
          148055.73519023426,
          113018.65205474678,
          98259.56220950105,
          92482.46043337791,
          1138324,
          374912.69397784304,
          393629.95323931443,
          1661096.0640000002,
          980435.8819304747,
          964457.7915983791,
          994020.8428499323,
          1042806,
          1042806,
          73506.9584509242,
          1147196.9684665669,
          543513.3556049265,
          1345890.84286,
          1741526.7556473922,
          3199265.231227753,
          1156.6897370000002,
          18998.772388,
          14634.392974500002,
          9649.82140034,
          19652.3485893,
          10260,
          316883.5514654636,
          281330.97827139805,
          445664.3179441756,
          515820.9017340156,
          339842.1021376611,
          242712.4015240851,
          1590624.9215961376,
          1743193.7591488266,
          1855128.0832308093,
          23096.694689676544,
          16489.421334787552,
          13677.731059562546,
          13437.701500969808,
          110810.7433967377,
          108136.39661212385,
          9990.159224622435,
          42134,
          42134,
          80938.40406868138,
          43251.50019949858,
          275136.26098531554,
          97.3932758554,
          1438.2070697716001,
          1055.13973346145,
          675.4874980238001,
          1489.6480230689401,
          43480.836977520645,
          164024.56301380345,
          245856.35392958028,
          12111.805,
          10575,
          9826.874522380003,
          9460.57929167125,
          6942.553947400124,
          7485.783902180493,
          7324.368014059951,
          8721,
          6754.872290711448,
          7371.45380667541,
          6727.349665973339,
          54882.74427653771,
          53002.12412751763,
          103312.34008905756,
          101362.53322640256,
          121097.37223484728,
          119456.9005422235,
          123104.96537379427,
          117154.31132989898,
          91716.91256295436,
          95202.81581032927,
          35448,
          135694,
          83601.7,
          92682,
          13235,
          14683,
          15319,
          15319,
          14490,
          15319,
          15107,
          17361,
          81900,
          18538,
          18009,
          17409,
          17982,
          18856,
          18635,
          17944,
          17706,
          17857,
          62545.062161849404,
          30217.10323434518,
          30762.887317236524,
          28882.850827979382,
          30324.137296661956,
          32716.846964759407,
          22403.15168328441,
          22586.198969997196,
          27296.01484037033,
          30564.520652200306,
          29135.648536884837,
          29053.964812166738,
          30586.92934208996,
          29068.585336626467,
          27945.74051080424,
          27289.380524426633,
          161998.21495917422,
          182338.53183294783,
          185527.19598335453,
          182103.85232896812,
          146100.48110781473,
          155235.07262347327,
          153838.57839374582,
          164825.44011138027,
          174351.2881796599,
          167807.33510515862,
          160987.81386780785,
          190302.84248416204,
          189519.25948227136,
          198131.64839898518,
          193182.67864112544,
          185725.03382883038,
          190569.66540484145,
          149006.64602577966,
          131773.49508814665,
          174854.09308719542,
          215748.05492299853,
          197684.48500000002,
          224125.80500000002,
          355385.1781192427,
          250975.24418948588,
          2515,
          17.29426522075,
          141797.80735859752,
          19037,
          12935.8,
          4506.505231547618,
          0.15469658109090909,
          2925,
          67739.62214400001,
          30698,
          35031.203144961815,
          40570.2984155579,
          343600,
          383322.0910769274,
          383617.313254376,
          1485,
          1485,
          112110.96914130026,
          33070.95912574405,
          159213.37001705935,
          118415.40976788764,
          41881.053544189555,
          253.11881699999995,
          3830.7063493695523,
          4098.692315787143,
          4129.306774731288,
          191348.6025965767,
          166405.78435584926,
          9784,
          11787.7,
          211648.3875587249,
          216172.8880831056,
          98968.48038100182,
          116480.49437396444,
          119053.92956636363,
          111923.58277513407,
          7914.344553883777,
          115902.65112708861,
          20808.85360512784,
          15965.143812458718,
          16730.031565856694,
          15148.524729990873,
          15496.533362257314,
          17964.392896713704,
          11413.60784749925,
          9341.647971307297,
          9224,
          9758.237324470476,
          9843.264166317898,
          9899.93402773173,
          35028.27291558874,
          42677.6,
          41759.45934758189,
          38671.805996186806,
          53.13842628825818,
          53.18402552918291,
          533.1356330672398,
          600,
          4881.823595716844,
          30227.810004990668,
          29938.02523938199,
          38655.29196306426,
          38655.29196306426,
          38655.29196306426,
          13058.1816271037,
          16529.2022810182,
          20782,
          14477.687829399903,
          14532.2570423022,
          10676.93,
          12579.825987355529,
          3956.5177907692314,
          15727.7,
          31541,
          44539.3,
          220859.4716810603,
          213350.55841353096,
          486842.3118,
          309498.7077324855,
          17780,
          17697,
          14315.35,
          14389,
          14389,
          14389,
          14389,
          25971.2057379087,
          57147.345152105,
          59842.318197677996,
          63342.89019072239,
          68266.31364034688,
          68811.83740201058,
          105868.21479281306,
          32518,
          33982,
          14944,
          228062.7844610781,
          249393.23859591194,
          614075.9577352857,
          247226.2005116286,
          11153.022730203684,
          13279.46497460359,
          99948.65228747111,
          51137,
          41034,
          58635,
          74028,
          79312,
          78630,
          45218,
          56638,
          33793.94201250475,
          31507.32640264875,
          21000,
          16630.13760688098,
          16183.894938024792,
          18241.197716517232,
          21821.247636789765,
          24832.52193496308,
          21337.492634565835,
          109277,
          104953,
          112276,
          32100,
          27200,
          33,
          33,
          33,
          33,
          973.6438515463816,
          957.3513764143929,
          929.2499691071357,
          942.574990799561,
          959.6846333065769,
          921.317712194077,
          933.4591662871895,
          99925.98277517062,
          98775.67026894652,
          103409.84770911073,
          106173.66673931717,
          102856.6395283725,
          153135.41042673393,
          771.3090556026785,
          762.182249360119,
          1214.3410625000001,
          22358.61226458334,
          20021.2996691628,
          19646,
          21034.5502599204,
          19038.2641299672,
          18040.114933250403,
          19341.485896669197,
          20485.3786227468,
          20379.6385664508,
          21596.200349091603,
          19947.6336637812,
          21540.6814091772,
          21581.1205964868,
          21219.7951810308,
          47942.992923000005,
          52327.6265,
          76888.779,
          4560,
          13562.452908726282,
          88560.2,
          99247,
          105135.92,
          89447.41,
          90278.17,
          91902.4,
          91790.57,
          24525,
          41876.26,
          49539.51,
          55741.94
         ],
         "xaxis": "x",
         "yaxis": "y"
        }
       ],
       "layout": {
        "bargap": 0.1,
        "barmode": "relative",
        "legend": {
         "tracegroupgap": 0
        },
        "margin": {
         "t": 60
        },
        "template": {
         "data": {
          "bar": [
           {
            "error_x": {
             "color": "#2a3f5f"
            },
            "error_y": {
             "color": "#2a3f5f"
            },
            "marker": {
             "line": {
              "color": "white",
              "width": 0.5
             },
             "pattern": {
              "fillmode": "overlay",
              "size": 10,
              "solidity": 0.2
             }
            },
            "type": "bar"
           }
          ],
          "barpolar": [
           {
            "marker": {
             "line": {
              "color": "white",
              "width": 0.5
             },
             "pattern": {
              "fillmode": "overlay",
              "size": 10,
              "solidity": 0.2
             }
            },
            "type": "barpolar"
           }
          ],
          "carpet": [
           {
            "aaxis": {
             "endlinecolor": "#2a3f5f",
             "gridcolor": "#C8D4E3",
             "linecolor": "#C8D4E3",
             "minorgridcolor": "#C8D4E3",
             "startlinecolor": "#2a3f5f"
            },
            "baxis": {
             "endlinecolor": "#2a3f5f",
             "gridcolor": "#C8D4E3",
             "linecolor": "#C8D4E3",
             "minorgridcolor": "#C8D4E3",
             "startlinecolor": "#2a3f5f"
            },
            "type": "carpet"
           }
          ],
          "choropleth": [
           {
            "colorbar": {
             "outlinewidth": 0,
             "ticks": ""
            },
            "type": "choropleth"
           }
          ],
          "contour": [
           {
            "colorbar": {
             "outlinewidth": 0,
             "ticks": ""
            },
            "colorscale": [
             [
              0,
              "#0d0887"
             ],
             [
              0.1111111111111111,
              "#46039f"
             ],
             [
              0.2222222222222222,
              "#7201a8"
             ],
             [
              0.3333333333333333,
              "#9c179e"
             ],
             [
              0.4444444444444444,
              "#bd3786"
             ],
             [
              0.5555555555555556,
              "#d8576b"
             ],
             [
              0.6666666666666666,
              "#ed7953"
             ],
             [
              0.7777777777777778,
              "#fb9f3a"
             ],
             [
              0.8888888888888888,
              "#fdca26"
             ],
             [
              1,
              "#f0f921"
             ]
            ],
            "type": "contour"
           }
          ],
          "contourcarpet": [
           {
            "colorbar": {
             "outlinewidth": 0,
             "ticks": ""
            },
            "type": "contourcarpet"
           }
          ],
          "heatmap": [
           {
            "colorbar": {
             "outlinewidth": 0,
             "ticks": ""
            },
            "colorscale": [
             [
              0,
              "#0d0887"
             ],
             [
              0.1111111111111111,
              "#46039f"
             ],
             [
              0.2222222222222222,
              "#7201a8"
             ],
             [
              0.3333333333333333,
              "#9c179e"
             ],
             [
              0.4444444444444444,
              "#bd3786"
             ],
             [
              0.5555555555555556,
              "#d8576b"
             ],
             [
              0.6666666666666666,
              "#ed7953"
             ],
             [
              0.7777777777777778,
              "#fb9f3a"
             ],
             [
              0.8888888888888888,
              "#fdca26"
             ],
             [
              1,
              "#f0f921"
             ]
            ],
            "type": "heatmap"
           }
          ],
          "heatmapgl": [
           {
            "colorbar": {
             "outlinewidth": 0,
             "ticks": ""
            },
            "colorscale": [
             [
              0,
              "#0d0887"
             ],
             [
              0.1111111111111111,
              "#46039f"
             ],
             [
              0.2222222222222222,
              "#7201a8"
             ],
             [
              0.3333333333333333,
              "#9c179e"
             ],
             [
              0.4444444444444444,
              "#bd3786"
             ],
             [
              0.5555555555555556,
              "#d8576b"
             ],
             [
              0.6666666666666666,
              "#ed7953"
             ],
             [
              0.7777777777777778,
              "#fb9f3a"
             ],
             [
              0.8888888888888888,
              "#fdca26"
             ],
             [
              1,
              "#f0f921"
             ]
            ],
            "type": "heatmapgl"
           }
          ],
          "histogram": [
           {
            "marker": {
             "pattern": {
              "fillmode": "overlay",
              "size": 10,
              "solidity": 0.2
             }
            },
            "type": "histogram"
           }
          ],
          "histogram2d": [
           {
            "colorbar": {
             "outlinewidth": 0,
             "ticks": ""
            },
            "colorscale": [
             [
              0,
              "#0d0887"
             ],
             [
              0.1111111111111111,
              "#46039f"
             ],
             [
              0.2222222222222222,
              "#7201a8"
             ],
             [
              0.3333333333333333,
              "#9c179e"
             ],
             [
              0.4444444444444444,
              "#bd3786"
             ],
             [
              0.5555555555555556,
              "#d8576b"
             ],
             [
              0.6666666666666666,
              "#ed7953"
             ],
             [
              0.7777777777777778,
              "#fb9f3a"
             ],
             [
              0.8888888888888888,
              "#fdca26"
             ],
             [
              1,
              "#f0f921"
             ]
            ],
            "type": "histogram2d"
           }
          ],
          "histogram2dcontour": [
           {
            "colorbar": {
             "outlinewidth": 0,
             "ticks": ""
            },
            "colorscale": [
             [
              0,
              "#0d0887"
             ],
             [
              0.1111111111111111,
              "#46039f"
             ],
             [
              0.2222222222222222,
              "#7201a8"
             ],
             [
              0.3333333333333333,
              "#9c179e"
             ],
             [
              0.4444444444444444,
              "#bd3786"
             ],
             [
              0.5555555555555556,
              "#d8576b"
             ],
             [
              0.6666666666666666,
              "#ed7953"
             ],
             [
              0.7777777777777778,
              "#fb9f3a"
             ],
             [
              0.8888888888888888,
              "#fdca26"
             ],
             [
              1,
              "#f0f921"
             ]
            ],
            "type": "histogram2dcontour"
           }
          ],
          "mesh3d": [
           {
            "colorbar": {
             "outlinewidth": 0,
             "ticks": ""
            },
            "type": "mesh3d"
           }
          ],
          "parcoords": [
           {
            "line": {
             "colorbar": {
              "outlinewidth": 0,
              "ticks": ""
             }
            },
            "type": "parcoords"
           }
          ],
          "pie": [
           {
            "automargin": true,
            "type": "pie"
           }
          ],
          "scatter": [
           {
            "fillpattern": {
             "fillmode": "overlay",
             "size": 10,
             "solidity": 0.2
            },
            "type": "scatter"
           }
          ],
          "scatter3d": [
           {
            "line": {
             "colorbar": {
              "outlinewidth": 0,
              "ticks": ""
             }
            },
            "marker": {
             "colorbar": {
              "outlinewidth": 0,
              "ticks": ""
             }
            },
            "type": "scatter3d"
           }
          ],
          "scattercarpet": [
           {
            "marker": {
             "colorbar": {
              "outlinewidth": 0,
              "ticks": ""
             }
            },
            "type": "scattercarpet"
           }
          ],
          "scattergeo": [
           {
            "marker": {
             "colorbar": {
              "outlinewidth": 0,
              "ticks": ""
             }
            },
            "type": "scattergeo"
           }
          ],
          "scattergl": [
           {
            "marker": {
             "colorbar": {
              "outlinewidth": 0,
              "ticks": ""
             }
            },
            "type": "scattergl"
           }
          ],
          "scattermapbox": [
           {
            "marker": {
             "colorbar": {
              "outlinewidth": 0,
              "ticks": ""
             }
            },
            "type": "scattermapbox"
           }
          ],
          "scatterpolar": [
           {
            "marker": {
             "colorbar": {
              "outlinewidth": 0,
              "ticks": ""
             }
            },
            "type": "scatterpolar"
           }
          ],
          "scatterpolargl": [
           {
            "marker": {
             "colorbar": {
              "outlinewidth": 0,
              "ticks": ""
             }
            },
            "type": "scatterpolargl"
           }
          ],
          "scatterternary": [
           {
            "marker": {
             "colorbar": {
              "outlinewidth": 0,
              "ticks": ""
             }
            },
            "type": "scatterternary"
           }
          ],
          "surface": [
           {
            "colorbar": {
             "outlinewidth": 0,
             "ticks": ""
            },
            "colorscale": [
             [
              0,
              "#0d0887"
             ],
             [
              0.1111111111111111,
              "#46039f"
             ],
             [
              0.2222222222222222,
              "#7201a8"
             ],
             [
              0.3333333333333333,
              "#9c179e"
             ],
             [
              0.4444444444444444,
              "#bd3786"
             ],
             [
              0.5555555555555556,
              "#d8576b"
             ],
             [
              0.6666666666666666,
              "#ed7953"
             ],
             [
              0.7777777777777778,
              "#fb9f3a"
             ],
             [
              0.8888888888888888,
              "#fdca26"
             ],
             [
              1,
              "#f0f921"
             ]
            ],
            "type": "surface"
           }
          ],
          "table": [
           {
            "cells": {
             "fill": {
              "color": "#EBF0F8"
             },
             "line": {
              "color": "white"
             }
            },
            "header": {
             "fill": {
              "color": "#C8D4E3"
             },
             "line": {
              "color": "white"
             }
            },
            "type": "table"
           }
          ]
         },
         "layout": {
          "annotationdefaults": {
           "arrowcolor": "#2a3f5f",
           "arrowhead": 0,
           "arrowwidth": 1
          },
          "autotypenumbers": "strict",
          "coloraxis": {
           "colorbar": {
            "outlinewidth": 0,
            "ticks": ""
           }
          },
          "colorscale": {
           "diverging": [
            [
             0,
             "#8e0152"
            ],
            [
             0.1,
             "#c51b7d"
            ],
            [
             0.2,
             "#de77ae"
            ],
            [
             0.3,
             "#f1b6da"
            ],
            [
             0.4,
             "#fde0ef"
            ],
            [
             0.5,
             "#f7f7f7"
            ],
            [
             0.6,
             "#e6f5d0"
            ],
            [
             0.7,
             "#b8e186"
            ],
            [
             0.8,
             "#7fbc41"
            ],
            [
             0.9,
             "#4d9221"
            ],
            [
             1,
             "#276419"
            ]
           ],
           "sequential": [
            [
             0,
             "#0d0887"
            ],
            [
             0.1111111111111111,
             "#46039f"
            ],
            [
             0.2222222222222222,
             "#7201a8"
            ],
            [
             0.3333333333333333,
             "#9c179e"
            ],
            [
             0.4444444444444444,
             "#bd3786"
            ],
            [
             0.5555555555555556,
             "#d8576b"
            ],
            [
             0.6666666666666666,
             "#ed7953"
            ],
            [
             0.7777777777777778,
             "#fb9f3a"
            ],
            [
             0.8888888888888888,
             "#fdca26"
            ],
            [
             1,
             "#f0f921"
            ]
           ],
           "sequentialminus": [
            [
             0,
             "#0d0887"
            ],
            [
             0.1111111111111111,
             "#46039f"
            ],
            [
             0.2222222222222222,
             "#7201a8"
            ],
            [
             0.3333333333333333,
             "#9c179e"
            ],
            [
             0.4444444444444444,
             "#bd3786"
            ],
            [
             0.5555555555555556,
             "#d8576b"
            ],
            [
             0.6666666666666666,
             "#ed7953"
            ],
            [
             0.7777777777777778,
             "#fb9f3a"
            ],
            [
             0.8888888888888888,
             "#fdca26"
            ],
            [
             1,
             "#f0f921"
            ]
           ]
          },
          "colorway": [
           "#636efa",
           "#EF553B",
           "#00cc96",
           "#ab63fa",
           "#FFA15A",
           "#19d3f3",
           "#FF6692",
           "#B6E880",
           "#FF97FF",
           "#FECB52"
          ],
          "font": {
           "color": "#2a3f5f"
          },
          "geo": {
           "bgcolor": "white",
           "lakecolor": "white",
           "landcolor": "white",
           "showlakes": true,
           "showland": true,
           "subunitcolor": "#C8D4E3"
          },
          "hoverlabel": {
           "align": "left"
          },
          "hovermode": "closest",
          "mapbox": {
           "style": "light"
          },
          "paper_bgcolor": "white",
          "plot_bgcolor": "white",
          "polar": {
           "angularaxis": {
            "gridcolor": "#EBF0F8",
            "linecolor": "#EBF0F8",
            "ticks": ""
           },
           "bgcolor": "white",
           "radialaxis": {
            "gridcolor": "#EBF0F8",
            "linecolor": "#EBF0F8",
            "ticks": ""
           }
          },
          "scene": {
           "xaxis": {
            "backgroundcolor": "white",
            "gridcolor": "#DFE8F3",
            "gridwidth": 2,
            "linecolor": "#EBF0F8",
            "showbackground": true,
            "ticks": "",
            "zerolinecolor": "#EBF0F8"
           },
           "yaxis": {
            "backgroundcolor": "white",
            "gridcolor": "#DFE8F3",
            "gridwidth": 2,
            "linecolor": "#EBF0F8",
            "showbackground": true,
            "ticks": "",
            "zerolinecolor": "#EBF0F8"
           },
           "zaxis": {
            "backgroundcolor": "white",
            "gridcolor": "#DFE8F3",
            "gridwidth": 2,
            "linecolor": "#EBF0F8",
            "showbackground": true,
            "ticks": "",
            "zerolinecolor": "#EBF0F8"
           }
          },
          "shapedefaults": {
           "line": {
            "color": "#2a3f5f"
           }
          },
          "ternary": {
           "aaxis": {
            "gridcolor": "#DFE8F3",
            "linecolor": "#A2B1C6",
            "ticks": ""
           },
           "baxis": {
            "gridcolor": "#DFE8F3",
            "linecolor": "#A2B1C6",
            "ticks": ""
           },
           "bgcolor": "white",
           "caxis": {
            "gridcolor": "#DFE8F3",
            "linecolor": "#A2B1C6",
            "ticks": ""
           }
          },
          "title": {
           "x": 0.05
          },
          "xaxis": {
           "automargin": true,
           "gridcolor": "#EBF0F8",
           "linecolor": "#EBF0F8",
           "ticks": "",
           "title": {
            "standoff": 15
           },
           "zerolinecolor": "#EBF0F8",
           "zerolinewidth": 2
          },
          "yaxis": {
           "automargin": true,
           "gridcolor": "#EBF0F8",
           "linecolor": "#EBF0F8",
           "ticks": "",
           "title": {
            "standoff": 15
           },
           "zerolinecolor": "#EBF0F8",
           "zerolinewidth": 2
          }
         }
        },
        "xaxis": {
         "anchor": "y",
         "domain": [
          0,
          1
         ],
         "title": {
          "text": "Emissions"
         }
        },
        "yaxis": {
         "anchor": "x",
         "domain": [
          0,
          1
         ],
         "title": {
          "text": "Frequency"
         }
        }
       }
      }
     },
     "metadata": {},
     "output_type": "display_data"
    }
   ],
   "source": [
    "# Analize the distribution of the emissions\n",
    "fig = px.histogram(se_df, \n",
    "                   x='emissions', \n",
    "                   nbins=200, \n",
    "                   labels={'emissions': 'Emissions'}, \n",
    "                   template=\"plotly_white\")\n",
    "\n",
    "# Customize the layout\n",
    "fig.update_layout(\n",
    "    xaxis_title=\"Emissions\",\n",
    "    yaxis_title=\"Frequency\",\n",
    "    bargap=0.1  # Adjust the gap between bars\n",
    ")\n",
    "\n",
    "# Show the figure\n",
    "fig.show()"
   ]
  },
  {
   "cell_type": "markdown",
   "metadata": {},
   "source": [
    "Since emissions are log-normally distributed, apply a log transformation to stabilize variance and normalize the data"
   ]
  },
  {
   "cell_type": "code",
   "execution_count": 29,
   "metadata": {},
   "outputs": [
    {
     "name": "stderr",
     "output_type": "stream",
     "text": [
      "/var/folders/v8/b0fnjf9d4q31sfz_8q4h4zxm0000gn/T/ipykernel_89184/2778196128.py:1: SettingWithCopyWarning:\n",
      "\n",
      "\n",
      "A value is trying to be set on a copy of a slice from a DataFrame.\n",
      "Try using .loc[row_indexer,col_indexer] = value instead\n",
      "\n",
      "See the caveats in the documentation: https://pandas.pydata.org/pandas-docs/stable/user_guide/indexing.html#returning-a-view-versus-a-copy\n",
      "\n"
     ]
    }
   ],
   "source": [
    "se_df['Log_Emissions'] = np.log(se_df['emissions'] + 1)"
   ]
  },
  {
   "cell_type": "code",
   "execution_count": 30,
   "metadata": {},
   "outputs": [
    {
     "data": {
      "application/vnd.plotly.v1+json": {
       "config": {
        "plotlyServerURL": "https://plot.ly"
       },
       "data": [
        {
         "alignmentgroup": "True",
         "bingroup": "x",
         "hovertemplate": "Log_Emissions=%{x}<br>count=%{y}<extra></extra>",
         "legendgroup": "",
         "marker": {
          "color": "#636efa",
          "pattern": {
           "shape": ""
          }
         },
         "name": "",
         "nbinsx": 200,
         "offsetgroup": "",
         "orientation": "v",
         "showlegend": false,
         "type": "histogram",
         "x": [
          14.99147706467436,
          12.280528355154477,
          15.733308811976137,
          12.867544589589462,
          13.059880012587527,
          13.201479561155633,
          13.280451721092776,
          13.43072058720643,
          13.446873005639883,
          12.114719800392765,
          11.99944026387118,
          11.916881783319305,
          11.915218881912757,
          11.943911003786543,
          12.085919804881799,
          12.02734392701846,
          12.18894859752757,
          12.173555994999784,
          12.188944783286269,
          12.142082469511498,
          12.173501715743049,
          12.136642326962399,
          12.152589697086343,
          12.131241934086587,
          12.075772959172845,
          12.081473982978375,
          12.32142577301659,
          13.151771045406958,
          12.624286719329378,
          12.671536813749384,
          12.854525190692677,
          12.789851289034754,
          12.859509548035236,
          12.820375166449125,
          12.580163251811982,
          13.042219952598712,
          13.126122595532811,
          13.209007999956304,
          13.085471176271627,
          13.05838299080347,
          13.14606893138332,
          13.128535947470299,
          13.210746178724305,
          13.789411186190597,
          14.573526712581522,
          13.812467891062049,
          13.800876998456182,
          13.704321090855592,
          13.718409432096255,
          13.758101035251897,
          13.749224247785198,
          13.760899552470347,
          13.821230099076175,
          13.890745195431741,
          13.471456638102378,
          13.5544849548223,
          13.621897546830832,
          13.54504529790872,
          13.583673971907627,
          13.681368068005176,
          13.666807512793945,
          13.636128212166293,
          13.527550102353564,
          13.660054678316488,
          13.738932654617965,
          13.774055964014456,
          13.77061695623217,
          13.757805258495267,
          13.749994394964034,
          13.805672165969641,
          14.43223981006037,
          14.415063054733572,
          14.450064571874746,
          14.438311165159295,
          14.629849777727626,
          14.600449553973496,
          14.573988397630396,
          14.696873563033911,
          14.697263744070273,
          14.727727828568888,
          14.683357524669571,
          14.688136261761585,
          14.664018498427751,
          14.757283962632046,
          14.612238342244515,
          14.679087636984391,
          14.677633587620978,
          14.702556132167564,
          14.670123796296652,
          14.69010132902126,
          14.753285401446165,
          11.555935798169068,
          11.54933453408546,
          11.64642206378548,
          12.036848936205395,
          11.942647318334673,
          13.358884230513153,
          13.394094789177208,
          15.239372631221048,
          15.537919558799448,
          15.498540018766267,
          15.202825143251296,
          9.916484968978448,
          9.576160570305731,
          9.588974537657334,
          9.800519648489464,
          11.749601465490795,
          12.149783960348943,
          10.891062234532734,
          14.479990384977837,
          13.837184323354649,
          13.104989318746622,
          13.639518284652086,
          12.959842150057808,
          11.891466820057348,
          12.817849149520598,
          13.433972429238088,
          13.065178102216262,
          11.654262621484143,
          11.68602462590204,
          13.00460860124744,
          13.465102761640061,
          13.612134676224134,
          13.929655006816281,
          16.065457356912706,
          16.035619875835053,
          15.946462607135066,
          15.970812840257842,
          12.064497005822728,
          12.135332263971284,
          14.928339072859497,
          11.95127510306168,
          15.260279555360048,
          13.689924381258834,
          13.261029312419845,
          13.27783181352159,
          11.677462460231945,
          11.635210642761415,
          11.687856300878398,
          15.869981479142645,
          15.815547013437701,
          15.781164995576402,
          15.935692276079132,
          14.778529083310866,
          14.778061194946533,
          14.679881972703098,
          14.684946275167734,
          14.680291203599198,
          14.642526045249204,
          14.633418425266246,
          14.805765842015813,
          14.302940606523475,
          14.189825998889729,
          14.260704888879447,
          14.204821966651673,
          14.234176842113607,
          14.34081490788181,
          12.418032967866829,
          12.343175032574136,
          12.3655141362767,
          12.330667649260677,
          12.290101268486138,
          12.36005261385159,
          10.509466250259912,
          10.543067333838406,
          10.532665029019244,
          10.48386331973076,
          10.48116339223363,
          10.67505703680048,
          14.1915809451839,
          14.32299442995279,
          14.417414643965547,
          14.495923718673813,
          9.9003576595272,
          14.087086718069335,
          14.096129432129658,
          14.182674236952108,
          14.258460784807824,
          14.410205471633487,
          13.902463000775349,
          14.043886196323877,
          13.994923722816964,
          14.053143552018842,
          14.043614802140977,
          14.009171744115552,
          14.032031815273601,
          14.262402703741468,
          12.93794978973052,
          12.28024035625349,
          12.006527979646249,
          12.439272384442647,
          16.339078283101593,
          16.264998741510038,
          16.229787687948164,
          10.279219439891191,
          14.167722977029234,
          14.077431703807852,
          14.178141996712712,
          14.229540725448729,
          14.387401810062606,
          14.548640332790185,
          12.680693284088303,
          12.553232067654411,
          12.655015164867976,
          12.651716778523253,
          13.428780492780952,
          13.33711411135128,
          13.4638951643156,
          13.234015282701138,
          13.161946505646558,
          13.308050896319871,
          13.351062571516046,
          12.0345328004289,
          12.0345328004289,
          13.341121352007658,
          13.120758196508392,
          13.35736340338033,
          13.355672162093784,
          13.31575509845937,
          13.330469039203237,
          13.339385219671042,
          13.343295760130738,
          14.56679839464524,
          14.64533669131779,
          12.950908167436344,
          12.31025668742761,
          12.298068247275756,
          12.266188902857158,
          12.279657623803578,
          12.297365676476538,
          13.4389755062793,
          13.420541975945222,
          13.39975682799945,
          13.398177783095552,
          13.339643259704767,
          13.550809850852987,
          14.441967614751961,
          13.891587490684019,
          13.894947192483464,
          13.946349877316134,
          13.941056732588834,
          13.875771242020793,
          13.829510361635817,
          13.87481947583033,
          13.88279748753675,
          13.864344711005979,
          13.810634231877641,
          13.120363378739663,
          13.046249781916355,
          13.08624198000341,
          13.145414108293108,
          13.23176117092177,
          13.124697520212262,
          13.257400625550178,
          15.642197080639056,
          15.613690372595228,
          15.699447274180693,
          9.890032812106316,
          10.10787210898034,
          10.262315177792935,
          11.232246316044154,
          10.621356862323996,
          11.30494321064285,
          11.258100532759382,
          11.283205942420153,
          11.26784125013801,
          11.230090588296715,
          11.130232313585704,
          11.04961794838598,
          11.001555540816332,
          10.94727903813271,
          10.906938374355752,
          10.906953200462176,
          10.906469029662823,
          10.865804967373924,
          10.820285245642706,
          10.809667941537146,
          10.444324007657737,
          15.495980332675728,
          15.529959005262233,
          15.427061109325797,
          15.438462739053387,
          15.506795591151173,
          15.419768863635827,
          15.455608701755219,
          15.359706332948958,
          15.179868794656405,
          15.142172918662887,
          15.259583171166227,
          15.358322147755995,
          15.252407730156223,
          10.911098697487983,
          11.587177167086674,
          12.241167519010002,
          13.09802456759895,
          13.08927711515802,
          13.069626936919043,
          13.14689511408589,
          13.038578639392714,
          12.97057410630249,
          13.054049609693344,
          13.137324028157646,
          13.119679928662935,
          13.185937038556336,
          13.07782909706541,
          13.199798119123093,
          13.161690305438645,
          13.166631771924928,
          12.599785458362678,
          12.506159429930921,
          12.865881785930961,
          13.753766917299531,
          13.554457824217138,
          13.279409193705213,
          13.391380967027725,
          13.547219825627316,
          13.345422781178234,
          13.305787359637327,
          13.349003193655074,
          13.37027001687423,
          13.30409297569208,
          13.170037814619958,
          13.210093519353858,
          13.241951236719549,
          14.118953046997374,
          14.141756106288465,
          14.160821020255595,
          14.197133992089547,
          14.103131312943445,
          13.059640929248621,
          11.451436989136452,
          5.442862597444159,
          14.495757768100018,
          14.225722000645275,
          14.196418933454208,
          14.2243591826761,
          12.749391396286589,
          12.597200842316807,
          13.108799544698194,
          13.472694867295601,
          13.447424175707921,
          13.755428226581799,
          13.437586444028742,
          13.757340096186656,
          13.747656490182534,
          12.994205212109318,
          12.74881703256994,
          12.873097345215662,
          12.73752825717397,
          12.951115479160945,
          12.996257274397209,
          13.163104210673099,
          13.3761516988399,
          13.216723850405131,
          13.299476006803019,
          12.728723002592723,
          14.336899422290168,
          14.541092122916536,
          14.612688276490662,
          14.7448699307486,
          15.425946372328582,
          15.565920434018198,
          15.56376967124532,
          15.724756896525632,
          12.122737690649931,
          12.365671607908947,
          12.271017758114688,
          12.276440230672074,
          12.184105168496743,
          12.177534557286812,
          12.01080448739739,
          12.186525998252948,
          15.114590157776984,
          15.023388463428915,
          13.106071685148365,
          12.936284628234533,
          13.577329051128324,
          13.550896464198786,
          13.493941942275908,
          13.534478278548505,
          13.235726592472316,
          13.607293314985043,
          13.449498390802045,
          12.91883810721031,
          12.839773318286545,
          12.928006770306826,
          12.895806599801992,
          12.955043123149919,
          13.032894759886906,
          13.010724992552122,
          13.023707300925773,
          13.009584009121326,
          13.104139993472955,
          13.149083945891833,
          13.09212349162754,
          13.179422180716701,
          13.202807612658228,
          13.09749845552432,
          13.276547512429296,
          14.046410621768167,
          13.938090900484104,
          14.139407207687157,
          14.17517273908763,
          14.32413679756143,
          14.297097687450668,
          14.31233224235902,
          14.193585314024043,
          14.238581050124477,
          14.199387377894999,
          14.081970683025801,
          14.042840678894347,
          14.128206861402854,
          14.042642362245848,
          13.818580840892247,
          13.712890507597054,
          13.618305973314145,
          13.398000879578303,
          13.235649010887498,
          13.327008181425274,
          13.591164950010352,
          15.099020283793237,
          15.107621833680165,
          15.214257798462612,
          15.222282563602988,
          15.352879372174034,
          15.164667402457589,
          15.18479874460135,
          14.723511370894844,
          14.75447622254334,
          15.043362536420858,
          15.380193596920302,
          12.82805559119183,
          13.000340739053845,
          12.872026585795954,
          12.955972898445461,
          11.977386857167422,
          11.707149712024465,
          11.611027131497696,
          16.173168105376455,
          15.372799580482713,
          14.890829919046881,
          15.1010110623869,
          10.931349586438634,
          13.767110418967322,
          15.669918841518516,
          11.710670885199011,
          11.740569274913351,
          15.830526034740434,
          15.105209435568863,
          15.214031185529684,
          15.274576006555252,
          15.559367692470458,
          15.55094094181916,
          15.558065295724127,
          15.710529452951835,
          15.279729092193929,
          15.254809218171493,
          14.984579942878401,
          14.772198876704095,
          14.34222894949026,
          13.776437995453861,
          14.020740927807678,
          13.916525439150808,
          11.795569382281503,
          12.049863199111416,
          12.31202044705764,
          14.793059811417061,
          14.889392569513936,
          15.333448983749213,
          15.579653411251707,
          14.699321601471752,
          14.69298013713148,
          14.818435646383573,
          14.853266364595301,
          14.92781484907475,
          15.25920310824255,
          15.268162446934763,
          15.273240391955884,
          13.958243858038795,
          14.02993215076188,
          13.903041006416473,
          14.13289559860704,
          13.9729637376583,
          13.925247308929935,
          12.622707351032714,
          12.344972198141631,
          12.11906387510093,
          11.952543889070785,
          12.580750964609328,
          12.53346983537541,
          12.477537641324181,
          12.52925676220337,
          12.45337247682596,
          12.413512355347814,
          12.487304894178767,
          12.57282117977482,
          14.089882871111508,
          14.118191314268081,
          14.371829473963807,
          14.520732872589294,
          13.374347803408847,
          13.08121559421389,
          13.098714844657946,
          13.19056174763004,
          13.210829989068698,
          13.221623927483053,
          9.976283938966322,
          9.830782471232737,
          9.896513288798792,
          10.01210806014121,
          10.092833795017045,
          9.99820664859396,
          10.420001964419587,
          15.782414207577695,
          11.306207599575098,
          12.899792705338678,
          13.191723880624123,
          13.126372640691232,
          15.414620849911262,
          15.20745686960701,
          15.398449694515158,
          12.215458460638665,
          13.285394279447113,
          13.350775882085864,
          13.509347588905342,
          13.567204314839767,
          13.477511556430436,
          13.991743617184564,
          14.958306734549632,
          15.060416412302642,
          15.1040888435567,
          15.145488658510617,
          13.380834843987172,
          13.311665281455449,
          13.399840965758742,
          13.354411612082771,
          13.729444228821675,
          13.807187426603642,
          13.512924910240134,
          14.06297344889425,
          13.784426726906789,
          11.56830298293208,
          12.893989231042577,
          13.240755769275436,
          13.085704189076424,
          13.522908202602515,
          13.633933796505161,
          13.222574158394133,
          12.830133343520716,
          13.702696860128617,
          13.927490892102767,
          12.691238864512792,
          11.76468070275146,
          11.976451912491664,
          11.894603217286082,
          12.310536259091537,
          12.406626970585188,
          9.872875724401066,
          11.493487072714194,
          11.535040231994744,
          12.061769281245375,
          12.374962052365714,
          12.55348695357093,
          14.621186173617595,
          13.252897125979974,
          12.742075513311802,
          13.580288357330582,
          13.948981931787705,
          14.245977559611015,
          14.099308521822936,
          13.701657896893943,
          13.8410172523684,
          13.621030257519722,
          13.64398818946383,
          10.472657553276363,
          10.438189099619592,
          9.995150614131951,
          10.335409156963824,
          10.793776688648649,
          11.03047128576347,
          11.798943837019921,
          15.749069746960556,
          15.698388555499298,
          15.751868659698145,
          12.530542534136075,
          12.79021776303961,
          12.876874518921563,
          13.012395908235995,
          13.075880372894039,
          13.326194944507753,
          12.718617091518068,
          12.736469558738744,
          12.76235174726538,
          12.744002448233918,
          12.752637964719577,
          12.70201517789911,
          12.764800153246656,
          12.80878770635908,
          12.870258257097714,
          12.862800635057358,
          12.8785291435263,
          12.861518740789888,
          12.866317372434837,
          12.848809834738054,
          14.260912453087068,
          16.56061290593351,
          16.299271858446605,
          16.273834748211794,
          16.2362696284198,
          16.241499137572006,
          16.21963506909522,
          16.170747174364937,
          11.872202211250766,
          11.238908805549158,
          12.107497974421793,
          12.175910324868958,
          12.208087818973654,
          12.857933320475654,
          14.953586615856446,
          14.934932847777613,
          14.903696117262626,
          9.895127461003762,
          9.834915198333674,
          9.83483390921908,
          9.870758680726697,
          9.828431046144983,
          9.749264659918255,
          9.781352048554222,
          10.140425788883663,
          10.72797443869309,
          10.74588766171138,
          10.712178259012479,
          10.74307345483404,
          10.840593290295745,
          10.612823591501645,
          11.438297314714548,
          11.462165267735545,
          11.934826670509487,
          15.248787944857007,
          15.166843841345342,
          13.506700234365136,
          13.497113657730834,
          13.645860177658696,
          13.382722895247944,
          13.524066685473347,
          13.655442880515439,
          13.448401726992213,
          13.481299808252787,
          13.464244743983329,
          13.643797052311733,
          13.768202658697238,
          14.887733918194796,
          14.927400032807421,
          14.908387242832644,
          14.909325184053886,
          14.898167508181018,
          12.637861236613993,
          12.300892061377896,
          12.224579627459818,
          12.295408382558021,
          10.877804815146387,
          11.264657150322439,
          11.21642460735403,
          11.47789914304655,
          11.206586994374357,
          11.381077636917203,
          11.371394131620006,
          10.366919421962221,
          10.153291720086767,
          10.275588623707883,
          10.137540303984565,
          10.316998572336017,
          10.356130625001642,
          10.549970407202084,
          10.789553902408121,
          10.617590413158563,
          10.725549634079284,
          10.70770709674343,
          12.55045398560536,
          12.345676654631681,
          12.465778514526392,
          12.395035557741096,
          12.550300853023868,
          12.476480272695488,
          12.425421405534614,
          12.280389819601298,
          12.297958003542819,
          12.266768009186023,
          12.167165534251005,
          12.134008687988334,
          12.198232373459723,
          12.14996395972624,
          11.929214046571785,
          11.8344228970629,
          11.77149034705034,
          11.59481502263024,
          11.433106455703564,
          11.408739929182424,
          11.63822330269971,
          12.918423439477738,
          12.919006042246657,
          10.614124474251629,
          12.013464361308067,
          12.338757429883026,
          10.873267467214571,
          10.781352332353359,
          10.793893848911983,
          13.53009126570001,
          12.791798757636057,
          12.54476293644634,
          11.869996381743556,
          12.650873994470246,
          12.916273308165835,
          12.891353490323839,
          12.48519787983675,
          9.564749078674035,
          9.56586289243599,
          9.791208621432329,
          12.36824683189109,
          12.43598622311448,
          12.963631102616626,
          13.120454671706788,
          12.595590340940863,
          12.589248895518208,
          12.702332797547973,
          12.757697966805088,
          12.85634375776832,
          13.211261827446188,
          13.319750575459055,
          13.097289767914383,
          11.600548757077355,
          11.83693351915932,
          11.952607925359407,
          12.055896705953439,
          11.895965726405645,
          11.848249589134554,
          10.148182844904722,
          9.764048211121763,
          9.489432835720354,
          9.293369445969262,
          10.001135890135574,
          7.572135826097748,
          10.290495578993562,
          10.206902338025088,
          10.083166608607032,
          10.034006040874385,
          10.417849254012072,
          10.512897777849345,
          12.166722470690578,
          12.285934306374136,
          12.515904119281954,
          12.906488702014629,
          10.291890058551589,
          10.32842611620699,
          10.445888163354573,
          10.476013700242966,
          10.517948793783136,
          9.316500567804573,
          12.421612136721343,
          12.720461679059971,
          12.743737160396755,
          12.69909411832908,
          12.922001410574898,
          11.068175214002885,
          11.738344043817227,
          11.840452977736502,
          11.822677206162044,
          11.858033521435104,
          11.185132998494192,
          11.111111228624749,
          11.591250148437261,
          11.713138070145057,
          11.216522723297643,
          10.886757096551266,
          9.852153473801119,
          10.029459192098065,
          9.93991590914968,
          10.40876782924649,
          10.479763781364658,
          8.495466264059555,
          9.204797961413892,
          9.288230366794762,
          9.47435314577246,
          10.16397540191283,
          10.186411964664787,
          7.418180822726788,
          7.383732427027054,
          7.132645393000812,
          9.763897270426503,
          9.820446537762212,
          9.920000460910341,
          10.005121332533077,
          9.891007195865063,
          10.344578762261865,
          13.087596568308864,
          13.010227821146126,
          13.09259724118419,
          13.068284692387197,
          6.362811573812278,
          6.263774344135715,
          6.6691120968182505,
          6.344968992010759,
          7.449890899585029,
          6.372021630509385,
          11.354036078906006,
          12.571477978463363,
          12.882736744570131,
          10.569261223861503,
          10.477115566235693,
          10.625858284972736,
          10.279438367412208,
          10.414981852688225,
          10.653713782675652,
          10.446678909211693,
          11.09207764732247,
          11.075025900888795,
          10.799942856576171,
          11.030378212393224,
          14.211616783760475,
          9.954447929433226,
          12.921343657080408,
          12.397254694574581,
          12.671610108762941,
          12.78925282046815,
          12.803902962373362,
          13.071412691137649,
          12.923037733533421,
          11.374498051472512,
          11.506669995722653,
          11.561279203633546,
          10.80442096208924,
          10.991798968882163,
          11.076447967003043,
          9.645356799185688,
          12.92710867884353,
          12.805677637600994,
          12.853934506037737,
          12.789046234543093,
          12.794664453474484,
          12.749208362624248,
          12.701599500698743,
          12.701588174068341,
          12.667440333220489,
          12.69236375518955,
          12.692476618253373,
          12.290788505872031,
          11.978780417695495,
          12.019309581905215,
          12.013744572184242,
          10.096213132628804,
          9.882727364003498,
          9.620519147730501,
          9.050698849283938,
          12.468951853318604,
          12.659259187007017,
          12.677972273180686,
          12.577262225226013,
          12.61269136507405,
          12.623221785647265,
          12.577518473930915,
          12.32058364090039,
          12.486908615380507,
          14.519516958087138,
          13.039768839163555,
          12.94439906750117,
          12.898814242575028,
          12.821239332869384,
          13.001666588142072,
          12.985682016739855,
          12.957022737116002,
          12.822058290187625,
          12.82340675114792,
          13.89077335581724,
          14.210438021722915,
          14.216270678074743,
          14.100106496820437,
          14.136548786597624,
          14.27382108584739,
          14.202500037923304,
          14.132124874105036,
          14.035238405029075,
          14.184528076799293,
          14.266958620255549,
          14.134575497491866,
          14.146517085525819,
          14.16147137633136,
          14.123909631934364,
          14.221417055649598,
          12.931301824614163,
          13.307379844928455,
          13.091762768379278,
          13.318003893507049,
          13.502865019312381,
          13.498536814858996,
          13.572640515400801,
          13.587403181594208,
          13.572047141050714,
          13.486725416915752,
          13.541367145664273,
          13.45812680147026,
          13.623750581098863,
          13.699296964879437,
          13.513934948015887,
          13.52513616673052,
          13.626505155669411,
          13.584709366762306,
          13.484408980790871,
          13.559043613181004,
          13.646906447652908,
          9.511328027330308,
          10.328608841460797,
          11.490372992586597,
          11.570061656341037,
          11.155807565798453,
          12.33467431933141,
          11.964317577050593,
          15.362192155245134,
          14.875571139191914,
          14.797086406495493,
          15.58750787607517,
          7.884952945759814,
          8.899457906353966,
          8.935771938669784,
          9.11367527468558,
          9.793664149729882,
          11.739806635464063,
          10.232450898925498,
          12.910560784148197,
          12.115351432087618,
          11.206234077542744,
          8.556053828945881,
          9.603198519346634,
          12.30816290513532,
          12.704436912397608,
          11.018863219806816,
          11.767178460319533,
          13.65575810551936,
          12.85149148209607,
          13.015504623114548,
          13.215729065916872,
          14.785268903716494,
          14.675009442933941,
          14.738145888733872,
          14.218199338637202,
          11.889694912234402,
          12.43563647504476,
          11.67805511878272,
          11.378240913027286,
          14.447296952427687,
          11.837353553990743,
          11.18085157629696,
          7.279182577959075,
          11.373205623531707,
          11.570056735249219,
          11.637452922072574,
          15.263499028922434,
          14.24131670855191,
          15.260264226289687,
          15.496567814611868,
          14.194642762184069,
          14.309342196739125,
          14.265465260325033,
          14.186994237387928,
          14.168127447682542,
          14.143982916079644,
          14.136237510236944,
          14.188448733824067,
          13.449004476336901,
          13.334876242957218,
          13.404834811756901,
          13.341462656860731,
          13.369621899088383,
          13.47682636363679,
          10.830848019370489,
          11.270862897609097,
          11.206862155966396,
          11.083428054753343,
          11.068956804858049,
          11.110018070254796,
          11.840975959173967,
          12.047096730197419,
          12.016869986627048,
          11.899203790805148,
          11.788002652408043,
          11.631626100030685,
          13.347937113094735,
          13.2851642552164,
          13.266432920036724,
          12.740230366561235,
          11.869578668897827,
          13.161082975326334,
          13.182208056845777,
          13.275950646855627,
          13.357026185932003,
          13.527869653530175,
          14.486513333135171,
          14.341551252491023,
          14.342195751264057,
          14.319391321920932,
          14.376299938472611,
          14.369578987720542,
          14.323911097718149,
          12.536711157624305,
          11.73262740648671,
          12.297326576331347,
          12.645144408577318,
          12.565803307589812,
          15.721628177119793,
          15.700408423470272,
          15.712653193430778,
          9.230067211681064,
          13.911782851570115,
          13.928948680381213,
          14.037461606529632,
          14.108549059103733,
          14.235112015654547,
          14.067295287791557,
          12.76330858166239,
          13.001641902478744,
          12.813026354169729,
          12.733425960772387,
          13.42039258810942,
          13.361710947607015,
          13.35289088012642,
          13.159215730513415,
          13.109843388405823,
          13.070932684104296,
          13.06950083133253,
          13.844246818418586,
          13.838084347019425,
          9.004991137762234,
          12.385536959811832,
          12.391647900640493,
          12.42874869656414,
          12.417551344664357,
          12.479011627136085,
          12.520363374089108,
          12.335328706058842,
          13.045380816036642,
          11.120177178450914,
          11.187444601288197,
          11.274135138829827,
          11.334336931765382,
          11.375225395473485,
          13.208809571188562,
          13.415057850141103,
          13.315340423951959,
          13.334036163328115,
          13.303270426702248,
          13.436280613705552,
          13.554196819924648,
          13.101787222026527,
          13.105096353945616,
          13.15123396282532,
          13.236656061116486,
          13.230515950014677,
          12.923683673583882,
          12.747972768448095,
          12.7546376994624,
          12.753817313778931,
          12.700918748543346,
          13.504902345124338,
          13.407516078772147,
          13.410695166099313,
          13.379495428671632,
          13.380369698771167,
          13.290588958651972,
          13.179736152754478,
          15.267273320249265,
          15.379401999762345,
          15.286399711818069,
          9.597359093477847,
          9.817692408362701,
          9.973992613421482,
          10.94838075432815,
          10.347502741922996,
          11.02685841096898,
          11.47823230661499,
          11.551335766087954,
          11.544689002757282,
          11.593306389366852,
          11.62604346389454,
          11.59612230688535,
          11.599093408916543,
          11.610330690730224,
          11.603969630836383,
          11.603952945587146,
          11.601567468021706,
          11.599277752092691,
          11.594151050662758,
          11.58614742921498,
          10.4156397068637,
          15.103359054485349,
          15.074642848835303,
          15.049224062218686,
          15.18777749678071,
          15.064044874755291,
          15.173359194393496,
          15.029349504597915,
          14.70833478487894,
          14.732239397735494,
          14.682890280254771,
          14.78047439450973,
          14.840501155918108,
          14.74713558495388,
          6.7979699324113145,
          7.239161289011072,
          5.855494408783084,
          13.678483318301158,
          13.710662330110418,
          13.69210260709238,
          13.75557260272912,
          13.66050599735743,
          13.094899888060779,
          13.165580752784813,
          13.217695437292193,
          13.191615495504452,
          13.248288320142793,
          13.174698496416292,
          13.226509204382916,
          13.22190391625094,
          13.193328614249435,
          12.099586559401903,
          12.331207726265445,
          12.277161789940939,
          12.611671785893638,
          12.020057335538533,
          13.652553167650721,
          13.771560248281286,
          13.8246211204691,
          13.73238160188841,
          13.58139093940915,
          13.835520840169268,
          13.812358174420304,
          13.826982937833735,
          13.712506884991734,
          13.859807432888461,
          14.142341127019476,
          13.690849947103862,
          13.707273574315238,
          13.718747146430093,
          13.68997850090954,
          13.680484082987572,
          13.150721596404633,
          10.80240442685032,
          4.893382371669063,
          14.267587068154539,
          13.997551340943534,
          13.926080119678083,
          13.8535691730884,
          13.97897035624095,
          13.730759226563867,
          13.258110278112893,
          13.752182569106113,
          13.788258057072676,
          13.826176474309221,
          13.768094829147948,
          14.121165065094326,
          14.227025343499179,
          11.750518639185781,
          11.54610354564804,
          11.668744914087402,
          11.53651265539894,
          11.766782841811187,
          11.792289763935713,
          11.959135886700745,
          12.301639954333867,
          11.83043494899847,
          11.89071396823669,
          11.429447924390443,
          14.516339376099712,
          14.702940617375305,
          14.691155357891809,
          14.827961890065392,
          16.047992341734957,
          16.108945777274844,
          16.23161819346828,
          16.104027549263865,
          12.568807031426589,
          13.011197913611726,
          12.916292722888025,
          12.93948825248156,
          12.865476511134082,
          12.86633301107087,
          12.722211040476331,
          12.83551758679107,
          15.265039199694701,
          15.255438109791223,
          12.99605683832871,
          12.827824534136424,
          13.450746427166077,
          13.573125774199555,
          13.563721125872632,
          13.587671891828172,
          13.173502645030366,
          13.453554132092535,
          13.30658856347912,
          14.231141195262577,
          14.325729660671723,
          14.366105757576461,
          14.411344207379624,
          14.466921411194631,
          14.55276055048046,
          14.488114849385907,
          14.468279405766538,
          14.517744513631873,
          14.640010218218613,
          14.688486539117743,
          14.687102272366808,
          14.78745799600966,
          14.81035945396272,
          14.696152808815025,
          14.851411425152868,
          14.069672342264946,
          14.205885073447867,
          14.40856720099068,
          14.483028807989266,
          14.542755385989414,
          14.590570034635634,
          14.545182314643327,
          14.549251430308733,
          14.610260036528425,
          14.5651412239476,
          14.466505995492378,
          14.433470279466023,
          14.485511046626861,
          14.370582138385323,
          14.22018921673994,
          14.114382949368549,
          14.033510593751462,
          13.738312433453098,
          13.573011060298686,
          13.701263066546728,
          13.983263800701334,
          15.421903639700584,
          15.458215379504928,
          15.54107979068186,
          15.511730571106206,
          15.547578938248458,
          15.085198656107622,
          15.07788661151634,
          15.607937158623553,
          15.567676293226798,
          15.58661254686048,
          15.673217379838674,
          13.033507999139086,
          13.116775152280619,
          12.970876773355023,
          13.26638675253227,
          12.026750607629278,
          11.960072095059063,
          11.956024162572534,
          15.263203823306508,
          14.33343403689429,
          16.929045333651842,
          16.894557344493794,
          14.443734479522954,
          15.508110344019082,
          10.657594785375359,
          13.07035614401244,
          14.08581529963188,
          12.708040326445992,
          12.445913222434116,
          15.115938894247904,
          15.799501717937064,
          15.99421104906945,
          16.043003224295425,
          15.78620559050749,
          15.720957524984641,
          15.940880403782671,
          15.887400731123906,
          14.372143115660196,
          14.411116376936555,
          13.57249866407129,
          15.349185429116732,
          13.804703712551039,
          13.3268427762608,
          14.019347026556689,
          13.914795384330542,
          12.669001018310587,
          13.08007037099432,
          13.287569003620236,
          15.367146331220864,
          14.66327652370018,
          15.976038868798138,
          16.225216578167544,
          14.991024952055149,
          15.176206611935003,
          15.282131629669601,
          15.326116379272115,
          15.40409671088847,
          15.744117704030932,
          15.771399641679677,
          15.68558300827097,
          14.433932521200928,
          14.431604288614668,
          14.280450548527936,
          14.53321817583162,
          14.386080466100251,
          14.338074175486758,
          12.372218000543977,
          12.11757263195653,
          11.91509572877948,
          11.794528835793487,
          12.456896153360574,
          12.360647065391227,
          14.555118156418214,
          14.81397593274005,
          14.872144845761156,
          14.909997283980953,
          14.801457260011274,
          14.846574694473162,
          14.384862602483746,
          14.354758730324,
          14.334060795843698,
          14.546461967050702,
          13.835250438193858,
          13.877574969963685,
          14.049605400375608,
          14.186429198203463,
          14.22516226416735,
          14.260713881497727,
          9.891747237114135,
          10.096860621202394,
          9.788918097792992,
          9.970912528850917,
          9.700239148747773,
          9.585895949678203,
          10.033901591258061,
          15.591501812593233,
          12.102732153484807,
          13.08919161158387,
          13.23202172002059,
          13.165919878209259,
          15.891003522165567,
          15.654687986920896,
          15.735146604539494,
          12.235995459181428,
          13.61906990224125,
          13.720156589518842,
          13.735996797290271,
          13.865148933729092,
          13.734247355790242,
          14.909819436580847,
          15.063282502232811,
          15.273433519785698,
          15.222151468316946,
          15.322851852066174,
          13.958637467265236,
          13.865019454260072,
          13.897738381148457,
          13.874268742599389,
          14.227972961136219,
          14.243989295976146,
          13.920399847612561,
          14.46844306689441,
          14.178859569897059,
          11.473052885258735,
          13.00626155763399,
          13.61399309832762,
          13.51722678564721,
          13.957987549474334,
          14.041058059489737,
          13.66287291600282,
          13.239931496128934,
          14.201821301265296,
          14.43422180544346,
          13.677033240105601,
          11.761880850897226,
          11.977357350842242,
          11.949042628633384,
          12.363448120113047,
          12.422143242370502,
          12.086877885934616,
          12.557815789891896,
          12.76697185828835,
          13.093644558232665,
          13.510169574675524,
          13.581267132355341,
          14.766862921693884,
          13.273674374755812,
          12.756877805145667,
          13.605572553510118,
          14.033416920092153,
          14.469707235194308,
          14.34996026371902,
          13.857538221635057,
          13.973182957443179,
          13.73221679583706,
          13.76962124031473,
          11.797660699757744,
          11.893887370690537,
          11.667845952395533,
          11.81508999540374,
          12.053828791609735,
          12.164657088645317,
          12.341121424769442,
          16.52099199595105,
          16.48653204705569,
          16.484032025146345,
          12.195666539327199,
          12.464446933695267,
          12.550410297088373,
          12.685078371543739,
          12.676579220152677,
          12.934841918240965,
          14.602554722045822,
          14.7003926877178,
          14.770447581489414,
          14.797506129808287,
          14.833087494301907,
          14.855976197829344,
          14.908420418826719,
          14.948509617786508,
          14.99066725637557,
          14.996499944238883,
          15.009381297998422,
          15.03509538904699,
          15.02470519730403,
          15.015946609075005,
          14.660341618029397,
          16.938703720648476,
          16.972263447393278,
          16.954323493824617,
          16.888936043107798,
          16.87571649630083,
          16.876380972407915,
          16.800278478847183,
          13.108576719802056,
          12.529166669901294,
          13.318831396354541,
          13.432654933700459,
          13.465924761813389,
          14.07761415031316,
          14.349321201254835,
          13.948725639390469,
          13.954594259223436,
          10.545013611856366,
          10.596212005759462,
          10.515044996056119,
          10.493148148679976,
          10.465312403729818,
          10.391613716987662,
          10.393478533437012,
          10.701677754685988,
          11.272797978795165,
          11.279603076521328,
          11.182240864612995,
          11.172070642808073,
          11.25963724954021,
          11.15790176780171,
          12.366273696057664,
          12.394005345817243,
          12.72363031317319,
          14.669134579133146,
          14.113120110492552,
          14.558490782514927,
          14.713983743923839,
          14.820033974062005,
          14.976609557997206,
          14.99069265383909,
          14.97943849073167,
          14.981254303205464,
          15.047501409245662,
          15.053966316118899,
          15.247057922966734,
          15.391687244015516,
          14.740793086830584,
          14.812685320323716,
          14.84853799057878,
          14.93315974753581,
          14.999324937919383,
          12.409691238991837,
          12.072722397189464,
          11.954242125182521,
          11.924620127312867,
          11.027113212150581,
          11.54414207024894,
          11.557255020963451,
          11.548640038794222,
          11.5370919669553,
          11.744899449366736,
          11.850759005233634,
          9.123304880193986,
          8.950662176476275,
          9.071310659181433,
          8.936609801929977,
          9.132735559135027,
          9.152232011516098,
          9.346058720939109,
          9.715078919551626,
          9.231369494019079,
          9.316850341296186,
          10.351171704432609,
          12.571204683797975,
          12.59411650023483,
          12.714250619735264,
          12.674089551927603,
          12.747816665693922,
          12.755645849160354,
          12.641209597917824,
          12.620563969209314,
          12.647989607380392,
          12.615070135553374,
          12.536308754773502,
          12.514019986225609,
          12.554502737383197,
          12.472787177740269,
          12.327442150214265,
          12.237979114737728,
          12.188150817803063,
          11.929149218777319,
          11.766455077595053,
          11.774893277949118,
          12.032531132390256,
          13.241362338730159,
          13.269587499452525,
          10.940939686421869,
          12.302908932966908,
          12.338757429883026,
          10.523993595112513,
          10.45076841730751,
          10.691888083032774,
          12.622027697107459,
          11.802418567475788,
          12.094776322827949,
          11.173248097400068,
          11.936290058537697,
          12.008690623089228,
          12.047663673451169,
          11.947674914628038,
          10.4381442380905,
          10.59602875558378,
          10.766725127049803,
          12.942331659064989,
          12.209871098646286,
          13.606219980317537,
          13.76601696703086,
          13.227994130621619,
          13.203563845115273,
          13.403365009315564,
          13.370920956785804,
          13.657991074192264,
          14.02611704322929,
          14.113681709502638,
          13.99864086451369,
          12.07623428056768,
          12.238603531474617,
          12.330015730219266,
          12.456217606595988,
          12.309080436693545,
          12.261074340103912,
          9.89770369948073,
          9.536662210627002,
          9.285480571042621,
          9.135369044236983,
          9.877286604898494,
          7.39940945251015,
          12.36804972555725,
          12.49159160213285,
          12.501904476238911,
          12.530454430016741,
          12.679437677485895,
          12.718974595036663,
          12.461701067689111,
          12.522500905590682,
          12.478135560273676,
          12.932219419952853,
          11.261929494429406,
          11.443905587680469,
          11.58649352330263,
          11.627377750628291,
          11.668597731953735,
          9.436678814186912,
          12.379684823876932,
          12.63528685405585,
          12.7023822772258,
          12.592115915537502,
          12.861926511642547,
          11.986242165271266,
          11.843319047864389,
          12.053468757742172,
          11.940739044653032,
          12.035395607067944,
          11.547948421760784,
          11.5343188300418,
          12.01879038261885,
          12.113505380128192,
          11.651081304010969,
          11.289100246642773,
          9.849353747958677,
          10.030384485724479,
          9.994333235835704,
          10.461673747661957,
          10.495266238707785,
          9.694938024582445,
          9.886734473749136,
          10.226612077282828,
          10.307757446428079,
          11.10728223924049,
          11.074138186094855,
          8.026496938945412,
          8.01218970196927,
          7.748644295597632,
          9.409446116268054,
          9.470126855280384,
          9.596418766284158,
          9.627940814816242,
          9.52551075516599,
          9.990446363352515,
          13.704749846957544,
          13.60867509543456,
          13.711978849893567,
          13.658056829182337,
          7.617752881526595,
          7.573013829969002,
          7.899291031102176,
          7.620726608084906,
          8.726699467090867,
          7.609924564938191,
          10.74978012657562,
          11.585276053775221,
          11.827065382635968,
          11.738059034883303,
          11.738048815188609,
          11.800016112564801,
          11.873298711748658,
          11.854974692654965,
          11.930984140175957,
          11.928184720118342,
          12.658271837268133,
          12.664736281914614,
          12.40319188293329,
          12.653850700137104,
          14.123375547107491,
          10.690374693968769,
          12.10527967069354,
          12.49497067802538,
          12.487813057941057,
          12.451931872697521,
          12.36269272812962,
          12.812334904521629,
          12.771566811946984,
          8.929770277197573,
          8.91371651357034,
          8.326134424411507,
          8.422882511944996,
          8.422821666272547,
          8.684521955398644,
          8.422821666272547,
          14.20197538441234,
          14.115449226334883,
          14.182080857809792,
          14.18967250991882,
          14.141034072529946,
          14.143921019018105,
          14.023136249262182,
          13.923255141219089,
          13.883936183164055,
          13.984248268496666,
          13.690104887630653,
          11.965934414996417,
          11.902261915057691,
          11.96969061943224,
          12.119422411992883,
          15.229790153820408,
          14.99826403813841,
          15.146585049583772,
          15.185322076926555,
          12.291624174422727,
          12.34509241065119,
          12.330844584014866,
          12.207043254328708,
          12.357300101911434,
          12.441650148283774,
          12.417327949615508,
          13.000117061916733,
          13.295847874772022,
          12.518631066414423,
          14.13059140442603,
          14.194328311036644,
          14.269141450943277,
          14.35214527409266,
          14.342061320438749,
          14.287375056773476,
          14.269367159145256,
          14.25994526295044,
          14.215307728388886,
          13.333846011780919,
          13.416418848531785,
          13.79293272262892,
          14.068664187716937,
          13.517276275311733,
          13.18133055276401,
          13.40382075828892,
          13.652830727368556,
          14.268773582626999,
          14.452983587732884,
          14.039273135442388,
          12.845209769763253,
          13.038585859816129,
          13.208586419846506,
          13.159250044835302,
          12.91881502175372,
          13.056852105128986,
          13.02453426952876,
          12.909884362943842,
          13.048205645478067,
          13.291506693909469,
          13.73611900164147,
          12.846499191393361,
          13.590509992621666,
          13.492789735747966,
          13.40571358084487,
          12.687092451241668,
          12.53073697751915,
          13.950292365458422,
          13.948923054492411,
          14.086554348231962,
          4.95830882310351,
          9.014666062651518,
          9.038958755220563,
          9.171911345356401,
          9.275472466913964,
          11.678938987061718,
          13.746511593099374,
          12.877500495227679,
          13.01542148877801,
          13.800997846828002,
          15.838207262034427,
          15.858340768528448,
          14.702697147264047,
          11.787520010361316,
          8.410809860248763,
          14.4926260021058,
          9.310522441918522,
          9.332265317320108,
          8.943636705909594,
          14.68620748821808,
          13.873645986999417,
          13.983700360019304,
          13.968884210436196,
          14.028927945947267,
          13.92602604702945,
          14.061208182575534,
          15.020717652212467,
          12.348024911364773,
          12.455040326105902,
          13.728413202323182,
          14.179283249740838,
          15.339045720651322,
          15.10549427060124,
          14.433303654667425,
          14.254312415870245,
          11.168592230773953,
          11.31123610374191,
          11.265952789964478,
          12.353517975365381,
          14.64458050140719,
          14.669357462522418,
          14.870178980376664,
          15.717327533576073,
          15.641079521097145,
          15.65302009674529,
          15.708477989789747,
          15.19332155026001,
          13.028529751340816,
          12.910545145776826,
          12.93245617066445,
          12.735433108221372,
          12.701045810139645,
          12.68660166813326,
          12.443125741836965,
          12.021398536437188,
          11.994733302648852,
          12.190232060657628,
          12.296200057367225,
          12.120145174219124,
          11.575528434925264,
          11.813031316753106,
          11.79871901838677,
          11.757205891377893,
          11.91831310157592,
          11.700691446996618,
          14.98820698202946,
          14.068185525126593,
          13.804058732345098,
          14.046379773611969,
          8.325742086834518,
          11.838099031526701,
          11.635389328916384,
          11.662669263776023,
          11.651290883868882,
          11.908147522788365,
          14.147927544030912,
          14.229008707955991,
          14.057522182367828,
          13.930826414759828,
          13.90344971349592,
          14.026049151539175,
          13.807029736604878,
          11.140248247320734,
          12.874617351733292,
          11.955500601044612,
          11.110736058643266,
          11.244771726703632,
          14.269653378506165,
          14.320622603615536,
          14.251371853880084,
          12.430313870540123,
          13.270506788751312,
          11.190791978800103,
          9.0244873182998,
          11.2067134289172,
          11.368169616930675,
          13.317855503556247,
          13.327291404827195,
          13.449467022643436,
          13.493287004988083,
          13.450294643557294,
          13.449402216253729,
          13.439704853833247,
          13.429018199810065,
          13.727117036440717,
          12.842725358100731,
          13.035401000372067,
          15.245101101924687,
          15.285824077769304,
          15.342168996452921,
          15.378752595401506,
          15.400542934648374,
          15.301577813661845,
          12.725692127506534,
          10.343681226579783,
          15.085159860685978,
          10.700283779429453,
          10.963445634222696,
          11.187804557543554,
          11.001549689898756,
          11.148463135039968,
          14.364437482743755,
          13.717026013782633,
          13.681290643412174,
          13.766622816957204,
          13.678112381267647,
          13.602968781363275,
          13.49523799899951,
          13.42043462225123,
          13.389535419364668,
          13.327120484267635,
          13.224366913269552,
          13.46649994462326,
          13.474673992571644,
          13.383226891906363,
          13.331217543246582,
          13.65112243180123,
          13.602710951539592,
          13.412325455101671,
          12.886727116128304,
          13.223370028735314,
          12.763841013750456,
          9.531527164876548,
          9.536896390733801,
          9.54108193388841,
          9.528070204779908,
          9.610422350338599,
          9.539920951300816,
          14.555555832627222,
          14.572061137866834,
          14.64991901497532,
          14.401082700787121,
          14.439096986313329,
          14.403434450195054,
          14.306908105673847,
          13.801346351093592,
          13.767635549512006,
          13.750973547523461,
          13.795140814861275,
          13.860506993016232,
          13.83665920763672,
          12.672976296262574,
          12.258930833074203,
          12.859801672988654,
          12.701312735772216,
          12.751029514499788,
          12.798983045304306,
          12.85411973919862,
          12.890303635639269,
          12.843944776503193,
          12.905281222559546,
          12.936303678482195,
          12.921342245345798,
          11.746145737346293,
          11.000060792941348,
          12.85097062529736,
          11.238632474720204,
          11.868547128229999,
          13.457349780635766,
          13.585761884728543,
          13.55872502507866,
          13.53855172902682,
          13.63396768261689,
          13.387157076533077,
          12.196166994588832,
          5.166856055800727,
          12.974164077175432,
          12.70412887177015,
          12.665619843473165,
          12.561612153170435,
          12.193067441992836,
          11.916741158414943,
          10.004891738461145,
          10.476870481058441,
          10.593533742712589,
          10.70038645533948,
          10.733066472716933,
          11.627639346380871,
          11.493947318192403,
          13.067397509106833,
          12.859530181210635,
          12.984510530677525,
          12.852601819782072,
          13.076977927035443,
          13.102941704261823,
          13.271290855410104,
          13.415347921933815,
          13.209215455190378,
          13.242093237493092,
          12.701547586602482,
          14.16385555139773,
          13.929921954935633,
          14.026563729765694,
          14.161438288113798,
          15.511244141331515,
          15.566343728510484,
          15.262249372577154,
          15.151078322811921,
          10.752874623088832,
          11.055580968656372,
          11.005860741046629,
          11.035706182752492,
          10.94723473158733,
          10.963317433922235,
          10.844069734917026,
          11.055563760910308,
          13.116344097834576,
          13.679180506832745,
          12.498115444055387,
          12.352713260714133,
          13.021468758324533,
          13.089327592795884,
          13.095458174380056,
          13.192292168648382,
          12.843716011469134,
          13.023847631217574,
          12.827735254502324,
          12.167164620646263,
          12.247810986740111,
          12.443600461640326,
          12.528135527117815,
          12.966331077507354,
          12.6798906751722,
          12.690313716621878,
          12.82362449758278,
          12.725219361491192,
          12.74879332453385,
          12.665666035005827,
          12.612598002627259,
          12.72726432408239,
          12.663880929709,
          12.57594268914925,
          12.432057116179879,
          12.26881764718427,
          11.864778490303015,
          11.645178978573917,
          11.685249042493298,
          12.14506882495759,
          14.235313996105296,
          14.27468459519934,
          14.155510651673392,
          14.124364173260833,
          14.175595381649488,
          14.014311365348448,
          13.80783741751035,
          13.254189970909817,
          14.986334240645776,
          15.261141424038831,
          15.534202085152321,
          11.064861445309406,
          11.406167614301786,
          11.226852779941472,
          11.419779821186962,
          11.347809324829194,
          11.418152445669365,
          13.149740371242112,
          14.583219755313543,
          14.594736390432846,
          15.33366107146082,
          14.329853574573432,
          8.17758591198998,
          14.902693238851974,
          15.065165073767835,
          11.106115741567677,
          11.043297765054207,
          15.818890589286653,
          15.53531004719985,
          15.43192396601554,
          15.479432733976115,
          15.070654926218227,
          15.306643187954075,
          15.320142867452958,
          14.380608071459308,
          13.12575980030451,
          13.826578111723435,
          14.1529123902112,
          14.404063096588072,
          13.827516119496597,
          9.59546178108647,
          10.023604639915533,
          10.16126340299091,
          11.75971392840156,
          12.704680359023198,
          12.837607406056634,
          13.02571943137882,
          13.242052712367855,
          13.30792567062438,
          13.666665892187476,
          13.771835783021041,
          13.81132280380517,
          12.111919271875689,
          12.164707462810869,
          12.050700945786646,
          12.306544678641082,
          12.15529139385721,
          12.108542942908116,
          11.59689501140895,
          11.079159465853692,
          10.845362479532849,
          10.599706793867293,
          11.254052969616192,
          11.37685175272525,
          12.418849554614031,
          12.30580851478023,
          12.138981403778063,
          11.879254986797967,
          13.020875419165158,
          12.892926255697724,
          14.707925812486078,
          14.767788622347894,
          14.899991363200387,
          15.22843605790648,
          9.885119895177944,
          11.672537435409449,
          11.79832426439918,
          11.765185423917991,
          11.90073120612955,
          11.928410576298942,
          8.70009069753925,
          8.843470781627381,
          8.72029728739272,
          8.841914296000406,
          8.142943454428986,
          8.15729247884713,
          8.631512457364767,
          14.511405264139597,
          11.683550369236391,
          11.204887201986326,
          11.577498373466742,
          11.658707065373685,
          14.878249601736087,
          14.668237215146084,
          14.713656728867603,
          9.165552189186048,
          12.827979001276859,
          12.655994064024917,
          12.806890369513214,
          13.013563665596552,
          13.454787545928268,
          13.460997404243791,
          13.134492758145475,
          12.776786554604623,
          12.555021780353963,
          10.457516630876476,
          12.082571552193992,
          12.049466245972013,
          11.969851963744738,
          12.4051615508187,
          12.6355369287199,
          12.340763762881934,
          11.971490988750714,
          11.750137916341558,
          11.576072178637979,
          14.086977878988641,
          9.07660013856354,
          9.368796057668156,
          9.71474542793925,
          10.176563472598547,
          10.382388978717474,
          14.840708896493885,
          12.232549741080888,
          11.658999295834928,
          12.444739500096084,
          12.796306557922334,
          13.1100312614817,
          12.903097916567,
          12.373194985979245,
          12.465241251238082,
          12.187383475909856,
          12.153975738859065,
          9.392745258631441,
          9.299734122633598,
          8.957849156870163,
          9.180868520231769,
          9.641569092606758,
          9.97891253997491,
          11.028003401021747,
          13.586551378620005,
          13.692412547821526,
          13.771242005882101,
          10.072065091537823,
          10.251372981614034,
          10.331529214823197,
          10.4660646657023,
          10.539283653638472,
          10.507827836033696,
          11.758177908334863,
          14.838829555028392,
          14.747791050772804,
          14.689075229535401,
          14.642900599300859,
          14.636533039868672,
          14.583436116553694,
          14.581980689310821,
          11.148786400312309,
          10.610260423945705,
          11.399079931070808,
          11.495342589243347,
          11.557000298116856,
          12.182042963122917,
          15.459992567144955,
          15.31857491076672,
          15.285205209617608,
          7.895210937077847,
          7.914515643668991,
          7.893945138235959,
          7.931406817078366,
          7.900619077915519,
          7.783004540127896,
          7.768731602616019,
          8.146343484812327,
          8.76322165048457,
          8.737183227624339,
          9.421888960771666,
          9.376899878332582,
          9.467653344407765,
          8.801002454024768,
          12.057090688901633,
          12.540730307894096,
          13.56798074950705,
          14.255763305026266,
          14.435379154453601,
          13.888786834835338,
          13.867596252843716,
          13.975884583345268,
          14.091231936191413,
          14.127411190601784,
          11.116277354389029,
          10.779312835881791,
          10.693795840041,
          10.632678056035466,
          7.77425549289971,
          8.269049535365843,
          8.319185234061719,
          8.37770121259764,
          8.458759485721785,
          9.251453597995207,
          9.103853070619271,
          10.440109659307486,
          10.264001091355018,
          10.386998446112475,
          10.252609885210994,
          10.442857390364416,
          10.462812066849581,
          10.65815456286679,
          10.828749392795531,
          10.610082188737119,
          10.668168063761263,
          11.423837555932048,
          10.666756940027359,
          10.62751735115257,
          10.745304159880597,
          10.71545722168611,
          11.150331835391338,
          10.842874966312351,
          10.780530789752891,
          10.887168603187572,
          10.756393031445489,
          10.791572998571315,
          10.728978470525515,
          10.686871184472093,
          10.795463401161372,
          10.761466560881338,
          10.679811724305877,
          10.557690150854686,
          10.424761496383702,
          10.0502463542179,
          9.845830965187671,
          9.756955483496863,
          10.195445947535315,
          12.05491623703266,
          12.086141250002008,
          9.55542311442152,
          10.915561079786999,
          10.96678349607667,
          8.682722455207161,
          8.54615620729471,
          8.734599384153066,
          11.911090854551869,
          12.06371933648846,
          12.987592935961016,
          13.005575164566265,
          12.639238584962758,
          12.94318734480177,
          12.956686995238785,
          11.96954919558926,
          7.365143949670454,
          7.540027277988178,
          7.640842031946436,
          9.306386983866004,
          10.588596998159273,
          10.721521286295589,
          10.909629983890463,
          11.146494440237532,
          11.236463821968872,
          11.61873085311113,
          11.823428789910247,
          11.63537820506376,
          9.75426843119445,
          9.971743896710738,
          10.100297566189706,
          10.229572269618817,
          10.078324139158235,
          10.031577445540812,
          9.122434653519015,
          8.498370737531074,
          8.21591210422841,
          7.940777826184849,
          8.674553922273072,
          10.073325438009473,
          10.231809314263254,
          9.983462427139823,
          9.768789526528012,
          9.499776791242741,
          11.063310109461137,
          10.920624844903811,
          12.784763364926002,
          12.935529762053436,
          12.92310851275727,
          13.428553342848666,
          8.807181814591685,
          8.990790687293678,
          9.135305223882064,
          9.133775342332193,
          9.202048154645816,
          9.99387120516305,
          9.995285415754031,
          10.473519768247124,
          10.714753176589575,
          10.33472880256918,
          10.028136535523865,
          7.164687452896473,
          7.422373700986824,
          7.76046702921342,
          8.274866820685254,
          8.455743229100015,
          6.096714687250279,
          7.3724322467221475,
          7.3724322467221475,
          7.455298485683291,
          7.4635925085774755,
          7.45524064711073,
          7.563880527297367,
          11.494273071798375,
          11.40527094066709,
          11.456406432764515,
          11.479508826532872,
          4.137034715859103,
          4.132652239536052,
          4.454386936830843,
          4.161617476034092,
          5.286562417647162,
          4.192909406865623,
          11.860437499825506,
          12.955119039979623,
          13.264245137653315,
          11.508550143997944,
          14.954260288575073,
          12.852486190844624,
          13.023600514768733,
          6.5868610723242424,
          6.769389361710326,
          6.5607901843665175,
          6.453654919704903,
          12.557622632668744,
          12.589079872674155,
          6.485260393739556,
          6.496090968024255,
          6.335714566473248,
          3.441300028954367,
          8.291095940387704,
          14.691324235819359,
          14.602880145737316,
          14.200174820722353,
          10.49181560338174,
          13.96363511055904,
          15.250953077457757,
          15.257690760598454,
          15.318274768263182,
          13.783059555099658,
          13.710463569811957,
          13.706920064025752,
          13.764086273647148,
          13.573222376070946,
          11.351550355472538,
          11.024632798782994,
          10.87265602239297,
          10.849998898140978,
          10.865270942344036,
          10.540571369011333,
          9.947585934890995,
          8.433481617923748,
          10.589458731548955,
          10.087379759013832,
          7.146826201329041,
          10.148263721081422,
          9.947547568153297,
          9.915598748119042,
          9.988880289268366,
          13.733859415534463,
          13.775285229153626,
          13.900381896704655,
          13.89943723231514,
          13.92543287523035,
          13.904534429361204,
          13.927048422511424,
          11.001494557660108,
          13.538195284086385,
          7.872118053162383,
          9.818554377109258,
          9.775202401889672,
          9.972965952995194,
          10.038281306933996,
          9.85637565844948,
          10.51804962117861,
          16.094714121023348,
          9.972359497378415,
          10.293060377975431,
          10.269726614143455,
          10.204776628394125,
          9.544237868224927,
          4.879767018891217,
          3.763522997109702,
          4.528289141652134,
          4.48863636973214,
          4.546481189639412,
          4.269697449699962,
          11.604745006304393,
          13.411393540773087,
          13.482048386547925,
          14.228453636228394,
          7.9279830452051625,
          13.506616410970874,
          13.392528386116494,
          13.303839025870362,
          13.918836309216875,
          12.853178505386333,
          9.760572477190296,
          11.724571735120389,
          11.673427361624258,
          15.220782831902564,
          15.185049547399686,
          15.259272613606898,
          6.821617861151855,
          9.107097842680153,
          8.916441396972177,
          8.686243322025414,
          8.863718944062486,
          8.816485644985868,
          8.621183286205794,
          8.84347446311552,
          9.923399023320405,
          9.870747518050274,
          5.68243078784244,
          5.729253676700711,
          4.7316525760185,
          7.88639847720196,
          4.225658401493794,
          4.69343057430489,
          4.316776793941836,
          2.7657327738431734,
          3.646946165251464,
          5.247458504097056,
          6.40834104691278,
          11.02968487252049,
          10.195975435964566,
          11.238435986304431,
          6.25989392665908,
          6.508769136971682,
          6.416732282512326,
          6.804614520062624,
          6.907755278982137,
          9.755067821746048,
          7.594302326503956,
          7.181281021755648,
          7.771809661405752,
          8.094097575251922,
          8.347316435854093,
          8.221261611823598,
          7.808550127410856,
          7.919699949750508,
          7.676537622089538,
          7.681963878921835,
          12.669444521107827,
          12.532977591019531,
          3.7666313671528497,
          3.788603152515956,
          13.046690383873992,
          11.528315838674066,
          11.59402287335644,
          3.1535023688869264,
          3.198519898733189,
          2.263448522642756,
          5.321760497710857,
          1.8187805033334514,
          10.029493855627827,
          4.35829142757335,
          4.574710978503383,
          4.477336814478207,
          4.90527477843843,
          4.983606621708336,
          1.6042232826460066,
          15.255905312064543,
          12.131435243790317,
          12.677301160546948,
          11.36293240641189,
          3.508251726745745,
          3.5082517267457454,
          3.5082517267457454,
          3.5082517267457454,
          13.161320201062185,
          13.201011274441255,
          13.540224285964399,
          13.466385538319834,
          13.769536742668013,
          13.758299601475589,
          14.29852980906666,
          13.906065096702937,
          13.918403281125462,
          13.969846327193084,
          13.123576317131308,
          13.207531531524094,
          13.931787280851646,
          13.930529754022155,
          13.740780861545115,
          13.507760948649132,
          13.642828335439043,
          13.645049925129902,
          13.346347842383928,
          13.501787740631851,
          7.4926799084709375,
          15.615460892547192,
          10.387348970523009,
          10.342958267470433,
          11.393865934802877,
          10.821749687773787,
          11.805174666582847,
          11.191639662146837,
          12.232776406193917,
          12.128110492530913,
          11.568865420420071,
          11.465076215191734,
          15.631697648790857,
          15.572313669865377,
          15.760672760457389,
          15.966315539915579,
          16.01145293082107,
          16.099571397414064,
          16.025415846389393,
          16.071886464113728,
          16.122614754702035,
          16.124441898101896,
          15.981724545423711,
          15.95322863005321,
          16.13401460516207,
          16.08362721366427,
          15.91072570999092,
          15.789837129075659,
          15.73545087161851,
          15.014246447273049,
          14.77226861186234,
          15.307728975714994,
          15.826922460508698,
          13.711225162989757,
          12.630146040069974,
          13.237653438162567,
          14.579925287635982,
          13.49954560227333,
          6.6680566962190495,
          7.032906657161056,
          15.27984354492041,
          14.261122610397571,
          14.235347889102462,
          13.993163702994874,
          14.378115865401368,
          12.046009931886648,
          16.089723231274622,
          16.7865240235848,
          16.753635815657994,
          14.42821835891566,
          10.433811902503809,
          11.03969262743914,
          10.258600677470262,
          13.878378881973816,
          13.785750641011916,
          12.946362834478698,
          14.957306588199392,
          14.70322146352643,
          14.719488135207804,
          16.05139991446393,
          15.68302606836514,
          12.814963213416204,
          12.988940071376936,
          13.57387010040848,
          13.685891599030489,
          14.876152338313922,
          14.75501174672604,
          13.920102267937915,
          14.183344127393308,
          14.100048221448676,
          14.166875927659904,
          14.335205685684532,
          14.063722707532351,
          14.096687429984357,
          13.8869646146361,
          12.39204088101908,
          11.9897145751036,
          11.86042614137919,
          11.818682188947376,
          11.84944689105781,
          12.159507907072495,
          12.662481084472624,
          10.825536706558413,
          12.321981246903949,
          11.943303524575164,
          12.678828196657827,
          12.577194727662183,
          12.5120787581649,
          12.502591879716414,
          12.522651749647189,
          5.102728182753178,
          8.592842817467822,
          15.798904574577518,
          12.1786844183732,
          13.967307214394141,
          16.257955011208484,
          15.505116758431907,
          15.995241518450973,
          12.597171721242486,
          11.82544747283186,
          12.023005823094776,
          12.007626895817262,
          12.005062844080859,
          12.019734910678848,
          14.18508305078587,
          14.321793213057076,
          14.145931151705062,
          13.998360566601836,
          13.801705310184765,
          0.8445010260325804,
          0.07583844628150355,
          8.900245705358133,
          12.608888950531997,
          15.569011447597251,
          15.466420803438668,
          15.54268073116252,
          15.486789930147992,
          15.328283202772008,
          15.212850408000017,
          10.764371277138544,
          10.927935452349779,
          16.29452295405195,
          11.019754982919448,
          11.00715686286628,
          10.985706387743324,
          10.979673767357335,
          10.950777991599148,
          11.070141802852438,
          13.442084284771449,
          12.977558261934783,
          11.724934719344608,
          13.425657995466596,
          13.977647216810539,
          14.15919377618769,
          14.18352292415615,
          12.922176318469724,
          13.252569889450886,
          13.129779781677783,
          11.112462823634855,
          11.152378091505257,
          11.039093819774664,
          11.23980801101003,
          11.420350424192433,
          11.307245065684665,
          11.255899864368343,
          13.47268075477613,
          13.53566304835308,
          14.112301518246404,
          12.523531773103635,
          13.295356728118694,
          13.652803375453894,
          13.646802396979899,
          13.704057900615863,
          13.822146759588554,
          12.321708045987087,
          15.755120335392869,
          15.772988157824148,
          15.777360435770982,
          15.488858873271994,
          15.554914703804123,
          15.537402507663053,
          15.519373614128577,
          12.995624225199904,
          12.148716059114161,
          12.871264285761967,
          12.877018081472157,
          12.827253359093435,
          12.741210448555343,
          7.755258409228613,
          8.688738559763834,
          8.52806666040269,
          8.43771698991444,
          8.018799305713314,
          7.828402109267998,
          7.655882947867545,
          7.599170119907782,
          7.306890466815831,
          7.019551835464602,
          6.910395809710293,
          6.290722086094912,
          14.886772493460885,
          15.557234807854284,
          15.70022047299487,
          15.529296233391495,
          15.5366459215995,
          16.78631336318748,
          16.75349657185223,
          16.77654821352882,
          7.631476278204616,
          8.657588926728945,
          8.64605521904769,
          12.165143323273615,
          12.106142552019932,
          12.210957812686923,
          11.80548621907509,
          12.127960379507554,
          11.995187241419485,
          12.350065872946477,
          12.371487558449259,
          12.066664760279203,
          12.001365230722987,
          11.779648526910265,
          12.145299846159135,
          12.263214972423238,
          5.920966114260663,
          3.912023005428146,
          3.1780538303479458,
          5.86081542961488,
          8.562920862327408,
          9.912181050538667,
          10.392189297692342,
          0.8107115301710163,
          13.53010036897308,
          9.386194277229995,
          8.782260058638032,
          8.003169548979386,
          9.654427727696335,
          10.065532608008208,
          10.019999645468381,
          9.782090256316694,
          10.101112055400312,
          10.104147498321494,
          10.23898252834788,
          10.376231758646293,
          8.862563933273947,
          8.526288312052118,
          8.613260829730965,
          5.417254796767797,
          10.725995095451935,
          10.746728513484832,
          10.85435138874781,
          11.1412132333711,
          6.992094294746335,
          4.8179456013209405,
          0.47977558083651045,
          4.156866757107584,
          11.090980303698112,
          4.740487482935721,
          4.7371628954465885,
          4.733827218196353,
          9.66523036341187,
          4.700480365792417,
          3.624248049807851,
          6.124516880530068,
          7.105100311623696,
          5.955256271927185,
          4.298749213865729,
          1.6823892721791045,
          0.1447329462803489,
          4.409503884500188,
          4.421968248520891,
          7.1276936993473985,
          7.050122520269059,
          13.406409347240013,
          11.491782331948212,
          11.551169378552197,
          11.770343873945956,
          11.757087254118861,
          11.67843561027181,
          11.559899155396456,
          11.696729773234457,
          12.116289713397567,
          11.776659425436149,
          8.170600671444749,
          8.22112433332383,
          8.031306663682217,
          8.325253308711774,
          10.759170691998847,
          10.765086402997076,
          10.851208207801204,
          10.873801321609498,
          8.883482531197629,
          8.454631269545288,
          8.202751379558942,
          1.2664277221851874,
          2.697944723962296,
          1.9870179933361372,
          2.995732273553991,
          1.027897906954965,
          2.6524510686048597,
          2.5507821528806116,
          11.726829057092944,
          11.522414006428482,
          11.645055348101817,
          11.512823118414238,
          11.743093256668802,
          11.768600174109539,
          11.93544626901475,
          12.059262228639042,
          11.82921804259217,
          11.867024361416604,
          11.318748048802073,
          3.8675422424368042,
          3.4602615709504936,
          4.29247931763193,
          4.283321699201404,
          5.813367554264535,
          6.0425758249315225,
          6.580012727539091,
          6.9537334933237585,
          5.550480934208035,
          10.83035633010585,
          10.853845638902833,
          12.211998278289032,
          12.196360636276157,
          12.250845226198596,
          4.0921836958978615,
          3.957589760857435,
          3.74657834748,
          4.176381894545419,
          4.974213434652935,
          4.6671397852696375,
          10.060066720836806,
          12.893571815798015,
          7.772261233615805,
          9.439413987424205,
          11.048672520825086,
          8.443489579483533,
          8.494395513280791,
          8.450429905026956,
          11.3281891092332,
          11.299133200845223,
          7.093028151855171,
          7.717796854073873,
          8.055913756564111,
          9.386978252294414,
          7.491780162407279,
          7.540193299869247,
          7.36175461022721,
          7.377819337552296,
          7.231705788443403,
          7.179455238740947,
          5.698315290778987,
          5.726489144818403,
          6.0780611094795445,
          6.851401123169392,
          4.361823927356363,
          7.271319394480364,
          7.153549512931841,
          7.6996098314402515,
          7.765404838602622,
          6.556670941298364,
          5.109006933755514,
          8.762639133522608,
          8.888751357103157,
          8.798001694924846,
          6.2275009651470254,
          6.272877006546167,
          5.857933154483459,
          6.091309882077698,
          6.282266746896006,
          6.070323785527191,
          5.669048852768162,
          6.4824081774283835,
          5.833382817485721,
          6.057446557163954,
          5.674950807987498,
          5.257996808787354,
          5.3691182692277435,
          5.111662434229809,
          5.230707466885979,
          8.898365606955357,
          8.848939995030118,
          8.761863373274727,
          7.336874073308722,
          8.525306806775177,
          8.286430685057352,
          8.15468560074712,
          8.082037883960199,
          8.059999126990668,
          7.617280540839689,
          7.555294604439349,
          12.771461313682218,
          12.574186143380931,
          12.570018595668735,
          7.418429942893062,
          7.383518196869515,
          7.676501942846574,
          6.074296607072653,
          6.163491630505183,
          6.041383188133647,
          6.082290527059649,
          0.24194337462241405,
          0.9251438042792535,
          0.5164535279400807,
          1.0986122886681098,
          0.0005726964966070452,
          0.799840790494348,
          0.7408728226733163,
          9.099617724324252,
          8.926975513427662,
          9.047623642886641,
          8.912923182865429,
          9.109048378717649,
          9.128544781078421,
          9.3223710428349,
          9.472716504426534,
          9.23015269798044,
          9.293162725227146,
          9.325857287147846,
          8.649853502428961,
          8.66501121576739,
          7.612330104569699,
          8.987696695703624,
          9.042158378735948,
          1.3045283697570735,
          1.1396249850036178,
          1.4620973245353914,
          7.402829901561341,
          7.542744554017503,
          7.869383843641906,
          8.964846903011901,
          8.935794408579486,
          4.869024505925186,
          5.238609140462742,
          5.538672706341945,
          6.934458587099469,
          5.139397427245108,
          5.351409546075535,
          5.415139360806732,
          5.305168437718509,
          5.159738025571592,
          5.107756901358365,
          3.7945432213073236,
          3.911184273403115,
          4.234431432558494,
          5.242738252721756,
          5.220408864596326,
          5.183783820705778,
          5.77061347876675,
          5.847070405692176,
          4.559706522449796,
          3.201122839683795,
          4.326257583279964,
          4.330733340286331,
          3.912023005428146,
          4.204692619390966,
          4.3694478524670215,
          4.940203964110805,
          4.836375903311648,
          4.500908338243351,
          4.463887315563877,
          9.172000448151913,
          10.210761443886408,
          10.549079761541055,
          8.343250394402556,
          10.648410541133911,
          11.663643598233646,
          9.814347021893457,
          9.836757184781332,
          9.709448344551474,
          14.633883626102214,
          11.786580764051603,
          11.612244517070701,
          11.549690132778526,
          10.930693801479114,
          10.704809143712417,
          10.807308289388393,
          8.228012588295403,
          8.714627449029484,
          8.395590625025168,
          8.332930532156626,
          8.031823455467078,
          8.639403746812787,
          4.821067350944869,
          4.312626923355648,
          4.367768873292064,
          4.110164204769463,
          5.209675419140977,
          9.369145880607737,
          5.771711346971843,
          7.780830492356506,
          7.679605190693238,
          5.480264367775178,
          6.579251212010101,
          5.365976015021851,
          6.508769136971682,
          11.849560688308385,
          11.868710012623815,
          11.886204790008875,
          11.922926934879557,
          9.865819654153675,
          12.0381390833309,
          10.797829585510987,
          11.202876923736701,
          6.433741349981026,
          4.27880045852143,
          2.614662850359213,
          3.930621814166679,
          11.905350825167954,
          11.63531699456245,
          11.495378027358022,
          11.43478510138715,
          13.945068441647905,
          12.834451129071693,
          12.883169082428212,
          14.322988823974145,
          13.795753549196638,
          13.779322385270934,
          13.809514460095391,
          13.85742667371554,
          13.85742667371554,
          11.205148957583129,
          13.952832977963448,
          13.205811398451111,
          14.112567431470845,
          14.37027330644321,
          14.978432038734734,
          7.054181692181459,
          9.852182278497875,
          9.591198050456638,
          9.174798309916815,
          9.8860030144482,
          9.236105579862208,
          12.6662927955651,
          12.547290668327525,
          13.00732354110812,
          13.153516833206886,
          12.736239325783929,
          12.399636608666043,
          14.27963815811332,
          14.371230056153706,
          14.433464838249972,
          10.047488094546136,
          9.710534966154306,
          9.52359742807027,
          9.505893994898482,
          11.615588035014238,
          11.591157888410253,
          9.209455903411397,
          10.648634028206454,
          10.648634028206454,
          11.301456055772178,
          10.674810318770096,
          12.52502538298003,
          4.588972466920433,
          7.27184759491692,
          6.96237577886589,
          6.516913967061365,
          7.30696621920284,
          10.680098589135714,
          12.007777566694939,
          12.41250678465459,
          9.402018436480551,
          9.266342562091468,
          9.192977966198963,
          9.154994592263595,
          8.84556901859152,
          8.920894598742214,
          8.899098673450537,
          9.073603848402712,
          8.818167374657174,
          8.905505875044222,
          8.814085172058146,
          10.912972486685733,
          10.878106136599243,
          11.545521786063846,
          11.526468672580094,
          11.704358487954952,
          11.69071929156484,
          11.720800770574325,
          11.671255780764797,
          11.426472977913841,
          11.463775302017467,
          10.475850322817688,
          11.818164999160343,
          11.333831095201985,
          11.43694034746568,
          9.490695669041504,
          9.594513744616725,
          9.636914443294582,
          9.636914443294582,
          9.581283046045924,
          9.636914443294582,
          9.622979683832348,
          9.762039188951753,
          11.313266479778829,
          9.827631900232593,
          9.798682438170001,
          9.764800032762235,
          9.797182146165197,
          9.844639476726922,
          9.832850472936688,
          9.795066803581708,
          9.781715320606217,
          9.790206866077162,
          11.043658558866932,
          10.316196468613535,
          10.334096791357744,
          10.271037923036873,
          10.319732261309403,
          10.395675986741118,
          10.017001563673007,
          10.025138607528762,
          10.214532628687705,
          10.327627876579164,
          10.2797520606737,
          10.276944653431782,
          10.328360744173542,
          10.27744772914525,
          10.238055853206893,
          10.214289557336452,
          11.995346768271757,
          12.11362578758568,
          12.130962149389077,
          12.112337911867925,
          11.892056735317896,
          11.952702286421992,
          11.943665639708632,
          12.012648321157833,
          12.068833176076524,
          12.030577744637121,
          11.989090162470879,
          12.156377244799582,
          12.152251207986813,
          12.19669202677512,
          12.171396718108793,
          12.132027930453997,
          12.157778351772103,
          11.911752899220255,
          11.788847370095096,
          12.071712870389836,
          12.281871228509655,
          12.194432587141172,
          12.319967264416555,
          12.780960302891945,
          12.433113568971429,
          7.830425617820331,
          2.906587634819582,
          11.86216448231558,
          9.854192260811251,
          9.467831242263735,
          8.41349911570855,
          0.14383760910778326,
          7.98139158158007,
          11.123441310622471,
          10.331985359754865,
          10.464023007304391,
          10.610816160015649,
          12.747236379448887,
          12.856633492384612,
          12.857403361348167,
          7.303843225277705,
          7.303843225277705,
          11.627253375361422,
          10.406441046003517,
          11.978006812245129,
          11.681962587841067,
          10.642612697788781,
          5.537801941106527,
          8.251065504987825,
          8.318667204946422,
          8.326106962792439,
          12.161857414011225,
          12.022190577907402,
          9.188605879830176,
          9.374896724517322,
          12.26268635229369,
          12.283838400219269,
          11.502566802609214,
          11.665487692795026,
          11.687340258587044,
          11.62558055538396,
          8.976558503128059,
          11.66051453122241,
          9.943181884530059,
          9.678225747584614,
          9.725020451724744,
          9.625724439487739,
          9.648436152324672,
          9.796202569428912,
          9.342649204234423,
          9.142344999747168,
          9.129672468908728,
          9.185969533369233,
          9.194644246412762,
          9.200384377907884,
          10.4639393599267,
          10.661452902628387,
          10.639705222198655,
          10.562891944580306,
          3.9915442163137103,
          3.9923861330697132,
          6.280649801216991,
          6.398594934535208,
          8.49347893719915,
          10.316550722294448,
          10.306918100308755,
          10.562464834118414,
          10.562464834118414,
          10.562464834118414,
          9.477246738317556,
          9.712944427946379,
          9.941890623819074,
          9.58043304231693,
          9.584194891272363,
          9.2759342735039,
          9.439929186871288,
          8.283372287201596,
          9.66324234800897,
          10.359075270047503,
          10.70414967630731,
          12.305286431255187,
          12.270696593082231,
          13.095697608610989,
          12.64271242678481,
          9.785885750455948,
          9.781206917827296,
          9.569157519756944,
          9.574288799881414,
          9.574288799881414,
          9.574288799881414,
          9.574288799881414,
          10.164782235124367,
          10.953405712585083,
          10.999485062275404,
          11.056333735805675,
          11.131186360587991,
          11.139145596661162,
          11.569959788598984,
          10.389579812881443,
          10.433615678556617,
          9.612132074718039,
          12.337380625220288,
          12.426790210902347,
          13.327875537606172,
          12.418063032944483,
          9.319555494799644,
          9.494049435565339,
          11.512421861057774,
          10.842283139750352,
          10.622180640063812,
          10.979104121409922,
          11.212212187308628,
          11.28115732861339,
          11.272521302696882,
          10.719272631478638,
          10.944453072844512,
          10.428066425672789,
          10.358007120127459,
          9.952325334619427,
          9.719031976755383,
          9.691833675021686,
          9.811492745214272,
          9.99068526218428,
          10.119949710367202,
          9.96826788667985,
          11.6016503730266,
          11.56127743790981,
          11.62872431120187,
          10.376642461280849,
          10.211009016314167,
          3.5263605246161616,
          3.5263605246161616,
          3.5263605246161616,
          3.5263605246161616,
          6.8820721238014375,
          6.86521449194895,
          6.835453334017525,
          6.849675843154687,
          6.867646189978697,
          6.826889754431203,
          6.83996793015408,
          11.512195026016343,
          11.500616724971565,
          11.54646514569992,
          11.5728408163898,
          11.541101170673333,
          11.939084374577417,
          6.649384801005217,
          6.637496861687657,
          7.102780026259547,
          10.015011586536545,
          9.904601914861871,
          9.885679933886163,
          9.953969154937068,
          9.854258658962301,
          9.800408595102118,
          9.870059297286428,
          9.927515486849842,
          9.92234063928147,
          9.980318971803724,
          9.90091593194158,
          9.97774500751425,
          9.979620500735274,
          9.962736884652998,
          10.777788794528298,
          10.865298852127092,
          11.250128233786175,
          8.4252971767117,
          9.515134168365906,
          11.391449117426218,
          11.5053770472129,
          11.563018779670053,
          11.401417313485423,
          11.410662037269361,
          11.428493304394998,
          11.427275742326584,
          10.10748905832197,
          10.642498237820286,
          10.810545997701706,
          10.928506044531952
         ],
         "xaxis": "x",
         "yaxis": "y"
        }
       ],
       "layout": {
        "bargap": 0.1,
        "barmode": "relative",
        "legend": {
         "tracegroupgap": 0
        },
        "margin": {
         "t": 60
        },
        "template": {
         "data": {
          "bar": [
           {
            "error_x": {
             "color": "#2a3f5f"
            },
            "error_y": {
             "color": "#2a3f5f"
            },
            "marker": {
             "line": {
              "color": "white",
              "width": 0.5
             },
             "pattern": {
              "fillmode": "overlay",
              "size": 10,
              "solidity": 0.2
             }
            },
            "type": "bar"
           }
          ],
          "barpolar": [
           {
            "marker": {
             "line": {
              "color": "white",
              "width": 0.5
             },
             "pattern": {
              "fillmode": "overlay",
              "size": 10,
              "solidity": 0.2
             }
            },
            "type": "barpolar"
           }
          ],
          "carpet": [
           {
            "aaxis": {
             "endlinecolor": "#2a3f5f",
             "gridcolor": "#C8D4E3",
             "linecolor": "#C8D4E3",
             "minorgridcolor": "#C8D4E3",
             "startlinecolor": "#2a3f5f"
            },
            "baxis": {
             "endlinecolor": "#2a3f5f",
             "gridcolor": "#C8D4E3",
             "linecolor": "#C8D4E3",
             "minorgridcolor": "#C8D4E3",
             "startlinecolor": "#2a3f5f"
            },
            "type": "carpet"
           }
          ],
          "choropleth": [
           {
            "colorbar": {
             "outlinewidth": 0,
             "ticks": ""
            },
            "type": "choropleth"
           }
          ],
          "contour": [
           {
            "colorbar": {
             "outlinewidth": 0,
             "ticks": ""
            },
            "colorscale": [
             [
              0,
              "#0d0887"
             ],
             [
              0.1111111111111111,
              "#46039f"
             ],
             [
              0.2222222222222222,
              "#7201a8"
             ],
             [
              0.3333333333333333,
              "#9c179e"
             ],
             [
              0.4444444444444444,
              "#bd3786"
             ],
             [
              0.5555555555555556,
              "#d8576b"
             ],
             [
              0.6666666666666666,
              "#ed7953"
             ],
             [
              0.7777777777777778,
              "#fb9f3a"
             ],
             [
              0.8888888888888888,
              "#fdca26"
             ],
             [
              1,
              "#f0f921"
             ]
            ],
            "type": "contour"
           }
          ],
          "contourcarpet": [
           {
            "colorbar": {
             "outlinewidth": 0,
             "ticks": ""
            },
            "type": "contourcarpet"
           }
          ],
          "heatmap": [
           {
            "colorbar": {
             "outlinewidth": 0,
             "ticks": ""
            },
            "colorscale": [
             [
              0,
              "#0d0887"
             ],
             [
              0.1111111111111111,
              "#46039f"
             ],
             [
              0.2222222222222222,
              "#7201a8"
             ],
             [
              0.3333333333333333,
              "#9c179e"
             ],
             [
              0.4444444444444444,
              "#bd3786"
             ],
             [
              0.5555555555555556,
              "#d8576b"
             ],
             [
              0.6666666666666666,
              "#ed7953"
             ],
             [
              0.7777777777777778,
              "#fb9f3a"
             ],
             [
              0.8888888888888888,
              "#fdca26"
             ],
             [
              1,
              "#f0f921"
             ]
            ],
            "type": "heatmap"
           }
          ],
          "heatmapgl": [
           {
            "colorbar": {
             "outlinewidth": 0,
             "ticks": ""
            },
            "colorscale": [
             [
              0,
              "#0d0887"
             ],
             [
              0.1111111111111111,
              "#46039f"
             ],
             [
              0.2222222222222222,
              "#7201a8"
             ],
             [
              0.3333333333333333,
              "#9c179e"
             ],
             [
              0.4444444444444444,
              "#bd3786"
             ],
             [
              0.5555555555555556,
              "#d8576b"
             ],
             [
              0.6666666666666666,
              "#ed7953"
             ],
             [
              0.7777777777777778,
              "#fb9f3a"
             ],
             [
              0.8888888888888888,
              "#fdca26"
             ],
             [
              1,
              "#f0f921"
             ]
            ],
            "type": "heatmapgl"
           }
          ],
          "histogram": [
           {
            "marker": {
             "pattern": {
              "fillmode": "overlay",
              "size": 10,
              "solidity": 0.2
             }
            },
            "type": "histogram"
           }
          ],
          "histogram2d": [
           {
            "colorbar": {
             "outlinewidth": 0,
             "ticks": ""
            },
            "colorscale": [
             [
              0,
              "#0d0887"
             ],
             [
              0.1111111111111111,
              "#46039f"
             ],
             [
              0.2222222222222222,
              "#7201a8"
             ],
             [
              0.3333333333333333,
              "#9c179e"
             ],
             [
              0.4444444444444444,
              "#bd3786"
             ],
             [
              0.5555555555555556,
              "#d8576b"
             ],
             [
              0.6666666666666666,
              "#ed7953"
             ],
             [
              0.7777777777777778,
              "#fb9f3a"
             ],
             [
              0.8888888888888888,
              "#fdca26"
             ],
             [
              1,
              "#f0f921"
             ]
            ],
            "type": "histogram2d"
           }
          ],
          "histogram2dcontour": [
           {
            "colorbar": {
             "outlinewidth": 0,
             "ticks": ""
            },
            "colorscale": [
             [
              0,
              "#0d0887"
             ],
             [
              0.1111111111111111,
              "#46039f"
             ],
             [
              0.2222222222222222,
              "#7201a8"
             ],
             [
              0.3333333333333333,
              "#9c179e"
             ],
             [
              0.4444444444444444,
              "#bd3786"
             ],
             [
              0.5555555555555556,
              "#d8576b"
             ],
             [
              0.6666666666666666,
              "#ed7953"
             ],
             [
              0.7777777777777778,
              "#fb9f3a"
             ],
             [
              0.8888888888888888,
              "#fdca26"
             ],
             [
              1,
              "#f0f921"
             ]
            ],
            "type": "histogram2dcontour"
           }
          ],
          "mesh3d": [
           {
            "colorbar": {
             "outlinewidth": 0,
             "ticks": ""
            },
            "type": "mesh3d"
           }
          ],
          "parcoords": [
           {
            "line": {
             "colorbar": {
              "outlinewidth": 0,
              "ticks": ""
             }
            },
            "type": "parcoords"
           }
          ],
          "pie": [
           {
            "automargin": true,
            "type": "pie"
           }
          ],
          "scatter": [
           {
            "fillpattern": {
             "fillmode": "overlay",
             "size": 10,
             "solidity": 0.2
            },
            "type": "scatter"
           }
          ],
          "scatter3d": [
           {
            "line": {
             "colorbar": {
              "outlinewidth": 0,
              "ticks": ""
             }
            },
            "marker": {
             "colorbar": {
              "outlinewidth": 0,
              "ticks": ""
             }
            },
            "type": "scatter3d"
           }
          ],
          "scattercarpet": [
           {
            "marker": {
             "colorbar": {
              "outlinewidth": 0,
              "ticks": ""
             }
            },
            "type": "scattercarpet"
           }
          ],
          "scattergeo": [
           {
            "marker": {
             "colorbar": {
              "outlinewidth": 0,
              "ticks": ""
             }
            },
            "type": "scattergeo"
           }
          ],
          "scattergl": [
           {
            "marker": {
             "colorbar": {
              "outlinewidth": 0,
              "ticks": ""
             }
            },
            "type": "scattergl"
           }
          ],
          "scattermapbox": [
           {
            "marker": {
             "colorbar": {
              "outlinewidth": 0,
              "ticks": ""
             }
            },
            "type": "scattermapbox"
           }
          ],
          "scatterpolar": [
           {
            "marker": {
             "colorbar": {
              "outlinewidth": 0,
              "ticks": ""
             }
            },
            "type": "scatterpolar"
           }
          ],
          "scatterpolargl": [
           {
            "marker": {
             "colorbar": {
              "outlinewidth": 0,
              "ticks": ""
             }
            },
            "type": "scatterpolargl"
           }
          ],
          "scatterternary": [
           {
            "marker": {
             "colorbar": {
              "outlinewidth": 0,
              "ticks": ""
             }
            },
            "type": "scatterternary"
           }
          ],
          "surface": [
           {
            "colorbar": {
             "outlinewidth": 0,
             "ticks": ""
            },
            "colorscale": [
             [
              0,
              "#0d0887"
             ],
             [
              0.1111111111111111,
              "#46039f"
             ],
             [
              0.2222222222222222,
              "#7201a8"
             ],
             [
              0.3333333333333333,
              "#9c179e"
             ],
             [
              0.4444444444444444,
              "#bd3786"
             ],
             [
              0.5555555555555556,
              "#d8576b"
             ],
             [
              0.6666666666666666,
              "#ed7953"
             ],
             [
              0.7777777777777778,
              "#fb9f3a"
             ],
             [
              0.8888888888888888,
              "#fdca26"
             ],
             [
              1,
              "#f0f921"
             ]
            ],
            "type": "surface"
           }
          ],
          "table": [
           {
            "cells": {
             "fill": {
              "color": "#EBF0F8"
             },
             "line": {
              "color": "white"
             }
            },
            "header": {
             "fill": {
              "color": "#C8D4E3"
             },
             "line": {
              "color": "white"
             }
            },
            "type": "table"
           }
          ]
         },
         "layout": {
          "annotationdefaults": {
           "arrowcolor": "#2a3f5f",
           "arrowhead": 0,
           "arrowwidth": 1
          },
          "autotypenumbers": "strict",
          "coloraxis": {
           "colorbar": {
            "outlinewidth": 0,
            "ticks": ""
           }
          },
          "colorscale": {
           "diverging": [
            [
             0,
             "#8e0152"
            ],
            [
             0.1,
             "#c51b7d"
            ],
            [
             0.2,
             "#de77ae"
            ],
            [
             0.3,
             "#f1b6da"
            ],
            [
             0.4,
             "#fde0ef"
            ],
            [
             0.5,
             "#f7f7f7"
            ],
            [
             0.6,
             "#e6f5d0"
            ],
            [
             0.7,
             "#b8e186"
            ],
            [
             0.8,
             "#7fbc41"
            ],
            [
             0.9,
             "#4d9221"
            ],
            [
             1,
             "#276419"
            ]
           ],
           "sequential": [
            [
             0,
             "#0d0887"
            ],
            [
             0.1111111111111111,
             "#46039f"
            ],
            [
             0.2222222222222222,
             "#7201a8"
            ],
            [
             0.3333333333333333,
             "#9c179e"
            ],
            [
             0.4444444444444444,
             "#bd3786"
            ],
            [
             0.5555555555555556,
             "#d8576b"
            ],
            [
             0.6666666666666666,
             "#ed7953"
            ],
            [
             0.7777777777777778,
             "#fb9f3a"
            ],
            [
             0.8888888888888888,
             "#fdca26"
            ],
            [
             1,
             "#f0f921"
            ]
           ],
           "sequentialminus": [
            [
             0,
             "#0d0887"
            ],
            [
             0.1111111111111111,
             "#46039f"
            ],
            [
             0.2222222222222222,
             "#7201a8"
            ],
            [
             0.3333333333333333,
             "#9c179e"
            ],
            [
             0.4444444444444444,
             "#bd3786"
            ],
            [
             0.5555555555555556,
             "#d8576b"
            ],
            [
             0.6666666666666666,
             "#ed7953"
            ],
            [
             0.7777777777777778,
             "#fb9f3a"
            ],
            [
             0.8888888888888888,
             "#fdca26"
            ],
            [
             1,
             "#f0f921"
            ]
           ]
          },
          "colorway": [
           "#636efa",
           "#EF553B",
           "#00cc96",
           "#ab63fa",
           "#FFA15A",
           "#19d3f3",
           "#FF6692",
           "#B6E880",
           "#FF97FF",
           "#FECB52"
          ],
          "font": {
           "color": "#2a3f5f"
          },
          "geo": {
           "bgcolor": "white",
           "lakecolor": "white",
           "landcolor": "white",
           "showlakes": true,
           "showland": true,
           "subunitcolor": "#C8D4E3"
          },
          "hoverlabel": {
           "align": "left"
          },
          "hovermode": "closest",
          "mapbox": {
           "style": "light"
          },
          "paper_bgcolor": "white",
          "plot_bgcolor": "white",
          "polar": {
           "angularaxis": {
            "gridcolor": "#EBF0F8",
            "linecolor": "#EBF0F8",
            "ticks": ""
           },
           "bgcolor": "white",
           "radialaxis": {
            "gridcolor": "#EBF0F8",
            "linecolor": "#EBF0F8",
            "ticks": ""
           }
          },
          "scene": {
           "xaxis": {
            "backgroundcolor": "white",
            "gridcolor": "#DFE8F3",
            "gridwidth": 2,
            "linecolor": "#EBF0F8",
            "showbackground": true,
            "ticks": "",
            "zerolinecolor": "#EBF0F8"
           },
           "yaxis": {
            "backgroundcolor": "white",
            "gridcolor": "#DFE8F3",
            "gridwidth": 2,
            "linecolor": "#EBF0F8",
            "showbackground": true,
            "ticks": "",
            "zerolinecolor": "#EBF0F8"
           },
           "zaxis": {
            "backgroundcolor": "white",
            "gridcolor": "#DFE8F3",
            "gridwidth": 2,
            "linecolor": "#EBF0F8",
            "showbackground": true,
            "ticks": "",
            "zerolinecolor": "#EBF0F8"
           }
          },
          "shapedefaults": {
           "line": {
            "color": "#2a3f5f"
           }
          },
          "ternary": {
           "aaxis": {
            "gridcolor": "#DFE8F3",
            "linecolor": "#A2B1C6",
            "ticks": ""
           },
           "baxis": {
            "gridcolor": "#DFE8F3",
            "linecolor": "#A2B1C6",
            "ticks": ""
           },
           "bgcolor": "white",
           "caxis": {
            "gridcolor": "#DFE8F3",
            "linecolor": "#A2B1C6",
            "ticks": ""
           }
          },
          "title": {
           "x": 0.05
          },
          "xaxis": {
           "automargin": true,
           "gridcolor": "#EBF0F8",
           "linecolor": "#EBF0F8",
           "ticks": "",
           "title": {
            "standoff": 15
           },
           "zerolinecolor": "#EBF0F8",
           "zerolinewidth": 2
          },
          "yaxis": {
           "automargin": true,
           "gridcolor": "#EBF0F8",
           "linecolor": "#EBF0F8",
           "ticks": "",
           "title": {
            "standoff": 15
           },
           "zerolinecolor": "#EBF0F8",
           "zerolinewidth": 2
          }
         }
        },
        "xaxis": {
         "anchor": "y",
         "domain": [
          0,
          1
         ],
         "title": {
          "text": "Emissions"
         }
        },
        "yaxis": {
         "anchor": "x",
         "domain": [
          0,
          1
         ],
         "title": {
          "text": "Frequency"
         }
        }
       }
      }
     },
     "metadata": {},
     "output_type": "display_data"
    }
   ],
   "source": [
    "fig = px.histogram(se_df, \n",
    "                   x='Log_Emissions', \n",
    "                   nbins=200, \n",
    "                   labels={'emissions': 'Emissions'}, \n",
    "                   template=\"plotly_white\")\n",
    "\n",
    "# Customize the layout\n",
    "fig.update_layout(\n",
    "    xaxis_title=\"Emissions\",\n",
    "    yaxis_title=\"Frequency\",\n",
    "    bargap=0.1  # Adjust the gap between bars\n",
    ")\n",
    "\n",
    "# Show the figure\n",
    "fig.show()"
   ]
  },
  {
   "cell_type": "markdown",
   "metadata": {},
   "source": [
    "**Correlation Coefficients and Distribution of Emissions**\n",
    "\n",
    "Use of correlation coefficients to quantify the relationships between `emissions` and `other variables` (such as Population, GDP, and Area)"
   ]
  },
  {
   "cell_type": "markdown",
   "metadata": {},
   "source": [
    "1. **Pearson Correlation Coefficient**: Measures the linear relationship between two continuous variables.\n",
    "- Log Transformation is needed to stabilize variance and approximate normality\n",
    "- Benefits: highly effective if the relationship is genuinely linear after transformation\n",
    "2. **Spearman Rank Correlation Coefficient**: non-parametric measure that assesses the monotonic relationship between two variables by converting them to ranks\n",
    "- No specific distribution required\n",
    "- The relationship between variables is monotonic (either consistently increasing or decreasing), but not necessarily linear\n",
    "- Less sensitive to outliers and non-linear relationships\n",
    "- Captures any monotonic relationship, whether linear or not"
   ]
  },
  {
   "cell_type": "code",
   "execution_count": 21,
   "metadata": {},
   "outputs": [],
   "source": [
    "# Pearson Correlation on Log-Transformed Data\n",
    "pearson_corr = se_df[['Log_Emissions', 'Population', 'GDP', 'Area']].corr(method='pearson')\n",
    "spearman_corr = se_df[['emissions', 'Population', 'GDP', 'Area']].corr(method='spearman')"
   ]
  },
  {
   "cell_type": "code",
   "execution_count": 22,
   "metadata": {},
   "outputs": [
    {
     "data": {
      "text/html": [
       "<div>\n",
       "<style scoped>\n",
       "    .dataframe tbody tr th:only-of-type {\n",
       "        vertical-align: middle;\n",
       "    }\n",
       "\n",
       "    .dataframe tbody tr th {\n",
       "        vertical-align: top;\n",
       "    }\n",
       "\n",
       "    .dataframe thead th {\n",
       "        text-align: right;\n",
       "    }\n",
       "</style>\n",
       "<table border=\"1\" class=\"dataframe\">\n",
       "  <thead>\n",
       "    <tr style=\"text-align: right;\">\n",
       "      <th></th>\n",
       "      <th>Log_Emissions</th>\n",
       "      <th>Population</th>\n",
       "      <th>GDP</th>\n",
       "      <th>Area</th>\n",
       "    </tr>\n",
       "  </thead>\n",
       "  <tbody>\n",
       "    <tr>\n",
       "      <th>Log_Emissions</th>\n",
       "      <td>1.000000</td>\n",
       "      <td>0.139898</td>\n",
       "      <td>0.111957</td>\n",
       "      <td>0.064024</td>\n",
       "    </tr>\n",
       "    <tr>\n",
       "      <th>Population</th>\n",
       "      <td>0.139898</td>\n",
       "      <td>1.000000</td>\n",
       "      <td>0.344252</td>\n",
       "      <td>0.294073</td>\n",
       "    </tr>\n",
       "    <tr>\n",
       "      <th>GDP</th>\n",
       "      <td>0.111957</td>\n",
       "      <td>0.344252</td>\n",
       "      <td>1.000000</td>\n",
       "      <td>0.042203</td>\n",
       "    </tr>\n",
       "    <tr>\n",
       "      <th>Area</th>\n",
       "      <td>0.064024</td>\n",
       "      <td>0.294073</td>\n",
       "      <td>0.042203</td>\n",
       "      <td>1.000000</td>\n",
       "    </tr>\n",
       "  </tbody>\n",
       "</table>\n",
       "</div>"
      ],
      "text/plain": [
       "               Log_Emissions  Population       GDP      Area\n",
       "Log_Emissions       1.000000    0.139898  0.111957  0.064024\n",
       "Population          0.139898    1.000000  0.344252  0.294073\n",
       "GDP                 0.111957    0.344252  1.000000  0.042203\n",
       "Area                0.064024    0.294073  0.042203  1.000000"
      ]
     },
     "execution_count": 22,
     "metadata": {},
     "output_type": "execute_result"
    }
   ],
   "source": [
    "pearson_corr"
   ]
  },
  {
   "cell_type": "code",
   "execution_count": 23,
   "metadata": {},
   "outputs": [
    {
     "data": {
      "text/html": [
       "<div>\n",
       "<style scoped>\n",
       "    .dataframe tbody tr th:only-of-type {\n",
       "        vertical-align: middle;\n",
       "    }\n",
       "\n",
       "    .dataframe tbody tr th {\n",
       "        vertical-align: top;\n",
       "    }\n",
       "\n",
       "    .dataframe thead th {\n",
       "        text-align: right;\n",
       "    }\n",
       "</style>\n",
       "<table border=\"1\" class=\"dataframe\">\n",
       "  <thead>\n",
       "    <tr style=\"text-align: right;\">\n",
       "      <th></th>\n",
       "      <th>emissions</th>\n",
       "      <th>Population</th>\n",
       "      <th>GDP</th>\n",
       "      <th>Area</th>\n",
       "    </tr>\n",
       "  </thead>\n",
       "  <tbody>\n",
       "    <tr>\n",
       "      <th>emissions</th>\n",
       "      <td>1.000000</td>\n",
       "      <td>0.234263</td>\n",
       "      <td>0.157223</td>\n",
       "      <td>0.154105</td>\n",
       "    </tr>\n",
       "    <tr>\n",
       "      <th>Population</th>\n",
       "      <td>0.234263</td>\n",
       "      <td>1.000000</td>\n",
       "      <td>0.325103</td>\n",
       "      <td>0.680165</td>\n",
       "    </tr>\n",
       "    <tr>\n",
       "      <th>GDP</th>\n",
       "      <td>0.157223</td>\n",
       "      <td>0.325103</td>\n",
       "      <td>1.000000</td>\n",
       "      <td>0.198743</td>\n",
       "    </tr>\n",
       "    <tr>\n",
       "      <th>Area</th>\n",
       "      <td>0.154105</td>\n",
       "      <td>0.680165</td>\n",
       "      <td>0.198743</td>\n",
       "      <td>1.000000</td>\n",
       "    </tr>\n",
       "  </tbody>\n",
       "</table>\n",
       "</div>"
      ],
      "text/plain": [
       "            emissions  Population       GDP      Area\n",
       "emissions    1.000000    0.234263  0.157223  0.154105\n",
       "Population   0.234263    1.000000  0.325103  0.680165\n",
       "GDP          0.157223    0.325103  1.000000  0.198743\n",
       "Area         0.154105    0.680165  0.198743  1.000000"
      ]
     },
     "execution_count": 23,
     "metadata": {},
     "output_type": "execute_result"
    }
   ],
   "source": [
    "spearman_corr"
   ]
  },
  {
   "cell_type": "markdown",
   "metadata": {},
   "source": [
    "## Correlations"
   ]
  },
  {
   "cell_type": "markdown",
   "metadata": {},
   "source": [
    "### Preparing the data"
   ]
  },
  {
   "cell_type": "code",
   "execution_count": 51,
   "metadata": {},
   "outputs": [],
   "source": [
    "variables = ['Population', 'GDP', 'Area']"
   ]
  },
  {
   "cell_type": "code",
   "execution_count": 52,
   "metadata": {},
   "outputs": [],
   "source": [
    "clean_df['Log_Emissions'] = np.log(clean_df['emissions'] + 1)"
   ]
  },
  {
   "cell_type": "code",
   "execution_count": 57,
   "metadata": {},
   "outputs": [],
   "source": [
    "correlation_results = []\n",
    "\n",
    "grouped = clean_df.groupby('gpc_refno')\n",
    "\n",
    "for subsector, group in grouped:\n",
    "    # check if the group has enough data points\n",
    "    if len(group) < 10:\n",
    "        # skip subsectors with insufficient data\n",
    "        continue\n",
    "    \n",
    "    for var in variables:\n",
    "        # Pearson Correlation on Log-Transformed Emissions\n",
    "        pearson_corr, pearson_p = pearsonr(group['Log_Emissions'], group[var])\n",
    "        \n",
    "        # Spearman Correlation on Raw Emissions\n",
    "        spearman_corr, spearman_p = spearmanr(group['emissions'], group[var])\n",
    "        \n",
    "        correlation_results.append({\n",
    "            'Subsector': subsector,\n",
    "            'Variable': var,\n",
    "            'Pearson_Correlation': pearson_corr,\n",
    "            'Pearson_p-value': pearson_p,\n",
    "            'Spearman_Correlation': spearman_corr,\n",
    "            'Spearman_p-value': spearman_p\n",
    "        })\n",
    "\n",
    "corr_df = pd.DataFrame(correlation_results)"
   ]
  },
  {
   "cell_type": "code",
   "execution_count": 58,
   "metadata": {},
   "outputs": [],
   "source": [
    "def categorize_correlation(r):\n",
    "    \"\"\"\n",
    "    Categorize the correlation coefficient based on absolute value.\n",
    "    \"\"\"\n",
    "    abs_r = abs(r)\n",
    "    if 0.00 <= abs_r < 0.10:\n",
    "        return \"Negligible or No Correlation\"\n",
    "    elif 0.10 <= abs_r < 0.30:\n",
    "        return \"Weak Correlation\"\n",
    "    elif 0.30 <= abs_r < 0.50:\n",
    "        return \"Moderate Correlation\"\n",
    "    elif 0.50 <= abs_r < 0.70:\n",
    "        return \"Strong Correlation\"\n",
    "    elif 0.70 <= abs_r < 0.90:\n",
    "        return \"Very Strong Correlation\"\n",
    "    elif 0.90 <= abs_r <= 1.00:\n",
    "        return \"Almost Perfect Correlation\"\n",
    "    else:\n",
    "        return \"Undefined\"\n",
    "\n",
    "# Apply the function to Pearson and Spearman correlations\n",
    "corr_df['Pearson_Label'] = corr_df['Pearson_Correlation'].apply(categorize_correlation)\n",
    "corr_df['Spearman_Label'] = corr_df['Spearman_Correlation'].apply(categorize_correlation)"
   ]
  },
  {
   "cell_type": "code",
   "execution_count": 60,
   "metadata": {},
   "outputs": [],
   "source": [
    "df_long = corr_df.melt(\n",
    "    id_vars=['Subsector', 'Variable'],\n",
    "    value_vars=['Pearson_Label', 'Spearman_Label'],\n",
    "    var_name='Correlation_Type',\n",
    "    value_name='Correlation_Strength'\n",
    ")\n",
    "\n",
    "# Clean up the Correlation_Type column\n",
    "df_long['Correlation_Type'] = df_long['Correlation_Type'].str.replace('_Label', '')"
   ]
  },
  {
   "cell_type": "markdown",
   "metadata": {},
   "source": [
    "### Analysis and Plots"
   ]
  },
  {
   "cell_type": "code",
   "execution_count": 63,
   "metadata": {},
   "outputs": [
    {
     "data": {
      "application/vnd.jupyter.widget-view+json": {
       "model_id": "b4d2067acdb44390a05ba32762cde542",
       "version_major": 2,
       "version_minor": 0
      },
      "text/plain": [
       "interactive(children=(Dropdown(description='Subsector:', options=('I.1.1', 'I.1.2', 'I.1.3', 'I.2.1', 'I.2.2',…"
      ]
     },
     "metadata": {},
     "output_type": "display_data"
    },
    {
     "data": {
      "text/plain": [
       "<function __main__.plot_subsector_variable(subsector, variable)>"
      ]
     },
     "execution_count": 63,
     "metadata": {},
     "output_type": "execute_result"
    }
   ],
   "source": [
    "grouped = clean_df.groupby('gpc_refno')\n",
    "\n",
    "unique_subsectors = sorted(clean_df['gpc_refno'].unique())\n",
    "\n",
    "# Create the subsector dropdown widget\n",
    "subsector_dropdown = Dropdown(\n",
    "    options=unique_subsectors,\n",
    "    value=unique_subsectors[0],\n",
    "    description='Subsector:',\n",
    "    disabled=False,\n",
    ")\n",
    "\n",
    "# Create the variable dropdown widget\n",
    "variable_dropdown = Dropdown(\n",
    "    options=variables,\n",
    "    value=variables[0],\n",
    "    description='Variable:',\n",
    "    disabled=False,\n",
    ")\n",
    "\n",
    "def plot_subsector_variable(subsector, variable):\n",
    "    # Retrieve the data for the selected subsector\n",
    "    group = grouped.get_group(subsector)\n",
    "    \n",
    "    plt.figure(figsize=(10, 6))\n",
    "    \n",
    "    # Scatter plot of the selected variable vs Log_Emissions\n",
    "    sns.scatterplot(data=group, x=variable, y='Log_Emissions', alpha=0.5)\n",
    "    \n",
    "    # Regression line\n",
    "    sns.regplot(data=group, x=variable, y='Log_Emissions', scatter=False, color='red')\n",
    "    \n",
    "    plt.title(f'Log_Emissions vs {variable} for Subsector {subsector}')\n",
    "    plt.xlabel(variable)\n",
    "    plt.ylabel('Log(Emissions)')\n",
    "    plt.show()\n",
    "\n",
    "# Use interact to link both dropdowns to the plotting function\n",
    "interact(plot_subsector_variable, subsector=subsector_dropdown, variable=variable_dropdown)"
   ]
  },
  {
   "cell_type": "markdown",
   "metadata": {},
   "source": [
    "**Purpose of Correlation Analysis**\n",
    "\n",
    "To determine how emissions in each subsector relate to key variables (Population, GDP, Area), which informs how to normalize emissions for benchmarking."
   ]
  },
  {
   "cell_type": "markdown",
   "metadata": {},
   "source": [
    "**In the Context of Benchmarking Objectives**\n",
    "- Tailored Benchmarks: By aligning benchmarks with variables that strongly influence emissions, you ensure that comparisons are meaningful and account for key determinants\n",
    "- Avoiding Misleading Comparisons: Using weakly correlated variables could result in benchmarks that `don't accurately reflect` the underlying dynamics, leading to ineffective assessments"
   ]
  },
  {
   "cell_type": "markdown",
   "metadata": {},
   "source": [
    "**High Correlation**: \n",
    "- When a subsector shows a high correlation with a specific variable (e.g., Population), it indicates a strong relationship between that variable and emissions in that subsector.\n",
    "- *Implication for Benchmarking*: A high correlation suggests that the variable can be a reliable factor to normalize emissions, facilitating meaningful comparisons across different cities or regions.\n",
    "\n",
    "**Low Correlation**:\n",
    "- When a subsector exhibits low correlation with the variables considered (e.g., GDP, Area), it implies that these factors do not strongly influence emissions in that subsector.\n",
    "- *Implication for Benchmarking*: \n",
    "    - Low correlation indicates that normalizing emissions based on these variables may not yield accurate or meaningful benchmarks. It also suggests that other unexamined factors may be driving emissions in these subsectors.\n",
    "    - Recognizing that certain subsectors do not correlate strongly with the primary variables (Population, GDP, Area) highlights the need for alternative factors or more nuanced models for accurate benchmarking."
   ]
  },
  {
   "cell_type": "code",
   "execution_count": 54,
   "metadata": {},
   "outputs": [
    {
     "data": {
      "application/vnd.plotly.v1+json": {
       "config": {
        "plotlyServerURL": "https://plot.ly"
       },
       "data": [
        {
         "marker": {
          "symbol": "circle"
         },
         "mode": "markers",
         "name": "Population (Pearson)",
         "type": "scatter",
         "visible": true,
         "x": [
          "I.1.1",
          "I.1.2",
          "I.1.3",
          "I.2.1",
          "I.2.2",
          "I.2.3",
          "I.3.1",
          "I.3.2",
          "I.3.3",
          "I.4.1",
          "I.4.2",
          "I.4.3",
          "I.4.4",
          "I.5.1",
          "I.5.2",
          "I.5.3",
          "I.6.1",
          "I.6.2",
          "I.6.3",
          "I.8.1",
          "II.1.1",
          "II.1.2",
          "II.1.3",
          "II.2.1",
          "II.2.2",
          "II.2.3",
          "II.3.1",
          "II.3.3",
          "II.4.1",
          "II.4.3",
          "II.5.1",
          "III.1.1",
          "III.1.2",
          "III.1.3",
          "III.2.1",
          "III.2.2",
          "III.2.3",
          "III.3.1",
          "III.3.2",
          "III.4.1",
          "III.4.2",
          "III.4.3",
          "IV.1",
          "IV.2",
          "V.1",
          "V.2",
          "V.3",
          "VI.1"
         ],
         "y": [
          0.5246234157472245,
          0.5310566862291783,
          0.45899977274135617,
          0.22016155367735127,
          0.34549289561902885,
          0.3452774918207584,
          0.4026367343964164,
          0.5191081550108436,
          0.4200653595171919,
          0.1211557180585849,
          0.09674060825766653,
          -0.30583641074903256,
          0.31950474802273865,
          -0.1523050071839454,
          -0.006946666912777472,
          0.06411420221046268,
          0.025058164121657296,
          0.37975885854556085,
          0.3514110816922614,
          -0.013447820032027463,
          0.627134001431211,
          0.12566928407309705,
          0.22135499808853937,
          0.15412449076456608,
          0.4169716650391922,
          0.306951134070686,
          0.16533214579429484,
          0.30677028724769584,
          0.2629823305859022,
          0.379311363545241,
          0.08106595724762589,
          0.4450896244162758,
          0.34040612733936004,
          -0.15256381872659502,
          0.11203090702267378,
          0.10999269450677066,
          0.6546912932800091,
          0.22762172378827908,
          0.0006801285905031302,
          0.6600697670125615,
          0.5068765687929221,
          -0.03341663519931794,
          0.09030423581035006,
          0.3990179479454342,
          0.16837885615171222,
          -0.034686785709161894,
          0.28382450576703544,
          -0.4625758540838965
         ]
        },
        {
         "marker": {
          "symbol": "circle"
         },
         "mode": "markers",
         "name": "Population (Spearman)",
         "type": "scatter",
         "visible": false,
         "x": [
          "I.1.1",
          "I.1.2",
          "I.1.3",
          "I.2.1",
          "I.2.2",
          "I.2.3",
          "I.3.1",
          "I.3.2",
          "I.3.3",
          "I.4.1",
          "I.4.2",
          "I.4.3",
          "I.4.4",
          "I.5.1",
          "I.5.2",
          "I.5.3",
          "I.6.1",
          "I.6.2",
          "I.6.3",
          "I.8.1",
          "II.1.1",
          "II.1.2",
          "II.1.3",
          "II.2.1",
          "II.2.2",
          "II.2.3",
          "II.3.1",
          "II.3.3",
          "II.4.1",
          "II.4.3",
          "II.5.1",
          "III.1.1",
          "III.1.2",
          "III.1.3",
          "III.2.1",
          "III.2.2",
          "III.2.3",
          "III.3.1",
          "III.3.2",
          "III.4.1",
          "III.4.2",
          "III.4.3",
          "IV.1",
          "IV.2",
          "V.1",
          "V.2",
          "V.3",
          "VI.1"
         ],
         "y": [
          0.6005282618856969,
          0.6447170427574448,
          0.6849354903071843,
          0.22376327613280547,
          0.28370421853445005,
          0.43534108361731394,
          0.5627346629539509,
          0.6172342788064898,
          0.6578517781208797,
          0.24281665506235658,
          0.010060711205022032,
          -0.22767110220996253,
          0.4628724086426968,
          -0.08255752147834174,
          0.03420445151185257,
          0.1207892796209192,
          -0.10606434341832734,
          0.4480097805114202,
          0.6220384042754755,
          0.14680480937629228,
          0.8062057665311514,
          0.04216693779196252,
          0.049338314208942295,
          0.1825199080212012,
          0.35595232750988054,
          0.12180843448093308,
          0.21786659834414457,
          0.3373946444041185,
          0.29138440197819776,
          0.5900457492461681,
          0.33573599760203315,
          0.5871428901119521,
          0.5101582244924688,
          -0.2721663021101631,
          0.11141080011487128,
          0.03948878417286303,
          0.8181818181818182,
          0.23982055030330196,
          0.027543191929418342,
          0.7753377783637511,
          0.748448630882202,
          -0.07873413943105173,
          0.027116733466933867,
          0.44115435621834137,
          0.16137372615477302,
          -0.15292511277308848,
          0.3109047401048911,
          -0.2582415889222528
         ]
        },
        {
         "marker": {
          "symbol": "circle"
         },
         "mode": "markers",
         "name": "GDP (Pearson)",
         "type": "scatter",
         "visible": true,
         "x": [
          "I.1.1",
          "I.1.2",
          "I.1.3",
          "I.2.1",
          "I.2.2",
          "I.2.3",
          "I.3.1",
          "I.3.2",
          "I.3.3",
          "I.4.1",
          "I.4.2",
          "I.4.3",
          "I.4.4",
          "I.5.1",
          "I.5.2",
          "I.5.3",
          "I.6.1",
          "I.6.2",
          "I.6.3",
          "I.8.1",
          "II.1.1",
          "II.1.2",
          "II.1.3",
          "II.2.1",
          "II.2.2",
          "II.2.3",
          "II.3.1",
          "II.3.3",
          "II.4.1",
          "II.4.3",
          "II.5.1",
          "III.1.1",
          "III.1.2",
          "III.1.3",
          "III.2.1",
          "III.2.2",
          "III.2.3",
          "III.3.1",
          "III.3.2",
          "III.4.1",
          "III.4.2",
          "III.4.3",
          "IV.1",
          "IV.2",
          "V.1",
          "V.2",
          "V.3",
          "VI.1"
         ],
         "y": [
          0.36585304683662234,
          0.318120925159906,
          0.24390277059400695,
          0.34114344805081875,
          0.32414493284311907,
          0.2905820565947289,
          0.284759421310035,
          0.25480944126785565,
          0.18060431307378041,
          0.06442126840614909,
          0.417409574529932,
          -0.4024540593601653,
          0.11336730905745446,
          0.08626648737553577,
          -0.034639149209399575,
          -0.11682870573237701,
          0.19081911687907768,
          0.36559722803970107,
          0.4011533930918602,
          -0.18223470350777474,
          0.29196221027269637,
          0.38289302862198277,
          0.28138582473345564,
          0.22815054201922397,
          0.37306575289160204,
          0.2758565454039743,
          0.3422358859814363,
          0.15846835935446232,
          0.23480213105601563,
          0.17861801044603295,
          0.28490664773104774,
          -0.04246197951090713,
          0.19720473257252197,
          0.23729846938610916,
          -0.06334849480855484,
          -0.020567187821918888,
          0.7379305782547672,
          0.28958408343800585,
          0.4013482868649532,
          0.07040693876273446,
          0.10339917004722002,
          -0.1798778099450106,
          -0.22334020209384634,
          0.23390402207106814,
          0.008051948587828707,
          0.2122027620044548,
          0.31154482272746253,
          -0.0413473331816266
         ]
        },
        {
         "marker": {
          "symbol": "circle"
         },
         "mode": "markers",
         "name": "GDP (Spearman)",
         "type": "scatter",
         "visible": false,
         "x": [
          "I.1.1",
          "I.1.2",
          "I.1.3",
          "I.2.1",
          "I.2.2",
          "I.2.3",
          "I.3.1",
          "I.3.2",
          "I.3.3",
          "I.4.1",
          "I.4.2",
          "I.4.3",
          "I.4.4",
          "I.5.1",
          "I.5.2",
          "I.5.3",
          "I.6.1",
          "I.6.2",
          "I.6.3",
          "I.8.1",
          "II.1.1",
          "II.1.2",
          "II.1.3",
          "II.2.1",
          "II.2.2",
          "II.2.3",
          "II.3.1",
          "II.3.3",
          "II.4.1",
          "II.4.3",
          "II.5.1",
          "III.1.1",
          "III.1.2",
          "III.1.3",
          "III.2.1",
          "III.2.2",
          "III.2.3",
          "III.3.1",
          "III.3.2",
          "III.4.1",
          "III.4.2",
          "III.4.3",
          "IV.1",
          "IV.2",
          "V.1",
          "V.2",
          "V.3",
          "VI.1"
         ],
         "y": [
          0.3743828244446091,
          0.27728322092192753,
          0.0877769537594841,
          0.41487065349870944,
          0.37655034991895037,
          0.1787859308030873,
          0.3871182449907423,
          0.24254894092675117,
          0.013613467022681939,
          0.07669382683965244,
          0.26585718460167423,
          -0.28021058733533855,
          0.0362248297543534,
          -0.17438846593563984,
          -0.027861557817262784,
          0.013753705484239789,
          0.17639804091433445,
          0.4778057925167842,
          0.6844678934591084,
          0.06989940038694628,
          0.3321988375987172,
          0.4344202049762081,
          0.20611057338434557,
          0.3447534994655668,
          0.35526544235711804,
          0.24398293091545245,
          0.18287552003916166,
          0.059939535004420015,
          0.16977925621550574,
          0.3999603062614007,
          0.2890254214140509,
          -0.15894961928200863,
          0.17441407859279398,
          -0.16623376623376623,
          -0.17360007691286497,
          -0.07734053806201852,
          0.8545454545454546,
          0.36158819922353286,
          0.5098907697099364,
          0.02124307261084463,
          0.03337049335067737,
          0.16798118991366906,
          -0.2563310312719186,
          0.34006649191934885,
          -0.06390510137938074,
          0.2627887429115691,
          0.5227904704288182,
          0.29659110822640816
         ]
        },
        {
         "marker": {
          "symbol": "circle"
         },
         "mode": "markers",
         "name": "Area (Pearson)",
         "type": "scatter",
         "visible": true,
         "x": [
          "I.1.1",
          "I.1.2",
          "I.1.3",
          "I.2.1",
          "I.2.2",
          "I.2.3",
          "I.3.1",
          "I.3.2",
          "I.3.3",
          "I.4.1",
          "I.4.2",
          "I.4.3",
          "I.4.4",
          "I.5.1",
          "I.5.2",
          "I.5.3",
          "I.6.1",
          "I.6.2",
          "I.6.3",
          "I.8.1",
          "II.1.1",
          "II.1.2",
          "II.1.3",
          "II.2.1",
          "II.2.2",
          "II.2.3",
          "II.3.1",
          "II.3.3",
          "II.4.1",
          "II.4.3",
          "II.5.1",
          "III.1.1",
          "III.1.2",
          "III.1.3",
          "III.2.1",
          "III.2.2",
          "III.2.3",
          "III.3.1",
          "III.3.2",
          "III.4.1",
          "III.4.2",
          "III.4.3",
          "IV.1",
          "IV.2",
          "V.1",
          "V.2",
          "V.3",
          "VI.1"
         ],
         "y": [
          0.09684802992702346,
          0.32003622442637036,
          0.1592523581782501,
          -0.09519040991981192,
          0.0987034988365263,
          -0.14444639745581717,
          0.32058546376850855,
          0.4613888390720185,
          0.40721746188880653,
          0.04074456745525148,
          -0.04103928820810605,
          -0.3203242524792504,
          -0.008309982778039654,
          0.32863144707608993,
          0.6960461305612703,
          0.8250283549802472,
          -0.09764836825329323,
          0.5781373097089587,
          0.594864194155809,
          -0.015964282704043764,
          0.48996593605983574,
          -0.04288044559614473,
          -0.43826055620001153,
          0.09713215595347169,
          0.01940014003835916,
          -0.2806620707638351,
          0.11291783003970296,
          0.44029044104510673,
          0.00493379771397185,
          0.16200377645795058,
          0.2402551765450513,
          0.3757888433461714,
          0.007110222909769204,
          0.22123778053737445,
          -0.01664568248708171,
          0.10229868001520737,
          0.45153899367707134,
          0.03235883341907284,
          -0.007260624706808773,
          0.24403186579927527,
          0.33132152549515187,
          -0.15413867939711604,
          0.5747805275665121,
          0.29523206928047957,
          0.7007556794273585,
          0.09972434638303519,
          0.6098587513871759,
          -0.8779154858134057
         ]
        },
        {
         "marker": {
          "symbol": "circle"
         },
         "mode": "markers",
         "name": "Area (Spearman)",
         "type": "scatter",
         "visible": false,
         "x": [
          "I.1.1",
          "I.1.2",
          "I.1.3",
          "I.2.1",
          "I.2.2",
          "I.2.3",
          "I.3.1",
          "I.3.2",
          "I.3.3",
          "I.4.1",
          "I.4.2",
          "I.4.3",
          "I.4.4",
          "I.5.1",
          "I.5.2",
          "I.5.3",
          "I.6.1",
          "I.6.2",
          "I.6.3",
          "I.8.1",
          "II.1.1",
          "II.1.2",
          "II.1.3",
          "II.2.1",
          "II.2.2",
          "II.2.3",
          "II.3.1",
          "II.3.3",
          "II.4.1",
          "II.4.3",
          "II.5.1",
          "III.1.1",
          "III.1.2",
          "III.1.3",
          "III.2.1",
          "III.2.2",
          "III.2.3",
          "III.3.1",
          "III.3.2",
          "III.4.1",
          "III.4.2",
          "III.4.3",
          "IV.1",
          "IV.2",
          "V.1",
          "V.2",
          "V.3",
          "VI.1"
         ],
         "y": [
          0.31977858905205714,
          0.5318961688060274,
          0.33891745092771974,
          0.09860448150823983,
          0.16578879552940173,
          0.005106281994305966,
          0.5450194840623865,
          0.641752720329596,
          0.5282592151069382,
          0.0542033503846246,
          -0.11852734415356533,
          0.12565388414768006,
          0.23637616317601173,
          0.3988016041011329,
          0.6084555018745584,
          0.8410914574734905,
          -0.44238856972608925,
          0.7876466983246638,
          0.7080160346370746,
          0.07508083495081033,
          0.8409756027296829,
          -0.19763318502066013,
          -0.3054166237991178,
          0.2642371934101869,
          0.16355831014458677,
          -0.21139296960859635,
          0.19841258275980517,
          0.6100719622828517,
          0.09913320133744502,
          0.40398505313937894,
          0.42767941255254355,
          0.49345501396734415,
          0.12721198545340212,
          0.777911175905468,
          0.07147931553351959,
          0.10059189051593329,
          -0.31065294709760827,
          0.015043061842567337,
          -0.010335816388736626,
          0.4465203748069332,
          0.5946179744762746,
          -0.13995223538381693,
          0.6216449039989577,
          0.4412410852796255,
          0.6827812062275714,
          -0.14014647122479326,
          0.6384683219574172,
          -0.6458359143717052
         ]
        }
       ],
       "layout": {
        "legend": {
         "title": {
          "text": "Variable"
         }
        },
        "template": {
         "data": {
          "bar": [
           {
            "error_x": {
             "color": "#2a3f5f"
            },
            "error_y": {
             "color": "#2a3f5f"
            },
            "marker": {
             "line": {
              "color": "white",
              "width": 0.5
             },
             "pattern": {
              "fillmode": "overlay",
              "size": 10,
              "solidity": 0.2
             }
            },
            "type": "bar"
           }
          ],
          "barpolar": [
           {
            "marker": {
             "line": {
              "color": "white",
              "width": 0.5
             },
             "pattern": {
              "fillmode": "overlay",
              "size": 10,
              "solidity": 0.2
             }
            },
            "type": "barpolar"
           }
          ],
          "carpet": [
           {
            "aaxis": {
             "endlinecolor": "#2a3f5f",
             "gridcolor": "#C8D4E3",
             "linecolor": "#C8D4E3",
             "minorgridcolor": "#C8D4E3",
             "startlinecolor": "#2a3f5f"
            },
            "baxis": {
             "endlinecolor": "#2a3f5f",
             "gridcolor": "#C8D4E3",
             "linecolor": "#C8D4E3",
             "minorgridcolor": "#C8D4E3",
             "startlinecolor": "#2a3f5f"
            },
            "type": "carpet"
           }
          ],
          "choropleth": [
           {
            "colorbar": {
             "outlinewidth": 0,
             "ticks": ""
            },
            "type": "choropleth"
           }
          ],
          "contour": [
           {
            "colorbar": {
             "outlinewidth": 0,
             "ticks": ""
            },
            "colorscale": [
             [
              0,
              "#0d0887"
             ],
             [
              0.1111111111111111,
              "#46039f"
             ],
             [
              0.2222222222222222,
              "#7201a8"
             ],
             [
              0.3333333333333333,
              "#9c179e"
             ],
             [
              0.4444444444444444,
              "#bd3786"
             ],
             [
              0.5555555555555556,
              "#d8576b"
             ],
             [
              0.6666666666666666,
              "#ed7953"
             ],
             [
              0.7777777777777778,
              "#fb9f3a"
             ],
             [
              0.8888888888888888,
              "#fdca26"
             ],
             [
              1,
              "#f0f921"
             ]
            ],
            "type": "contour"
           }
          ],
          "contourcarpet": [
           {
            "colorbar": {
             "outlinewidth": 0,
             "ticks": ""
            },
            "type": "contourcarpet"
           }
          ],
          "heatmap": [
           {
            "colorbar": {
             "outlinewidth": 0,
             "ticks": ""
            },
            "colorscale": [
             [
              0,
              "#0d0887"
             ],
             [
              0.1111111111111111,
              "#46039f"
             ],
             [
              0.2222222222222222,
              "#7201a8"
             ],
             [
              0.3333333333333333,
              "#9c179e"
             ],
             [
              0.4444444444444444,
              "#bd3786"
             ],
             [
              0.5555555555555556,
              "#d8576b"
             ],
             [
              0.6666666666666666,
              "#ed7953"
             ],
             [
              0.7777777777777778,
              "#fb9f3a"
             ],
             [
              0.8888888888888888,
              "#fdca26"
             ],
             [
              1,
              "#f0f921"
             ]
            ],
            "type": "heatmap"
           }
          ],
          "heatmapgl": [
           {
            "colorbar": {
             "outlinewidth": 0,
             "ticks": ""
            },
            "colorscale": [
             [
              0,
              "#0d0887"
             ],
             [
              0.1111111111111111,
              "#46039f"
             ],
             [
              0.2222222222222222,
              "#7201a8"
             ],
             [
              0.3333333333333333,
              "#9c179e"
             ],
             [
              0.4444444444444444,
              "#bd3786"
             ],
             [
              0.5555555555555556,
              "#d8576b"
             ],
             [
              0.6666666666666666,
              "#ed7953"
             ],
             [
              0.7777777777777778,
              "#fb9f3a"
             ],
             [
              0.8888888888888888,
              "#fdca26"
             ],
             [
              1,
              "#f0f921"
             ]
            ],
            "type": "heatmapgl"
           }
          ],
          "histogram": [
           {
            "marker": {
             "pattern": {
              "fillmode": "overlay",
              "size": 10,
              "solidity": 0.2
             }
            },
            "type": "histogram"
           }
          ],
          "histogram2d": [
           {
            "colorbar": {
             "outlinewidth": 0,
             "ticks": ""
            },
            "colorscale": [
             [
              0,
              "#0d0887"
             ],
             [
              0.1111111111111111,
              "#46039f"
             ],
             [
              0.2222222222222222,
              "#7201a8"
             ],
             [
              0.3333333333333333,
              "#9c179e"
             ],
             [
              0.4444444444444444,
              "#bd3786"
             ],
             [
              0.5555555555555556,
              "#d8576b"
             ],
             [
              0.6666666666666666,
              "#ed7953"
             ],
             [
              0.7777777777777778,
              "#fb9f3a"
             ],
             [
              0.8888888888888888,
              "#fdca26"
             ],
             [
              1,
              "#f0f921"
             ]
            ],
            "type": "histogram2d"
           }
          ],
          "histogram2dcontour": [
           {
            "colorbar": {
             "outlinewidth": 0,
             "ticks": ""
            },
            "colorscale": [
             [
              0,
              "#0d0887"
             ],
             [
              0.1111111111111111,
              "#46039f"
             ],
             [
              0.2222222222222222,
              "#7201a8"
             ],
             [
              0.3333333333333333,
              "#9c179e"
             ],
             [
              0.4444444444444444,
              "#bd3786"
             ],
             [
              0.5555555555555556,
              "#d8576b"
             ],
             [
              0.6666666666666666,
              "#ed7953"
             ],
             [
              0.7777777777777778,
              "#fb9f3a"
             ],
             [
              0.8888888888888888,
              "#fdca26"
             ],
             [
              1,
              "#f0f921"
             ]
            ],
            "type": "histogram2dcontour"
           }
          ],
          "mesh3d": [
           {
            "colorbar": {
             "outlinewidth": 0,
             "ticks": ""
            },
            "type": "mesh3d"
           }
          ],
          "parcoords": [
           {
            "line": {
             "colorbar": {
              "outlinewidth": 0,
              "ticks": ""
             }
            },
            "type": "parcoords"
           }
          ],
          "pie": [
           {
            "automargin": true,
            "type": "pie"
           }
          ],
          "scatter": [
           {
            "fillpattern": {
             "fillmode": "overlay",
             "size": 10,
             "solidity": 0.2
            },
            "type": "scatter"
           }
          ],
          "scatter3d": [
           {
            "line": {
             "colorbar": {
              "outlinewidth": 0,
              "ticks": ""
             }
            },
            "marker": {
             "colorbar": {
              "outlinewidth": 0,
              "ticks": ""
             }
            },
            "type": "scatter3d"
           }
          ],
          "scattercarpet": [
           {
            "marker": {
             "colorbar": {
              "outlinewidth": 0,
              "ticks": ""
             }
            },
            "type": "scattercarpet"
           }
          ],
          "scattergeo": [
           {
            "marker": {
             "colorbar": {
              "outlinewidth": 0,
              "ticks": ""
             }
            },
            "type": "scattergeo"
           }
          ],
          "scattergl": [
           {
            "marker": {
             "colorbar": {
              "outlinewidth": 0,
              "ticks": ""
             }
            },
            "type": "scattergl"
           }
          ],
          "scattermapbox": [
           {
            "marker": {
             "colorbar": {
              "outlinewidth": 0,
              "ticks": ""
             }
            },
            "type": "scattermapbox"
           }
          ],
          "scatterpolar": [
           {
            "marker": {
             "colorbar": {
              "outlinewidth": 0,
              "ticks": ""
             }
            },
            "type": "scatterpolar"
           }
          ],
          "scatterpolargl": [
           {
            "marker": {
             "colorbar": {
              "outlinewidth": 0,
              "ticks": ""
             }
            },
            "type": "scatterpolargl"
           }
          ],
          "scatterternary": [
           {
            "marker": {
             "colorbar": {
              "outlinewidth": 0,
              "ticks": ""
             }
            },
            "type": "scatterternary"
           }
          ],
          "surface": [
           {
            "colorbar": {
             "outlinewidth": 0,
             "ticks": ""
            },
            "colorscale": [
             [
              0,
              "#0d0887"
             ],
             [
              0.1111111111111111,
              "#46039f"
             ],
             [
              0.2222222222222222,
              "#7201a8"
             ],
             [
              0.3333333333333333,
              "#9c179e"
             ],
             [
              0.4444444444444444,
              "#bd3786"
             ],
             [
              0.5555555555555556,
              "#d8576b"
             ],
             [
              0.6666666666666666,
              "#ed7953"
             ],
             [
              0.7777777777777778,
              "#fb9f3a"
             ],
             [
              0.8888888888888888,
              "#fdca26"
             ],
             [
              1,
              "#f0f921"
             ]
            ],
            "type": "surface"
           }
          ],
          "table": [
           {
            "cells": {
             "fill": {
              "color": "#EBF0F8"
             },
             "line": {
              "color": "white"
             }
            },
            "header": {
             "fill": {
              "color": "#C8D4E3"
             },
             "line": {
              "color": "white"
             }
            },
            "type": "table"
           }
          ]
         },
         "layout": {
          "annotationdefaults": {
           "arrowcolor": "#2a3f5f",
           "arrowhead": 0,
           "arrowwidth": 1
          },
          "autotypenumbers": "strict",
          "coloraxis": {
           "colorbar": {
            "outlinewidth": 0,
            "ticks": ""
           }
          },
          "colorscale": {
           "diverging": [
            [
             0,
             "#8e0152"
            ],
            [
             0.1,
             "#c51b7d"
            ],
            [
             0.2,
             "#de77ae"
            ],
            [
             0.3,
             "#f1b6da"
            ],
            [
             0.4,
             "#fde0ef"
            ],
            [
             0.5,
             "#f7f7f7"
            ],
            [
             0.6,
             "#e6f5d0"
            ],
            [
             0.7,
             "#b8e186"
            ],
            [
             0.8,
             "#7fbc41"
            ],
            [
             0.9,
             "#4d9221"
            ],
            [
             1,
             "#276419"
            ]
           ],
           "sequential": [
            [
             0,
             "#0d0887"
            ],
            [
             0.1111111111111111,
             "#46039f"
            ],
            [
             0.2222222222222222,
             "#7201a8"
            ],
            [
             0.3333333333333333,
             "#9c179e"
            ],
            [
             0.4444444444444444,
             "#bd3786"
            ],
            [
             0.5555555555555556,
             "#d8576b"
            ],
            [
             0.6666666666666666,
             "#ed7953"
            ],
            [
             0.7777777777777778,
             "#fb9f3a"
            ],
            [
             0.8888888888888888,
             "#fdca26"
            ],
            [
             1,
             "#f0f921"
            ]
           ],
           "sequentialminus": [
            [
             0,
             "#0d0887"
            ],
            [
             0.1111111111111111,
             "#46039f"
            ],
            [
             0.2222222222222222,
             "#7201a8"
            ],
            [
             0.3333333333333333,
             "#9c179e"
            ],
            [
             0.4444444444444444,
             "#bd3786"
            ],
            [
             0.5555555555555556,
             "#d8576b"
            ],
            [
             0.6666666666666666,
             "#ed7953"
            ],
            [
             0.7777777777777778,
             "#fb9f3a"
            ],
            [
             0.8888888888888888,
             "#fdca26"
            ],
            [
             1,
             "#f0f921"
            ]
           ]
          },
          "colorway": [
           "#636efa",
           "#EF553B",
           "#00cc96",
           "#ab63fa",
           "#FFA15A",
           "#19d3f3",
           "#FF6692",
           "#B6E880",
           "#FF97FF",
           "#FECB52"
          ],
          "font": {
           "color": "#2a3f5f"
          },
          "geo": {
           "bgcolor": "white",
           "lakecolor": "white",
           "landcolor": "white",
           "showlakes": true,
           "showland": true,
           "subunitcolor": "#C8D4E3"
          },
          "hoverlabel": {
           "align": "left"
          },
          "hovermode": "closest",
          "mapbox": {
           "style": "light"
          },
          "paper_bgcolor": "white",
          "plot_bgcolor": "white",
          "polar": {
           "angularaxis": {
            "gridcolor": "#EBF0F8",
            "linecolor": "#EBF0F8",
            "ticks": ""
           },
           "bgcolor": "white",
           "radialaxis": {
            "gridcolor": "#EBF0F8",
            "linecolor": "#EBF0F8",
            "ticks": ""
           }
          },
          "scene": {
           "xaxis": {
            "backgroundcolor": "white",
            "gridcolor": "#DFE8F3",
            "gridwidth": 2,
            "linecolor": "#EBF0F8",
            "showbackground": true,
            "ticks": "",
            "zerolinecolor": "#EBF0F8"
           },
           "yaxis": {
            "backgroundcolor": "white",
            "gridcolor": "#DFE8F3",
            "gridwidth": 2,
            "linecolor": "#EBF0F8",
            "showbackground": true,
            "ticks": "",
            "zerolinecolor": "#EBF0F8"
           },
           "zaxis": {
            "backgroundcolor": "white",
            "gridcolor": "#DFE8F3",
            "gridwidth": 2,
            "linecolor": "#EBF0F8",
            "showbackground": true,
            "ticks": "",
            "zerolinecolor": "#EBF0F8"
           }
          },
          "shapedefaults": {
           "line": {
            "color": "#2a3f5f"
           }
          },
          "ternary": {
           "aaxis": {
            "gridcolor": "#DFE8F3",
            "linecolor": "#A2B1C6",
            "ticks": ""
           },
           "baxis": {
            "gridcolor": "#DFE8F3",
            "linecolor": "#A2B1C6",
            "ticks": ""
           },
           "bgcolor": "white",
           "caxis": {
            "gridcolor": "#DFE8F3",
            "linecolor": "#A2B1C6",
            "ticks": ""
           }
          },
          "title": {
           "x": 0.05
          },
          "xaxis": {
           "automargin": true,
           "gridcolor": "#EBF0F8",
           "linecolor": "#EBF0F8",
           "ticks": "",
           "title": {
            "standoff": 15
           },
           "zerolinecolor": "#EBF0F8",
           "zerolinewidth": 2
          },
          "yaxis": {
           "automargin": true,
           "gridcolor": "#EBF0F8",
           "linecolor": "#EBF0F8",
           "ticks": "",
           "title": {
            "standoff": 15
           },
           "zerolinecolor": "#EBF0F8",
           "zerolinewidth": 2
          }
         }
        },
        "title": {
         "text": "Correlation Plot by Subsector and Variable"
        },
        "updatemenus": [
         {
          "buttons": [
           {
            "args": [
             {
              "visible": [
               true,
               false,
               true,
               false,
               true,
               false
              ]
             }
            ],
            "label": "Pearson Correlation",
            "method": "restyle"
           },
           {
            "args": [
             {
              "visible": [
               false,
               true,
               false,
               true,
               false,
               true
              ]
             }
            ],
            "label": "Spearman Correlation",
            "method": "restyle"
           }
          ],
          "direction": "down",
          "showactive": true,
          "x": 0.17,
          "xanchor": "left",
          "y": 1.15,
          "yanchor": "top"
         }
        ],
        "xaxis": {
         "title": {
          "text": "Subsector (GPC Reference)"
         }
        },
        "yaxis": {
         "title": {
          "text": "Correlation Value"
         }
        }
       }
      }
     },
     "metadata": {},
     "output_type": "display_data"
    }
   ],
   "source": [
    "fig = go.Figure()\n",
    "\n",
    "for var in corr_df['Variable'].unique():\n",
    "    # Filter data by variable\n",
    "    df_var = corr_df[corr_df['Variable'] == var]\n",
    "    \n",
    "    # Add trace for Pearson Correlation \n",
    "    fig.add_trace(go.Scatter(\n",
    "        x=df_var['Subsector'],\n",
    "        y=df_var['Pearson_Correlation'],\n",
    "        mode='markers',\n",
    "        name=f'{var} (Pearson)',\n",
    "        marker=dict(symbol='circle'),\n",
    "        visible=True  \n",
    "    ))\n",
    "    \n",
    "    # Add trace for Spearman Correlation\n",
    "    fig.add_trace(go.Scatter(\n",
    "        x=df_var['Subsector'],\n",
    "        y=df_var['Spearman_Correlation'],\n",
    "        mode='markers',\n",
    "        name=f'{var} (Spearman)',\n",
    "        marker=dict(symbol='circle'),\n",
    "        visible=False  \n",
    "    ))\n",
    "\n",
    "fig.update_layout(\n",
    "    updatemenus=[\n",
    "        dict(\n",
    "            buttons=list([\n",
    "                dict(\n",
    "                    args=[{'visible': [True if 'Pearson' in trace.name else False for trace in fig.data]}],\n",
    "                    label=\"Pearson Correlation\",\n",
    "                    method=\"restyle\"\n",
    "                ),\n",
    "                dict(\n",
    "                    args=[{'visible': [True if 'Spearman' in trace.name else False for trace in fig.data]}],\n",
    "                    label=\"Spearman Correlation\",\n",
    "                    method=\"restyle\"\n",
    "                )\n",
    "            ]),\n",
    "            direction=\"down\",\n",
    "            showactive=True,\n",
    "            x=0.17,\n",
    "            y=1.15,\n",
    "            xanchor=\"left\",\n",
    "            yanchor=\"top\"\n",
    "        )\n",
    "    ]\n",
    ")\n",
    "\n",
    "fig.update_layout(\n",
    "    title=\"Correlation Plot by Subsector and Variable\",\n",
    "    xaxis_title=\"Subsector (GPC Reference)\",\n",
    "    yaxis_title=\"Correlation Value\",\n",
    "    legend_title=\"Variable\",\n",
    "    template=\"plotly_white\"\n",
    ")\n",
    "\n",
    "fig.show()"
   ]
  },
  {
   "cell_type": "code",
   "execution_count": 62,
   "metadata": {},
   "outputs": [
    {
     "data": {
      "application/vnd.plotly.v1+json": {
       "config": {
        "plotlyServerURL": "https://plot.ly"
       },
       "data": [
        {
         "alignmentgroup": "True",
         "customdata": [
          [
           "Area"
          ],
          [
           "Area"
          ],
          [
           "Area"
          ],
          [
           "GDP"
          ],
          [
           "Area"
          ],
          [
           "Population"
          ],
          [
           "Area"
          ],
          [
           "Area"
          ],
          [
           "GDP"
          ],
          [
           "Population"
          ],
          [
           "GDP"
          ],
          [
           "Population"
          ],
          [
           "Population"
          ],
          [
           "Area"
          ],
          [
           "Population"
          ],
          [
           "Area"
          ],
          [
           "Area"
          ],
          [
           "Area"
          ],
          [
           "Area"
          ],
          [
           "Area"
          ],
          [
           "Population"
          ],
          [
           "GDP"
          ],
          [
           "Area"
          ],
          [
           "GDP"
          ],
          [
           "Area"
          ],
          [
           "GDP"
          ],
          [
           "Area"
          ],
          [
           "Population"
          ],
          [
           "Area"
          ],
          [
           "GDP"
          ],
          [
           "Population"
          ],
          [
           "Population"
          ],
          [
           "GDP"
          ],
          [
           "Population"
          ],
          [
           "Area"
          ],
          [
           "GDP"
          ]
         ],
         "hovertemplate": "Correlation Strength=%{y}<br>Correlation Type=Pearson<br>Subsector=%{x}<br>Variable=%{customdata[0]}<extra></extra>",
         "legendgroup": "Negligible or No Correlation",
         "marker": {
          "color": [
           "#ff6600",
           "#ff9900",
           "#d3d3d3",
           "#ff6600",
           "#ff9900",
           "#ff9900",
           "#ff9900",
           "#ffcc00",
           "#ffcc00",
           "#ffcc00",
           "#ff9900",
           "#d3d3d3",
           "#ff9900",
           "#ff9900",
           "#d3d3d3",
           "#ff9900",
           "#ffcc00",
           "#ffcc00",
           "#ff9900",
           "#ffcc00",
           "#ff9900",
           "#ff6600",
           "#ffcc00",
           "#ff9900",
           "#ff9900",
           "#ffcc00",
           "#ff9900",
           "#ffcc00",
           "#d3d3d3",
           "#d3d3d3",
           "#d3d3d3",
           "#ff9900",
           "#d3d3d3",
           "#ff9900",
           "#ff9900",
           "#ff9900",
           "#ff9900",
           "#ffcc00",
           "#d3d3d3",
           "#ffcc00",
           "#d3d3d3",
           "#ff9900",
           "#d3d3d3",
           "#d3d3d3",
           "#ff6600",
           "#d3d3d3",
           "#ffcc00",
           "#cc0000",
           "#d3d3d3",
           "#ffcc00",
           "#d3d3d3",
           "#ff9900",
           "#ff9900",
           "#ff6600",
           "#ff9900",
           "#ff9900",
           "#ff6600",
           "#d3d3d3",
           "#ffcc00",
           "#d3d3d3",
           "#ff6600",
           "#ffcc00",
           "#ff9900",
           "#ffcc00",
           "#ff9900",
           "#d3d3d3",
           "#ffcc00",
           "#ffcc00",
           "#ff9900",
           "#ffcc00",
           "#ffcc00",
           "#d3d3d3",
           "#ff9900",
           "#ff9900",
           "#d3d3d3",
           "#ff9900",
           "#ffcc00",
           "#ffcc00",
           "#ffcc00",
           "#ff9900",
           "#ffcc00",
           "#ff9900",
           "#ffcc00",
           "#ff9900",
           "#ffcc00",
           "#ffcc00",
           "#d3d3d3",
           "#ff9900",
           "#ffcc00",
           "#ffcc00",
           "#d3d3d3",
           "#ffcc00",
           "#ffcc00",
           "#ff9900",
           "#d3d3d3",
           "#ff9900",
           "#ff9900",
           "#ffcc00",
           "#d3d3d3",
           "#ffcc00",
           "#ffcc00",
           "#ffcc00",
           "#ffcc00",
           "#d3d3d3",
           "#d3d3d3",
           "#ffcc00",
           "#d3d3d3",
           "#ffcc00",
           "#ff6600",
           "#cc0000",
           "#ff9900",
           "#ffcc00",
           "#ffcc00",
           "#d3d3d3",
           "#d3d3d3",
           "#ff9900",
           "#d3d3d3",
           "#ff6600",
           "#d3d3d3",
           "#ffcc00",
           "#ff6600",
           "#ffcc00",
           "#ff9900",
           "#d3d3d3",
           "#ffcc00",
           "#ffcc00",
           "#d3d3d3",
           "#ffcc00",
           "#ff6600",
           "#ff9900",
           "#ffcc00",
           "#ffcc00",
           "#ffcc00",
           "#d3d3d3",
           "#cc0000",
           "#d3d3d3",
           "#ffcc00",
           "#d3d3d3",
           "#ffcc00",
           "#ff9900",
           "#ff6600",
           "#ff9900",
           "#d3d3d3",
           "#cc0000",
           "#ff6600",
           "#ff9900",
           "#ff9900",
           "#ff6600",
           "#ffcc00",
           "#ff6600",
           "#ff6600",
           "#d3d3d3",
           "#ff9900",
           "#ffcc00",
           "#ff9900",
           "#d3d3d3",
           "#ffcc00",
           "#ff9900",
           "#ffcc00",
           "#ff9900",
           "#ffcc00",
           "#d3d3d3",
           "#ff6600",
           "#ff9900",
           "#ff6600",
           "#ff6600",
           "#ffcc00",
           "#ff6600",
           "#ff6600",
           "#d3d3d3",
           "#ff6600",
           "#ffcc00",
           "#d3d3d3",
           "#d3d3d3",
           "#d3d3d3",
           "#ffcc00",
           "#ffcc00",
           "#ffcc00",
           "#ffcc00",
           "#ffcc00",
           "#ff9900",
           "#d3d3d3",
           "#ffcc00",
           "#d3d3d3",
           "#ffcc00",
           "#ff9900",
           "#d3d3d3",
           "#d3d3d3",
           "#ff6600",
           "#ffcc00",
           "#d3d3d3",
           "#cc0000",
           "#ffcc00",
           "#ffcc00",
           "#ff9900",
           "#ff9900",
           "#ff9900",
           "#cc0000",
           "#ff6600",
           "#ff6600",
           "#cc0000",
           "#ffcc00",
           "#d3d3d3",
           "#d3d3d3",
           "#cc0000",
           "#ff9900",
           "#cc0000",
           "#d3d3d3",
           "#ff9900",
           "#ffcc00",
           "#d3d3d3",
           "#ffcc00",
           "#ff9900",
           "#ffcc00",
           "#ff9900",
           "#ffcc00",
           "#ff9900",
           "#ff9900",
           "#ffcc00",
           "#ffcc00",
           "#ffcc00",
           "#ffcc00",
           "#ffcc00",
           "#ffcc00",
           "#ffcc00",
           "#ff9900",
           "#d3d3d3",
           "#ff6600",
           "#ffcc00",
           "#ffcc00",
           "#d3d3d3",
           "#ff6600",
           "#ff9900",
           "#ff9900",
           "#ff9900",
           "#ffcc00",
           "#ff9900",
           "#ff6600",
           "#ffcc00",
           "#ff9900",
           "#ff6600",
           "#ffcc00",
           "#ffcc00",
           "#ffcc00",
           "#ffcc00",
           "#cc0000",
           "#ffcc00",
           "#ffcc00",
           "#d3d3d3",
           "#d3d3d3",
           "#d3d3d3",
           "#ffcc00",
           "#cc0000",
           "#cc0000",
           "#ff9900",
           "#ffcc00",
           "#ff9900",
           "#d3d3d3",
           "#d3d3d3",
           "#ff6600",
           "#d3d3d3",
           "#cc0000",
           "#d3d3d3",
           "#ff9900",
           "#cc0000",
           "#d3d3d3",
           "#ff6600",
           "#d3d3d3",
           "#ffcc00",
           "#ffcc00",
           "#d3d3d3",
           "#ffcc00",
           "#ff6600",
           "#ff9900",
           "#ff9900",
           "#ff9900",
           "#ffcc00",
           "#d3d3d3",
           "#ff6600",
           "#ffcc00",
           "#ffcc00",
           "#ffcc00",
           "#ff9900",
           "#ff6600",
           "#ff6600",
           "#ffcc00",
           "#ffcc00",
           "#ff6600"
          ],
          "pattern": {
           "shape": ""
          }
         },
         "name": "Negligible or No Correlation",
         "offsetgroup": "Negligible or No Correlation",
         "orientation": "v",
         "showlegend": true,
         "textposition": "auto",
         "type": "bar",
         "x": [
          "I.1.1",
          "I.2.1",
          "I.2.2",
          "I.4.1",
          "I.4.1",
          "I.4.2",
          "I.4.2",
          "I.4.4",
          "I.5.1",
          "I.5.2",
          "I.5.2",
          "I.5.3",
          "I.6.1",
          "I.6.1",
          "I.8.1",
          "I.8.1",
          "II.1.2",
          "II.2.1",
          "II.2.2",
          "II.4.1",
          "II.5.1",
          "III.1.1",
          "III.1.2",
          "III.2.1",
          "III.2.1",
          "III.2.2",
          "III.3.1",
          "III.3.2",
          "III.3.2",
          "III.4.1",
          "III.4.3",
          "IV.1",
          "V.1",
          "V.2",
          "V.2",
          "VI.1"
         ],
         "xaxis": "x2",
         "y": [
          "Negligible or No Correlation",
          "Negligible or No Correlation",
          "Negligible or No Correlation",
          "Negligible or No Correlation",
          "Negligible or No Correlation",
          "Negligible or No Correlation",
          "Negligible or No Correlation",
          "Negligible or No Correlation",
          "Negligible or No Correlation",
          "Negligible or No Correlation",
          "Negligible or No Correlation",
          "Negligible or No Correlation",
          "Negligible or No Correlation",
          "Negligible or No Correlation",
          "Negligible or No Correlation",
          "Negligible or No Correlation",
          "Negligible or No Correlation",
          "Negligible or No Correlation",
          "Negligible or No Correlation",
          "Negligible or No Correlation",
          "Negligible or No Correlation",
          "Negligible or No Correlation",
          "Negligible or No Correlation",
          "Negligible or No Correlation",
          "Negligible or No Correlation",
          "Negligible or No Correlation",
          "Negligible or No Correlation",
          "Negligible or No Correlation",
          "Negligible or No Correlation",
          "Negligible or No Correlation",
          "Negligible or No Correlation",
          "Negligible or No Correlation",
          "Negligible or No Correlation",
          "Negligible or No Correlation",
          "Negligible or No Correlation",
          "Negligible or No Correlation"
         ],
         "yaxis": "y2"
        },
        {
         "alignmentgroup": "True",
         "customdata": [
          [
           "GDP"
          ],
          [
           "Area"
          ],
          [
           "Area"
          ],
          [
           "GDP"
          ],
          [
           "GDP"
          ],
          [
           "Area"
          ],
          [
           "Population"
          ],
          [
           "GDP"
          ],
          [
           "Population"
          ],
          [
           "Population"
          ],
          [
           "GDP"
          ],
          [
           "GDP"
          ],
          [
           "GDP"
          ],
          [
           "Area"
          ],
          [
           "Population"
          ],
          [
           "Population"
          ],
          [
           "GDP"
          ],
          [
           "Area"
          ],
          [
           "Area"
          ],
          [
           "Population"
          ],
          [
           "GDP"
          ],
          [
           "Area"
          ],
          [
           "Population"
          ],
          [
           "Area"
          ],
          [
           "GDP"
          ],
          [
           "GDP"
          ],
          [
           "Population"
          ],
          [
           "Population"
          ],
          [
           "GDP"
          ]
         ],
         "hovertemplate": "Correlation Strength=%{y}<br>Correlation Type=Spearman<br>Subsector=%{x}<br>Variable=%{customdata[0]}<extra></extra>",
         "legendgroup": "Negligible or No Correlation",
         "marker": {
          "color": [
           "#ff6600",
           "#ff9900",
           "#d3d3d3",
           "#ff6600",
           "#ff9900",
           "#ff9900",
           "#ff9900",
           "#ffcc00",
           "#ffcc00",
           "#ffcc00",
           "#ff9900",
           "#d3d3d3",
           "#ff9900",
           "#ff9900",
           "#d3d3d3",
           "#ff9900",
           "#ffcc00",
           "#ffcc00",
           "#ff9900",
           "#ffcc00",
           "#ff9900",
           "#ff6600",
           "#ffcc00",
           "#ff9900",
           "#ff9900",
           "#ffcc00",
           "#ff9900",
           "#ffcc00",
           "#d3d3d3",
           "#d3d3d3",
           "#d3d3d3",
           "#ff9900",
           "#d3d3d3",
           "#ff9900",
           "#ff9900",
           "#ff9900",
           "#ff9900",
           "#ffcc00",
           "#d3d3d3",
           "#ffcc00",
           "#d3d3d3",
           "#ff9900",
           "#d3d3d3",
           "#d3d3d3",
           "#ff6600",
           "#d3d3d3",
           "#ffcc00",
           "#cc0000",
           "#d3d3d3",
           "#ffcc00",
           "#d3d3d3",
           "#ff9900",
           "#ff9900",
           "#ff6600",
           "#ff9900",
           "#ff9900",
           "#ff6600",
           "#d3d3d3",
           "#ffcc00",
           "#d3d3d3",
           "#ff6600",
           "#ffcc00",
           "#ff9900",
           "#ffcc00",
           "#ff9900",
           "#d3d3d3",
           "#ffcc00",
           "#ffcc00",
           "#ff9900",
           "#ffcc00",
           "#ffcc00",
           "#d3d3d3",
           "#ff9900",
           "#ff9900",
           "#d3d3d3",
           "#ff9900",
           "#ffcc00",
           "#ffcc00",
           "#ffcc00",
           "#ff9900",
           "#ffcc00",
           "#ff9900",
           "#ffcc00",
           "#ff9900",
           "#ffcc00",
           "#ffcc00",
           "#d3d3d3",
           "#ff9900",
           "#ffcc00",
           "#ffcc00",
           "#d3d3d3",
           "#ffcc00",
           "#ffcc00",
           "#ff9900",
           "#d3d3d3",
           "#ff9900",
           "#ff9900",
           "#ffcc00",
           "#d3d3d3",
           "#ffcc00",
           "#ffcc00",
           "#ffcc00",
           "#ffcc00",
           "#d3d3d3",
           "#d3d3d3",
           "#ffcc00",
           "#d3d3d3",
           "#ffcc00",
           "#ff6600",
           "#cc0000",
           "#ff9900",
           "#ffcc00",
           "#ffcc00",
           "#d3d3d3",
           "#d3d3d3",
           "#ff9900",
           "#d3d3d3",
           "#ff6600",
           "#d3d3d3",
           "#ffcc00",
           "#ff6600",
           "#ffcc00",
           "#ff9900",
           "#d3d3d3",
           "#ffcc00",
           "#ffcc00",
           "#d3d3d3",
           "#ffcc00",
           "#ff6600",
           "#ff9900",
           "#ffcc00",
           "#ffcc00",
           "#ffcc00",
           "#d3d3d3",
           "#cc0000",
           "#d3d3d3",
           "#ffcc00",
           "#d3d3d3",
           "#ffcc00",
           "#ff9900",
           "#ff6600",
           "#ff9900",
           "#d3d3d3",
           "#cc0000",
           "#ff6600",
           "#ff9900",
           "#ff9900",
           "#ff6600",
           "#ffcc00",
           "#ff6600",
           "#ff6600",
           "#d3d3d3",
           "#ff9900",
           "#ffcc00",
           "#ff9900",
           "#d3d3d3",
           "#ffcc00",
           "#ff9900",
           "#ffcc00",
           "#ff9900",
           "#ffcc00",
           "#d3d3d3",
           "#ff6600",
           "#ff9900",
           "#ff6600",
           "#ff6600",
           "#ffcc00",
           "#ff6600",
           "#ff6600",
           "#d3d3d3",
           "#ff6600",
           "#ffcc00",
           "#d3d3d3",
           "#d3d3d3",
           "#d3d3d3",
           "#ffcc00",
           "#ffcc00",
           "#ffcc00",
           "#ffcc00",
           "#ffcc00",
           "#ff9900",
           "#d3d3d3",
           "#ffcc00",
           "#d3d3d3",
           "#ffcc00",
           "#ff9900",
           "#d3d3d3",
           "#d3d3d3",
           "#ff6600",
           "#ffcc00",
           "#d3d3d3",
           "#cc0000",
           "#ffcc00",
           "#ffcc00",
           "#ff9900",
           "#ff9900",
           "#ff9900",
           "#cc0000",
           "#ff6600",
           "#ff6600",
           "#cc0000",
           "#ffcc00",
           "#d3d3d3",
           "#d3d3d3",
           "#cc0000",
           "#ff9900",
           "#cc0000",
           "#d3d3d3",
           "#ff9900",
           "#ffcc00",
           "#d3d3d3",
           "#ffcc00",
           "#ff9900",
           "#ffcc00",
           "#ff9900",
           "#ffcc00",
           "#ff9900",
           "#ff9900",
           "#ffcc00",
           "#ffcc00",
           "#ffcc00",
           "#ffcc00",
           "#ffcc00",
           "#ffcc00",
           "#ffcc00",
           "#ff9900",
           "#d3d3d3",
           "#ff6600",
           "#ffcc00",
           "#ffcc00",
           "#d3d3d3",
           "#ff6600",
           "#ff9900",
           "#ff9900",
           "#ff9900",
           "#ffcc00",
           "#ff9900",
           "#ff6600",
           "#ffcc00",
           "#ff9900",
           "#ff6600",
           "#ffcc00",
           "#ffcc00",
           "#ffcc00",
           "#ffcc00",
           "#cc0000",
           "#ffcc00",
           "#ffcc00",
           "#d3d3d3",
           "#d3d3d3",
           "#d3d3d3",
           "#ffcc00",
           "#cc0000",
           "#cc0000",
           "#ff9900",
           "#ffcc00",
           "#ff9900",
           "#d3d3d3",
           "#d3d3d3",
           "#ff6600",
           "#d3d3d3",
           "#cc0000",
           "#d3d3d3",
           "#ff9900",
           "#cc0000",
           "#d3d3d3",
           "#ff6600",
           "#d3d3d3",
           "#ffcc00",
           "#ffcc00",
           "#d3d3d3",
           "#ffcc00",
           "#ff6600",
           "#ff9900",
           "#ff9900",
           "#ff9900",
           "#ffcc00",
           "#d3d3d3",
           "#ff6600",
           "#ffcc00",
           "#ffcc00",
           "#ffcc00",
           "#ff9900",
           "#ff6600",
           "#ff6600",
           "#ffcc00",
           "#ffcc00",
           "#ff6600"
          ],
          "pattern": {
           "shape": ""
          }
         },
         "name": "Negligible or No Correlation",
         "offsetgroup": "Negligible or No Correlation",
         "orientation": "v",
         "showlegend": false,
         "textposition": "auto",
         "type": "bar",
         "x": [
          "I.1.3",
          "I.2.1",
          "I.2.3",
          "I.3.3",
          "I.4.1",
          "I.4.1",
          "I.4.2",
          "I.4.4",
          "I.5.1",
          "I.5.2",
          "I.5.2",
          "I.5.3",
          "I.8.1",
          "I.8.1",
          "II.1.2",
          "II.1.3",
          "II.3.3",
          "II.4.1",
          "III.2.1",
          "III.2.2",
          "III.2.2",
          "III.3.1",
          "III.3.2",
          "III.3.2",
          "III.4.1",
          "III.4.2",
          "III.4.3",
          "IV.1",
          "V.1"
         ],
         "xaxis": "x",
         "y": [
          "Negligible or No Correlation",
          "Negligible or No Correlation",
          "Negligible or No Correlation",
          "Negligible or No Correlation",
          "Negligible or No Correlation",
          "Negligible or No Correlation",
          "Negligible or No Correlation",
          "Negligible or No Correlation",
          "Negligible or No Correlation",
          "Negligible or No Correlation",
          "Negligible or No Correlation",
          "Negligible or No Correlation",
          "Negligible or No Correlation",
          "Negligible or No Correlation",
          "Negligible or No Correlation",
          "Negligible or No Correlation",
          "Negligible or No Correlation",
          "Negligible or No Correlation",
          "Negligible or No Correlation",
          "Negligible or No Correlation",
          "Negligible or No Correlation",
          "Negligible or No Correlation",
          "Negligible or No Correlation",
          "Negligible or No Correlation",
          "Negligible or No Correlation",
          "Negligible or No Correlation",
          "Negligible or No Correlation",
          "Negligible or No Correlation",
          "Negligible or No Correlation"
         ],
         "yaxis": "y"
        },
        {
         "alignmentgroup": "True",
         "customdata": [
          [
           "GDP"
          ],
          [
           "Area"
          ],
          [
           "Population"
          ],
          [
           "GDP"
          ],
          [
           "Area"
          ],
          [
           "GDP"
          ],
          [
           "GDP"
          ],
          [
           "GDP"
          ],
          [
           "Population"
          ],
          [
           "GDP"
          ],
          [
           "Population"
          ],
          [
           "GDP"
          ],
          [
           "GDP"
          ],
          [
           "GDP"
          ],
          [
           "GDP"
          ],
          [
           "Population"
          ],
          [
           "Population"
          ],
          [
           "GDP"
          ],
          [
           "Population"
          ],
          [
           "GDP"
          ],
          [
           "GDP"
          ],
          [
           "Area"
          ],
          [
           "Population"
          ],
          [
           "Area"
          ],
          [
           "GDP"
          ],
          [
           "Population"
          ],
          [
           "GDP"
          ],
          [
           "GDP"
          ],
          [
           "Area"
          ],
          [
           "GDP"
          ],
          [
           "Area"
          ],
          [
           "GDP"
          ],
          [
           "Population"
          ],
          [
           "GDP"
          ],
          [
           "Area"
          ],
          [
           "Population"
          ],
          [
           "Population"
          ],
          [
           "Area"
          ],
          [
           "Population"
          ],
          [
           "GDP"
          ],
          [
           "Area"
          ],
          [
           "GDP"
          ],
          [
           "GDP"
          ],
          [
           "Area"
          ],
          [
           "GDP"
          ],
          [
           "GDP"
          ],
          [
           "Area"
          ],
          [
           "Population"
          ],
          [
           "GDP"
          ],
          [
           "Population"
          ]
         ],
         "hovertemplate": "Correlation Strength=%{y}<br>Correlation Type=Pearson<br>Subsector=%{x}<br>Variable=%{customdata[0]}<extra></extra>",
         "legendgroup": "Weak Correlation",
         "marker": {
          "color": [
           "#ff6600",
           "#ff9900",
           "#d3d3d3",
           "#ff6600",
           "#ff9900",
           "#ff9900",
           "#ff9900",
           "#ffcc00",
           "#ffcc00",
           "#ffcc00",
           "#ff9900",
           "#d3d3d3",
           "#ff9900",
           "#ff9900",
           "#d3d3d3",
           "#ff9900",
           "#ffcc00",
           "#ffcc00",
           "#ff9900",
           "#ffcc00",
           "#ff9900",
           "#ff6600",
           "#ffcc00",
           "#ff9900",
           "#ff9900",
           "#ffcc00",
           "#ff9900",
           "#ffcc00",
           "#d3d3d3",
           "#d3d3d3",
           "#d3d3d3",
           "#ff9900",
           "#d3d3d3",
           "#ff9900",
           "#ff9900",
           "#ff9900",
           "#ff9900",
           "#ffcc00",
           "#d3d3d3",
           "#ffcc00",
           "#d3d3d3",
           "#ff9900",
           "#d3d3d3",
           "#d3d3d3",
           "#ff6600",
           "#d3d3d3",
           "#ffcc00",
           "#cc0000",
           "#d3d3d3",
           "#ffcc00",
           "#d3d3d3",
           "#ff9900",
           "#ff9900",
           "#ff6600",
           "#ff9900",
           "#ff9900",
           "#ff6600",
           "#d3d3d3",
           "#ffcc00",
           "#d3d3d3",
           "#ff6600",
           "#ffcc00",
           "#ff9900",
           "#ffcc00",
           "#ff9900",
           "#d3d3d3",
           "#ffcc00",
           "#ffcc00",
           "#ff9900",
           "#ffcc00",
           "#ffcc00",
           "#d3d3d3",
           "#ff9900",
           "#ff9900",
           "#d3d3d3",
           "#ff9900",
           "#ffcc00",
           "#ffcc00",
           "#ffcc00",
           "#ff9900",
           "#ffcc00",
           "#ff9900",
           "#ffcc00",
           "#ff9900",
           "#ffcc00",
           "#ffcc00",
           "#d3d3d3",
           "#ff9900",
           "#ffcc00",
           "#ffcc00",
           "#d3d3d3",
           "#ffcc00",
           "#ffcc00",
           "#ff9900",
           "#d3d3d3",
           "#ff9900",
           "#ff9900",
           "#ffcc00",
           "#d3d3d3",
           "#ffcc00",
           "#ffcc00",
           "#ffcc00",
           "#ffcc00",
           "#d3d3d3",
           "#d3d3d3",
           "#ffcc00",
           "#d3d3d3",
           "#ffcc00",
           "#ff6600",
           "#cc0000",
           "#ff9900",
           "#ffcc00",
           "#ffcc00",
           "#d3d3d3",
           "#d3d3d3",
           "#ff9900",
           "#d3d3d3",
           "#ff6600",
           "#d3d3d3",
           "#ffcc00",
           "#ff6600",
           "#ffcc00",
           "#ff9900",
           "#d3d3d3",
           "#ffcc00",
           "#ffcc00",
           "#d3d3d3",
           "#ffcc00",
           "#ff6600",
           "#ff9900",
           "#ffcc00",
           "#ffcc00",
           "#ffcc00",
           "#d3d3d3",
           "#cc0000",
           "#d3d3d3",
           "#ffcc00",
           "#d3d3d3",
           "#ffcc00",
           "#ff9900",
           "#ff6600",
           "#ff9900",
           "#d3d3d3",
           "#cc0000",
           "#ff6600",
           "#ff9900",
           "#ff9900",
           "#ff6600",
           "#ffcc00",
           "#ff6600",
           "#ff6600",
           "#d3d3d3",
           "#ff9900",
           "#ffcc00",
           "#ff9900",
           "#d3d3d3",
           "#ffcc00",
           "#ff9900",
           "#ffcc00",
           "#ff9900",
           "#ffcc00",
           "#d3d3d3",
           "#ff6600",
           "#ff9900",
           "#ff6600",
           "#ff6600",
           "#ffcc00",
           "#ff6600",
           "#ff6600",
           "#d3d3d3",
           "#ff6600",
           "#ffcc00",
           "#d3d3d3",
           "#d3d3d3",
           "#d3d3d3",
           "#ffcc00",
           "#ffcc00",
           "#ffcc00",
           "#ffcc00",
           "#ffcc00",
           "#ff9900",
           "#d3d3d3",
           "#ffcc00",
           "#d3d3d3",
           "#ffcc00",
           "#ff9900",
           "#d3d3d3",
           "#d3d3d3",
           "#ff6600",
           "#ffcc00",
           "#d3d3d3",
           "#cc0000",
           "#ffcc00",
           "#ffcc00",
           "#ff9900",
           "#ff9900",
           "#ff9900",
           "#cc0000",
           "#ff6600",
           "#ff6600",
           "#cc0000",
           "#ffcc00",
           "#d3d3d3",
           "#d3d3d3",
           "#cc0000",
           "#ff9900",
           "#cc0000",
           "#d3d3d3",
           "#ff9900",
           "#ffcc00",
           "#d3d3d3",
           "#ffcc00",
           "#ff9900",
           "#ffcc00",
           "#ff9900",
           "#ffcc00",
           "#ff9900",
           "#ff9900",
           "#ffcc00",
           "#ffcc00",
           "#ffcc00",
           "#ffcc00",
           "#ffcc00",
           "#ffcc00",
           "#ffcc00",
           "#ff9900",
           "#d3d3d3",
           "#ff6600",
           "#ffcc00",
           "#ffcc00",
           "#d3d3d3",
           "#ff6600",
           "#ff9900",
           "#ff9900",
           "#ff9900",
           "#ffcc00",
           "#ff9900",
           "#ff6600",
           "#ffcc00",
           "#ff9900",
           "#ff6600",
           "#ffcc00",
           "#ffcc00",
           "#ffcc00",
           "#ffcc00",
           "#cc0000",
           "#ffcc00",
           "#ffcc00",
           "#d3d3d3",
           "#d3d3d3",
           "#d3d3d3",
           "#ffcc00",
           "#cc0000",
           "#cc0000",
           "#ff9900",
           "#ffcc00",
           "#ff9900",
           "#d3d3d3",
           "#d3d3d3",
           "#ff6600",
           "#d3d3d3",
           "#cc0000",
           "#d3d3d3",
           "#ff9900",
           "#cc0000",
           "#d3d3d3",
           "#ff6600",
           "#d3d3d3",
           "#ffcc00",
           "#ffcc00",
           "#d3d3d3",
           "#ffcc00",
           "#ff6600",
           "#ff9900",
           "#ff9900",
           "#ff9900",
           "#ffcc00",
           "#d3d3d3",
           "#ff6600",
           "#ffcc00",
           "#ffcc00",
           "#ffcc00",
           "#ff9900",
           "#ff6600",
           "#ff6600",
           "#ffcc00",
           "#ffcc00",
           "#ff6600"
          ],
          "pattern": {
           "shape": ""
          }
         },
         "name": "Weak Correlation",
         "offsetgroup": "Weak Correlation",
         "orientation": "v",
         "showlegend": true,
         "textposition": "auto",
         "type": "bar",
         "x": [
          "I.1.3",
          "I.1.3",
          "I.2.1",
          "I.2.3",
          "I.2.3",
          "I.3.1",
          "I.3.2",
          "I.3.3",
          "I.4.1",
          "I.4.4",
          "I.5.1",
          "I.5.3",
          "I.6.1",
          "I.8.1",
          "II.1.1",
          "II.1.2",
          "II.1.3",
          "II.1.3",
          "II.2.1",
          "II.2.1",
          "II.2.3",
          "II.2.3",
          "II.3.1",
          "II.3.1",
          "II.3.3",
          "II.4.1",
          "II.4.1",
          "II.4.3",
          "II.4.3",
          "II.5.1",
          "II.5.1",
          "III.1.2",
          "III.1.3",
          "III.1.3",
          "III.1.3",
          "III.2.1",
          "III.2.2",
          "III.2.2",
          "III.3.1",
          "III.3.1",
          "III.4.1",
          "III.4.2",
          "III.4.3",
          "III.4.3",
          "IV.1",
          "IV.2",
          "IV.2",
          "V.1",
          "V.2",
          "V.3"
         ],
         "xaxis": "x2",
         "y": [
          "Weak Correlation",
          "Weak Correlation",
          "Weak Correlation",
          "Weak Correlation",
          "Weak Correlation",
          "Weak Correlation",
          "Weak Correlation",
          "Weak Correlation",
          "Weak Correlation",
          "Weak Correlation",
          "Weak Correlation",
          "Weak Correlation",
          "Weak Correlation",
          "Weak Correlation",
          "Weak Correlation",
          "Weak Correlation",
          "Weak Correlation",
          "Weak Correlation",
          "Weak Correlation",
          "Weak Correlation",
          "Weak Correlation",
          "Weak Correlation",
          "Weak Correlation",
          "Weak Correlation",
          "Weak Correlation",
          "Weak Correlation",
          "Weak Correlation",
          "Weak Correlation",
          "Weak Correlation",
          "Weak Correlation",
          "Weak Correlation",
          "Weak Correlation",
          "Weak Correlation",
          "Weak Correlation",
          "Weak Correlation",
          "Weak Correlation",
          "Weak Correlation",
          "Weak Correlation",
          "Weak Correlation",
          "Weak Correlation",
          "Weak Correlation",
          "Weak Correlation",
          "Weak Correlation",
          "Weak Correlation",
          "Weak Correlation",
          "Weak Correlation",
          "Weak Correlation",
          "Weak Correlation",
          "Weak Correlation",
          "Weak Correlation"
         ],
         "yaxis": "y2"
        },
        {
         "alignmentgroup": "True",
         "customdata": [
          [
           "GDP"
          ],
          [
           "Population"
          ],
          [
           "Population"
          ],
          [
           "Area"
          ],
          [
           "GDP"
          ],
          [
           "GDP"
          ],
          [
           "Population"
          ],
          [
           "GDP"
          ],
          [
           "Area"
          ],
          [
           "Population"
          ],
          [
           "GDP"
          ],
          [
           "Area"
          ],
          [
           "Area"
          ],
          [
           "GDP"
          ],
          [
           "Population"
          ],
          [
           "Population"
          ],
          [
           "GDP"
          ],
          [
           "Population"
          ],
          [
           "Area"
          ],
          [
           "GDP"
          ],
          [
           "Population"
          ],
          [
           "Area"
          ],
          [
           "Area"
          ],
          [
           "Population"
          ],
          [
           "GDP"
          ],
          [
           "Area"
          ],
          [
           "Population"
          ],
          [
           "GDP"
          ],
          [
           "Area"
          ],
          [
           "Population"
          ],
          [
           "GDP"
          ],
          [
           "GDP"
          ],
          [
           "GDP"
          ],
          [
           "GDP"
          ],
          [
           "Area"
          ],
          [
           "Population"
          ],
          [
           "GDP"
          ],
          [
           "Population"
          ],
          [
           "GDP"
          ],
          [
           "Area"
          ],
          [
           "Population"
          ],
          [
           "GDP"
          ],
          [
           "Area"
          ],
          [
           "GDP"
          ],
          [
           "Population"
          ],
          [
           "Population"
          ],
          [
           "GDP"
          ],
          [
           "Area"
          ],
          [
           "Population"
          ],
          [
           "GDP"
          ]
         ],
         "hovertemplate": "Correlation Strength=%{y}<br>Correlation Type=Spearman<br>Subsector=%{x}<br>Variable=%{customdata[0]}<extra></extra>",
         "legendgroup": "Weak Correlation",
         "marker": {
          "color": [
           "#ff6600",
           "#ff9900",
           "#d3d3d3",
           "#ff6600",
           "#ff9900",
           "#ff9900",
           "#ff9900",
           "#ffcc00",
           "#ffcc00",
           "#ffcc00",
           "#ff9900",
           "#d3d3d3",
           "#ff9900",
           "#ff9900",
           "#d3d3d3",
           "#ff9900",
           "#ffcc00",
           "#ffcc00",
           "#ff9900",
           "#ffcc00",
           "#ff9900",
           "#ff6600",
           "#ffcc00",
           "#ff9900",
           "#ff9900",
           "#ffcc00",
           "#ff9900",
           "#ffcc00",
           "#d3d3d3",
           "#d3d3d3",
           "#d3d3d3",
           "#ff9900",
           "#d3d3d3",
           "#ff9900",
           "#ff9900",
           "#ff9900",
           "#ff9900",
           "#ffcc00",
           "#d3d3d3",
           "#ffcc00",
           "#d3d3d3",
           "#ff9900",
           "#d3d3d3",
           "#d3d3d3",
           "#ff6600",
           "#d3d3d3",
           "#ffcc00",
           "#cc0000",
           "#d3d3d3",
           "#ffcc00",
           "#d3d3d3",
           "#ff9900",
           "#ff9900",
           "#ff6600",
           "#ff9900",
           "#ff9900",
           "#ff6600",
           "#d3d3d3",
           "#ffcc00",
           "#d3d3d3",
           "#ff6600",
           "#ffcc00",
           "#ff9900",
           "#ffcc00",
           "#ff9900",
           "#d3d3d3",
           "#ffcc00",
           "#ffcc00",
           "#ff9900",
           "#ffcc00",
           "#ffcc00",
           "#d3d3d3",
           "#ff9900",
           "#ff9900",
           "#d3d3d3",
           "#ff9900",
           "#ffcc00",
           "#ffcc00",
           "#ffcc00",
           "#ff9900",
           "#ffcc00",
           "#ff9900",
           "#ffcc00",
           "#ff9900",
           "#ffcc00",
           "#ffcc00",
           "#d3d3d3",
           "#ff9900",
           "#ffcc00",
           "#ffcc00",
           "#d3d3d3",
           "#ffcc00",
           "#ffcc00",
           "#ff9900",
           "#d3d3d3",
           "#ff9900",
           "#ff9900",
           "#ffcc00",
           "#d3d3d3",
           "#ffcc00",
           "#ffcc00",
           "#ffcc00",
           "#ffcc00",
           "#d3d3d3",
           "#d3d3d3",
           "#ffcc00",
           "#d3d3d3",
           "#ffcc00",
           "#ff6600",
           "#cc0000",
           "#ff9900",
           "#ffcc00",
           "#ffcc00",
           "#d3d3d3",
           "#d3d3d3",
           "#ff9900",
           "#d3d3d3",
           "#ff6600",
           "#d3d3d3",
           "#ffcc00",
           "#ff6600",
           "#ffcc00",
           "#ff9900",
           "#d3d3d3",
           "#ffcc00",
           "#ffcc00",
           "#d3d3d3",
           "#ffcc00",
           "#ff6600",
           "#ff9900",
           "#ffcc00",
           "#ffcc00",
           "#ffcc00",
           "#d3d3d3",
           "#cc0000",
           "#d3d3d3",
           "#ffcc00",
           "#d3d3d3",
           "#ffcc00",
           "#ff9900",
           "#ff6600",
           "#ff9900",
           "#d3d3d3",
           "#cc0000",
           "#ff6600",
           "#ff9900",
           "#ff9900",
           "#ff6600",
           "#ffcc00",
           "#ff6600",
           "#ff6600",
           "#d3d3d3",
           "#ff9900",
           "#ffcc00",
           "#ff9900",
           "#d3d3d3",
           "#ffcc00",
           "#ff9900",
           "#ffcc00",
           "#ff9900",
           "#ffcc00",
           "#d3d3d3",
           "#ff6600",
           "#ff9900",
           "#ff6600",
           "#ff6600",
           "#ffcc00",
           "#ff6600",
           "#ff6600",
           "#d3d3d3",
           "#ff6600",
           "#ffcc00",
           "#d3d3d3",
           "#d3d3d3",
           "#d3d3d3",
           "#ffcc00",
           "#ffcc00",
           "#ffcc00",
           "#ffcc00",
           "#ffcc00",
           "#ff9900",
           "#d3d3d3",
           "#ffcc00",
           "#d3d3d3",
           "#ffcc00",
           "#ff9900",
           "#d3d3d3",
           "#d3d3d3",
           "#ff6600",
           "#ffcc00",
           "#d3d3d3",
           "#cc0000",
           "#ffcc00",
           "#ffcc00",
           "#ff9900",
           "#ff9900",
           "#ff9900",
           "#cc0000",
           "#ff6600",
           "#ff6600",
           "#cc0000",
           "#ffcc00",
           "#d3d3d3",
           "#d3d3d3",
           "#cc0000",
           "#ff9900",
           "#cc0000",
           "#d3d3d3",
           "#ff9900",
           "#ffcc00",
           "#d3d3d3",
           "#ffcc00",
           "#ff9900",
           "#ffcc00",
           "#ff9900",
           "#ffcc00",
           "#ff9900",
           "#ff9900",
           "#ffcc00",
           "#ffcc00",
           "#ffcc00",
           "#ffcc00",
           "#ffcc00",
           "#ffcc00",
           "#ffcc00",
           "#ff9900",
           "#d3d3d3",
           "#ff6600",
           "#ffcc00",
           "#ffcc00",
           "#d3d3d3",
           "#ff6600",
           "#ff9900",
           "#ff9900",
           "#ff9900",
           "#ffcc00",
           "#ff9900",
           "#ff6600",
           "#ffcc00",
           "#ff9900",
           "#ff6600",
           "#ffcc00",
           "#ffcc00",
           "#ffcc00",
           "#ffcc00",
           "#cc0000",
           "#ffcc00",
           "#ffcc00",
           "#d3d3d3",
           "#d3d3d3",
           "#d3d3d3",
           "#ffcc00",
           "#cc0000",
           "#cc0000",
           "#ff9900",
           "#ffcc00",
           "#ff9900",
           "#d3d3d3",
           "#d3d3d3",
           "#ff6600",
           "#d3d3d3",
           "#cc0000",
           "#d3d3d3",
           "#ff9900",
           "#cc0000",
           "#d3d3d3",
           "#ff6600",
           "#d3d3d3",
           "#ffcc00",
           "#ffcc00",
           "#d3d3d3",
           "#ffcc00",
           "#ff6600",
           "#ff9900",
           "#ff9900",
           "#ff9900",
           "#ffcc00",
           "#d3d3d3",
           "#ff6600",
           "#ffcc00",
           "#ffcc00",
           "#ffcc00",
           "#ff9900",
           "#ff6600",
           "#ff6600",
           "#ffcc00",
           "#ffcc00",
           "#ff6600"
          ],
          "pattern": {
           "shape": ""
          }
         },
         "name": "Weak Correlation",
         "offsetgroup": "Weak Correlation",
         "orientation": "v",
         "showlegend": false,
         "textposition": "auto",
         "type": "bar",
         "x": [
          "I.1.2",
          "I.2.1",
          "I.2.2",
          "I.2.2",
          "I.2.3",
          "I.3.2",
          "I.4.1",
          "I.4.2",
          "I.4.2",
          "I.4.3",
          "I.4.3",
          "I.4.3",
          "I.4.4",
          "I.5.1",
          "I.5.3",
          "I.6.1",
          "I.6.1",
          "I.8.1",
          "II.1.2",
          "II.1.3",
          "II.2.1",
          "II.2.1",
          "II.2.2",
          "II.2.3",
          "II.2.3",
          "II.2.3",
          "II.3.1",
          "II.3.1",
          "II.3.1",
          "II.4.1",
          "II.4.1",
          "II.5.1",
          "III.1.1",
          "III.1.2",
          "III.1.2",
          "III.1.3",
          "III.1.3",
          "III.2.1",
          "III.2.1",
          "III.2.2",
          "III.3.1",
          "III.4.3",
          "III.4.3",
          "IV.1",
          "V.1",
          "V.2",
          "V.2",
          "V.2",
          "VI.1",
          "VI.1"
         ],
         "xaxis": "x",
         "y": [
          "Weak Correlation",
          "Weak Correlation",
          "Weak Correlation",
          "Weak Correlation",
          "Weak Correlation",
          "Weak Correlation",
          "Weak Correlation",
          "Weak Correlation",
          "Weak Correlation",
          "Weak Correlation",
          "Weak Correlation",
          "Weak Correlation",
          "Weak Correlation",
          "Weak Correlation",
          "Weak Correlation",
          "Weak Correlation",
          "Weak Correlation",
          "Weak Correlation",
          "Weak Correlation",
          "Weak Correlation",
          "Weak Correlation",
          "Weak Correlation",
          "Weak Correlation",
          "Weak Correlation",
          "Weak Correlation",
          "Weak Correlation",
          "Weak Correlation",
          "Weak Correlation",
          "Weak Correlation",
          "Weak Correlation",
          "Weak Correlation",
          "Weak Correlation",
          "Weak Correlation",
          "Weak Correlation",
          "Weak Correlation",
          "Weak Correlation",
          "Weak Correlation",
          "Weak Correlation",
          "Weak Correlation",
          "Weak Correlation",
          "Weak Correlation",
          "Weak Correlation",
          "Weak Correlation",
          "Weak Correlation",
          "Weak Correlation",
          "Weak Correlation",
          "Weak Correlation",
          "Weak Correlation",
          "Weak Correlation",
          "Weak Correlation"
         ],
         "yaxis": "y"
        },
        {
         "alignmentgroup": "True",
         "customdata": [
          [
           "GDP"
          ],
          [
           "GDP"
          ],
          [
           "Area"
          ],
          [
           "Population"
          ],
          [
           "GDP"
          ],
          [
           "Population"
          ],
          [
           "GDP"
          ],
          [
           "Population"
          ],
          [
           "Population"
          ],
          [
           "Area"
          ],
          [
           "Area"
          ],
          [
           "Population"
          ],
          [
           "Area"
          ],
          [
           "GDP"
          ],
          [
           "Population"
          ],
          [
           "GDP"
          ],
          [
           "Area"
          ],
          [
           "Population"
          ],
          [
           "Area"
          ],
          [
           "Population"
          ],
          [
           "GDP"
          ],
          [
           "Population"
          ],
          [
           "GDP"
          ],
          [
           "Area"
          ],
          [
           "GDP"
          ],
          [
           "Area"
          ],
          [
           "Population"
          ],
          [
           "GDP"
          ],
          [
           "Population"
          ],
          [
           "GDP"
          ],
          [
           "Population"
          ],
          [
           "Area"
          ],
          [
           "Population"
          ],
          [
           "Population"
          ],
          [
           "Area"
          ],
          [
           "Population"
          ],
          [
           "Area"
          ],
          [
           "GDP"
          ],
          [
           "Area"
          ],
          [
           "Population"
          ],
          [
           "GDP"
          ],
          [
           "Population"
          ]
         ],
         "hovertemplate": "Correlation Strength=%{y}<br>Correlation Type=Pearson<br>Subsector=%{x}<br>Variable=%{customdata[0]}<extra></extra>",
         "legendgroup": "Moderate Correlation",
         "marker": {
          "color": [
           "#ff6600",
           "#ff9900",
           "#d3d3d3",
           "#ff6600",
           "#ff9900",
           "#ff9900",
           "#ff9900",
           "#ffcc00",
           "#ffcc00",
           "#ffcc00",
           "#ff9900",
           "#d3d3d3",
           "#ff9900",
           "#ff9900",
           "#d3d3d3",
           "#ff9900",
           "#ffcc00",
           "#ffcc00",
           "#ff9900",
           "#ffcc00",
           "#ff9900",
           "#ff6600",
           "#ffcc00",
           "#ff9900",
           "#ff9900",
           "#ffcc00",
           "#ff9900",
           "#ffcc00",
           "#d3d3d3",
           "#d3d3d3",
           "#d3d3d3",
           "#ff9900",
           "#d3d3d3",
           "#ff9900",
           "#ff9900",
           "#ff9900",
           "#ff9900",
           "#ffcc00",
           "#d3d3d3",
           "#ffcc00",
           "#d3d3d3",
           "#ff9900",
           "#d3d3d3",
           "#d3d3d3",
           "#ff6600",
           "#d3d3d3",
           "#ffcc00",
           "#cc0000",
           "#d3d3d3",
           "#ffcc00",
           "#d3d3d3",
           "#ff9900",
           "#ff9900",
           "#ff6600",
           "#ff9900",
           "#ff9900",
           "#ff6600",
           "#d3d3d3",
           "#ffcc00",
           "#d3d3d3",
           "#ff6600",
           "#ffcc00",
           "#ff9900",
           "#ffcc00",
           "#ff9900",
           "#d3d3d3",
           "#ffcc00",
           "#ffcc00",
           "#ff9900",
           "#ffcc00",
           "#ffcc00",
           "#d3d3d3",
           "#ff9900",
           "#ff9900",
           "#d3d3d3",
           "#ff9900",
           "#ffcc00",
           "#ffcc00",
           "#ffcc00",
           "#ff9900",
           "#ffcc00",
           "#ff9900",
           "#ffcc00",
           "#ff9900",
           "#ffcc00",
           "#ffcc00",
           "#d3d3d3",
           "#ff9900",
           "#ffcc00",
           "#ffcc00",
           "#d3d3d3",
           "#ffcc00",
           "#ffcc00",
           "#ff9900",
           "#d3d3d3",
           "#ff9900",
           "#ff9900",
           "#ffcc00",
           "#d3d3d3",
           "#ffcc00",
           "#ffcc00",
           "#ffcc00",
           "#ffcc00",
           "#d3d3d3",
           "#d3d3d3",
           "#ffcc00",
           "#d3d3d3",
           "#ffcc00",
           "#ff6600",
           "#cc0000",
           "#ff9900",
           "#ffcc00",
           "#ffcc00",
           "#d3d3d3",
           "#d3d3d3",
           "#ff9900",
           "#d3d3d3",
           "#ff6600",
           "#d3d3d3",
           "#ffcc00",
           "#ff6600",
           "#ffcc00",
           "#ff9900",
           "#d3d3d3",
           "#ffcc00",
           "#ffcc00",
           "#d3d3d3",
           "#ffcc00",
           "#ff6600",
           "#ff9900",
           "#ffcc00",
           "#ffcc00",
           "#ffcc00",
           "#d3d3d3",
           "#cc0000",
           "#d3d3d3",
           "#ffcc00",
           "#d3d3d3",
           "#ffcc00",
           "#ff9900",
           "#ff6600",
           "#ff9900",
           "#d3d3d3",
           "#cc0000",
           "#ff6600",
           "#ff9900",
           "#ff9900",
           "#ff6600",
           "#ffcc00",
           "#ff6600",
           "#ff6600",
           "#d3d3d3",
           "#ff9900",
           "#ffcc00",
           "#ff9900",
           "#d3d3d3",
           "#ffcc00",
           "#ff9900",
           "#ffcc00",
           "#ff9900",
           "#ffcc00",
           "#d3d3d3",
           "#ff6600",
           "#ff9900",
           "#ff6600",
           "#ff6600",
           "#ffcc00",
           "#ff6600",
           "#ff6600",
           "#d3d3d3",
           "#ff6600",
           "#ffcc00",
           "#d3d3d3",
           "#d3d3d3",
           "#d3d3d3",
           "#ffcc00",
           "#ffcc00",
           "#ffcc00",
           "#ffcc00",
           "#ffcc00",
           "#ff9900",
           "#d3d3d3",
           "#ffcc00",
           "#d3d3d3",
           "#ffcc00",
           "#ff9900",
           "#d3d3d3",
           "#d3d3d3",
           "#ff6600",
           "#ffcc00",
           "#d3d3d3",
           "#cc0000",
           "#ffcc00",
           "#ffcc00",
           "#ff9900",
           "#ff9900",
           "#ff9900",
           "#cc0000",
           "#ff6600",
           "#ff6600",
           "#cc0000",
           "#ffcc00",
           "#d3d3d3",
           "#d3d3d3",
           "#cc0000",
           "#ff9900",
           "#cc0000",
           "#d3d3d3",
           "#ff9900",
           "#ffcc00",
           "#d3d3d3",
           "#ffcc00",
           "#ff9900",
           "#ffcc00",
           "#ff9900",
           "#ffcc00",
           "#ff9900",
           "#ff9900",
           "#ffcc00",
           "#ffcc00",
           "#ffcc00",
           "#ffcc00",
           "#ffcc00",
           "#ffcc00",
           "#ffcc00",
           "#ff9900",
           "#d3d3d3",
           "#ff6600",
           "#ffcc00",
           "#ffcc00",
           "#d3d3d3",
           "#ff6600",
           "#ff9900",
           "#ff9900",
           "#ff9900",
           "#ffcc00",
           "#ff9900",
           "#ff6600",
           "#ffcc00",
           "#ff9900",
           "#ff6600",
           "#ffcc00",
           "#ffcc00",
           "#ffcc00",
           "#ffcc00",
           "#cc0000",
           "#ffcc00",
           "#ffcc00",
           "#d3d3d3",
           "#d3d3d3",
           "#d3d3d3",
           "#ffcc00",
           "#cc0000",
           "#cc0000",
           "#ff9900",
           "#ffcc00",
           "#ff9900",
           "#d3d3d3",
           "#d3d3d3",
           "#ff6600",
           "#d3d3d3",
           "#cc0000",
           "#d3d3d3",
           "#ff9900",
           "#cc0000",
           "#d3d3d3",
           "#ff6600",
           "#d3d3d3",
           "#ffcc00",
           "#ffcc00",
           "#d3d3d3",
           "#ffcc00",
           "#ff6600",
           "#ff9900",
           "#ff9900",
           "#ff9900",
           "#ffcc00",
           "#d3d3d3",
           "#ff6600",
           "#ffcc00",
           "#ffcc00",
           "#ffcc00",
           "#ff9900",
           "#ff6600",
           "#ff6600",
           "#ffcc00",
           "#ffcc00",
           "#ff6600"
          ],
          "pattern": {
           "shape": ""
          }
         },
         "name": "Moderate Correlation",
         "offsetgroup": "Moderate Correlation",
         "orientation": "v",
         "showlegend": true,
         "textposition": "auto",
         "type": "bar",
         "x": [
          "I.1.1",
          "I.1.2",
          "I.1.2",
          "I.1.3",
          "I.2.1",
          "I.2.2",
          "I.2.2",
          "I.2.3",
          "I.3.1",
          "I.3.1",
          "I.3.2",
          "I.3.3",
          "I.3.3",
          "I.4.2",
          "I.4.3",
          "I.4.3",
          "I.4.3",
          "I.4.4",
          "I.5.1",
          "I.6.2",
          "I.6.2",
          "I.6.3",
          "I.6.3",
          "II.1.1",
          "II.1.2",
          "II.1.3",
          "II.2.2",
          "II.2.2",
          "II.2.3",
          "II.3.1",
          "II.3.3",
          "II.3.3",
          "II.4.3",
          "III.1.1",
          "III.1.1",
          "III.1.2",
          "III.2.3",
          "III.3.2",
          "III.4.2",
          "IV.2",
          "V.3",
          "VI.1"
         ],
         "xaxis": "x2",
         "y": [
          "Moderate Correlation",
          "Moderate Correlation",
          "Moderate Correlation",
          "Moderate Correlation",
          "Moderate Correlation",
          "Moderate Correlation",
          "Moderate Correlation",
          "Moderate Correlation",
          "Moderate Correlation",
          "Moderate Correlation",
          "Moderate Correlation",
          "Moderate Correlation",
          "Moderate Correlation",
          "Moderate Correlation",
          "Moderate Correlation",
          "Moderate Correlation",
          "Moderate Correlation",
          "Moderate Correlation",
          "Moderate Correlation",
          "Moderate Correlation",
          "Moderate Correlation",
          "Moderate Correlation",
          "Moderate Correlation",
          "Moderate Correlation",
          "Moderate Correlation",
          "Moderate Correlation",
          "Moderate Correlation",
          "Moderate Correlation",
          "Moderate Correlation",
          "Moderate Correlation",
          "Moderate Correlation",
          "Moderate Correlation",
          "Moderate Correlation",
          "Moderate Correlation",
          "Moderate Correlation",
          "Moderate Correlation",
          "Moderate Correlation",
          "Moderate Correlation",
          "Moderate Correlation",
          "Moderate Correlation",
          "Moderate Correlation",
          "Moderate Correlation"
         ],
         "yaxis": "y2"
        },
        {
         "alignmentgroup": "True",
         "customdata": [
          [
           "GDP"
          ],
          [
           "Area"
          ],
          [
           "Area"
          ],
          [
           "GDP"
          ],
          [
           "GDP"
          ],
          [
           "Population"
          ],
          [
           "GDP"
          ],
          [
           "Population"
          ],
          [
           "Area"
          ],
          [
           "Area"
          ],
          [
           "Population"
          ],
          [
           "GDP"
          ],
          [
           "GDP"
          ],
          [
           "GDP"
          ],
          [
           "Area"
          ],
          [
           "GDP"
          ],
          [
           "Population"
          ],
          [
           "GDP"
          ],
          [
           "Population"
          ],
          [
           "GDP"
          ],
          [
           "Area"
          ],
          [
           "Population"
          ],
          [
           "Area"
          ],
          [
           "Area"
          ],
          [
           "Area"
          ],
          [
           "GDP"
          ],
          [
           "Area"
          ],
          [
           "Population"
          ],
          [
           "GDP"
          ],
          [
           "Area"
          ],
          [
           "Population"
          ]
         ],
         "hovertemplate": "Correlation Strength=%{y}<br>Correlation Type=Spearman<br>Subsector=%{x}<br>Variable=%{customdata[0]}<extra></extra>",
         "legendgroup": "Moderate Correlation",
         "marker": {
          "color": [
           "#ff6600",
           "#ff9900",
           "#d3d3d3",
           "#ff6600",
           "#ff9900",
           "#ff9900",
           "#ff9900",
           "#ffcc00",
           "#ffcc00",
           "#ffcc00",
           "#ff9900",
           "#d3d3d3",
           "#ff9900",
           "#ff9900",
           "#d3d3d3",
           "#ff9900",
           "#ffcc00",
           "#ffcc00",
           "#ff9900",
           "#ffcc00",
           "#ff9900",
           "#ff6600",
           "#ffcc00",
           "#ff9900",
           "#ff9900",
           "#ffcc00",
           "#ff9900",
           "#ffcc00",
           "#d3d3d3",
           "#d3d3d3",
           "#d3d3d3",
           "#ff9900",
           "#d3d3d3",
           "#ff9900",
           "#ff9900",
           "#ff9900",
           "#ff9900",
           "#ffcc00",
           "#d3d3d3",
           "#ffcc00",
           "#d3d3d3",
           "#ff9900",
           "#d3d3d3",
           "#d3d3d3",
           "#ff6600",
           "#d3d3d3",
           "#ffcc00",
           "#cc0000",
           "#d3d3d3",
           "#ffcc00",
           "#d3d3d3",
           "#ff9900",
           "#ff9900",
           "#ff6600",
           "#ff9900",
           "#ff9900",
           "#ff6600",
           "#d3d3d3",
           "#ffcc00",
           "#d3d3d3",
           "#ff6600",
           "#ffcc00",
           "#ff9900",
           "#ffcc00",
           "#ff9900",
           "#d3d3d3",
           "#ffcc00",
           "#ffcc00",
           "#ff9900",
           "#ffcc00",
           "#ffcc00",
           "#d3d3d3",
           "#ff9900",
           "#ff9900",
           "#d3d3d3",
           "#ff9900",
           "#ffcc00",
           "#ffcc00",
           "#ffcc00",
           "#ff9900",
           "#ffcc00",
           "#ff9900",
           "#ffcc00",
           "#ff9900",
           "#ffcc00",
           "#ffcc00",
           "#d3d3d3",
           "#ff9900",
           "#ffcc00",
           "#ffcc00",
           "#d3d3d3",
           "#ffcc00",
           "#ffcc00",
           "#ff9900",
           "#d3d3d3",
           "#ff9900",
           "#ff9900",
           "#ffcc00",
           "#d3d3d3",
           "#ffcc00",
           "#ffcc00",
           "#ffcc00",
           "#ffcc00",
           "#d3d3d3",
           "#d3d3d3",
           "#ffcc00",
           "#d3d3d3",
           "#ffcc00",
           "#ff6600",
           "#cc0000",
           "#ff9900",
           "#ffcc00",
           "#ffcc00",
           "#d3d3d3",
           "#d3d3d3",
           "#ff9900",
           "#d3d3d3",
           "#ff6600",
           "#d3d3d3",
           "#ffcc00",
           "#ff6600",
           "#ffcc00",
           "#ff9900",
           "#d3d3d3",
           "#ffcc00",
           "#ffcc00",
           "#d3d3d3",
           "#ffcc00",
           "#ff6600",
           "#ff9900",
           "#ffcc00",
           "#ffcc00",
           "#ffcc00",
           "#d3d3d3",
           "#cc0000",
           "#d3d3d3",
           "#ffcc00",
           "#d3d3d3",
           "#ffcc00",
           "#ff9900",
           "#ff6600",
           "#ff9900",
           "#d3d3d3",
           "#cc0000",
           "#ff6600",
           "#ff9900",
           "#ff9900",
           "#ff6600",
           "#ffcc00",
           "#ff6600",
           "#ff6600",
           "#d3d3d3",
           "#ff9900",
           "#ffcc00",
           "#ff9900",
           "#d3d3d3",
           "#ffcc00",
           "#ff9900",
           "#ffcc00",
           "#ff9900",
           "#ffcc00",
           "#d3d3d3",
           "#ff6600",
           "#ff9900",
           "#ff6600",
           "#ff6600",
           "#ffcc00",
           "#ff6600",
           "#ff6600",
           "#d3d3d3",
           "#ff6600",
           "#ffcc00",
           "#d3d3d3",
           "#d3d3d3",
           "#d3d3d3",
           "#ffcc00",
           "#ffcc00",
           "#ffcc00",
           "#ffcc00",
           "#ffcc00",
           "#ff9900",
           "#d3d3d3",
           "#ffcc00",
           "#d3d3d3",
           "#ffcc00",
           "#ff9900",
           "#d3d3d3",
           "#d3d3d3",
           "#ff6600",
           "#ffcc00",
           "#d3d3d3",
           "#cc0000",
           "#ffcc00",
           "#ffcc00",
           "#ff9900",
           "#ff9900",
           "#ff9900",
           "#cc0000",
           "#ff6600",
           "#ff6600",
           "#cc0000",
           "#ffcc00",
           "#d3d3d3",
           "#d3d3d3",
           "#cc0000",
           "#ff9900",
           "#cc0000",
           "#d3d3d3",
           "#ff9900",
           "#ffcc00",
           "#d3d3d3",
           "#ffcc00",
           "#ff9900",
           "#ffcc00",
           "#ff9900",
           "#ffcc00",
           "#ff9900",
           "#ff9900",
           "#ffcc00",
           "#ffcc00",
           "#ffcc00",
           "#ffcc00",
           "#ffcc00",
           "#ffcc00",
           "#ffcc00",
           "#ff9900",
           "#d3d3d3",
           "#ff6600",
           "#ffcc00",
           "#ffcc00",
           "#d3d3d3",
           "#ff6600",
           "#ff9900",
           "#ff9900",
           "#ff9900",
           "#ffcc00",
           "#ff9900",
           "#ff6600",
           "#ffcc00",
           "#ff9900",
           "#ff6600",
           "#ffcc00",
           "#ffcc00",
           "#ffcc00",
           "#ffcc00",
           "#cc0000",
           "#ffcc00",
           "#ffcc00",
           "#d3d3d3",
           "#d3d3d3",
           "#d3d3d3",
           "#ffcc00",
           "#cc0000",
           "#cc0000",
           "#ff9900",
           "#ffcc00",
           "#ff9900",
           "#d3d3d3",
           "#d3d3d3",
           "#ff6600",
           "#d3d3d3",
           "#cc0000",
           "#d3d3d3",
           "#ff9900",
           "#cc0000",
           "#d3d3d3",
           "#ff6600",
           "#d3d3d3",
           "#ffcc00",
           "#ffcc00",
           "#d3d3d3",
           "#ffcc00",
           "#ff6600",
           "#ff9900",
           "#ff9900",
           "#ff9900",
           "#ffcc00",
           "#d3d3d3",
           "#ff6600",
           "#ffcc00",
           "#ffcc00",
           "#ffcc00",
           "#ff9900",
           "#ff6600",
           "#ff6600",
           "#ffcc00",
           "#ffcc00",
           "#ff6600"
          ],
          "pattern": {
           "shape": ""
          }
         },
         "name": "Moderate Correlation",
         "offsetgroup": "Moderate Correlation",
         "orientation": "v",
         "showlegend": false,
         "textposition": "auto",
         "type": "bar",
         "x": [
          "I.1.1",
          "I.1.1",
          "I.1.3",
          "I.2.1",
          "I.2.2",
          "I.2.3",
          "I.3.1",
          "I.4.4",
          "I.5.1",
          "I.6.1",
          "I.6.2",
          "I.6.2",
          "II.1.1",
          "II.1.2",
          "II.1.3",
          "II.2.1",
          "II.2.2",
          "II.2.2",
          "II.3.3",
          "II.4.3",
          "II.4.3",
          "II.5.1",
          "II.5.1",
          "III.1.1",
          "III.2.3",
          "III.3.1",
          "III.4.1",
          "IV.2",
          "IV.2",
          "IV.2",
          "V.3"
         ],
         "xaxis": "x",
         "y": [
          "Moderate Correlation",
          "Moderate Correlation",
          "Moderate Correlation",
          "Moderate Correlation",
          "Moderate Correlation",
          "Moderate Correlation",
          "Moderate Correlation",
          "Moderate Correlation",
          "Moderate Correlation",
          "Moderate Correlation",
          "Moderate Correlation",
          "Moderate Correlation",
          "Moderate Correlation",
          "Moderate Correlation",
          "Moderate Correlation",
          "Moderate Correlation",
          "Moderate Correlation",
          "Moderate Correlation",
          "Moderate Correlation",
          "Moderate Correlation",
          "Moderate Correlation",
          "Moderate Correlation",
          "Moderate Correlation",
          "Moderate Correlation",
          "Moderate Correlation",
          "Moderate Correlation",
          "Moderate Correlation",
          "Moderate Correlation",
          "Moderate Correlation",
          "Moderate Correlation",
          "Moderate Correlation"
         ],
         "yaxis": "y"
        },
        {
         "alignmentgroup": "True",
         "customdata": [
          [
           "Population"
          ],
          [
           "Population"
          ],
          [
           "Population"
          ],
          [
           "Area"
          ],
          [
           "Area"
          ],
          [
           "Area"
          ],
          [
           "Population"
          ],
          [
           "Population"
          ],
          [
           "Population"
          ],
          [
           "Population"
          ],
          [
           "Area"
          ],
          [
           "Area"
          ]
         ],
         "hovertemplate": "Correlation Strength=%{y}<br>Correlation Type=Pearson<br>Subsector=%{x}<br>Variable=%{customdata[0]}<extra></extra>",
         "legendgroup": "Strong Correlation",
         "marker": {
          "color": [
           "#ff6600",
           "#ff9900",
           "#d3d3d3",
           "#ff6600",
           "#ff9900",
           "#ff9900",
           "#ff9900",
           "#ffcc00",
           "#ffcc00",
           "#ffcc00",
           "#ff9900",
           "#d3d3d3",
           "#ff9900",
           "#ff9900",
           "#d3d3d3",
           "#ff9900",
           "#ffcc00",
           "#ffcc00",
           "#ff9900",
           "#ffcc00",
           "#ff9900",
           "#ff6600",
           "#ffcc00",
           "#ff9900",
           "#ff9900",
           "#ffcc00",
           "#ff9900",
           "#ffcc00",
           "#d3d3d3",
           "#d3d3d3",
           "#d3d3d3",
           "#ff9900",
           "#d3d3d3",
           "#ff9900",
           "#ff9900",
           "#ff9900",
           "#ff9900",
           "#ffcc00",
           "#d3d3d3",
           "#ffcc00",
           "#d3d3d3",
           "#ff9900",
           "#d3d3d3",
           "#d3d3d3",
           "#ff6600",
           "#d3d3d3",
           "#ffcc00",
           "#cc0000",
           "#d3d3d3",
           "#ffcc00",
           "#d3d3d3",
           "#ff9900",
           "#ff9900",
           "#ff6600",
           "#ff9900",
           "#ff9900",
           "#ff6600",
           "#d3d3d3",
           "#ffcc00",
           "#d3d3d3",
           "#ff6600",
           "#ffcc00",
           "#ff9900",
           "#ffcc00",
           "#ff9900",
           "#d3d3d3",
           "#ffcc00",
           "#ffcc00",
           "#ff9900",
           "#ffcc00",
           "#ffcc00",
           "#d3d3d3",
           "#ff9900",
           "#ff9900",
           "#d3d3d3",
           "#ff9900",
           "#ffcc00",
           "#ffcc00",
           "#ffcc00",
           "#ff9900",
           "#ffcc00",
           "#ff9900",
           "#ffcc00",
           "#ff9900",
           "#ffcc00",
           "#ffcc00",
           "#d3d3d3",
           "#ff9900",
           "#ffcc00",
           "#ffcc00",
           "#d3d3d3",
           "#ffcc00",
           "#ffcc00",
           "#ff9900",
           "#d3d3d3",
           "#ff9900",
           "#ff9900",
           "#ffcc00",
           "#d3d3d3",
           "#ffcc00",
           "#ffcc00",
           "#ffcc00",
           "#ffcc00",
           "#d3d3d3",
           "#d3d3d3",
           "#ffcc00",
           "#d3d3d3",
           "#ffcc00",
           "#ff6600",
           "#cc0000",
           "#ff9900",
           "#ffcc00",
           "#ffcc00",
           "#d3d3d3",
           "#d3d3d3",
           "#ff9900",
           "#d3d3d3",
           "#ff6600",
           "#d3d3d3",
           "#ffcc00",
           "#ff6600",
           "#ffcc00",
           "#ff9900",
           "#d3d3d3",
           "#ffcc00",
           "#ffcc00",
           "#d3d3d3",
           "#ffcc00",
           "#ff6600",
           "#ff9900",
           "#ffcc00",
           "#ffcc00",
           "#ffcc00",
           "#d3d3d3",
           "#cc0000",
           "#d3d3d3",
           "#ffcc00",
           "#d3d3d3",
           "#ffcc00",
           "#ff9900",
           "#ff6600",
           "#ff9900",
           "#d3d3d3",
           "#cc0000",
           "#ff6600",
           "#ff9900",
           "#ff9900",
           "#ff6600",
           "#ffcc00",
           "#ff6600",
           "#ff6600",
           "#d3d3d3",
           "#ff9900",
           "#ffcc00",
           "#ff9900",
           "#d3d3d3",
           "#ffcc00",
           "#ff9900",
           "#ffcc00",
           "#ff9900",
           "#ffcc00",
           "#d3d3d3",
           "#ff6600",
           "#ff9900",
           "#ff6600",
           "#ff6600",
           "#ffcc00",
           "#ff6600",
           "#ff6600",
           "#d3d3d3",
           "#ff6600",
           "#ffcc00",
           "#d3d3d3",
           "#d3d3d3",
           "#d3d3d3",
           "#ffcc00",
           "#ffcc00",
           "#ffcc00",
           "#ffcc00",
           "#ffcc00",
           "#ff9900",
           "#d3d3d3",
           "#ffcc00",
           "#d3d3d3",
           "#ffcc00",
           "#ff9900",
           "#d3d3d3",
           "#d3d3d3",
           "#ff6600",
           "#ffcc00",
           "#d3d3d3",
           "#cc0000",
           "#ffcc00",
           "#ffcc00",
           "#ff9900",
           "#ff9900",
           "#ff9900",
           "#cc0000",
           "#ff6600",
           "#ff6600",
           "#cc0000",
           "#ffcc00",
           "#d3d3d3",
           "#d3d3d3",
           "#cc0000",
           "#ff9900",
           "#cc0000",
           "#d3d3d3",
           "#ff9900",
           "#ffcc00",
           "#d3d3d3",
           "#ffcc00",
           "#ff9900",
           "#ffcc00",
           "#ff9900",
           "#ffcc00",
           "#ff9900",
           "#ff9900",
           "#ffcc00",
           "#ffcc00",
           "#ffcc00",
           "#ffcc00",
           "#ffcc00",
           "#ffcc00",
           "#ffcc00",
           "#ff9900",
           "#d3d3d3",
           "#ff6600",
           "#ffcc00",
           "#ffcc00",
           "#d3d3d3",
           "#ff6600",
           "#ff9900",
           "#ff9900",
           "#ff9900",
           "#ffcc00",
           "#ff9900",
           "#ff6600",
           "#ffcc00",
           "#ff9900",
           "#ff6600",
           "#ffcc00",
           "#ffcc00",
           "#ffcc00",
           "#ffcc00",
           "#cc0000",
           "#ffcc00",
           "#ffcc00",
           "#d3d3d3",
           "#d3d3d3",
           "#d3d3d3",
           "#ffcc00",
           "#cc0000",
           "#cc0000",
           "#ff9900",
           "#ffcc00",
           "#ff9900",
           "#d3d3d3",
           "#d3d3d3",
           "#ff6600",
           "#d3d3d3",
           "#cc0000",
           "#d3d3d3",
           "#ff9900",
           "#cc0000",
           "#d3d3d3",
           "#ff6600",
           "#d3d3d3",
           "#ffcc00",
           "#ffcc00",
           "#d3d3d3",
           "#ffcc00",
           "#ff6600",
           "#ff9900",
           "#ff9900",
           "#ff9900",
           "#ffcc00",
           "#d3d3d3",
           "#ff6600",
           "#ffcc00",
           "#ffcc00",
           "#ffcc00",
           "#ff9900",
           "#ff6600",
           "#ff6600",
           "#ffcc00",
           "#ffcc00",
           "#ff6600"
          ],
          "pattern": {
           "shape": ""
          }
         },
         "name": "Strong Correlation",
         "offsetgroup": "Strong Correlation",
         "orientation": "v",
         "showlegend": true,
         "textposition": "auto",
         "type": "bar",
         "x": [
          "I.1.1",
          "I.1.2",
          "I.3.2",
          "I.5.2",
          "I.6.2",
          "I.6.3",
          "II.1.1",
          "III.2.3",
          "III.4.1",
          "III.4.2",
          "IV.1",
          "V.3"
         ],
         "xaxis": "x2",
         "y": [
          "Strong Correlation",
          "Strong Correlation",
          "Strong Correlation",
          "Strong Correlation",
          "Strong Correlation",
          "Strong Correlation",
          "Strong Correlation",
          "Strong Correlation",
          "Strong Correlation",
          "Strong Correlation",
          "Strong Correlation",
          "Strong Correlation"
         ],
         "yaxis": "y2"
        },
        {
         "alignmentgroup": "True",
         "customdata": [
          [
           "Population"
          ],
          [
           "Population"
          ],
          [
           "Area"
          ],
          [
           "Population"
          ],
          [
           "Population"
          ],
          [
           "Area"
          ],
          [
           "Population"
          ],
          [
           "Area"
          ],
          [
           "Population"
          ],
          [
           "Area"
          ],
          [
           "Area"
          ],
          [
           "Population"
          ],
          [
           "GDP"
          ],
          [
           "Area"
          ],
          [
           "Population"
          ],
          [
           "Population"
          ],
          [
           "Population"
          ],
          [
           "GDP"
          ],
          [
           "Area"
          ],
          [
           "Area"
          ],
          [
           "Area"
          ],
          [
           "GDP"
          ],
          [
           "Area"
          ],
          [
           "Area"
          ]
         ],
         "hovertemplate": "Correlation Strength=%{y}<br>Correlation Type=Spearman<br>Subsector=%{x}<br>Variable=%{customdata[0]}<extra></extra>",
         "legendgroup": "Strong Correlation",
         "marker": {
          "color": [
           "#ff6600",
           "#ff9900",
           "#d3d3d3",
           "#ff6600",
           "#ff9900",
           "#ff9900",
           "#ff9900",
           "#ffcc00",
           "#ffcc00",
           "#ffcc00",
           "#ff9900",
           "#d3d3d3",
           "#ff9900",
           "#ff9900",
           "#d3d3d3",
           "#ff9900",
           "#ffcc00",
           "#ffcc00",
           "#ff9900",
           "#ffcc00",
           "#ff9900",
           "#ff6600",
           "#ffcc00",
           "#ff9900",
           "#ff9900",
           "#ffcc00",
           "#ff9900",
           "#ffcc00",
           "#d3d3d3",
           "#d3d3d3",
           "#d3d3d3",
           "#ff9900",
           "#d3d3d3",
           "#ff9900",
           "#ff9900",
           "#ff9900",
           "#ff9900",
           "#ffcc00",
           "#d3d3d3",
           "#ffcc00",
           "#d3d3d3",
           "#ff9900",
           "#d3d3d3",
           "#d3d3d3",
           "#ff6600",
           "#d3d3d3",
           "#ffcc00",
           "#cc0000",
           "#d3d3d3",
           "#ffcc00",
           "#d3d3d3",
           "#ff9900",
           "#ff9900",
           "#ff6600",
           "#ff9900",
           "#ff9900",
           "#ff6600",
           "#d3d3d3",
           "#ffcc00",
           "#d3d3d3",
           "#ff6600",
           "#ffcc00",
           "#ff9900",
           "#ffcc00",
           "#ff9900",
           "#d3d3d3",
           "#ffcc00",
           "#ffcc00",
           "#ff9900",
           "#ffcc00",
           "#ffcc00",
           "#d3d3d3",
           "#ff9900",
           "#ff9900",
           "#d3d3d3",
           "#ff9900",
           "#ffcc00",
           "#ffcc00",
           "#ffcc00",
           "#ff9900",
           "#ffcc00",
           "#ff9900",
           "#ffcc00",
           "#ff9900",
           "#ffcc00",
           "#ffcc00",
           "#d3d3d3",
           "#ff9900",
           "#ffcc00",
           "#ffcc00",
           "#d3d3d3",
           "#ffcc00",
           "#ffcc00",
           "#ff9900",
           "#d3d3d3",
           "#ff9900",
           "#ff9900",
           "#ffcc00",
           "#d3d3d3",
           "#ffcc00",
           "#ffcc00",
           "#ffcc00",
           "#ffcc00",
           "#d3d3d3",
           "#d3d3d3",
           "#ffcc00",
           "#d3d3d3",
           "#ffcc00",
           "#ff6600",
           "#cc0000",
           "#ff9900",
           "#ffcc00",
           "#ffcc00",
           "#d3d3d3",
           "#d3d3d3",
           "#ff9900",
           "#d3d3d3",
           "#ff6600",
           "#d3d3d3",
           "#ffcc00",
           "#ff6600",
           "#ffcc00",
           "#ff9900",
           "#d3d3d3",
           "#ffcc00",
           "#ffcc00",
           "#d3d3d3",
           "#ffcc00",
           "#ff6600",
           "#ff9900",
           "#ffcc00",
           "#ffcc00",
           "#ffcc00",
           "#d3d3d3",
           "#cc0000",
           "#d3d3d3",
           "#ffcc00",
           "#d3d3d3",
           "#ffcc00",
           "#ff9900",
           "#ff6600",
           "#ff9900",
           "#d3d3d3",
           "#cc0000",
           "#ff6600",
           "#ff9900",
           "#ff9900",
           "#ff6600",
           "#ffcc00",
           "#ff6600",
           "#ff6600",
           "#d3d3d3",
           "#ff9900",
           "#ffcc00",
           "#ff9900",
           "#d3d3d3",
           "#ffcc00",
           "#ff9900",
           "#ffcc00",
           "#ff9900",
           "#ffcc00",
           "#d3d3d3",
           "#ff6600",
           "#ff9900",
           "#ff6600",
           "#ff6600",
           "#ffcc00",
           "#ff6600",
           "#ff6600",
           "#d3d3d3",
           "#ff6600",
           "#ffcc00",
           "#d3d3d3",
           "#d3d3d3",
           "#d3d3d3",
           "#ffcc00",
           "#ffcc00",
           "#ffcc00",
           "#ffcc00",
           "#ffcc00",
           "#ff9900",
           "#d3d3d3",
           "#ffcc00",
           "#d3d3d3",
           "#ffcc00",
           "#ff9900",
           "#d3d3d3",
           "#d3d3d3",
           "#ff6600",
           "#ffcc00",
           "#d3d3d3",
           "#cc0000",
           "#ffcc00",
           "#ffcc00",
           "#ff9900",
           "#ff9900",
           "#ff9900",
           "#cc0000",
           "#ff6600",
           "#ff6600",
           "#cc0000",
           "#ffcc00",
           "#d3d3d3",
           "#d3d3d3",
           "#cc0000",
           "#ff9900",
           "#cc0000",
           "#d3d3d3",
           "#ff9900",
           "#ffcc00",
           "#d3d3d3",
           "#ffcc00",
           "#ff9900",
           "#ffcc00",
           "#ff9900",
           "#ffcc00",
           "#ff9900",
           "#ff9900",
           "#ffcc00",
           "#ffcc00",
           "#ffcc00",
           "#ffcc00",
           "#ffcc00",
           "#ffcc00",
           "#ffcc00",
           "#ff9900",
           "#d3d3d3",
           "#ff6600",
           "#ffcc00",
           "#ffcc00",
           "#d3d3d3",
           "#ff6600",
           "#ff9900",
           "#ff9900",
           "#ff9900",
           "#ffcc00",
           "#ff9900",
           "#ff6600",
           "#ffcc00",
           "#ff9900",
           "#ff6600",
           "#ffcc00",
           "#ffcc00",
           "#ffcc00",
           "#ffcc00",
           "#cc0000",
           "#ffcc00",
           "#ffcc00",
           "#d3d3d3",
           "#d3d3d3",
           "#d3d3d3",
           "#ffcc00",
           "#cc0000",
           "#cc0000",
           "#ff9900",
           "#ffcc00",
           "#ff9900",
           "#d3d3d3",
           "#d3d3d3",
           "#ff6600",
           "#d3d3d3",
           "#cc0000",
           "#d3d3d3",
           "#ff9900",
           "#cc0000",
           "#d3d3d3",
           "#ff6600",
           "#d3d3d3",
           "#ffcc00",
           "#ffcc00",
           "#d3d3d3",
           "#ffcc00",
           "#ff6600",
           "#ff9900",
           "#ff9900",
           "#ff9900",
           "#ffcc00",
           "#d3d3d3",
           "#ff6600",
           "#ffcc00",
           "#ffcc00",
           "#ffcc00",
           "#ff9900",
           "#ff6600",
           "#ff6600",
           "#ffcc00",
           "#ffcc00",
           "#ff6600"
          ],
          "pattern": {
           "shape": ""
          }
         },
         "name": "Strong Correlation",
         "offsetgroup": "Strong Correlation",
         "orientation": "v",
         "showlegend": false,
         "textposition": "auto",
         "type": "bar",
         "x": [
          "I.1.1",
          "I.1.2",
          "I.1.2",
          "I.1.3",
          "I.3.1",
          "I.3.1",
          "I.3.2",
          "I.3.2",
          "I.3.3",
          "I.3.3",
          "I.5.2",
          "I.6.3",
          "I.6.3",
          "II.3.3",
          "II.4.3",
          "III.1.1",
          "III.1.2",
          "III.3.2",
          "III.4.2",
          "IV.1",
          "V.1",
          "V.3",
          "V.3",
          "VI.1"
         ],
         "xaxis": "x",
         "y": [
          "Strong Correlation",
          "Strong Correlation",
          "Strong Correlation",
          "Strong Correlation",
          "Strong Correlation",
          "Strong Correlation",
          "Strong Correlation",
          "Strong Correlation",
          "Strong Correlation",
          "Strong Correlation",
          "Strong Correlation",
          "Strong Correlation",
          "Strong Correlation",
          "Strong Correlation",
          "Strong Correlation",
          "Strong Correlation",
          "Strong Correlation",
          "Strong Correlation",
          "Strong Correlation",
          "Strong Correlation",
          "Strong Correlation",
          "Strong Correlation",
          "Strong Correlation",
          "Strong Correlation"
         ],
         "yaxis": "y"
        },
        {
         "alignmentgroup": "True",
         "customdata": [
          [
           "Area"
          ],
          [
           "GDP"
          ],
          [
           "Area"
          ],
          [
           "Area"
          ]
         ],
         "hovertemplate": "Correlation Strength=%{y}<br>Correlation Type=Pearson<br>Subsector=%{x}<br>Variable=%{customdata[0]}<extra></extra>",
         "legendgroup": "Very Strong Correlation",
         "marker": {
          "color": [
           "#ff6600",
           "#ff9900",
           "#d3d3d3",
           "#ff6600",
           "#ff9900",
           "#ff9900",
           "#ff9900",
           "#ffcc00",
           "#ffcc00",
           "#ffcc00",
           "#ff9900",
           "#d3d3d3",
           "#ff9900",
           "#ff9900",
           "#d3d3d3",
           "#ff9900",
           "#ffcc00",
           "#ffcc00",
           "#ff9900",
           "#ffcc00",
           "#ff9900",
           "#ff6600",
           "#ffcc00",
           "#ff9900",
           "#ff9900",
           "#ffcc00",
           "#ff9900",
           "#ffcc00",
           "#d3d3d3",
           "#d3d3d3",
           "#d3d3d3",
           "#ff9900",
           "#d3d3d3",
           "#ff9900",
           "#ff9900",
           "#ff9900",
           "#ff9900",
           "#ffcc00",
           "#d3d3d3",
           "#ffcc00",
           "#d3d3d3",
           "#ff9900",
           "#d3d3d3",
           "#d3d3d3",
           "#ff6600",
           "#d3d3d3",
           "#ffcc00",
           "#cc0000",
           "#d3d3d3",
           "#ffcc00",
           "#d3d3d3",
           "#ff9900",
           "#ff9900",
           "#ff6600",
           "#ff9900",
           "#ff9900",
           "#ff6600",
           "#d3d3d3",
           "#ffcc00",
           "#d3d3d3",
           "#ff6600",
           "#ffcc00",
           "#ff9900",
           "#ffcc00",
           "#ff9900",
           "#d3d3d3",
           "#ffcc00",
           "#ffcc00",
           "#ff9900",
           "#ffcc00",
           "#ffcc00",
           "#d3d3d3",
           "#ff9900",
           "#ff9900",
           "#d3d3d3",
           "#ff9900",
           "#ffcc00",
           "#ffcc00",
           "#ffcc00",
           "#ff9900",
           "#ffcc00",
           "#ff9900",
           "#ffcc00",
           "#ff9900",
           "#ffcc00",
           "#ffcc00",
           "#d3d3d3",
           "#ff9900",
           "#ffcc00",
           "#ffcc00",
           "#d3d3d3",
           "#ffcc00",
           "#ffcc00",
           "#ff9900",
           "#d3d3d3",
           "#ff9900",
           "#ff9900",
           "#ffcc00",
           "#d3d3d3",
           "#ffcc00",
           "#ffcc00",
           "#ffcc00",
           "#ffcc00",
           "#d3d3d3",
           "#d3d3d3",
           "#ffcc00",
           "#d3d3d3",
           "#ffcc00",
           "#ff6600",
           "#cc0000",
           "#ff9900",
           "#ffcc00",
           "#ffcc00",
           "#d3d3d3",
           "#d3d3d3",
           "#ff9900",
           "#d3d3d3",
           "#ff6600",
           "#d3d3d3",
           "#ffcc00",
           "#ff6600",
           "#ffcc00",
           "#ff9900",
           "#d3d3d3",
           "#ffcc00",
           "#ffcc00",
           "#d3d3d3",
           "#ffcc00",
           "#ff6600",
           "#ff9900",
           "#ffcc00",
           "#ffcc00",
           "#ffcc00",
           "#d3d3d3",
           "#cc0000",
           "#d3d3d3",
           "#ffcc00",
           "#d3d3d3",
           "#ffcc00",
           "#ff9900",
           "#ff6600",
           "#ff9900",
           "#d3d3d3",
           "#cc0000",
           "#ff6600",
           "#ff9900",
           "#ff9900",
           "#ff6600",
           "#ffcc00",
           "#ff6600",
           "#ff6600",
           "#d3d3d3",
           "#ff9900",
           "#ffcc00",
           "#ff9900",
           "#d3d3d3",
           "#ffcc00",
           "#ff9900",
           "#ffcc00",
           "#ff9900",
           "#ffcc00",
           "#d3d3d3",
           "#ff6600",
           "#ff9900",
           "#ff6600",
           "#ff6600",
           "#ffcc00",
           "#ff6600",
           "#ff6600",
           "#d3d3d3",
           "#ff6600",
           "#ffcc00",
           "#d3d3d3",
           "#d3d3d3",
           "#d3d3d3",
           "#ffcc00",
           "#ffcc00",
           "#ffcc00",
           "#ffcc00",
           "#ffcc00",
           "#ff9900",
           "#d3d3d3",
           "#ffcc00",
           "#d3d3d3",
           "#ffcc00",
           "#ff9900",
           "#d3d3d3",
           "#d3d3d3",
           "#ff6600",
           "#ffcc00",
           "#d3d3d3",
           "#cc0000",
           "#ffcc00",
           "#ffcc00",
           "#ff9900",
           "#ff9900",
           "#ff9900",
           "#cc0000",
           "#ff6600",
           "#ff6600",
           "#cc0000",
           "#ffcc00",
           "#d3d3d3",
           "#d3d3d3",
           "#cc0000",
           "#ff9900",
           "#cc0000",
           "#d3d3d3",
           "#ff9900",
           "#ffcc00",
           "#d3d3d3",
           "#ffcc00",
           "#ff9900",
           "#ffcc00",
           "#ff9900",
           "#ffcc00",
           "#ff9900",
           "#ff9900",
           "#ffcc00",
           "#ffcc00",
           "#ffcc00",
           "#ffcc00",
           "#ffcc00",
           "#ffcc00",
           "#ffcc00",
           "#ff9900",
           "#d3d3d3",
           "#ff6600",
           "#ffcc00",
           "#ffcc00",
           "#d3d3d3",
           "#ff6600",
           "#ff9900",
           "#ff9900",
           "#ff9900",
           "#ffcc00",
           "#ff9900",
           "#ff6600",
           "#ffcc00",
           "#ff9900",
           "#ff6600",
           "#ffcc00",
           "#ffcc00",
           "#ffcc00",
           "#ffcc00",
           "#cc0000",
           "#ffcc00",
           "#ffcc00",
           "#d3d3d3",
           "#d3d3d3",
           "#d3d3d3",
           "#ffcc00",
           "#cc0000",
           "#cc0000",
           "#ff9900",
           "#ffcc00",
           "#ff9900",
           "#d3d3d3",
           "#d3d3d3",
           "#ff6600",
           "#d3d3d3",
           "#cc0000",
           "#d3d3d3",
           "#ff9900",
           "#cc0000",
           "#d3d3d3",
           "#ff6600",
           "#d3d3d3",
           "#ffcc00",
           "#ffcc00",
           "#d3d3d3",
           "#ffcc00",
           "#ff6600",
           "#ff9900",
           "#ff9900",
           "#ff9900",
           "#ffcc00",
           "#d3d3d3",
           "#ff6600",
           "#ffcc00",
           "#ffcc00",
           "#ffcc00",
           "#ff9900",
           "#ff6600",
           "#ff6600",
           "#ffcc00",
           "#ffcc00",
           "#ff6600"
          ],
          "pattern": {
           "shape": ""
          }
         },
         "name": "Very Strong Correlation",
         "offsetgroup": "Very Strong Correlation",
         "orientation": "v",
         "showlegend": true,
         "textposition": "auto",
         "type": "bar",
         "x": [
          "I.5.3",
          "III.2.3",
          "V.1",
          "VI.1"
         ],
         "xaxis": "x2",
         "y": [
          "Very Strong Correlation",
          "Very Strong Correlation",
          "Very Strong Correlation",
          "Very Strong Correlation"
         ],
         "yaxis": "y2"
        },
        {
         "alignmentgroup": "True",
         "customdata": [
          [
           "Area"
          ],
          [
           "Area"
          ],
          [
           "Area"
          ],
          [
           "Population"
          ],
          [
           "Area"
          ],
          [
           "Area"
          ],
          [
           "Population"
          ],
          [
           "GDP"
          ],
          [
           "Population"
          ],
          [
           "Population"
          ]
         ],
         "hovertemplate": "Correlation Strength=%{y}<br>Correlation Type=Spearman<br>Subsector=%{x}<br>Variable=%{customdata[0]}<extra></extra>",
         "legendgroup": "Very Strong Correlation",
         "marker": {
          "color": [
           "#ff6600",
           "#ff9900",
           "#d3d3d3",
           "#ff6600",
           "#ff9900",
           "#ff9900",
           "#ff9900",
           "#ffcc00",
           "#ffcc00",
           "#ffcc00",
           "#ff9900",
           "#d3d3d3",
           "#ff9900",
           "#ff9900",
           "#d3d3d3",
           "#ff9900",
           "#ffcc00",
           "#ffcc00",
           "#ff9900",
           "#ffcc00",
           "#ff9900",
           "#ff6600",
           "#ffcc00",
           "#ff9900",
           "#ff9900",
           "#ffcc00",
           "#ff9900",
           "#ffcc00",
           "#d3d3d3",
           "#d3d3d3",
           "#d3d3d3",
           "#ff9900",
           "#d3d3d3",
           "#ff9900",
           "#ff9900",
           "#ff9900",
           "#ff9900",
           "#ffcc00",
           "#d3d3d3",
           "#ffcc00",
           "#d3d3d3",
           "#ff9900",
           "#d3d3d3",
           "#d3d3d3",
           "#ff6600",
           "#d3d3d3",
           "#ffcc00",
           "#cc0000",
           "#d3d3d3",
           "#ffcc00",
           "#d3d3d3",
           "#ff9900",
           "#ff9900",
           "#ff6600",
           "#ff9900",
           "#ff9900",
           "#ff6600",
           "#d3d3d3",
           "#ffcc00",
           "#d3d3d3",
           "#ff6600",
           "#ffcc00",
           "#ff9900",
           "#ffcc00",
           "#ff9900",
           "#d3d3d3",
           "#ffcc00",
           "#ffcc00",
           "#ff9900",
           "#ffcc00",
           "#ffcc00",
           "#d3d3d3",
           "#ff9900",
           "#ff9900",
           "#d3d3d3",
           "#ff9900",
           "#ffcc00",
           "#ffcc00",
           "#ffcc00",
           "#ff9900",
           "#ffcc00",
           "#ff9900",
           "#ffcc00",
           "#ff9900",
           "#ffcc00",
           "#ffcc00",
           "#d3d3d3",
           "#ff9900",
           "#ffcc00",
           "#ffcc00",
           "#d3d3d3",
           "#ffcc00",
           "#ffcc00",
           "#ff9900",
           "#d3d3d3",
           "#ff9900",
           "#ff9900",
           "#ffcc00",
           "#d3d3d3",
           "#ffcc00",
           "#ffcc00",
           "#ffcc00",
           "#ffcc00",
           "#d3d3d3",
           "#d3d3d3",
           "#ffcc00",
           "#d3d3d3",
           "#ffcc00",
           "#ff6600",
           "#cc0000",
           "#ff9900",
           "#ffcc00",
           "#ffcc00",
           "#d3d3d3",
           "#d3d3d3",
           "#ff9900",
           "#d3d3d3",
           "#ff6600",
           "#d3d3d3",
           "#ffcc00",
           "#ff6600",
           "#ffcc00",
           "#ff9900",
           "#d3d3d3",
           "#ffcc00",
           "#ffcc00",
           "#d3d3d3",
           "#ffcc00",
           "#ff6600",
           "#ff9900",
           "#ffcc00",
           "#ffcc00",
           "#ffcc00",
           "#d3d3d3",
           "#cc0000",
           "#d3d3d3",
           "#ffcc00",
           "#d3d3d3",
           "#ffcc00",
           "#ff9900",
           "#ff6600",
           "#ff9900",
           "#d3d3d3",
           "#cc0000",
           "#ff6600",
           "#ff9900",
           "#ff9900",
           "#ff6600",
           "#ffcc00",
           "#ff6600",
           "#ff6600",
           "#d3d3d3",
           "#ff9900",
           "#ffcc00",
           "#ff9900",
           "#d3d3d3",
           "#ffcc00",
           "#ff9900",
           "#ffcc00",
           "#ff9900",
           "#ffcc00",
           "#d3d3d3",
           "#ff6600",
           "#ff9900",
           "#ff6600",
           "#ff6600",
           "#ffcc00",
           "#ff6600",
           "#ff6600",
           "#d3d3d3",
           "#ff6600",
           "#ffcc00",
           "#d3d3d3",
           "#d3d3d3",
           "#d3d3d3",
           "#ffcc00",
           "#ffcc00",
           "#ffcc00",
           "#ffcc00",
           "#ffcc00",
           "#ff9900",
           "#d3d3d3",
           "#ffcc00",
           "#d3d3d3",
           "#ffcc00",
           "#ff9900",
           "#d3d3d3",
           "#d3d3d3",
           "#ff6600",
           "#ffcc00",
           "#d3d3d3",
           "#cc0000",
           "#ffcc00",
           "#ffcc00",
           "#ff9900",
           "#ff9900",
           "#ff9900",
           "#cc0000",
           "#ff6600",
           "#ff6600",
           "#cc0000",
           "#ffcc00",
           "#d3d3d3",
           "#d3d3d3",
           "#cc0000",
           "#ff9900",
           "#cc0000",
           "#d3d3d3",
           "#ff9900",
           "#ffcc00",
           "#d3d3d3",
           "#ffcc00",
           "#ff9900",
           "#ffcc00",
           "#ff9900",
           "#ffcc00",
           "#ff9900",
           "#ff9900",
           "#ffcc00",
           "#ffcc00",
           "#ffcc00",
           "#ffcc00",
           "#ffcc00",
           "#ffcc00",
           "#ffcc00",
           "#ff9900",
           "#d3d3d3",
           "#ff6600",
           "#ffcc00",
           "#ffcc00",
           "#d3d3d3",
           "#ff6600",
           "#ff9900",
           "#ff9900",
           "#ff9900",
           "#ffcc00",
           "#ff9900",
           "#ff6600",
           "#ffcc00",
           "#ff9900",
           "#ff6600",
           "#ffcc00",
           "#ffcc00",
           "#ffcc00",
           "#ffcc00",
           "#cc0000",
           "#ffcc00",
           "#ffcc00",
           "#d3d3d3",
           "#d3d3d3",
           "#d3d3d3",
           "#ffcc00",
           "#cc0000",
           "#cc0000",
           "#ff9900",
           "#ffcc00",
           "#ff9900",
           "#d3d3d3",
           "#d3d3d3",
           "#ff6600",
           "#d3d3d3",
           "#cc0000",
           "#d3d3d3",
           "#ff9900",
           "#cc0000",
           "#d3d3d3",
           "#ff6600",
           "#d3d3d3",
           "#ffcc00",
           "#ffcc00",
           "#d3d3d3",
           "#ffcc00",
           "#ff6600",
           "#ff9900",
           "#ff9900",
           "#ff9900",
           "#ffcc00",
           "#d3d3d3",
           "#ff6600",
           "#ffcc00",
           "#ffcc00",
           "#ffcc00",
           "#ff9900",
           "#ff6600",
           "#ff6600",
           "#ffcc00",
           "#ffcc00",
           "#ff6600"
          ],
          "pattern": {
           "shape": ""
          }
         },
         "name": "Very Strong Correlation",
         "offsetgroup": "Very Strong Correlation",
         "orientation": "v",
         "showlegend": false,
         "textposition": "auto",
         "type": "bar",
         "x": [
          "I.5.3",
          "I.6.2",
          "I.6.3",
          "II.1.1",
          "II.1.1",
          "III.1.3",
          "III.2.3",
          "III.2.3",
          "III.4.1",
          "III.4.2"
         ],
         "xaxis": "x",
         "y": [
          "Very Strong Correlation",
          "Very Strong Correlation",
          "Very Strong Correlation",
          "Very Strong Correlation",
          "Very Strong Correlation",
          "Very Strong Correlation",
          "Very Strong Correlation",
          "Very Strong Correlation",
          "Very Strong Correlation",
          "Very Strong Correlation"
         ],
         "yaxis": "y"
        }
       ],
       "layout": {
        "annotations": [
         {
          "font": {},
          "showarrow": false,
          "text": "Correlation Type=Spearman",
          "textangle": 90,
          "x": 0.98,
          "xanchor": "left",
          "xref": "paper",
          "y": 0.2425,
          "yanchor": "middle",
          "yref": "paper"
         },
         {
          "font": {},
          "showarrow": false,
          "text": "Correlation Type=Pearson",
          "textangle": 90,
          "x": 0.98,
          "xanchor": "left",
          "xref": "paper",
          "y": 0.7575000000000001,
          "yanchor": "middle",
          "yref": "paper"
         }
        ],
        "bargap": 0.2,
        "bargroupgap": 0.1,
        "barmode": "relative",
        "height": 800,
        "legend": {
         "title": {
          "text": "Correlation Strength"
         },
         "tracegroupgap": 0
        },
        "showlegend": false,
        "template": {
         "data": {
          "bar": [
           {
            "error_x": {
             "color": "#2a3f5f"
            },
            "error_y": {
             "color": "#2a3f5f"
            },
            "marker": {
             "line": {
              "color": "#E5ECF6",
              "width": 0.5
             },
             "pattern": {
              "fillmode": "overlay",
              "size": 10,
              "solidity": 0.2
             }
            },
            "type": "bar"
           }
          ],
          "barpolar": [
           {
            "marker": {
             "line": {
              "color": "#E5ECF6",
              "width": 0.5
             },
             "pattern": {
              "fillmode": "overlay",
              "size": 10,
              "solidity": 0.2
             }
            },
            "type": "barpolar"
           }
          ],
          "carpet": [
           {
            "aaxis": {
             "endlinecolor": "#2a3f5f",
             "gridcolor": "white",
             "linecolor": "white",
             "minorgridcolor": "white",
             "startlinecolor": "#2a3f5f"
            },
            "baxis": {
             "endlinecolor": "#2a3f5f",
             "gridcolor": "white",
             "linecolor": "white",
             "minorgridcolor": "white",
             "startlinecolor": "#2a3f5f"
            },
            "type": "carpet"
           }
          ],
          "choropleth": [
           {
            "colorbar": {
             "outlinewidth": 0,
             "ticks": ""
            },
            "type": "choropleth"
           }
          ],
          "contour": [
           {
            "colorbar": {
             "outlinewidth": 0,
             "ticks": ""
            },
            "colorscale": [
             [
              0,
              "#0d0887"
             ],
             [
              0.1111111111111111,
              "#46039f"
             ],
             [
              0.2222222222222222,
              "#7201a8"
             ],
             [
              0.3333333333333333,
              "#9c179e"
             ],
             [
              0.4444444444444444,
              "#bd3786"
             ],
             [
              0.5555555555555556,
              "#d8576b"
             ],
             [
              0.6666666666666666,
              "#ed7953"
             ],
             [
              0.7777777777777778,
              "#fb9f3a"
             ],
             [
              0.8888888888888888,
              "#fdca26"
             ],
             [
              1,
              "#f0f921"
             ]
            ],
            "type": "contour"
           }
          ],
          "contourcarpet": [
           {
            "colorbar": {
             "outlinewidth": 0,
             "ticks": ""
            },
            "type": "contourcarpet"
           }
          ],
          "heatmap": [
           {
            "colorbar": {
             "outlinewidth": 0,
             "ticks": ""
            },
            "colorscale": [
             [
              0,
              "#0d0887"
             ],
             [
              0.1111111111111111,
              "#46039f"
             ],
             [
              0.2222222222222222,
              "#7201a8"
             ],
             [
              0.3333333333333333,
              "#9c179e"
             ],
             [
              0.4444444444444444,
              "#bd3786"
             ],
             [
              0.5555555555555556,
              "#d8576b"
             ],
             [
              0.6666666666666666,
              "#ed7953"
             ],
             [
              0.7777777777777778,
              "#fb9f3a"
             ],
             [
              0.8888888888888888,
              "#fdca26"
             ],
             [
              1,
              "#f0f921"
             ]
            ],
            "type": "heatmap"
           }
          ],
          "heatmapgl": [
           {
            "colorbar": {
             "outlinewidth": 0,
             "ticks": ""
            },
            "colorscale": [
             [
              0,
              "#0d0887"
             ],
             [
              0.1111111111111111,
              "#46039f"
             ],
             [
              0.2222222222222222,
              "#7201a8"
             ],
             [
              0.3333333333333333,
              "#9c179e"
             ],
             [
              0.4444444444444444,
              "#bd3786"
             ],
             [
              0.5555555555555556,
              "#d8576b"
             ],
             [
              0.6666666666666666,
              "#ed7953"
             ],
             [
              0.7777777777777778,
              "#fb9f3a"
             ],
             [
              0.8888888888888888,
              "#fdca26"
             ],
             [
              1,
              "#f0f921"
             ]
            ],
            "type": "heatmapgl"
           }
          ],
          "histogram": [
           {
            "marker": {
             "pattern": {
              "fillmode": "overlay",
              "size": 10,
              "solidity": 0.2
             }
            },
            "type": "histogram"
           }
          ],
          "histogram2d": [
           {
            "colorbar": {
             "outlinewidth": 0,
             "ticks": ""
            },
            "colorscale": [
             [
              0,
              "#0d0887"
             ],
             [
              0.1111111111111111,
              "#46039f"
             ],
             [
              0.2222222222222222,
              "#7201a8"
             ],
             [
              0.3333333333333333,
              "#9c179e"
             ],
             [
              0.4444444444444444,
              "#bd3786"
             ],
             [
              0.5555555555555556,
              "#d8576b"
             ],
             [
              0.6666666666666666,
              "#ed7953"
             ],
             [
              0.7777777777777778,
              "#fb9f3a"
             ],
             [
              0.8888888888888888,
              "#fdca26"
             ],
             [
              1,
              "#f0f921"
             ]
            ],
            "type": "histogram2d"
           }
          ],
          "histogram2dcontour": [
           {
            "colorbar": {
             "outlinewidth": 0,
             "ticks": ""
            },
            "colorscale": [
             [
              0,
              "#0d0887"
             ],
             [
              0.1111111111111111,
              "#46039f"
             ],
             [
              0.2222222222222222,
              "#7201a8"
             ],
             [
              0.3333333333333333,
              "#9c179e"
             ],
             [
              0.4444444444444444,
              "#bd3786"
             ],
             [
              0.5555555555555556,
              "#d8576b"
             ],
             [
              0.6666666666666666,
              "#ed7953"
             ],
             [
              0.7777777777777778,
              "#fb9f3a"
             ],
             [
              0.8888888888888888,
              "#fdca26"
             ],
             [
              1,
              "#f0f921"
             ]
            ],
            "type": "histogram2dcontour"
           }
          ],
          "mesh3d": [
           {
            "colorbar": {
             "outlinewidth": 0,
             "ticks": ""
            },
            "type": "mesh3d"
           }
          ],
          "parcoords": [
           {
            "line": {
             "colorbar": {
              "outlinewidth": 0,
              "ticks": ""
             }
            },
            "type": "parcoords"
           }
          ],
          "pie": [
           {
            "automargin": true,
            "type": "pie"
           }
          ],
          "scatter": [
           {
            "fillpattern": {
             "fillmode": "overlay",
             "size": 10,
             "solidity": 0.2
            },
            "type": "scatter"
           }
          ],
          "scatter3d": [
           {
            "line": {
             "colorbar": {
              "outlinewidth": 0,
              "ticks": ""
             }
            },
            "marker": {
             "colorbar": {
              "outlinewidth": 0,
              "ticks": ""
             }
            },
            "type": "scatter3d"
           }
          ],
          "scattercarpet": [
           {
            "marker": {
             "colorbar": {
              "outlinewidth": 0,
              "ticks": ""
             }
            },
            "type": "scattercarpet"
           }
          ],
          "scattergeo": [
           {
            "marker": {
             "colorbar": {
              "outlinewidth": 0,
              "ticks": ""
             }
            },
            "type": "scattergeo"
           }
          ],
          "scattergl": [
           {
            "marker": {
             "colorbar": {
              "outlinewidth": 0,
              "ticks": ""
             }
            },
            "type": "scattergl"
           }
          ],
          "scattermapbox": [
           {
            "marker": {
             "colorbar": {
              "outlinewidth": 0,
              "ticks": ""
             }
            },
            "type": "scattermapbox"
           }
          ],
          "scatterpolar": [
           {
            "marker": {
             "colorbar": {
              "outlinewidth": 0,
              "ticks": ""
             }
            },
            "type": "scatterpolar"
           }
          ],
          "scatterpolargl": [
           {
            "marker": {
             "colorbar": {
              "outlinewidth": 0,
              "ticks": ""
             }
            },
            "type": "scatterpolargl"
           }
          ],
          "scatterternary": [
           {
            "marker": {
             "colorbar": {
              "outlinewidth": 0,
              "ticks": ""
             }
            },
            "type": "scatterternary"
           }
          ],
          "surface": [
           {
            "colorbar": {
             "outlinewidth": 0,
             "ticks": ""
            },
            "colorscale": [
             [
              0,
              "#0d0887"
             ],
             [
              0.1111111111111111,
              "#46039f"
             ],
             [
              0.2222222222222222,
              "#7201a8"
             ],
             [
              0.3333333333333333,
              "#9c179e"
             ],
             [
              0.4444444444444444,
              "#bd3786"
             ],
             [
              0.5555555555555556,
              "#d8576b"
             ],
             [
              0.6666666666666666,
              "#ed7953"
             ],
             [
              0.7777777777777778,
              "#fb9f3a"
             ],
             [
              0.8888888888888888,
              "#fdca26"
             ],
             [
              1,
              "#f0f921"
             ]
            ],
            "type": "surface"
           }
          ],
          "table": [
           {
            "cells": {
             "fill": {
              "color": "#EBF0F8"
             },
             "line": {
              "color": "white"
             }
            },
            "header": {
             "fill": {
              "color": "#C8D4E3"
             },
             "line": {
              "color": "white"
             }
            },
            "type": "table"
           }
          ]
         },
         "layout": {
          "annotationdefaults": {
           "arrowcolor": "#2a3f5f",
           "arrowhead": 0,
           "arrowwidth": 1
          },
          "autotypenumbers": "strict",
          "coloraxis": {
           "colorbar": {
            "outlinewidth": 0,
            "ticks": ""
           }
          },
          "colorscale": {
           "diverging": [
            [
             0,
             "#8e0152"
            ],
            [
             0.1,
             "#c51b7d"
            ],
            [
             0.2,
             "#de77ae"
            ],
            [
             0.3,
             "#f1b6da"
            ],
            [
             0.4,
             "#fde0ef"
            ],
            [
             0.5,
             "#f7f7f7"
            ],
            [
             0.6,
             "#e6f5d0"
            ],
            [
             0.7,
             "#b8e186"
            ],
            [
             0.8,
             "#7fbc41"
            ],
            [
             0.9,
             "#4d9221"
            ],
            [
             1,
             "#276419"
            ]
           ],
           "sequential": [
            [
             0,
             "#0d0887"
            ],
            [
             0.1111111111111111,
             "#46039f"
            ],
            [
             0.2222222222222222,
             "#7201a8"
            ],
            [
             0.3333333333333333,
             "#9c179e"
            ],
            [
             0.4444444444444444,
             "#bd3786"
            ],
            [
             0.5555555555555556,
             "#d8576b"
            ],
            [
             0.6666666666666666,
             "#ed7953"
            ],
            [
             0.7777777777777778,
             "#fb9f3a"
            ],
            [
             0.8888888888888888,
             "#fdca26"
            ],
            [
             1,
             "#f0f921"
            ]
           ],
           "sequentialminus": [
            [
             0,
             "#0d0887"
            ],
            [
             0.1111111111111111,
             "#46039f"
            ],
            [
             0.2222222222222222,
             "#7201a8"
            ],
            [
             0.3333333333333333,
             "#9c179e"
            ],
            [
             0.4444444444444444,
             "#bd3786"
            ],
            [
             0.5555555555555556,
             "#d8576b"
            ],
            [
             0.6666666666666666,
             "#ed7953"
            ],
            [
             0.7777777777777778,
             "#fb9f3a"
            ],
            [
             0.8888888888888888,
             "#fdca26"
            ],
            [
             1,
             "#f0f921"
            ]
           ]
          },
          "colorway": [
           "#636efa",
           "#EF553B",
           "#00cc96",
           "#ab63fa",
           "#FFA15A",
           "#19d3f3",
           "#FF6692",
           "#B6E880",
           "#FF97FF",
           "#FECB52"
          ],
          "font": {
           "color": "#2a3f5f"
          },
          "geo": {
           "bgcolor": "white",
           "lakecolor": "white",
           "landcolor": "#E5ECF6",
           "showlakes": true,
           "showland": true,
           "subunitcolor": "white"
          },
          "hoverlabel": {
           "align": "left"
          },
          "hovermode": "closest",
          "mapbox": {
           "style": "light"
          },
          "paper_bgcolor": "white",
          "plot_bgcolor": "#E5ECF6",
          "polar": {
           "angularaxis": {
            "gridcolor": "white",
            "linecolor": "white",
            "ticks": ""
           },
           "bgcolor": "#E5ECF6",
           "radialaxis": {
            "gridcolor": "white",
            "linecolor": "white",
            "ticks": ""
           }
          },
          "scene": {
           "xaxis": {
            "backgroundcolor": "#E5ECF6",
            "gridcolor": "white",
            "gridwidth": 2,
            "linecolor": "white",
            "showbackground": true,
            "ticks": "",
            "zerolinecolor": "white"
           },
           "yaxis": {
            "backgroundcolor": "#E5ECF6",
            "gridcolor": "white",
            "gridwidth": 2,
            "linecolor": "white",
            "showbackground": true,
            "ticks": "",
            "zerolinecolor": "white"
           },
           "zaxis": {
            "backgroundcolor": "#E5ECF6",
            "gridcolor": "white",
            "gridwidth": 2,
            "linecolor": "white",
            "showbackground": true,
            "ticks": "",
            "zerolinecolor": "white"
           }
          },
          "shapedefaults": {
           "line": {
            "color": "#2a3f5f"
           }
          },
          "ternary": {
           "aaxis": {
            "gridcolor": "white",
            "linecolor": "white",
            "ticks": ""
           },
           "baxis": {
            "gridcolor": "white",
            "linecolor": "white",
            "ticks": ""
           },
           "bgcolor": "#E5ECF6",
           "caxis": {
            "gridcolor": "white",
            "linecolor": "white",
            "ticks": ""
           }
          },
          "title": {
           "x": 0.05
          },
          "xaxis": {
           "automargin": true,
           "gridcolor": "white",
           "linecolor": "white",
           "ticks": "",
           "title": {
            "standoff": 15
           },
           "zerolinecolor": "white",
           "zerolinewidth": 2
          },
          "yaxis": {
           "automargin": true,
           "gridcolor": "white",
           "linecolor": "white",
           "ticks": "",
           "title": {
            "standoff": 15
           },
           "zerolinecolor": "white",
           "zerolinewidth": 2
          }
         }
        },
        "title": {
         "text": "Correlation Strengths by Subsector and Variable"
        },
        "xaxis": {
         "anchor": "y",
         "domain": [
          0,
          0.98
         ],
         "title": {
          "text": "Subsector"
         }
        },
        "xaxis2": {
         "anchor": "y2",
         "domain": [
          0,
          0.98
         ],
         "matches": "x",
         "showticklabels": false
        },
        "yaxis": {
         "anchor": "x",
         "categoryarray": [
          "Almost Perfect Correlation",
          "Very Strong Correlation",
          "Strong Correlation",
          "Moderate Correlation",
          "Weak Correlation",
          "Negligible or No Correlation"
         ],
         "categoryorder": "array",
         "domain": [
          0,
          0.485
         ],
         "title": {
          "text": "Correlation Strength"
         }
        },
        "yaxis2": {
         "anchor": "x2",
         "categoryarray": [
          "Almost Perfect Correlation",
          "Very Strong Correlation",
          "Strong Correlation",
          "Moderate Correlation",
          "Weak Correlation",
          "Negligible or No Correlation"
         ],
         "categoryorder": "array",
         "domain": [
          0.515,
          1
         ],
         "matches": "y",
         "title": {
          "text": "Correlation Strength"
         }
        }
       }
      }
     },
     "metadata": {},
     "output_type": "display_data"
    }
   ],
   "source": [
    "color_map = {\n",
    "    \"Negligible or No Correlation\": \"#d3d3d3\",    # Light Grey\n",
    "    \"Weak Correlation\": \"#ffcc00\",                # Yellow\n",
    "    \"Moderate Correlation\": \"#ff9900\",            # Orange\n",
    "    \"Strong Correlation\": \"#ff6600\",              # Dark Orange\n",
    "    \"Very Strong Correlation\": \"#cc0000\",         # Red\n",
    "    \"Almost Perfect Correlation\": \"#660000\"       # Dark Red\n",
    "}\n",
    "\n",
    "# Assign colors\n",
    "df_long['Color'] = df_long['Correlation_Strength'].map(color_map)\n",
    "\n",
    "fig = px.bar(\n",
    "    df_long,\n",
    "    x='Subsector',\n",
    "    y='Correlation_Strength',\n",
    "    color='Correlation_Strength',\n",
    "    facet_row='Correlation_Type',\n",
    "    category_orders={'Correlation_Strength': [\n",
    "        \"Negligible or No Correlation\",\n",
    "        \"Weak Correlation\",\n",
    "        \"Moderate Correlation\",\n",
    "        \"Strong Correlation\",\n",
    "        \"Very Strong Correlation\",\n",
    "        \"Almost Perfect Correlation\"\n",
    "    ]},\n",
    "    labels={\n",
    "        'Correlation_Strength': 'Correlation Strength',\n",
    "        'Subsector': 'Subsector',\n",
    "        'Correlation_Type': 'Correlation Type'\n",
    "    },\n",
    "    title='Correlation Strengths by Subsector and Variable',\n",
    "    hover_data=['Variable']\n",
    ")\n",
    "\n",
    "fig.update_traces(marker=dict(color=df_long['Color']))\n",
    "\n",
    "fig.update_layout(\n",
    "    showlegend=False,\n",
    "    height=800,\n",
    "    bargap=0.2,\n",
    "    bargroupgap=0.1\n",
    ")\n",
    "\n",
    "fig.show()"
   ]
  }
 ],
 "metadata": {
  "kernelspec": {
   "display_name": "Python 3",
   "language": "python",
   "name": "python3"
  },
  "language_info": {
   "codemirror_mode": {
    "name": "ipython",
    "version": 3
   },
   "file_extension": ".py",
   "mimetype": "text/x-python",
   "name": "python",
   "nbconvert_exporter": "python",
   "pygments_lexer": "ipython3",
   "version": "3.11.9"
  }
 },
 "nbformat": 4,
 "nbformat_minor": 2
}
