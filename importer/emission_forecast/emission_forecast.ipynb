{
 "cells": [
  {
   "cell_type": "code",
   "execution_count": 1,
   "metadata": {},
   "outputs": [],
   "source": [
    "import pandas as pd"
   ]
  },
  {
   "cell_type": "code",
   "execution_count": 2,
   "metadata": {},
   "outputs": [],
   "source": [
    "mitigation = pd.read_csv('./mitigation_typology.csv')\n",
    "geo_regions = pd.read_csv('./geographic_regions_municipalities.csv')"
   ]
  },
  {
   "cell_type": "code",
   "execution_count": 3,
   "metadata": {},
   "outputs": [],
   "source": [
    "# GDP Projections\n",
    "file_path = './Forecast Model Results.xlsx'\n",
    "\n",
    "# Read a specific sheet\n",
    "sheet_name = 'GDP Projections'\n",
    "gdp_projections = pd.read_excel(file_path, sheet_name=sheet_name)"
   ]
  },
  {
   "cell_type": "code",
   "execution_count": 4,
   "metadata": {},
   "outputs": [],
   "source": [
    "# Forecast Model\n",
    "file_path = './Forecast Model Results.xlsx'\n",
    "\n",
    "# Read a specific sheet\n",
    "sheet_name = 'Growth Rates for Future Emissio'\n",
    "growth_rates = pd.read_excel(file_path, sheet_name=sheet_name)"
   ]
  },
  {
   "cell_type": "code",
   "execution_count": 5,
   "metadata": {},
   "outputs": [],
   "source": [
    "# Clusters\n",
    "sheet_name = 'Clusters'\n",
    "clusters = pd.read_excel(file_path, sheet_name=sheet_name)\n",
    "\n",
    "#todo: assign unique ids"
   ]
  },
  {
   "cell_type": "code",
   "execution_count": 6,
   "metadata": {},
   "outputs": [],
   "source": [
    "# delete columns that are not needed\n",
    "mitigation.drop(columns=['Unnamed: 0', 'VAR09', 'VAR10', 'nmun'], inplace=True)\n",
    "# rename columns\n",
    "mitigation.rename(columns={'Codmun': 'municipality_code', 'pop': 'population'}, inplace=True)"
   ]
  },
  {
   "cell_type": "code",
   "execution_count": 7,
   "metadata": {},
   "outputs": [],
   "source": [
    "# delete columns that are not needed\n",
    "geo_regions.drop(columns=['cod_rgi', 'Region', 'State Code', 'Região Imediata', 'cod_rgint', \n",
    "                          'Região Integrada'], inplace=True)\n",
    "# rename columns\n",
    "geo_regions.rename(columns={'nome_mun': 'municipality_name', 'CD_GEOCODI': 'municipality_code'}, inplace=True)"
   ]
  },
  {
   "cell_type": "code",
   "execution_count": 8,
   "metadata": {},
   "outputs": [],
   "source": [
    "municipaly_info = pd.merge(mitigation, geo_regions, on='municipality_code', how='inner')\n",
    "\n",
    "#todo: assign locodes and connect clusters with clusters ids from clusters table"
   ]
  },
  {
   "cell_type": "code",
   "execution_count": 9,
   "metadata": {},
   "outputs": [],
   "source": [
    "gdp_projections = gdp_projections[6:]\n",
    "gdp_projections = gdp_projections.drop(columns=[2025, 2026, 2027, '2023-2030', '2030-2040', '2041-2060'])\n",
    "gdp_projections = gdp_projections.rename(columns={'Fonte': 'year', 2024: 'economic_growth'})"
   ]
  },
  {
   "cell_type": "code",
   "execution_count": 10,
   "metadata": {},
   "outputs": [],
   "source": [
    "growth_rates = growth_rates.rename(columns={'Unnamed: 0': 'clusters', 'Unnamed: 1': 'cluster_national_gdp', 'Unnamed: 2': 'sectoral_coef', 'Year': 'sector'})\n",
    "growth_rates = growth_rates[1:]"
   ]
  },
  {
   "cell_type": "code",
   "execution_count": 11,
   "metadata": {},
   "outputs": [],
   "source": [
    "# reformat of the DataFrame\n",
    "growth_rates = growth_rates.melt(\n",
    "    id_vars=['clusters', 'cluster_national_gdp', 'sectoral_coef', 'sector'], \n",
    "    value_vars=[2024, 2025, 2026, 2027, 2028, 2029, 2030, 2031, 2032, 2033, 2034, 2035, 2036, 2037, 2038, 2039, 2040, 2041, 2042, 2043, 2044, 2045, 2046, 2047, 2048, 2049, 2050], \n",
    "    var_name='forecast_year', \n",
    "    value_name='growth_rate')"
   ]
  },
  {
   "cell_type": "code",
   "execution_count": 12,
   "metadata": {},
   "outputs": [],
   "source": [
    "sectors = {\n",
    "    'Waste': 'III', \n",
    "    'Energy': ['I', 'II'], \n",
    "    'Agriculture': 'V', \n",
    "    'Industry': 'IV'\n",
    "} "
   ]
  },
  {
   "cell_type": "code",
   "execution_count": 13,
   "metadata": {},
   "outputs": [],
   "source": [
    "# assign \"GPC_refno\"\n",
    "growth_rates[\"gpc_refno\"] = growth_rates[\"sector\"].map(sectors)"
   ]
  },
  {
   "cell_type": "code",
   "execution_count": 14,
   "metadata": {},
   "outputs": [],
   "source": [
    "growth_rates = growth_rates.explode(\"gpc_refno\", ignore_index=True)"
   ]
  },
  {
   "cell_type": "code",
   "execution_count": 15,
   "metadata": {},
   "outputs": [],
   "source": [
    "growth_rates['future_year'] = growth_rates['forecast_year'] + 1"
   ]
  },
  {
   "cell_type": "code",
   "execution_count": 16,
   "metadata": {},
   "outputs": [],
   "source": [
    "#todo: clusters with clusters ids from clusters table"
   ]
  },
  {
   "cell_type": "code",
   "execution_count": 17,
   "metadata": {},
   "outputs": [
    {
     "data": {
      "text/plain": [
       "Index(['clusters', 'cluster_national_gdp', 'sectoral_coef', 'sector',\n",
       "       'forecast_year', 'growth_rate', 'gpc_refno', 'future_year'],\n",
       "      dtype='object')"
      ]
     },
     "execution_count": 17,
     "metadata": {},
     "output_type": "execute_result"
    }
   ],
   "source": [
    "growth_rates.columns"
   ]
  },
  {
   "cell_type": "code",
   "execution_count": null,
   "metadata": {},
   "outputs": [],
   "source": []
  }
 ],
 "metadata": {
  "kernelspec": {
   "display_name": "Python 3",
   "language": "python",
   "name": "python3"
  },
  "language_info": {
   "codemirror_mode": {
    "name": "ipython",
    "version": 3
   },
   "file_extension": ".py",
   "mimetype": "text/x-python",
   "name": "python",
   "nbconvert_exporter": "python",
   "pygments_lexer": "ipython3",
   "version": "3.11.9"
  }
 },
 "nbformat": 4,
 "nbformat_minor": 2
}
