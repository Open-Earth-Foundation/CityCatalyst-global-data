{
 "cells": [
  {
   "cell_type": "code",
   "execution_count": 56,
   "metadata": {},
   "outputs": [],
   "source": [
    "import pandas as pd\n",
    "import numpy as np\n",
    "import glob\n",
    "import os"
   ]
  },
  {
   "cell_type": "markdown",
   "metadata": {},
   "source": [
    "### Import Data"
   ]
  },
  {
   "cell_type": "code",
   "execution_count": 57,
   "metadata": {},
   "outputs": [],
   "source": [
    "paths = glob.glob(f'./Plan*L*.xls')\n",
    "\n",
    "df1 = pd.DataFrame()\n",
    "\n",
    "for path in paths:\n",
    "    tmp = pd.read_excel(path, skiprows=11)\n",
    "\n",
    "    tmp.rename(columns={'-': 'municipal_code', \n",
    "                    '-.1': 'municipality_name', \n",
    "                    '-.2': 'UF', \n",
    "                    '-.3': 'code1', \n",
    "                    '-.4': 'code2', \n",
    "                    '-.5': 'provedor_name', \n",
    "                    '-.6': 'sigla', \n",
    "                    '-.7': 'scope', \n",
    "                    '-.8': 'jur_nature', \n",
    "                    '-.9': 'service_type'}, inplace=True)\n",
    "\n",
    "    # filter by the intereted columns\n",
    "    tmp = tmp[['municipal_code', 'municipality_name', 'UF', 'service_type','GE12b' ,'GE005', 'ES005', 'ES006', 'ES014', 'ES015']]\n",
    "\n",
    "    df1 = pd.concat([df1, tmp], ignore_index=True)"
   ]
  },
  {
   "cell_type": "code",
   "execution_count": 58,
   "metadata": {},
   "outputs": [],
   "source": [
    "folder_path = './others/'\n",
    "\n",
    "dataframes = []\n",
    "\n",
    "for file in os.listdir(folder_path):\n",
    "    if file.endswith('.xls'):  \n",
    "        file_path = os.path.join(folder_path, file)\n",
    "\n",
    "        df = pd.read_excel(file_path, skiprows=11)\n",
    "\n",
    "        df.rename(columns={'-': 'municipal_code', \n",
    "                     '-.1': 'municipality_name', \n",
    "                     '-.2': 'UF', \n",
    "                     '-.3': 'code1', \n",
    "                     '-.4': 'code2', \n",
    "                     '-.5': 'provedor_name', \n",
    "                     '-.6': 'sigla', \n",
    "                     '-.7': 'scope', \n",
    "                     '-.8': 'jur_nature', \n",
    "                     '-.9': 'service_type'}, inplace=True)\n",
    "        \n",
    "        stop_index = df[df['municipal_code'] == 'TOTALIZAÇÃO DAS INFORMAÇÕES DESAGREGADAS (Desagre):  '].index.to_list()[0]\n",
    "\n",
    "        if not pd.isna(stop_index):\n",
    "            df = df.iloc[:stop_index]\n",
    "        \n",
    "        dataframes.append(df)\n",
    "\n",
    "# Combine all processed DataFrames into one\n",
    "df2 = pd.concat(dataframes, ignore_index=True)\n",
    "\n",
    "# filter by the intereted columns\n",
    "df2 = df2[['municipal_code', 'municipality_name', 'UF', 'service_type', 'GE12b', 'GE005', 'ES005', 'ES006', 'ES014', 'ES015']]"
   ]
  },
  {
   "cell_type": "code",
   "execution_count": 59,
   "metadata": {},
   "outputs": [],
   "source": [
    "# concatenate the two DataFrames\n",
    "df_f = pd.concat([df1, df2], ignore_index=True)"
   ]
  },
  {
   "cell_type": "code",
   "execution_count": 60,
   "metadata": {},
   "outputs": [],
   "source": [
    "column_names = ['municipal_code', 'municipality_name', 'UF', 'service_type', 'total_resident_population','number_municipalities', 'collected', 'treated', 'imported', 'exported']\n",
    "df_f.columns = column_names"
   ]
  },
  {
   "cell_type": "code",
   "execution_count": 61,
   "metadata": {},
   "outputs": [],
   "source": [
    "# Select only the rows related to the sewer system information and one mucipality atended by the service\n",
    "df_f = df_f[~df_f['service_type'].isin(['Água']) & (df_f['number_municipalities'] == 1)]"
   ]
  },
  {
   "cell_type": "markdown",
   "metadata": {},
   "source": [
    "### Formulas"
   ]
  },
  {
   "cell_type": "code",
   "execution_count": 62,
   "metadata": {},
   "outputs": [],
   "source": [
    "def TOW(P, BOD, I):\n",
    "    \"\"\"\n",
    "    Units required:\n",
    "    - P: cap\n",
    "    - BOD: kg BOD / cap / yr\n",
    "    - I: unitless\n",
    "\n",
    "    example: TOW(520600, 18.25, 1.25)\n",
    "    \"\"\"\n",
    "    return P*BOD*I"
   ]
  },
  {
   "cell_type": "code",
   "execution_count": 63,
   "metadata": {},
   "outputs": [],
   "source": [
    "def EFj(Bo, MCFj):\n",
    "    \"\"\"\n",
    "    Units required:\n",
    "    - Bo: kg CH4 / kg BOD\n",
    "    - MCFj: unitless\n",
    "\n",
    "    example: EFj(0.6, 0.3)\n",
    "    \"\"\"\n",
    "    return Bo*MCFj"
   ]
  },
  {
   "cell_type": "code",
   "execution_count": 64,
   "metadata": {},
   "outputs": [],
   "source": [
    "def CH4_emissions(Ui, Tij, EFj, TOW, S, R):\n",
    "    \"\"\"\n",
    "    Units required:\n",
    "    - Ui: fraction\n",
    "    - Tij: fraction\n",
    "    - EFj: kg CH4 / kg BOD\n",
    "    - TOW: kg BOD / yr\n",
    "    - S: kg CH4 / yr\n",
    "    - R: kg CH4 / yr\n",
    "\n",
    "    example: CH4_emissions(0.16, 0.1, 0.18, 11876187.5, 0, 0)\n",
    "    \"\"\"\n",
    "    return ((Ui*Tij*EFj)*(TOW-S))-R"
   ]
  },
  {
   "cell_type": "code",
   "execution_count": 65,
   "metadata": {},
   "outputs": [],
   "source": [
    "def EF_N2O(protein, Fnpr, F_non_con, F_ind_com):\n",
    "    \"\"\"\n",
    "    Emission factor for N2O based on default values.\n",
    "    Source: IPCC 2006\n",
    "    units requered:\n",
    "        - protein: [kg protein / person / yr]\n",
    "        - Fnpr: [kg N / kg protein]\n",
    "        - F_non_con: unitless\n",
    "        - F_ind_com: unitless\n",
    "    \"\"\"\n",
    "    return protein*Fnpr*F_non_con*F_ind_com"
   ]
  },
  {
   "cell_type": "markdown",
   "metadata": {},
   "source": [
    "### CH4 Calculations"
   ]
  },
  {
   "cell_type": "code",
   "execution_count": 66,
   "metadata": {},
   "outputs": [],
   "source": [
    "df_f1 = df_f.copy()"
   ]
  },
  {
   "cell_type": "code",
   "execution_count": 67,
   "metadata": {},
   "outputs": [],
   "source": [
    "bod = 18.25\n",
    "i = 1.25\n",
    "df_f1['TOW'] = df_f1['total_resident_population'].apply(lambda P: TOW(P, bod, i))"
   ]
  },
  {
   "cell_type": "code",
   "execution_count": 68,
   "metadata": {},
   "outputs": [],
   "source": [
    "bo = 0.6\n",
    "mcfj = 0.3\n",
    "df_f1['emissionfactor_value'] = EFj(bo, mcfj)\n",
    "df_f1['emissionfactor_units'] = 'kg/kg BOD'"
   ]
  },
  {
   "cell_type": "code",
   "execution_count": 69,
   "metadata": {},
   "outputs": [],
   "source": [
    "# valid only for sewer systems\n",
    "income_group_dic = {\n",
    "    'rural': {\n",
    "        'Ui': 0.16,\n",
    "        'Tij': 0.10\n",
    "    },\n",
    "    'urban_high_income': {\n",
    "        'Ui': 0.25,\n",
    "        'Tij': 0.80\n",
    "    },\n",
    "    'urban_low_income': {\n",
    "        'Ui': 0.59,\n",
    "        'Tij': 0.40\n",
    "    }\n",
    "}"
   ]
  },
  {
   "cell_type": "code",
   "execution_count": 70,
   "metadata": {},
   "outputs": [],
   "source": [
    "# List of income group keys\n",
    "income_groups = ['rural', 'urban_high_income', 'urban_low_income']"
   ]
  },
  {
   "cell_type": "code",
   "execution_count": 71,
   "metadata": {},
   "outputs": [],
   "source": [
    "# Calculate population for each income group\n",
    "for group in income_groups:\n",
    "    df_f1[f'{group}'] = income_group_dic[group]['Ui']"
   ]
  },
  {
   "cell_type": "code",
   "execution_count": 72,
   "metadata": {},
   "outputs": [],
   "source": [
    "# reformat of the DataFrame\n",
    "df_f1 = df_f1.melt(\n",
    "    id_vars=['municipal_code', 'municipality_name', 'UF', 'total_resident_population', 'collected', 'treated', 'imported', \n",
    "             'exported', 'TOW', 'emissionfactor_value', 'emissionfactor_units'], \n",
    "    value_vars=['rural', 'urban_high_income', 'urban_low_income'], \n",
    "    var_name='income_group', \n",
    "    value_name='Ui')"
   ]
  },
  {
   "cell_type": "code",
   "execution_count": 73,
   "metadata": {},
   "outputs": [],
   "source": [
    "df_f1['Tij'] = df_f1['income_group'].apply(lambda group: income_group_dic[group]['Tij'])"
   ]
  },
  {
   "cell_type": "code",
   "execution_count": 74,
   "metadata": {},
   "outputs": [],
   "source": [
    "# Assumptions\n",
    "S = 0\n",
    "R = 0\n",
    "\n",
    "# Calculate CH4 emissions\n",
    "df_f1['emissions_value_tmp'] = df_f1.apply(\n",
    "    lambda row: CH4_emissions(row['Ui'], row['Tij'], row['emissionfactor_value'], row['TOW'], S, R), axis=1\n",
    ")"
   ]
  },
  {
   "cell_type": "code",
   "execution_count": 75,
   "metadata": {},
   "outputs": [
    {
     "data": {
      "text/plain": [
       "Index(['municipal_code', 'municipality_name', 'UF',\n",
       "       'total_resident_population', 'collected', 'treated', 'imported',\n",
       "       'exported', 'TOW', 'emissionfactor_value', 'emissionfactor_units',\n",
       "       'income_group', 'Ui', 'Tij', 'emissions_value_tmp'],\n",
       "      dtype='object')"
      ]
     },
     "execution_count": 75,
     "metadata": {},
     "output_type": "execute_result"
    }
   ],
   "source": [
    "df_f1.columns"
   ]
  },
  {
   "cell_type": "code",
   "execution_count": 76,
   "metadata": {},
   "outputs": [],
   "source": [
    "df_f1 = df_f1.groupby(['municipal_code', 'municipality_name', 'UF', 'total_resident_population', 'collected', 'treated', 'imported', 'exported', 'TOW', 'emissionfactor_value', 'emissionfactor_units'], \n",
    "              as_index=False)[['emissions_value_tmp']].sum()"
   ]
  },
  {
   "cell_type": "code",
   "execution_count": 77,
   "metadata": {},
   "outputs": [],
   "source": [
    "# create a column to store the metadata\n",
    "df_f1[\"metadata\"] = df_f1.apply(\n",
    "    lambda row: {\n",
    "        \"activity_subcategory_type2\": 'treatment_type',\n",
    "        \"activity_subcategory_typename2\": 'sewer',\n",
    "        \"activity_subcategory_type3\": 'TOW',\n",
    "        \"activity_subcategory_typename3\": row['TOW']\n",
    "    },\n",
    "    axis=1,\n",
    ")"
   ]
  },
  {
   "cell_type": "code",
   "execution_count": 78,
   "metadata": {},
   "outputs": [],
   "source": [
    "df_f1.drop(columns=['TOW'], inplace=True)"
   ]
  },
  {
   "cell_type": "code",
   "execution_count": 79,
   "metadata": {},
   "outputs": [],
   "source": [
    "df_f1['gas_name'] = 'CH4'"
   ]
  },
  {
   "cell_type": "markdown",
   "metadata": {},
   "source": [
    "### N2O calculations"
   ]
  },
  {
   "cell_type": "code",
   "execution_count": 80,
   "metadata": {},
   "outputs": [],
   "source": [
    "protein = 27.8     # [kg protein / person / yr]\n",
    "Fnpr = 0.16        # [kg N / kg protein]\n",
    "F_non_con = 1.4    # for countries with garbage disposals\n",
    "F_ind_com = 1.25   # centralized systems"
   ]
  },
  {
   "cell_type": "code",
   "execution_count": 81,
   "metadata": {},
   "outputs": [],
   "source": [
    "# emission factor calculation\n",
    "df_f['emissionfactor_value'] = EF_N2O(protein, Fnpr, F_non_con, F_ind_com)  \n",
    "\n",
    "# emissions value calculation by income group\n",
    "df_f['emissions_value_tmp'] = df_f['total_resident_population'] * df_f['emissionfactor_value'] * 0.01 * 44.28\n",
    "\n",
    "# assign the gas name and emission factor units\n",
    "df_f['gas_name'] = 'N2O'\n",
    "df_f['emissionfactor_units'] = 'kg/person'"
   ]
  },
  {
   "cell_type": "code",
   "execution_count": 82,
   "metadata": {},
   "outputs": [],
   "source": [
    "# create a column to store the metadata\n",
    "df_f[\"metadata\"] = df_f.apply(\n",
    "    lambda row: {\n",
    "        \"activity_subcategory_type2\": 'treatment_type',\n",
    "        \"activity_subcategory_typename2\": 'sewer'\n",
    "    },\n",
    "    axis=1,\n",
    ")"
   ]
  },
  {
   "cell_type": "code",
   "execution_count": 83,
   "metadata": {},
   "outputs": [],
   "source": [
    "df_f.drop(columns=['service_type', 'number_municipalities'], inplace=True)"
   ]
  },
  {
   "cell_type": "markdown",
   "metadata": {},
   "source": [
    "### Assigning scopes"
   ]
  },
  {
   "cell_type": "code",
   "execution_count": 84,
   "metadata": {},
   "outputs": [],
   "source": [
    "# final df\n",
    "df_final = pd.concat([df_f, df_f1], ignore_index=True)"
   ]
  },
  {
   "cell_type": "code",
   "execution_count": 85,
   "metadata": {},
   "outputs": [],
   "source": [
    "# calculate the fraction of each scope\n",
    "df_final['fraction_scope1'] = (df_final['collected']-df_final['exported']-df_final['imported'])/df_final['collected']\n",
    "df_final['fraction_scope3'] = df_final['exported']/df_final['collected']"
   ]
  },
  {
   "cell_type": "code",
   "execution_count": 86,
   "metadata": {},
   "outputs": [],
   "source": [
    "# calculate the emissions for each scope\n",
    "df_final['III.4.1'] = df_final['emissions_value_tmp']*df_final['fraction_scope1']\n",
    "df_final['III.4.2'] = df_final['emissions_value_tmp']*df_final['fraction_scope3']"
   ]
  },
  {
   "cell_type": "code",
   "execution_count": 87,
   "metadata": {},
   "outputs": [
    {
     "data": {
      "text/plain": [
       "Index(['municipal_code', 'municipality_name', 'UF',\n",
       "       'total_resident_population', 'collected', 'treated', 'imported',\n",
       "       'exported', 'emissionfactor_value', 'emissions_value_tmp', 'gas_name',\n",
       "       'emissionfactor_units', 'metadata', 'fraction_scope1',\n",
       "       'fraction_scope3', 'III.4.1', 'III.4.2'],\n",
       "      dtype='object')"
      ]
     },
     "execution_count": 87,
     "metadata": {},
     "output_type": "execute_result"
    }
   ],
   "source": [
    "df_final.columns"
   ]
  },
  {
   "cell_type": "code",
   "execution_count": 88,
   "metadata": {},
   "outputs": [],
   "source": [
    "# reformating the DataFrame\n",
    "df_final = df_final.melt(\n",
    "    id_vars=['municipal_code', 'municipality_name', 'UF', 'total_resident_population', 'emissionfactor_value', 'gas_name', 'emissionfactor_units', \n",
    "             'metadata'], \n",
    "    value_vars=['III.4.1', 'III.4.2'], \n",
    "    var_name='GPC_refno', \n",
    "    value_name='emissions_value')"
   ]
  },
  {
   "cell_type": "code",
   "execution_count": 89,
   "metadata": {},
   "outputs": [],
   "source": [
    "# emissions units\n",
    "df_final['emissions_units'] = 'kg'\n",
    "\n",
    "# drop the rows with zero emissions\n",
    "df_final = df_final[df_final['emissions_value'] != 0]\n",
    "\n",
    "# drop the rows with NaN values\n",
    "df_final.dropna(subset=['emissions_value'], inplace=True)"
   ]
  },
  {
   "cell_type": "code",
   "execution_count": 90,
   "metadata": {},
   "outputs": [],
   "source": [
    "# rename the population column by income group as the activity value\n",
    "df_final.rename(columns={'population_by_income_group': 'activity_value', 'municipality_name': 'actor_name'}, inplace=True)"
   ]
  },
  {
   "cell_type": "code",
   "execution_count": 91,
   "metadata": {},
   "outputs": [],
   "source": [
    "# assign the activity units\n",
    "df_final['activity_units'] = 'person'\n",
    "df_final['activity_name'] = 'treatment-type-centralized-aerobic-treatment-plan-well-managed'"
   ]
  },
  {
   "cell_type": "code",
   "execution_count": 92,
   "metadata": {},
   "outputs": [],
   "source": [
    "df_final.to_csv('emissions_waste.csv', index=False)"
   ]
  }
 ],
 "metadata": {
  "kernelspec": {
   "display_name": "Python 3",
   "language": "python",
   "name": "python3"
  },
  "language_info": {
   "codemirror_mode": {
    "name": "ipython",
    "version": 3
   },
   "file_extension": ".py",
   "mimetype": "text/x-python",
   "name": "python",
   "nbconvert_exporter": "python",
   "pygments_lexer": "ipython3",
   "version": "3.11.9"
  }
 },
 "nbformat": 4,
 "nbformat_minor": 2
}
