{
 "cells": [
  {
   "cell_type": "code",
   "execution_count": 1,
   "metadata": {},
   "outputs": [],
   "source": [
    "import pandas as pd\n",
    "import numpy as np\n",
    "import glob\n",
    "import os"
   ]
  },
  {
   "cell_type": "code",
   "execution_count": 2,
   "metadata": {},
   "outputs": [],
   "source": [
    "paths = glob.glob(f'./Plan*L*.xls')\n",
    "\n",
    "df1 = pd.DataFrame()\n",
    "\n",
    "for path in paths:\n",
    "    tmp = pd.read_excel(path, skiprows=11)\n",
    "\n",
    "    tmp.rename(columns={'-': 'municipal_code', \n",
    "                    '-.1': 'municipality_name', \n",
    "                    '-.2': 'UF', \n",
    "                    '-.3': 'code1', \n",
    "                    '-.4': 'code2', \n",
    "                    '-.5': 'provedor_name', \n",
    "                    '-.6': 'sigla', \n",
    "                    '-.7': 'scope', \n",
    "                    '-.8': 'jur_nature', \n",
    "                    '-.9': 'service_type'}, inplace=True)\n",
    "\n",
    "    # filter by the intereted columns\n",
    "    #tmp = tmp[['municipality_name', 'service_type','GE12b' ,'GE005', 'ES005', 'ES006', 'ES014', 'ES015']]\n",
    "\n",
    "    df1 = pd.concat([df1, tmp], ignore_index=True)"
   ]
  },
  {
   "cell_type": "code",
   "execution_count": 3,
   "metadata": {},
   "outputs": [],
   "source": [
    "folder_path = './others/'\n",
    "\n",
    "dataframes = []\n",
    "\n",
    "for file in os.listdir(folder_path):\n",
    "    if file.endswith('.xls'):  \n",
    "        file_path = os.path.join(folder_path, file)\n",
    "\n",
    "        df = pd.read_excel(file_path, skiprows=11)\n",
    "\n",
    "        df.rename(columns={'-': 'municipal_code', \n",
    "                     '-.1': 'municipality_name', \n",
    "                     '-.2': 'UF', \n",
    "                     '-.3': 'code1', \n",
    "                     '-.4': 'code2', \n",
    "                     '-.5': 'provedor_name', \n",
    "                     '-.6': 'sigla', \n",
    "                     '-.7': 'scope', \n",
    "                     '-.8': 'jur_nature', \n",
    "                     '-.9': 'service_type'}, inplace=True)\n",
    "        \n",
    "        stop_index = df[df['municipal_code'] == 'TOTALIZAÇÃO DAS INFORMAÇÕES DESAGREGADAS (Desagre):  '].index.to_list()[0]\n",
    "\n",
    "        if not pd.isna(stop_index):\n",
    "            df = df.iloc[:stop_index]\n",
    "        \n",
    "        dataframes.append(df)\n",
    "\n",
    "# Combine all processed DataFrames into one\n",
    "df2 = pd.concat(dataframes, ignore_index=True)\n",
    "\n",
    "# filter by the intereted columns\n",
    "#df2 = df2[['municipality_name', 'service_type', 'GE12b', 'GE005', 'ES005', 'ES006', 'ES014', 'ES015']]"
   ]
  },
  {
   "cell_type": "code",
   "execution_count": 4,
   "metadata": {},
   "outputs": [],
   "source": [
    "# concatenate the two DataFrames\n",
    "df_f = pd.concat([df1, df2], ignore_index=True)"
   ]
  },
  {
   "cell_type": "code",
   "execution_count": 5,
   "metadata": {},
   "outputs": [],
   "source": [
    "df_f.to_csv('wastewater_raw.csv', index=False)"
   ]
  },
  {
   "cell_type": "code",
   "execution_count": 6,
   "metadata": {},
   "outputs": [],
   "source": [
    "# filter by the intereted columns\n",
    "df_f = df_f[['municipality_name', 'service_type', 'GE12b', 'GE005', 'ES005', 'ES006', 'ES014', 'ES015']]"
   ]
  },
  {
   "cell_type": "code",
   "execution_count": 8,
   "metadata": {},
   "outputs": [],
   "source": [
    "column_names = ['municipality_name', 'service_type', 'total_resident_population','number_municipalities', 'collected', 'treated', 'imported', 'exported']\n",
    "df_f.columns = column_names"
   ]
  },
  {
   "cell_type": "code",
   "execution_count": 9,
   "metadata": {},
   "outputs": [],
   "source": [
    "# Select only the rows related to the sewer system information and one mucipality atended by the service\n",
    "df_f = df_f[~df_f['service_type'].isin(['Água']) & (df_f['number_municipalities'] == 1)]"
   ]
  },
  {
   "cell_type": "markdown",
   "metadata": {},
   "source": [
    "### Formulas"
   ]
  },
  {
   "cell_type": "code",
   "execution_count": 7,
   "metadata": {},
   "outputs": [],
   "source": [
    "def TOW(P, BOD, I):\n",
    "    \"\"\"\n",
    "    Units required:\n",
    "    - P: cap\n",
    "    - BOD: kg BOD / cap / yr\n",
    "    - I: unitless\n",
    "\n",
    "    example: TOW(520600, 18.25, 1.25)\n",
    "    \"\"\"\n",
    "    return P*BOD*I"
   ]
  },
  {
   "cell_type": "code",
   "execution_count": 8,
   "metadata": {},
   "outputs": [],
   "source": [
    "def EFj(Bo, MCFj):\n",
    "    \"\"\"\n",
    "    Units required:\n",
    "    - Bo: kg CH4 / kg BOD\n",
    "    - MCFj: unitless\n",
    "\n",
    "    example: EFj(0.6, 0.3)\n",
    "    \"\"\"\n",
    "    return Bo*MCFj"
   ]
  },
  {
   "cell_type": "code",
   "execution_count": 9,
   "metadata": {},
   "outputs": [],
   "source": [
    "def CH4_emissions(income_group_dic, EF_dic, df, TOW_column, S, R):\n",
    "    \"\"\"\n",
    "    Calculate the formula for each row in a DataFrame where TOW is a column.\n",
    "\n",
    "    Formula:\n",
    "    (summatory(i,j)(Ui * Ti,j * EFj)) * (TOW - S) - R\n",
    "\n",
    "    Parameters:\n",
    "    income_group_dic (dict): Nested dictionary containing U*T values as percentages.\n",
    "    EF_dic (dict): Dictionary of EF_j values for each treatment type.\n",
    "    df (pd.DataFrame): DataFrame containing TOW values.\n",
    "    TOW_column (str): Name of the column in the DataFrame for TOW values.\n",
    "    S (float): Scalar value S.\n",
    "    R (float): Scalar value R.\n",
    "\n",
    "    Returns:\n",
    "    pd.Series: A Series with the calculated results for each row.\n",
    "    \"\"\"\n",
    "    total_sum = 0\n",
    "\n",
    "    # Calculate the summation part of the formula\n",
    "    for data in income_group_dic.values():\n",
    "        for treatment_type, UT_percent in data['U*T'].items():\n",
    "            UT_fraction = UT_percent / 100  # Convert percentage to fraction\n",
    "            EF_j = EF_dic.get(treatment_type, 0)  # Get EF value for treatment type\n",
    "            total_sum += UT_fraction * EF_j\n",
    "\n",
    "    df['emissionfactor_value'] = total_sum\n",
    "\n",
    "    # Apply the formula for each row\n",
    "    results = (df['emissionfactor_value'] * (df[TOW_column] - S)) - R\n",
    "    return results"
   ]
  },
  {
   "cell_type": "code",
   "execution_count": 10,
   "metadata": {},
   "outputs": [],
   "source": [
    "def N_effluent(population, protein, Fnpr, F_non_con, F_ind_com):\n",
    "    \"\"\"\n",
    "    Total annual amount of nitrogen in the wastewater effluent, kg N/yr \n",
    "    Source: IPCC 2006\n",
    "    units requered:\n",
    "        - population: [person]\n",
    "        - protein: [kg protein / person / yr]\n",
    "        - Fnpr: [kg N / kg protein]\n",
    "        - F_non_con: unitless\n",
    "        - F_ind_com: unitless\n",
    "    \"\"\"\n",
    "    return population*protein*Fnpr*F_non_con*F_ind_com"
   ]
  },
  {
   "cell_type": "code",
   "execution_count": 11,
   "metadata": {},
   "outputs": [],
   "source": [
    "income_group_dic = {\n",
    "    'high': {\n",
    "        'U*T': {\n",
    "            'None': 0,\n",
    "            'Sewer': 20,\n",
    "            'Septic tank': 0,\n",
    "            'Latrine': 5,\n",
    "            'Other': 0\n",
    "        }\n",
    "    },\n",
    "    'low': {\n",
    "        'U*T': {\n",
    "            'None': 11.8,\n",
    "            'Sewer': 23.6,\n",
    "            'Septic tank': 0,\n",
    "            'Latrine': 23.6,\n",
    "            'Other': 0\n",
    "        }\n",
    "    },\n",
    "    'rural': {\n",
    "        'U*T': {\n",
    "            'None': 7,\n",
    "            'Sewer': 2,\n",
    "            'Septic tank': 0,\n",
    "            'Latrine': 7,\n",
    "            'Other': 0\n",
    "        }\n",
    "    }\n",
    "}"
   ]
  },
  {
   "cell_type": "code",
   "execution_count": 12,
   "metadata": {},
   "outputs": [],
   "source": [
    "EF_dic = {\n",
    "    'None': 0.057,\n",
    "    'Sewer': 0.0756,\n",
    "    'Septic tank': 0,\n",
    "    'Latrine': 0.15,\n",
    "    'Other': 0\n",
    "}"
   ]
  },
  {
   "cell_type": "markdown",
   "metadata": {},
   "source": [
    "### CH4 Calculations"
   ]
  },
  {
   "cell_type": "code",
   "execution_count": 13,
   "metadata": {},
   "outputs": [],
   "source": [
    "df_f1 = df_f.copy()"
   ]
  },
  {
   "cell_type": "code",
   "execution_count": 14,
   "metadata": {},
   "outputs": [],
   "source": [
    "bod = 18.25\n",
    "i = 1.25\n",
    "df_f1['TOW'] = df_f1['total_resident_population'].apply(lambda P: TOW(P, bod, i))"
   ]
  },
  {
   "cell_type": "code",
   "execution_count": 15,
   "metadata": {},
   "outputs": [],
   "source": [
    "# Constants\n",
    "S = 0  \n",
    "R = 0\n",
    "TOW_column = 'TOW'\n",
    "\n",
    "# Calculate the results for each row in the DataFrame\n",
    "df_f1['emissions_value_tmp'] = CH4_emissions(income_group_dic, EF_dic, df_f1, TOW_column, S, R)"
   ]
  },
  {
   "cell_type": "code",
   "execution_count": 16,
   "metadata": {},
   "outputs": [],
   "source": [
    "# create a column to store the metadata\n",
    "df_f1[\"metadata\"] = df_f1.apply(\n",
    "    lambda row: {\n",
    "        \"activity_subcategory_type1\": 'treatment_type',\n",
    "        \"activity_subcategory_typename1\": 'all',\n",
    "        \"activity_subcategory_type2\": 'TOW',\n",
    "        \"activity_subcategory_typename2\": row['TOW']\n",
    "    },\n",
    "    axis=1,\n",
    ")"
   ]
  },
  {
   "cell_type": "code",
   "execution_count": 17,
   "metadata": {},
   "outputs": [],
   "source": [
    "df_f1.drop(columns=['TOW', 'service_type', 'number_municipalities'], inplace=True)"
   ]
  },
  {
   "cell_type": "code",
   "execution_count": 18,
   "metadata": {},
   "outputs": [],
   "source": [
    "df_f1['gas_name'] = 'CH4'"
   ]
  },
  {
   "cell_type": "code",
   "execution_count": 19,
   "metadata": {},
   "outputs": [],
   "source": [
    "df_f1['emissionfactor_units'] = 'kg / kg BOD'"
   ]
  },
  {
   "cell_type": "markdown",
   "metadata": {},
   "source": [
    "### N2O calculations"
   ]
  },
  {
   "cell_type": "code",
   "execution_count": 20,
   "metadata": {},
   "outputs": [],
   "source": [
    "protein = 33.58     # [kg protein / person / yr]\n",
    "Fnpr = 0.16        # [kg N / kg protein]\n",
    "F_non_con = 1.4    # for countries with garbage disposals\n",
    "F_ind_com = 1.25   # centralized systems"
   ]
  },
  {
   "cell_type": "code",
   "execution_count": 21,
   "metadata": {},
   "outputs": [],
   "source": [
    "# Calculate N2O emissions\n",
    "df_f['N_effluent'] = df_f['total_resident_population'].apply(\n",
    "    lambda P: N_effluent(P, protein, Fnpr, F_non_con, F_ind_com), axis=1\n",
    "    )"
   ]
  },
  {
   "cell_type": "code",
   "execution_count": 22,
   "metadata": {},
   "outputs": [],
   "source": [
    "df_f['emissionfactor_value'] = 0.005\n",
    "df_f['emissionfactor_units'] = 'kg N2O-N / kg N'"
   ]
  },
  {
   "cell_type": "code",
   "execution_count": 23,
   "metadata": {},
   "outputs": [],
   "source": [
    "# emissions value calculation\n",
    "df_f['emissions_value_tmp'] = df_f['N_effluent'] * (df_f['emissionfactor_value'] * 44/28)"
   ]
  },
  {
   "cell_type": "code",
   "execution_count": 24,
   "metadata": {},
   "outputs": [],
   "source": [
    "# assign the gas name and emission factor units\n",
    "df_f['gas_name'] = 'N2O'"
   ]
  },
  {
   "cell_type": "code",
   "execution_count": 25,
   "metadata": {},
   "outputs": [],
   "source": [
    "# create a column to store the metadata\n",
    "df_f[\"metadata\"] = df_f.apply(\n",
    "    lambda row: {\n",
    "        \"activity_subcategory_type1\": 'treatment_type',\n",
    "        \"activity_subcategory_typename1\": 'all',\n",
    "        \"activity_subcategory_type2\": 'N_effluent',\n",
    "        \"activity_subcategory_typename2\": row['N_effluent'],\n",
    "    },\n",
    "    axis=1,\n",
    ")"
   ]
  },
  {
   "cell_type": "code",
   "execution_count": 26,
   "metadata": {},
   "outputs": [],
   "source": [
    "df_f.drop(columns=['N_effluent', 'service_type', 'number_municipalities'], inplace=True)"
   ]
  },
  {
   "cell_type": "markdown",
   "metadata": {},
   "source": [
    "### Assigning scopes"
   ]
  },
  {
   "cell_type": "code",
   "execution_count": 27,
   "metadata": {},
   "outputs": [],
   "source": [
    "# final df\n",
    "df_final = pd.concat([df_f, df_f1], ignore_index=True)"
   ]
  },
  {
   "cell_type": "code",
   "execution_count": 28,
   "metadata": {},
   "outputs": [],
   "source": [
    "# calculate the fraction of each scope\n",
    "df_final['fraction_scope1'] = (df_final['collected']-df_final['exported']-df_final['imported'])/df_final['collected']\n",
    "df_final['fraction_scope3'] = df_final['exported']/df_final['collected']"
   ]
  },
  {
   "cell_type": "code",
   "execution_count": 29,
   "metadata": {},
   "outputs": [],
   "source": [
    "# calculate the emissions for each scope\n",
    "df_final['III.4.1'] = df_final['emissions_value_tmp']*df_final['fraction_scope1']\n",
    "df_final['III.4.2'] = df_final['emissions_value_tmp']*df_final['fraction_scope3']"
   ]
  },
  {
   "cell_type": "code",
   "execution_count": 30,
   "metadata": {},
   "outputs": [],
   "source": [
    "# reformating the DataFrame\n",
    "df_final = df_final.melt(\n",
    "    id_vars=['municipality_name', 'total_resident_population', 'emissionfactor_value', 'gas_name', 'emissionfactor_units', \n",
    "             'metadata'], \n",
    "    value_vars=['III.4.1', 'III.4.2'], \n",
    "    var_name='GPC_refno', \n",
    "    value_name='emissions_value')"
   ]
  },
  {
   "cell_type": "code",
   "execution_count": 31,
   "metadata": {},
   "outputs": [],
   "source": [
    "# emissions units\n",
    "df_final['emissions_units'] = 'kg'\n",
    "\n",
    "# drop the rows with zero emissions\n",
    "df_final = df_final[df_final['emissions_value'] != 0]\n",
    "\n",
    "# drop the rows with NaN values\n",
    "df_final.dropna(subset=['emissions_value'], inplace=True)"
   ]
  },
  {
   "cell_type": "code",
   "execution_count": 32,
   "metadata": {},
   "outputs": [],
   "source": [
    "# rename the population column by income group as the activity value\n",
    "df_final.rename(columns={'total_resident_population': 'activity_value', 'municipality_name': 'actor_name'}, inplace=True)"
   ]
  },
  {
   "cell_type": "code",
   "execution_count": 33,
   "metadata": {},
   "outputs": [],
   "source": [
    "# assign the activity units\n",
    "df_final['activity_units'] = 'person'\n",
    "df_final['activity_name'] = 'treatment-type-centralized-aerobic-treatment-plan-well-managed'"
   ]
  },
  {
   "cell_type": "code",
   "execution_count": 34,
   "metadata": {},
   "outputs": [],
   "source": [
    "df_final.to_csv('emissions_waste.csv', index=False)"
   ]
  }
 ],
 "metadata": {
  "kernelspec": {
   "display_name": "Python 3",
   "language": "python",
   "name": "python3"
  },
  "language_info": {
   "codemirror_mode": {
    "name": "ipython",
    "version": 3
   },
   "file_extension": ".py",
   "mimetype": "text/x-python",
   "name": "python",
   "nbconvert_exporter": "python",
   "pygments_lexer": "ipython3",
   "version": "3.11.9"
  }
 },
 "nbformat": 4,
 "nbformat_minor": 2
}
