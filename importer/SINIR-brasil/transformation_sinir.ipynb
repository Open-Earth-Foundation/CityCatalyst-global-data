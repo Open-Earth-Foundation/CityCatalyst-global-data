{
 "cells": [
  {
   "cell_type": "code",
   "execution_count": 1,
   "metadata": {},
   "outputs": [],
   "source": [
    "import pandas as pd\n",
    "import numpy as np"
   ]
  },
  {
   "cell_type": "code",
   "execution_count": 2,
   "metadata": {},
   "outputs": [],
   "source": [
    "def ef_ch4_methane_commitment(DOC, f_rec, management_level):\n",
    "    \"\"\"\n",
    "    CH4 emission factor formula for methane commitment methodology, based on DOC, f_rec and management level.\n",
    "    Source: IPCC 2006\n",
    "    \"\"\"\n",
    "\n",
    "    MCF_dic = {\n",
    "    'managed': 1,\n",
    "    'unmanaged': 0.8,\n",
    "    'uncategorized': 0.6\n",
    "    }\n",
    "\n",
    "    OX_dic = {\n",
    "    'managed': 0.1,\n",
    "    'unmanaged': 0,\n",
    "    'uncategorized': 0\n",
    "    }\n",
    "\n",
    "    mcf = MCF_dic.get(management_level)\n",
    "    ox = OX_dic.get(management_level)\n",
    "\n",
    "    Lo = mcf*DOC*0.6*0.5*16/12\n",
    "\n",
    "    return Lo*(1-f_rec)*(1-ox)"
   ]
  },
  {
   "cell_type": "code",
   "execution_count": 3,
   "metadata": {},
   "outputs": [],
   "source": [
    "treatment_types_translations = {\n",
    "    'Unidade de triagem (galpão ou usina)': 'sorting unit',\n",
    "    'Lixão': 'open dump',\n",
    "    'Aterro controlado': 'controlled landfill',\n",
    "    'Unidade de compostagem (pátio ou usina)': 'composting unit',\n",
    "    'Aterro sanitário': 'controlled landfill',\n",
    "    'Unidade de transbordo': 'transfer unit',\n",
    "    'Unid. tratamento por microondas ou autoclave': 'autoclave treatment unit',\n",
    "    'Área de transb e triagem de RCC e volumosos (=ATT)': 'sorting unit',\n",
    "    'Área de reciclagem de RCC (=un reciclagem entulho)': 'waste recycling area',\n",
    "    'Unidade de manejo de galhadas e podas': 'pruning management unit',\n",
    "    'Aterro de Resíduos da Construção Civil (=inertes)': 'construction waste landfill',\n",
    "    'Vala especifica de RSS': 'clinical waste trench',\n",
    "    'Outra': 'other',\n",
    "    'Unidade de tratamento por incineração': 'incineration',\n",
    "    'Coprocessamento': 'other',\n",
    "    'Área em recuperação': 'other'\n",
    "}"
   ]
  },
  {
   "cell_type": "code",
   "execution_count": 4,
   "metadata": {},
   "outputs": [],
   "source": [
    "file_path = './Planilha_Unidades_Fluxos_RS_2022.xlsx'"
   ]
  },
  {
   "cell_type": "code",
   "execution_count": 5,
   "metadata": {},
   "outputs": [],
   "source": [
    "df = pd.read_excel(file_path)"
   ]
  },
  {
   "cell_type": "code",
   "execution_count": 6,
   "metadata": {},
   "outputs": [],
   "source": [
    "# list with the correct columns names\n",
    "col_names = ['municipality_code', 'IBGE_code', 'municipality_where_the_Unit_is', 'UF', 'region_name', 'region_code', 'id_population', 'year', \n",
    "             'unit_code', 'unit_name', 'unit_type', 'municipality_sending', 'total_SW', 'dom_plus_pub', 'clinical', 'construction', 'pruning', 'others'] \n",
    "\n",
    "# assign the correct columns names\n",
    "df.columns = col_names\n",
    "\n",
    "# drop the first 11 rows\n",
    "df = df[11:]\n",
    "\n",
    "# drop unnecessary columns\n",
    "df = df.drop(columns=['municipality_code', 'IBGE_code','region_name', 'region_code', 'id_population', 'unit_code', 'unit_name', 'UF', 'dom_plus_pub', 'clinical', 'construction', 'pruning', 'others'])"
   ]
  },
  {
   "cell_type": "code",
   "execution_count": 7,
   "metadata": {},
   "outputs": [],
   "source": [
    "# extraction of the name of the actor, which in this case is the municipality that is sending the waste to the unit (treatment side)\n",
    "df['actor_name'] = df['municipality_sending'].str.split('/').str[0]"
   ]
  },
  {
   "cell_type": "code",
   "execution_count": 8,
   "metadata": {},
   "outputs": [],
   "source": [
    "# check if the municipality where the unit is located is the same as the actor name\n",
    "df['columns_match'] = df['municipality_where_the_Unit_is'] == df['actor_name']"
   ]
  },
  {
   "cell_type": "code",
   "execution_count": 9,
   "metadata": {},
   "outputs": [],
   "source": [
    "# apply the translation to the treatment type\n",
    "df['treatment_type'] = df['unit_type'].map(treatment_types_translations)"
   ]
  },
  {
   "cell_type": "markdown",
   "metadata": {},
   "source": [
    "### Solid waste"
   ]
  },
  {
   "cell_type": "markdown",
   "metadata": {},
   "source": [
    "emissions_CH4 = MSW * Lo * (1-f_rec) * (1-OX)\n",
    "\n",
    "Lo = MCF * DOC * 0.6 * 0.5 * 16/12"
   ]
  },
  {
   "cell_type": "code",
   "execution_count": 10,
   "metadata": {},
   "outputs": [],
   "source": [
    "# filter the df only for the treatment types that are valid for soil waste disposal\n",
    "df_sw = df[df['treatment_type'].isin(['open dump', 'controlled landfill'])]"
   ]
  },
  {
   "cell_type": "code",
   "execution_count": 11,
   "metadata": {},
   "outputs": [
    {
     "name": "stderr",
     "output_type": "stream",
     "text": [
      "/var/folders/v8/b0fnjf9d4q31sfz_8q4h4zxm0000gn/T/ipykernel_44009/3324907027.py:3: SettingWithCopyWarning: \n",
      "A value is trying to be set on a copy of a slice from a DataFrame.\n",
      "Try using .loc[row_indexer,col_indexer] = value instead\n",
      "\n",
      "See the caveats in the documentation: https://pandas.pydata.org/pandas-docs/stable/user_guide/indexing.html#returning-a-view-versus-a-copy\n",
      "  df_sw['DOC'] = 120 ## (region = world)\n"
     ]
    }
   ],
   "source": [
    "## DOC = degradable organic carbon [source = IPCC 2006]\n",
    "## units = kg C / t waste\n",
    "df_sw['DOC'] = 120 ## (region = world)"
   ]
  },
  {
   "cell_type": "code",
   "execution_count": 12,
   "metadata": {},
   "outputs": [
    {
     "name": "stderr",
     "output_type": "stream",
     "text": [
      "/var/folders/v8/b0fnjf9d4q31sfz_8q4h4zxm0000gn/T/ipykernel_44009/2800668077.py:2: SettingWithCopyWarning: \n",
      "A value is trying to be set on a copy of a slice from a DataFrame.\n",
      "Try using .loc[row_indexer,col_indexer] = value instead\n",
      "\n",
      "See the caveats in the documentation: https://pandas.pydata.org/pandas-docs/stable/user_guide/indexing.html#returning-a-view-versus-a-copy\n",
      "  df_sw.loc[:,'management_level'] = np.where(df_sw['treatment_type'] == 'controlled landfill', 'managed', 'unmanaged')\n"
     ]
    }
   ],
   "source": [
    "# Assign the management level based on the treatment type (managed for controlled landfill and unmanaged for open dump)\n",
    "df_sw.loc[:,'management_level'] = np.where(df_sw['treatment_type'] == 'controlled landfill', 'managed', 'unmanaged')"
   ]
  },
  {
   "cell_type": "code",
   "execution_count": 13,
   "metadata": {},
   "outputs": [
    {
     "name": "stderr",
     "output_type": "stream",
     "text": [
      "/var/folders/v8/b0fnjf9d4q31sfz_8q4h4zxm0000gn/T/ipykernel_44009/961672982.py:2: SettingWithCopyWarning: \n",
      "A value is trying to be set on a copy of a slice from a DataFrame.\n",
      "Try using .loc[row_indexer,col_indexer] = value instead\n",
      "\n",
      "See the caveats in the documentation: https://pandas.pydata.org/pandas-docs/stable/user_guide/indexing.html#returning-a-view-versus-a-copy\n",
      "  df_sw.loc[:,'emissionfactor_value'] = df_sw.apply(lambda row: ef_ch4_methane_commitment(\n"
     ]
    }
   ],
   "source": [
    "# Apply the function to each row\n",
    "df_sw.loc[:,'emissionfactor_value'] = df_sw.apply(lambda row: ef_ch4_methane_commitment(\n",
    "    DOC=row['DOC'],\n",
    "    f_rec=0,  \n",
    "    management_level=row['management_level']\n",
    "), axis=1)"
   ]
  },
  {
   "cell_type": "code",
   "execution_count": 14,
   "metadata": {},
   "outputs": [
    {
     "name": "stderr",
     "output_type": "stream",
     "text": [
      "/var/folders/v8/b0fnjf9d4q31sfz_8q4h4zxm0000gn/T/ipykernel_44009/437350447.py:2: SettingWithCopyWarning: \n",
      "A value is trying to be set on a copy of a slice from a DataFrame.\n",
      "Try using .loc[row_indexer,col_indexer] = value instead\n",
      "\n",
      "See the caveats in the documentation: https://pandas.pydata.org/pandas-docs/stable/user_guide/indexing.html#returning-a-view-versus-a-copy\n",
      "  df_sw['emissionfactor_units'] = 'kg/t'\n"
     ]
    }
   ],
   "source": [
    "# assign the emission factor units\n",
    "df_sw['emissionfactor_units'] = 'kg/t'"
   ]
  },
  {
   "cell_type": "code",
   "execution_count": 15,
   "metadata": {},
   "outputs": [
    {
     "name": "stderr",
     "output_type": "stream",
     "text": [
      "/var/folders/v8/b0fnjf9d4q31sfz_8q4h4zxm0000gn/T/ipykernel_44009/3366374496.py:2: SettingWithCopyWarning: \n",
      "A value is trying to be set on a copy of a slice from a DataFrame.\n",
      "Try using .loc[row_indexer,col_indexer] = value instead\n",
      "\n",
      "See the caveats in the documentation: https://pandas.pydata.org/pandas-docs/stable/user_guide/indexing.html#returning-a-view-versus-a-copy\n",
      "  df_sw['emissions_value'] = df_sw['emissionfactor_value']*df_sw['total_SW']\n",
      "/var/folders/v8/b0fnjf9d4q31sfz_8q4h4zxm0000gn/T/ipykernel_44009/3366374496.py:5: SettingWithCopyWarning: \n",
      "A value is trying to be set on a copy of a slice from a DataFrame.\n",
      "Try using .loc[row_indexer,col_indexer] = value instead\n",
      "\n",
      "See the caveats in the documentation: https://pandas.pydata.org/pandas-docs/stable/user_guide/indexing.html#returning-a-view-versus-a-copy\n",
      "  df_sw['emissions_units'] = 'kg'\n",
      "/var/folders/v8/b0fnjf9d4q31sfz_8q4h4zxm0000gn/T/ipykernel_44009/3366374496.py:8: SettingWithCopyWarning: \n",
      "A value is trying to be set on a copy of a slice from a DataFrame.\n",
      "Try using .loc[row_indexer,col_indexer] = value instead\n",
      "\n",
      "See the caveats in the documentation: https://pandas.pydata.org/pandas-docs/stable/user_guide/indexing.html#returning-a-view-versus-a-copy\n",
      "  df_sw['gas_name'] = 'CH4'\n",
      "/var/folders/v8/b0fnjf9d4q31sfz_8q4h4zxm0000gn/T/ipykernel_44009/3366374496.py:9: SettingWithCopyWarning: \n",
      "A value is trying to be set on a copy of a slice from a DataFrame.\n",
      "Try using .loc[row_indexer,col_indexer] = value instead\n",
      "\n",
      "See the caveats in the documentation: https://pandas.pydata.org/pandas-docs/stable/user_guide/indexing.html#returning-a-view-versus-a-copy\n",
      "  df_sw['activity_name'] = 'solid waste disposal'\n"
     ]
    }
   ],
   "source": [
    "# calculate the emissions value\n",
    "df_sw['emissions_value'] = df_sw['emissionfactor_value']*df_sw['total_SW']\n",
    "\n",
    "# assign the emissions units\n",
    "df_sw['emissions_units'] = 'kg'\n",
    "\n",
    "# assign the gas name and the activity name\n",
    "df_sw['gas_name'] = 'CH4'\n",
    "df_sw['activity_name'] = 'solid waste disposal'"
   ]
  },
  {
   "cell_type": "code",
   "execution_count": 16,
   "metadata": {},
   "outputs": [
    {
     "name": "stderr",
     "output_type": "stream",
     "text": [
      "/var/folders/v8/b0fnjf9d4q31sfz_8q4h4zxm0000gn/T/ipykernel_44009/184503618.py:2: SettingWithCopyWarning: \n",
      "A value is trying to be set on a copy of a slice from a DataFrame.\n",
      "Try using .loc[row_indexer,col_indexer] = value instead\n",
      "\n",
      "See the caveats in the documentation: https://pandas.pydata.org/pandas-docs/stable/user_guide/indexing.html#returning-a-view-versus-a-copy\n",
      "  df_sw.loc[:, 'GPC_refno'] = np.where(df_sw.loc[:,'columns_match'] == True, 'III.1.1', 'III.1.2')\n"
     ]
    }
   ],
   "source": [
    "# assign the GPC reference number based on where the waste is treated\n",
    "df_sw.loc[:, 'GPC_refno'] = np.where(df_sw.loc[:,'columns_match'] == True, 'III.1.1', 'III.1.2')"
   ]
  },
  {
   "cell_type": "code",
   "execution_count": 17,
   "metadata": {},
   "outputs": [
    {
     "name": "stderr",
     "output_type": "stream",
     "text": [
      "/var/folders/v8/b0fnjf9d4q31sfz_8q4h4zxm0000gn/T/ipykernel_44009/1760938968.py:2: SettingWithCopyWarning: \n",
      "A value is trying to be set on a copy of a slice from a DataFrame.\n",
      "Try using .loc[row_indexer,col_indexer] = value instead\n",
      "\n",
      "See the caveats in the documentation: https://pandas.pydata.org/pandas-docs/stable/user_guide/indexing.html#returning-a-view-versus-a-copy\n",
      "  df_sw[\"metadata\"] = df_sw.apply(\n"
     ]
    }
   ],
   "source": [
    "# create the metadata column to store the subcategory information\n",
    "df_sw[\"metadata\"] = df_sw.apply(\n",
    "    lambda row: {\n",
    "        \"activity_subcategory_type1\": 'waste_type',\n",
    "        \"activity_subcategory_typename1\": 'municipal solid waste',\n",
    "        \"activity_subcategory_type2\": 'treatment_type',\n",
    "        \"activity_subcategory_typename2\": row['treatment_type'],\n",
    "        \"activity_subcategory_type3\": 'management_level',\n",
    "        \"activity_subcategory_typename3\": row['management_level'],\n",
    "        \"activity_subcategory_type4\": 'DOC',\n",
    "        \"activity_subcategory_typename4\": 150,\n",
    "        \"activity_subcategory_type5\": 'f_rec',\n",
    "        \"activity_subcategory_typename5\": 0\n",
    "    },\n",
    "    axis=1,\n",
    ")"
   ]
  },
  {
   "cell_type": "code",
   "execution_count": 18,
   "metadata": {},
   "outputs": [
    {
     "name": "stderr",
     "output_type": "stream",
     "text": [
      "/var/folders/v8/b0fnjf9d4q31sfz_8q4h4zxm0000gn/T/ipykernel_44009/3328994325.py:2: SettingWithCopyWarning: \n",
      "A value is trying to be set on a copy of a slice from a DataFrame\n",
      "\n",
      "See the caveats in the documentation: https://pandas.pydata.org/pandas-docs/stable/user_guide/indexing.html#returning-a-view-versus-a-copy\n",
      "  df_sw.drop(columns=['municipality_where_the_Unit_is', 'unit_type', 'municipality_sending', 'columns_match', 'treatment_type', 'DOC', 'management_level'], inplace=True)\n"
     ]
    }
   ],
   "source": [
    "# drop unnecessary columns\n",
    "df_sw.drop(columns=['municipality_where_the_Unit_is', 'unit_type', 'municipality_sending', 'columns_match', 'treatment_type', 'DOC', 'management_level'], inplace=True)"
   ]
  },
  {
   "cell_type": "markdown",
   "metadata": {},
   "source": [
    "### Clinical waste"
   ]
  },
  {
   "cell_type": "code",
   "execution_count": 19,
   "metadata": {},
   "outputs": [],
   "source": [
    "# filter the df only for the treatment types that are valid for clinical waste disposal\n",
    "df_clinical = df[df['treatment_type']=='clinical waste trench']"
   ]
  },
  {
   "cell_type": "code",
   "execution_count": 20,
   "metadata": {},
   "outputs": [
    {
     "name": "stderr",
     "output_type": "stream",
     "text": [
      "/var/folders/v8/b0fnjf9d4q31sfz_8q4h4zxm0000gn/T/ipykernel_44009/2430006278.py:4: SettingWithCopyWarning: \n",
      "A value is trying to be set on a copy of a slice from a DataFrame.\n",
      "Try using .loc[row_indexer,col_indexer] = value instead\n",
      "\n",
      "See the caveats in the documentation: https://pandas.pydata.org/pandas-docs/stable/user_guide/indexing.html#returning-a-view-versus-a-copy\n",
      "  df_clinical.loc[:,'DOC'] = 150\n"
     ]
    }
   ],
   "source": [
    "## DOC = degradable organic carbon [source = IPCC 2006]\n",
    "## units = kg C / t waste\n",
    "## (region = world)\n",
    "df_clinical.loc[:,'DOC'] = 150 "
   ]
  },
  {
   "cell_type": "code",
   "execution_count": 21,
   "metadata": {},
   "outputs": [
    {
     "name": "stderr",
     "output_type": "stream",
     "text": [
      "/var/folders/v8/b0fnjf9d4q31sfz_8q4h4zxm0000gn/T/ipykernel_44009/3775742977.py:2: SettingWithCopyWarning: \n",
      "A value is trying to be set on a copy of a slice from a DataFrame.\n",
      "Try using .loc[row_indexer,col_indexer] = value instead\n",
      "\n",
      "See the caveats in the documentation: https://pandas.pydata.org/pandas-docs/stable/user_guide/indexing.html#returning-a-view-versus-a-copy\n",
      "  df_clinical.loc[:,'management_level'] = 'managed'\n"
     ]
    }
   ],
   "source": [
    "# assign the management level\n",
    "df_clinical.loc[:,'management_level'] = 'managed'"
   ]
  },
  {
   "cell_type": "code",
   "execution_count": 22,
   "metadata": {},
   "outputs": [
    {
     "name": "stderr",
     "output_type": "stream",
     "text": [
      "/var/folders/v8/b0fnjf9d4q31sfz_8q4h4zxm0000gn/T/ipykernel_44009/3234791870.py:2: SettingWithCopyWarning: \n",
      "A value is trying to be set on a copy of a slice from a DataFrame.\n",
      "Try using .loc[row_indexer,col_indexer] = value instead\n",
      "\n",
      "See the caveats in the documentation: https://pandas.pydata.org/pandas-docs/stable/user_guide/indexing.html#returning-a-view-versus-a-copy\n",
      "  df_clinical.loc[:,'emissionfactor_value'] = df_clinical.apply(lambda row: ef_ch4_methane_commitment(\n"
     ]
    }
   ],
   "source": [
    "# Apply the function to each row\n",
    "df_clinical.loc[:,'emissionfactor_value'] = df_clinical.apply(lambda row: ef_ch4_methane_commitment(\n",
    "    DOC=row['DOC'],\n",
    "    f_rec=0,  # Applying f_rec = 0 for all rows\n",
    "    management_level=row['management_level']\n",
    "), axis=1)"
   ]
  },
  {
   "cell_type": "code",
   "execution_count": 23,
   "metadata": {},
   "outputs": [
    {
     "name": "stderr",
     "output_type": "stream",
     "text": [
      "/var/folders/v8/b0fnjf9d4q31sfz_8q4h4zxm0000gn/T/ipykernel_44009/4023452364.py:2: SettingWithCopyWarning: \n",
      "A value is trying to be set on a copy of a slice from a DataFrame.\n",
      "Try using .loc[row_indexer,col_indexer] = value instead\n",
      "\n",
      "See the caveats in the documentation: https://pandas.pydata.org/pandas-docs/stable/user_guide/indexing.html#returning-a-view-versus-a-copy\n",
      "  df_clinical['emissionfactor_units'] = 'kg/t'\n"
     ]
    }
   ],
   "source": [
    "# assign the emission factor units\n",
    "df_clinical['emissionfactor_units'] = 'kg/t'"
   ]
  },
  {
   "cell_type": "code",
   "execution_count": 24,
   "metadata": {},
   "outputs": [
    {
     "name": "stderr",
     "output_type": "stream",
     "text": [
      "/var/folders/v8/b0fnjf9d4q31sfz_8q4h4zxm0000gn/T/ipykernel_44009/4036043613.py:2: SettingWithCopyWarning: \n",
      "A value is trying to be set on a copy of a slice from a DataFrame.\n",
      "Try using .loc[row_indexer,col_indexer] = value instead\n",
      "\n",
      "See the caveats in the documentation: https://pandas.pydata.org/pandas-docs/stable/user_guide/indexing.html#returning-a-view-versus-a-copy\n",
      "  df_clinical['emissions_value'] = df_clinical['emissionfactor_value']*df_clinical['total_SW']\n",
      "/var/folders/v8/b0fnjf9d4q31sfz_8q4h4zxm0000gn/T/ipykernel_44009/4036043613.py:5: SettingWithCopyWarning: \n",
      "A value is trying to be set on a copy of a slice from a DataFrame.\n",
      "Try using .loc[row_indexer,col_indexer] = value instead\n",
      "\n",
      "See the caveats in the documentation: https://pandas.pydata.org/pandas-docs/stable/user_guide/indexing.html#returning-a-view-versus-a-copy\n",
      "  df_clinical['emissions_units'] = 'kg'\n",
      "/var/folders/v8/b0fnjf9d4q31sfz_8q4h4zxm0000gn/T/ipykernel_44009/4036043613.py:8: SettingWithCopyWarning: \n",
      "A value is trying to be set on a copy of a slice from a DataFrame.\n",
      "Try using .loc[row_indexer,col_indexer] = value instead\n",
      "\n",
      "See the caveats in the documentation: https://pandas.pydata.org/pandas-docs/stable/user_guide/indexing.html#returning-a-view-versus-a-copy\n",
      "  df_clinical['gas_name'] = 'CH4'\n",
      "/var/folders/v8/b0fnjf9d4q31sfz_8q4h4zxm0000gn/T/ipykernel_44009/4036043613.py:9: SettingWithCopyWarning: \n",
      "A value is trying to be set on a copy of a slice from a DataFrame.\n",
      "Try using .loc[row_indexer,col_indexer] = value instead\n",
      "\n",
      "See the caveats in the documentation: https://pandas.pydata.org/pandas-docs/stable/user_guide/indexing.html#returning-a-view-versus-a-copy\n",
      "  df_clinical['activity_name'] = 'clinical waste disposal'\n"
     ]
    }
   ],
   "source": [
    "# calculate the emissions value\n",
    "df_clinical['emissions_value'] = df_clinical['emissionfactor_value']*df_clinical['total_SW']\n",
    "\n",
    "# assign the emissions units\n",
    "df_clinical['emissions_units'] = 'kg'\n",
    "\n",
    "# assign the gas name and the activity name\n",
    "df_clinical['gas_name'] = 'CH4'\n",
    "df_clinical['activity_name'] = 'clinical waste disposal'"
   ]
  },
  {
   "cell_type": "code",
   "execution_count": 25,
   "metadata": {},
   "outputs": [
    {
     "name": "stderr",
     "output_type": "stream",
     "text": [
      "/var/folders/v8/b0fnjf9d4q31sfz_8q4h4zxm0000gn/T/ipykernel_44009/2770751269.py:2: SettingWithCopyWarning: \n",
      "A value is trying to be set on a copy of a slice from a DataFrame.\n",
      "Try using .loc[row_indexer,col_indexer] = value instead\n",
      "\n",
      "See the caveats in the documentation: https://pandas.pydata.org/pandas-docs/stable/user_guide/indexing.html#returning-a-view-versus-a-copy\n",
      "  df_clinical.loc[:, 'GPC_refno'] = np.where(df_clinical.loc[:,'columns_match'] == True, 'III.1.1', 'III.1.2')\n"
     ]
    }
   ],
   "source": [
    "# assign the GPC reference number based on where the waste is treated\n",
    "df_clinical.loc[:, 'GPC_refno'] = np.where(df_clinical.loc[:,'columns_match'] == True, 'III.1.1', 'III.1.2')"
   ]
  },
  {
   "cell_type": "code",
   "execution_count": 26,
   "metadata": {},
   "outputs": [
    {
     "name": "stderr",
     "output_type": "stream",
     "text": [
      "/var/folders/v8/b0fnjf9d4q31sfz_8q4h4zxm0000gn/T/ipykernel_44009/2596184000.py:2: SettingWithCopyWarning: \n",
      "A value is trying to be set on a copy of a slice from a DataFrame.\n",
      "Try using .loc[row_indexer,col_indexer] = value instead\n",
      "\n",
      "See the caveats in the documentation: https://pandas.pydata.org/pandas-docs/stable/user_guide/indexing.html#returning-a-view-versus-a-copy\n",
      "  df_clinical[\"metadata\"] = df_clinical.apply(\n"
     ]
    }
   ],
   "source": [
    "# create the metadata column to store the subcategory information\n",
    "df_clinical[\"metadata\"] = df_clinical.apply(\n",
    "    lambda row: {\n",
    "        \"activity_subcategory_type1\": 'waste_type',\n",
    "        \"activity_subcategory_typename1\": 'clinical waste',\n",
    "        \"activity_subcategory_type2\": 'treatment_type',\n",
    "        \"activity_subcategory_typename2\": row['treatment_type'],\n",
    "        \"activity_subcategory_type3\": 'management_level',\n",
    "        \"activity_subcategory_typename3\": row['management_level'],\n",
    "        \"activity_subcategory_type4\": 'DOC',\n",
    "        \"activity_subcategory_typename4\": 150,\n",
    "        \"activity_subcategory_type5\": 'f_rec',\n",
    "        \"activity_subcategory_typename5\": 0\n",
    "    },\n",
    "    axis=1,\n",
    ")"
   ]
  },
  {
   "cell_type": "code",
   "execution_count": 27,
   "metadata": {},
   "outputs": [
    {
     "name": "stderr",
     "output_type": "stream",
     "text": [
      "/var/folders/v8/b0fnjf9d4q31sfz_8q4h4zxm0000gn/T/ipykernel_44009/3618846381.py:2: SettingWithCopyWarning: \n",
      "A value is trying to be set on a copy of a slice from a DataFrame\n",
      "\n",
      "See the caveats in the documentation: https://pandas.pydata.org/pandas-docs/stable/user_guide/indexing.html#returning-a-view-versus-a-copy\n",
      "  df_clinical.drop(columns=['municipality_where_the_Unit_is', 'unit_type', 'municipality_sending', 'columns_match', 'treatment_type', 'DOC', 'management_level'], inplace=True)\n"
     ]
    }
   ],
   "source": [
    "# drop unnecessary columns\n",
    "df_clinical.drop(columns=['municipality_where_the_Unit_is', 'unit_type', 'municipality_sending', 'columns_match', 'treatment_type', 'DOC', 'management_level'], inplace=True)"
   ]
  },
  {
   "cell_type": "markdown",
   "metadata": {},
   "source": [
    "### Incineration"
   ]
  },
  {
   "cell_type": "code",
   "execution_count": 28,
   "metadata": {},
   "outputs": [],
   "source": [
    "# filter the df only for the treatment types that are valid for incineration\n",
    "df_incineration = df[df['treatment_type']=='incineration']"
   ]
  },
  {
   "cell_type": "code",
   "execution_count": 29,
   "metadata": {},
   "outputs": [
    {
     "name": "stderr",
     "output_type": "stream",
     "text": [
      "/var/folders/v8/b0fnjf9d4q31sfz_8q4h4zxm0000gn/T/ipykernel_44009/2376625633.py:3: SettingWithCopyWarning: \n",
      "A value is trying to be set on a copy of a slice from a DataFrame.\n",
      "Try using .loc[row_indexer,col_indexer] = value instead\n",
      "\n",
      "See the caveats in the documentation: https://pandas.pydata.org/pandas-docs/stable/user_guide/indexing.html#returning-a-view-versus-a-copy\n",
      "  df_incineration['N20'] = 50*1e-3 ## parameter = continuous and semi-continuous incinerators\n"
     ]
    }
   ],
   "source": [
    "# Emission factor for N2O from incineration\n",
    "#Source IPCC 2006\n",
    "df_incineration['N20'] = 50*1e-3 ## parameter = continuous and semi-continuous incinerators\n",
    "## 'ef_units' 'kg/t'"
   ]
  },
  {
   "cell_type": "code",
   "execution_count": 30,
   "metadata": {},
   "outputs": [
    {
     "name": "stderr",
     "output_type": "stream",
     "text": [
      "/var/folders/v8/b0fnjf9d4q31sfz_8q4h4zxm0000gn/T/ipykernel_44009/1187170242.py:2: SettingWithCopyWarning: \n",
      "A value is trying to be set on a copy of a slice from a DataFrame.\n",
      "Try using .loc[row_indexer,col_indexer] = value instead\n",
      "\n",
      "See the caveats in the documentation: https://pandas.pydata.org/pandas-docs/stable/user_guide/indexing.html#returning-a-view-versus-a-copy\n",
      "  df_incineration['CH4'] = 0.2*1e-3 ## parameter = stoke\n"
     ]
    }
   ],
   "source": [
    "## Source IPCC 2006\n",
    "df_incineration['CH4'] = 0.2*1e-3 ## parameter = stoke\n",
    "## 'ef_units' 'kg/t'"
   ]
  },
  {
   "cell_type": "code",
   "execution_count": 31,
   "metadata": {},
   "outputs": [],
   "source": [
    "## for clinical waste [source = IPCC 2006]\n",
    "wf = 1\n",
    "dm = 0.9   ## type of waste = Other, inert waste\n",
    "cf = 0.6   ## carbon fraction\n",
    "fcf = 0.25 ## fossil carbon content\n",
    "of = 1     ## oxidation factor for incineration\n",
    "\n",
    "ef_co2_value = wf*dm*cf*fcf*of*(44/12)"
   ]
  },
  {
   "cell_type": "code",
   "execution_count": 32,
   "metadata": {},
   "outputs": [
    {
     "name": "stderr",
     "output_type": "stream",
     "text": [
      "/var/folders/v8/b0fnjf9d4q31sfz_8q4h4zxm0000gn/T/ipykernel_44009/3799985915.py:2: SettingWithCopyWarning: \n",
      "A value is trying to be set on a copy of a slice from a DataFrame.\n",
      "Try using .loc[row_indexer,col_indexer] = value instead\n",
      "\n",
      "See the caveats in the documentation: https://pandas.pydata.org/pandas-docs/stable/user_guide/indexing.html#returning-a-view-versus-a-copy\n",
      "  df_incineration['CO2'] = ef_co2_value*1e3        # 'ef_units' 'kg/t'\n"
     ]
    }
   ],
   "source": [
    "## Source IPCC 2006\n",
    "df_incineration['CO2'] = ef_co2_value*1e3        # 'ef_units' 'kg/t'"
   ]
  },
  {
   "cell_type": "code",
   "execution_count": 33,
   "metadata": {},
   "outputs": [],
   "source": [
    "# reformat the df\n",
    "df_incineration = df_incineration.melt(\n",
    "    id_vars=['municipality_where_the_Unit_is', 'year', 'unit_type', 'municipality_sending', 'total_SW', 'actor_name', 'columns_match', 'treatment_type'], \n",
    "    value_vars=['N20', 'CH4', 'CO2'], \n",
    "    var_name='gas_name', \n",
    "    value_name='emissionfactor_value')"
   ]
  },
  {
   "cell_type": "code",
   "execution_count": 34,
   "metadata": {},
   "outputs": [],
   "source": [
    "# assign the emission factor units\n",
    "df_incineration['emissionfactor_units'] = 'kg/t'"
   ]
  },
  {
   "cell_type": "code",
   "execution_count": 35,
   "metadata": {},
   "outputs": [],
   "source": [
    "# calculate the emissions value\n",
    "df_incineration['emissions_value'] = df_incineration['emissionfactor_value']*df_incineration['total_SW']\n",
    "\n",
    "# assign the emissions units and the activity name\n",
    "df_incineration['emissions_units'] = 'kg'\n",
    "df_incineration['activity_name'] = 'clinical waste incineration'"
   ]
  },
  {
   "cell_type": "code",
   "execution_count": 36,
   "metadata": {},
   "outputs": [],
   "source": [
    "# assign the GPC reference number based on where the waste is incinerated\n",
    "df_incineration['GPC_refno'] = np.where(df_incineration['columns_match'] == True, 'III.3.1', 'III.3.2')"
   ]
  },
  {
   "cell_type": "code",
   "execution_count": 37,
   "metadata": {},
   "outputs": [],
   "source": [
    "# create the metadata column to store the subcategory information\n",
    "df_incineration[\"metadata\"] = df_incineration.apply(\n",
    "    lambda row: {\n",
    "        \"activity_subcategory_type1\": 'waste_type',\n",
    "        \"activity_subcategory_typename1\": 'clinical waste',\n",
    "        \"activity_subcategory_type2\": 'treatment_type',\n",
    "        \"activity_subcategory_typename2\": row['treatment_type'],\n",
    "        \"activity_subcategory_type3\": 'management_level',\n",
    "        \"activity_subcategory_typename3\": 'managed',\n",
    "        \"activity_subcategory_type4\": 'technology_type',\n",
    "        \"activity_subcategory_typename4\": 'continuous and semi-continuous incinerators',\n",
    "        \"activity_subcategory_type5\": 'boiler_type',\n",
    "        \"activity_subcategory_typename5\": 'stoke'\n",
    "    },\n",
    "    axis=1,\n",
    ")"
   ]
  },
  {
   "cell_type": "code",
   "execution_count": 38,
   "metadata": {},
   "outputs": [],
   "source": [
    "# drop unnecessary columns\n",
    "df_incineration.drop(columns=['municipality_where_the_Unit_is', 'unit_type', 'municipality_sending', 'columns_match', 'treatment_type'], inplace=True)"
   ]
  },
  {
   "cell_type": "markdown",
   "metadata": {},
   "source": [
    "### Biological treatment"
   ]
  },
  {
   "cell_type": "code",
   "execution_count": 39,
   "metadata": {},
   "outputs": [],
   "source": [
    "# filter the df only for the treatment types that are valid for biological treatment\n",
    "df_bio = df[df['treatment_type'].isin(['composting unit', 'pruning management unit'])]"
   ]
  },
  {
   "cell_type": "code",
   "execution_count": 40,
   "metadata": {},
   "outputs": [
    {
     "name": "stderr",
     "output_type": "stream",
     "text": [
      "/var/folders/v8/b0fnjf9d4q31sfz_8q4h4zxm0000gn/T/ipykernel_44009/1138821807.py:4: SettingWithCopyWarning: \n",
      "A value is trying to be set on a copy of a slice from a DataFrame.\n",
      "Try using .loc[row_indexer,col_indexer] = value instead\n",
      "\n",
      "See the caveats in the documentation: https://pandas.pydata.org/pandas-docs/stable/user_guide/indexing.html#returning-a-view-versus-a-copy\n",
      "  df_bio['CH4'] = 10\n",
      "/var/folders/v8/b0fnjf9d4q31sfz_8q4h4zxm0000gn/T/ipykernel_44009/1138821807.py:5: SettingWithCopyWarning: \n",
      "A value is trying to be set on a copy of a slice from a DataFrame.\n",
      "Try using .loc[row_indexer,col_indexer] = value instead\n",
      "\n",
      "See the caveats in the documentation: https://pandas.pydata.org/pandas-docs/stable/user_guide/indexing.html#returning-a-view-versus-a-copy\n",
      "  df_bio['N2O'] = 0.6\n"
     ]
    }
   ],
   "source": [
    "## Source IPCC\n",
    "## ef units = kg ch4 / t of waste\n",
    "## composting - dry waste\n",
    "df_bio['CH4'] = 10\n",
    "df_bio['N2O'] = 0.6"
   ]
  },
  {
   "cell_type": "code",
   "execution_count": 41,
   "metadata": {},
   "outputs": [],
   "source": [
    "# reformat the df\n",
    "df_bio = df_bio.melt(\n",
    "    id_vars=['municipality_where_the_Unit_is', 'year', 'unit_type', 'municipality_sending', 'total_SW', 'actor_name', 'columns_match', 'treatment_type'], \n",
    "    value_vars=['CH4', 'N2O'], \n",
    "    var_name='gas_name', \n",
    "    value_name='emissionfactor_value')"
   ]
  },
  {
   "cell_type": "code",
   "execution_count": 42,
   "metadata": {},
   "outputs": [],
   "source": [
    "# assign the emission factor units\n",
    "df_bio['emissionfactor_units'] = 'kg/t'"
   ]
  },
  {
   "cell_type": "code",
   "execution_count": 43,
   "metadata": {},
   "outputs": [],
   "source": [
    "# calculate the emissions value\n",
    "df_bio['emissions_value'] = df_bio['emissionfactor_value']*df_bio['total_SW']\n",
    "\n",
    "# assign the emissions units and the activity name\n",
    "df_bio['emissions_units'] = 'kg'\n",
    "df_bio['activity_name'] = 'composting of organic waste'"
   ]
  },
  {
   "cell_type": "code",
   "execution_count": 44,
   "metadata": {},
   "outputs": [],
   "source": [
    "# assign the GPC reference number based on where the waste is treated\n",
    "df_bio['GPC_refno'] = np.where(df_bio['columns_match'] == True, 'III.2.1', 'III.2.2')"
   ]
  },
  {
   "cell_type": "code",
   "execution_count": 45,
   "metadata": {},
   "outputs": [],
   "source": [
    "# create the metadata column to store the subcategory information\n",
    "df_bio[\"metadata\"] = df_bio.apply(\n",
    "    lambda row: {\n",
    "        \"activity_subcategory_type1\": 'waste_type',\n",
    "        \"activity_subcategory_typename1\": 'organic waste',\n",
    "        \"activity_subcategory_type2\": 'treatment_type',\n",
    "        \"activity_subcategory_typename2\": row['treatment_type'],\n",
    "        \"activity_subcategory_type3\": 'management_level',\n",
    "        \"activity_subcategory_typename3\": 'managed',\n",
    "        \"activity_subcategory_type4\": 'waste_state',\n",
    "        \"activity_subcategory_typename4\": 'dry waste'\n",
    "    },\n",
    "    axis=1,\n",
    ")"
   ]
  },
  {
   "cell_type": "code",
   "execution_count": 46,
   "metadata": {},
   "outputs": [],
   "source": [
    "# drop unnecessary columns\n",
    "df_bio.drop(columns=['municipality_where_the_Unit_is', 'unit_type', 'municipality_sending', 'columns_match', 'treatment_type'], inplace=True)"
   ]
  },
  {
   "cell_type": "markdown",
   "metadata": {},
   "source": [
    "### Joining dfs"
   ]
  },
  {
   "cell_type": "code",
   "execution_count": 47,
   "metadata": {},
   "outputs": [],
   "source": [
    "# concatenate the dataframes\n",
    "df_final = pd.concat([df_sw, df_clinical, df_incineration, df_bio], ignore_index=True)"
   ]
  },
  {
   "cell_type": "code",
   "execution_count": 48,
   "metadata": {},
   "outputs": [],
   "source": [
    "df_final.rename(columns={'total_SW': 'activity_value'}, inplace=True)"
   ]
  },
  {
   "cell_type": "code",
   "execution_count": 50,
   "metadata": {},
   "outputs": [
    {
     "name": "stderr",
     "output_type": "stream",
     "text": [
      "/var/folders/v8/b0fnjf9d4q31sfz_8q4h4zxm0000gn/T/ipykernel_44009/155886299.py:5: SettingWithCopyWarning: \n",
      "A value is trying to be set on a copy of a slice from a DataFrame\n",
      "\n",
      "See the caveats in the documentation: https://pandas.pydata.org/pandas-docs/stable/user_guide/indexing.html#returning-a-view-versus-a-copy\n",
      "  df_final.dropna(subset=['emissions_value'], inplace=True)\n"
     ]
    }
   ],
   "source": [
    "# drop the rows with zero emissions\n",
    "df_final = df_final[df_final['emissions_value'] != 0]\n",
    "\n",
    "# drop the rows with NaN values\n",
    "df_final.dropna(subset=['emissions_value'], inplace=True)"
   ]
  }
 ],
 "metadata": {
  "kernelspec": {
   "display_name": "Python 3",
   "language": "python",
   "name": "python3"
  },
  "language_info": {
   "codemirror_mode": {
    "name": "ipython",
    "version": 3
   },
   "file_extension": ".py",
   "mimetype": "text/x-python",
   "name": "python",
   "nbconvert_exporter": "python",
   "pygments_lexer": "ipython3",
   "version": "3.11.9"
  }
 },
 "nbformat": 4,
 "nbformat_minor": 2
}
