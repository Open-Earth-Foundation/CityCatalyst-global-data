{
 "cells": [
  {
   "cell_type": "code",
   "execution_count": 131,
   "metadata": {},
   "outputs": [],
   "source": [
    "import pandas as pd \n",
    "import glob as glob\n",
    "import geopandas as gpd\n",
    "from shapely.geometry import Point, Polygon"
   ]
  },
  {
   "cell_type": "code",
   "execution_count": 132,
   "metadata": {},
   "outputs": [],
   "source": [
    "paths = glob.glob(f'./*emission*')"
   ]
  },
  {
   "cell_type": "code",
   "execution_count": 133,
   "metadata": {},
   "outputs": [],
   "source": [
    "df1 = pd.DataFrame()\n",
    "\n",
    "for path in paths:\n",
    "    tmp = pd.read_csv(path)\n",
    "\n",
    "    df1 = pd.concat([df1, tmp], ignore_index=True)"
   ]
  },
  {
   "cell_type": "code",
   "execution_count": 134,
   "metadata": {},
   "outputs": [],
   "source": [
    "df1['date'] = pd.to_datetime(df1['start_time'])\n",
    "df1['date'] = df1['date'].dt.to_period('Y')"
   ]
  },
  {
   "cell_type": "code",
   "execution_count": 135,
   "metadata": {},
   "outputs": [],
   "source": [
    "df1 = (\n",
    "    df1.groupby(['source_id', 'source_name', 'source_type', 'iso3_country', 'sector', 'subsector', 'lat', 'lon', 'gas', 'date'])\n",
    "    ['emissions_quantity']\n",
    "    .sum()\n",
    "    .reset_index()\n",
    ")"
   ]
  },
  {
   "cell_type": "code",
   "execution_count": 136,
   "metadata": {},
   "outputs": [],
   "source": [
    "df1['geometry'] = df1.apply(lambda row: Point(row['lon'], row['lat']), axis=1)"
   ]
  },
  {
   "cell_type": "code",
   "execution_count": 137,
   "metadata": {},
   "outputs": [],
   "source": [
    "df1 = gpd.GeoDataFrame(df1, geometry='geometry')\n",
    "df1 = df1.set_crs(epsg=4326, inplace=True)"
   ]
  },
  {
   "cell_type": "code",
   "execution_count": 138,
   "metadata": {},
   "outputs": [],
   "source": [
    "city_boundaries = pd.read_csv('./data-1732727290684.csv')"
   ]
  },
  {
   "cell_type": "code",
   "execution_count": 139,
   "metadata": {},
   "outputs": [],
   "source": [
    "def create_polygon(row):\n",
    "    return Polygon([\n",
    "        (row['bbox_west'], row['bbox_north']),  # NW corner\n",
    "        (row['bbox_east'], row['bbox_north']),  # NE corner\n",
    "        (row['bbox_east'], row['bbox_south']),  # SE corner\n",
    "        (row['bbox_west'], row['bbox_south']),  # SW corner\n",
    "        (row['bbox_west'], row['bbox_north'])   # Close the polygon\n",
    "    ])"
   ]
  },
  {
   "cell_type": "code",
   "execution_count": 140,
   "metadata": {},
   "outputs": [],
   "source": [
    "city_boundaries['box'] = city_boundaries.apply(create_polygon, axis=1)\n",
    "\n",
    "# Convert to GeoDataFrame\n",
    "city_boundaries = gpd.GeoDataFrame(city_boundaries, geometry='box')\n",
    "\n",
    "# Set CRS to WGS84 (EPSG:4326)\n",
    "city_boundaries = city_boundaries.set_crs(epsg=4326, inplace=True)"
   ]
  },
  {
   "cell_type": "code",
   "execution_count": 141,
   "metadata": {},
   "outputs": [
    {
     "name": "stderr",
     "output_type": "stream",
     "text": [
      "/Users/maureenfonseca/Library/Python/3.11/lib/python/site-packages/IPython/core/interactiveshell.py:3448: FutureWarning: The `op` parameter is deprecated and will be removed in a future release. Please use the `predicate` parameter instead.\n",
      "  if await self.run_code(code, result, async_=asy):\n"
     ]
    }
   ],
   "source": [
    "# Perform spatial join to keep points within polygons\n",
    "emissions_cities = gpd.sjoin(df1, city_boundaries, how='inner', op='within')"
   ]
  },
  {
   "cell_type": "code",
   "execution_count": 142,
   "metadata": {},
   "outputs": [],
   "source": [
    "emissions_cities.drop(columns=['source_id', 'source_name', 'source_type', 'iso3_country', 'index_right', 'bbox_north', 'bbox_south', \n",
    "                               'bbox_east', 'bbox_west', 'place_id', 'osm_type', 'lat_right', 'lon_right', 'class', 'type', 'place_rank', 'importance', \n",
    "                               'addresstype', 'name', 'display_name'], inplace=True)"
   ]
  },
  {
   "cell_type": "code",
   "execution_count": 109,
   "metadata": {},
   "outputs": [],
   "source": [
    "#emissions_cities.to_csv('emissionsIPPU_pilot_cities.csv', index=False)"
   ]
  }
 ],
 "metadata": {
  "kernelspec": {
   "display_name": "Python 3",
   "language": "python",
   "name": "python3"
  },
  "language_info": {
   "codemirror_mode": {
    "name": "ipython",
    "version": 3
   },
   "file_extension": ".py",
   "mimetype": "text/x-python",
   "name": "python",
   "nbconvert_exporter": "python",
   "pygments_lexer": "ipython3",
   "version": "3.11.9"
  }
 },
 "nbformat": 4,
 "nbformat_minor": 2
}
